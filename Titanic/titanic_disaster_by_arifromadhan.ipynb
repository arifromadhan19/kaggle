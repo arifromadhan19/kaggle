{
 "cells": [
  {
   "cell_type": "markdown",
   "metadata": {},
   "source": [
    "# Titanic: Machine Learning from Disaster"
   ]
  },
  {
   "cell_type": "markdown",
   "metadata": {},
   "source": [
    "### Table of content"
   ]
  },
  {
   "cell_type": "markdown",
   "metadata": {},
   "source": [
    "1. **Introduction**<br>\n",
    "2. **Load and Describe Data**<br>\n",
    "    2.1 Load Data<br>\n",
    "    2.2 Data Description<br>\n",
    "    2.3 Check Null and Missing Values<br>\n",
    "3. **Exploratory Data Analysis**<br>\n",
    "    3.1 Numerical  Data Correlatio<br>\n",
    "    3.2 Numerica Analysis and Visualization<br>\n",
    "    3.3 Categorical Analysis and Visualizations<br>\n",
    "4. **Feature engineering**<br>\n",
    "    4.1 Filling Missing Values<br>\n",
    "    4.2 Convert Categorical to One Hot Encoding<br>\n",
    "    4.3 Drop Some Feature<br>\n",
    "    4.4 Add Some Feature<br>\n",
    "5. **Preprocessing**<br>\n",
    "6. **Modeling**<br>\n",
    "    6.1 Support Vector Machine (SVM)<br>\n",
    "    6.2 Gradient Boosting<br>\n",
    "    6.3 Random Forest<br>\n",
    "    6.4 Logistic Regression<br>\n",
    "    6.5 KNN Classifier<br>\n",
    "    6.6 AdaBoost Classifier<br>\n",
    "    6.7 XGBoost<br>\n",
    "    6.8 Artificial Neural Network (ANN)<br>\n",
    "    6.9 Result Modeling<br>\n",
    "6. **Testing**<br>"
   ]
  },
  {
   "cell_type": "markdown",
   "metadata": {},
   "source": [
    "### 1. Introduction"
   ]
  },
  {
   "cell_type": "markdown",
   "metadata": {},
   "source": [
    "The sinking of the RMS Titanic is one of the most infamous shipwrecks in history.  On April 15, 1912, during her maiden voyage, the Titanic sank after colliding with an iceberg, killing 1502 out of 2224 passengers and crew. This sensational tragedy shocked the international community and led to better safety regulations for ships.\n",
    "\n",
    "In this competitions we should analysis data to predict \"survived\" people on titanic disaster. we'll to apply the tool of machine learning to predict which passengers survived the tragedy.<br>\n",
    "\n",
    "$\\textbf{Arif Romadhan}$ <br>\n",
    "email : arifromadhan19@gmail.com<br><br>\n",
    "[Link my kernel](https://www.kaggle.com/arifromadhan19/titanic-machine-learning-from-disaster)"
   ]
  },
  {
   "cell_type": "code",
   "execution_count": 1,
   "metadata": {},
   "outputs": [
    {
     "name": "stderr",
     "output_type": "stream",
     "text": [
      "Using TensorFlow backend.\n"
     ]
    }
   ],
   "source": [
    "import pandas as pd\n",
    "import numpy as np\n",
    "import seaborn as sns\n",
    "import matplotlib.pyplot as plt\n",
    "%matplotlib inline\n",
    "\n",
    "from collections import Counter\n",
    "from sklearn.preprocessing import StandardScaler\n",
    "from sklearn.linear_model import LogisticRegression\n",
    "from sklearn import svm\n",
    "from sklearn.svm import SVC\n",
    "from sklearn.model_selection import cross_val_score, GridSearchCV, train_test_split\n",
    "from sklearn.metrics import classification_report\n",
    "from sklearn.ensemble import GradientBoostingClassifier\n",
    "from sklearn.ensemble import RandomForestClassifier\n",
    "from sklearn.neighbors import KNeighborsClassifier\n",
    "from sklearn.ensemble import AdaBoostClassifier\n",
    "\n",
    "import xgboost as xgb\n",
    "\n",
    "import keras\n",
    "from keras.models import Sequential\n",
    "from keras.layers import Dense"
   ]
  },
  {
   "cell_type": "markdown",
   "metadata": {},
   "source": [
    "### 2. Load and Describe Data"
   ]
  },
  {
   "cell_type": "markdown",
   "metadata": {},
   "source": [
    "### 2.1 Load Data"
   ]
  },
  {
   "cell_type": "code",
   "execution_count": 2,
   "metadata": {
    "collapsed": true
   },
   "outputs": [],
   "source": [
    "#Load Data\n",
    "train = pd.read_csv(\"dataset/train.csv\")"
   ]
  },
  {
   "cell_type": "code",
   "execution_count": 3,
   "metadata": {},
   "outputs": [
    {
     "data": {
      "text/html": [
       "<div>\n",
       "<style>\n",
       "    .dataframe thead tr:only-child th {\n",
       "        text-align: right;\n",
       "    }\n",
       "\n",
       "    .dataframe thead th {\n",
       "        text-align: left;\n",
       "    }\n",
       "\n",
       "    .dataframe tbody tr th {\n",
       "        vertical-align: top;\n",
       "    }\n",
       "</style>\n",
       "<table border=\"1\" class=\"dataframe\">\n",
       "  <thead>\n",
       "    <tr style=\"text-align: right;\">\n",
       "      <th></th>\n",
       "      <th>PassengerId</th>\n",
       "      <th>Survived</th>\n",
       "      <th>Pclass</th>\n",
       "      <th>Name</th>\n",
       "      <th>Sex</th>\n",
       "      <th>Age</th>\n",
       "      <th>SibSp</th>\n",
       "      <th>Parch</th>\n",
       "      <th>Ticket</th>\n",
       "      <th>Fare</th>\n",
       "      <th>Cabin</th>\n",
       "      <th>Embarked</th>\n",
       "    </tr>\n",
       "  </thead>\n",
       "  <tbody>\n",
       "    <tr>\n",
       "      <th>0</th>\n",
       "      <td>1</td>\n",
       "      <td>0</td>\n",
       "      <td>3</td>\n",
       "      <td>Braund, Mr. Owen Harris</td>\n",
       "      <td>male</td>\n",
       "      <td>22.0</td>\n",
       "      <td>1</td>\n",
       "      <td>0</td>\n",
       "      <td>A/5 21171</td>\n",
       "      <td>7.2500</td>\n",
       "      <td>NaN</td>\n",
       "      <td>S</td>\n",
       "    </tr>\n",
       "    <tr>\n",
       "      <th>1</th>\n",
       "      <td>2</td>\n",
       "      <td>1</td>\n",
       "      <td>1</td>\n",
       "      <td>Cumings, Mrs. John Bradley (Florence Briggs Th...</td>\n",
       "      <td>female</td>\n",
       "      <td>38.0</td>\n",
       "      <td>1</td>\n",
       "      <td>0</td>\n",
       "      <td>PC 17599</td>\n",
       "      <td>71.2833</td>\n",
       "      <td>C85</td>\n",
       "      <td>C</td>\n",
       "    </tr>\n",
       "    <tr>\n",
       "      <th>2</th>\n",
       "      <td>3</td>\n",
       "      <td>1</td>\n",
       "      <td>3</td>\n",
       "      <td>Heikkinen, Miss. Laina</td>\n",
       "      <td>female</td>\n",
       "      <td>26.0</td>\n",
       "      <td>0</td>\n",
       "      <td>0</td>\n",
       "      <td>STON/O2. 3101282</td>\n",
       "      <td>7.9250</td>\n",
       "      <td>NaN</td>\n",
       "      <td>S</td>\n",
       "    </tr>\n",
       "    <tr>\n",
       "      <th>3</th>\n",
       "      <td>4</td>\n",
       "      <td>1</td>\n",
       "      <td>1</td>\n",
       "      <td>Futrelle, Mrs. Jacques Heath (Lily May Peel)</td>\n",
       "      <td>female</td>\n",
       "      <td>35.0</td>\n",
       "      <td>1</td>\n",
       "      <td>0</td>\n",
       "      <td>113803</td>\n",
       "      <td>53.1000</td>\n",
       "      <td>C123</td>\n",
       "      <td>S</td>\n",
       "    </tr>\n",
       "    <tr>\n",
       "      <th>4</th>\n",
       "      <td>5</td>\n",
       "      <td>0</td>\n",
       "      <td>3</td>\n",
       "      <td>Allen, Mr. William Henry</td>\n",
       "      <td>male</td>\n",
       "      <td>35.0</td>\n",
       "      <td>0</td>\n",
       "      <td>0</td>\n",
       "      <td>373450</td>\n",
       "      <td>8.0500</td>\n",
       "      <td>NaN</td>\n",
       "      <td>S</td>\n",
       "    </tr>\n",
       "  </tbody>\n",
       "</table>\n",
       "</div>"
      ],
      "text/plain": [
       "   PassengerId  Survived  Pclass  \\\n",
       "0            1         0       3   \n",
       "1            2         1       1   \n",
       "2            3         1       3   \n",
       "3            4         1       1   \n",
       "4            5         0       3   \n",
       "\n",
       "                                                Name     Sex   Age  SibSp  \\\n",
       "0                            Braund, Mr. Owen Harris    male  22.0      1   \n",
       "1  Cumings, Mrs. John Bradley (Florence Briggs Th...  female  38.0      1   \n",
       "2                             Heikkinen, Miss. Laina  female  26.0      0   \n",
       "3       Futrelle, Mrs. Jacques Heath (Lily May Peel)  female  35.0      1   \n",
       "4                           Allen, Mr. William Henry    male  35.0      0   \n",
       "\n",
       "   Parch            Ticket     Fare Cabin Embarked  \n",
       "0      0         A/5 21171   7.2500   NaN        S  \n",
       "1      0          PC 17599  71.2833   C85        C  \n",
       "2      0  STON/O2. 3101282   7.9250   NaN        S  \n",
       "3      0            113803  53.1000  C123        S  \n",
       "4      0            373450   8.0500   NaN        S  "
      ]
     },
     "execution_count": 3,
     "metadata": {},
     "output_type": "execute_result"
    }
   ],
   "source": [
    "# Print some data\n",
    "train.head()"
   ]
  },
  {
   "cell_type": "markdown",
   "metadata": {},
   "source": [
    "### 2.2 Data Description"
   ]
  },
  {
   "cell_type": "markdown",
   "metadata": {},
   "source": [
    "| Variable | Definition | Key   |\n",
    "|------|------|------|\n",
    "|   Survival  | Survival| 0 = No, 1 = Yes|\n",
    "|   pclass  | Ticket class| 1 = 1st (Upper), 2 = 2nd (middle), 3 = 3rd (lower)|\n",
    "|   sex  | sex|  Sibling = brother, sister, stepbrother, stepsister; Spouse = husband, wife (mistresses and fiancés were ignored)|\n",
    "|   Age  | Age in years|  |\t\n",
    "|   sibsp  | # of siblings / spouses aboard the Titanic|  |\t\n",
    "|   parch  | # of parents / children aboard the Titanic|  |\t\n",
    "|   ticket  | Ticket number|  |\t\n",
    "|   fare\t| Passenger fare |  |\t\t\t\n",
    "|   cabin\t| Cabin number |  |\t\t\t\n",
    "|   embarked | Port of Embarkation | C = Cherbourg, Q = Queenstown, S = Southampton |\t"
   ]
  },
  {
   "cell_type": "code",
   "execution_count": 4,
   "metadata": {},
   "outputs": [
    {
     "name": "stdout",
     "output_type": "stream",
     "text": [
      "<class 'pandas.core.frame.DataFrame'>\n",
      "RangeIndex: 891 entries, 0 to 890\n",
      "Data columns (total 12 columns):\n",
      "PassengerId    891 non-null int64\n",
      "Survived       891 non-null int64\n",
      "Pclass         891 non-null int64\n",
      "Name           891 non-null object\n",
      "Sex            891 non-null object\n",
      "Age            714 non-null float64\n",
      "SibSp          891 non-null int64\n",
      "Parch          891 non-null int64\n",
      "Ticket         891 non-null object\n",
      "Fare           891 non-null float64\n",
      "Cabin          204 non-null object\n",
      "Embarked       889 non-null object\n",
      "dtypes: float64(2), int64(5), object(5)\n",
      "memory usage: 83.6+ KB\n"
     ]
    }
   ],
   "source": [
    "train.info()"
   ]
  },
  {
   "cell_type": "markdown",
   "metadata": {},
   "source": [
    "### 2.3 Check Null and Missing Values"
   ]
  },
  {
   "cell_type": "code",
   "execution_count": 5,
   "metadata": {},
   "outputs": [
    {
     "data": {
      "text/plain": [
       "PassengerId      0\n",
       "Survived         0\n",
       "Pclass           0\n",
       "Name             0\n",
       "Sex              0\n",
       "Age            177\n",
       "SibSp            0\n",
       "Parch            0\n",
       "Ticket           0\n",
       "Fare             0\n",
       "Cabin          687\n",
       "Embarked         2\n",
       "dtype: int64"
      ]
     },
     "execution_count": 5,
     "metadata": {},
     "output_type": "execute_result"
    }
   ],
   "source": [
    "# Fill empty and NaNs values with NaN\n",
    "train = train.fillna(np.nan)\n",
    "\n",
    "# Check for Null values\n",
    "train_null = train.isnull().sum(axis = 0)\n",
    "train_null"
   ]
  },
  {
   "cell_type": "markdown",
   "metadata": {},
   "source": [
    "### 3. Exploratory Data Analysis"
   ]
  },
  {
   "cell_type": "markdown",
   "metadata": {},
   "source": [
    "### 3.1 Numerical  Data Correlation"
   ]
  },
  {
   "cell_type": "code",
   "execution_count": 6,
   "metadata": {},
   "outputs": [
    {
     "data": {
      "text/plain": [
       "<matplotlib.axes._subplots.AxesSubplot at 0x7f15f9f42b38>"
      ]
     },
     "execution_count": 6,
     "metadata": {},
     "output_type": "execute_result"
    },
    {
     "data": {
      "image/png": "[encoded data removed]",
      "text/plain": [
       "<matplotlib.figure.Figure at 0x7f15f9ee0ac8>"
      ]
     },
     "metadata": {},
     "output_type": "display_data"
    }
   ],
   "source": [
    "corr_ =train[[\"Survived\",\"Age\",\"SibSp\",\"Parch\",\"Fare\"]].corr()\n",
    "plt.figure(figsize=(16,10))\n",
    "sns.heatmap(corr_, annot=True, fmt = \".2f\", cmap = \"BuPu\")"
   ]
  },
  {
   "cell_type": "markdown",
   "metadata": {},
   "source": [
    "**Fare values has significant correlation with survival probability than other**"
   ]
  },
  {
   "cell_type": "markdown",
   "metadata": {},
   "source": [
    "### 3.2 Numerical  Analysis and Visualization"
   ]
  },
  {
   "cell_type": "markdown",
   "metadata": {},
   "source": [
    "### **Explore Survival Rate by Age**"
   ]
  },
  {
   "cell_type": "code",
   "execution_count": 7,
   "metadata": {},
   "outputs": [
    {
     "data": {
      "text/plain": [
       "Text(0.5,1,'Survival Rate by Age')"
      ]
     },
     "execution_count": 7,
     "metadata": {},
     "output_type": "execute_result"
    },
    {
     "data": {
      "image/png": "[encoded data removed]",
      "text/plain": [
       "<matplotlib.figure.Figure at 0x7f15f62720b8>"
      ]
     },
     "metadata": {},
     "output_type": "display_data"
    }
   ],
   "source": [
    "fig, ax = plt.subplots(figsize=(12,8))\n",
    "g = sns.distplot(train[train['Survived']==0]['Age'].dropna(),ax=ax,kde=True,color='black',bins=5)\n",
    "g = sns.distplot(train[train['Survived']==1]['Age'].dropna(),ax=ax,kde=True,color='g',bins=5)\n",
    "g.set_ylabel(\"Frequency\")\n",
    "g = g.legend([\"Not Survived\",\"Survived\"])\n",
    "ax.set_title('Survival Rate by Age')"
   ]
  },
  {
   "cell_type": "markdown",
   "metadata": {},
   "source": [
    "**Age distribution seems that passengers between 60-80 have less survived. While young passengers have more chance to survive most and they are the most survivors of titanic disaster**"
   ]
  },
  {
   "cell_type": "markdown",
   "metadata": {},
   "source": [
    "### **Explore Survival Rate by SibSp (Siblings or Spouse)**"
   ]
  },
  {
   "cell_type": "code",
   "execution_count": 8,
   "metadata": {},
   "outputs": [
    {
     "data": {
      "text/plain": [
       "Text(0,0.5,'Survival Probability')"
      ]
     },
     "execution_count": 8,
     "metadata": {},
     "output_type": "execute_result"
    },
    {
     "data": {
      "image/png": "[encoded data removed]",
      "text/plain": [
       "<matplotlib.figure.Figure at 0x7f15f658f240>"
      ]
     },
     "metadata": {},
     "output_type": "display_data"
    }
   ],
   "source": [
    "fig, (ax1, ax2) = plt.subplots(nrows=1, ncols=2, figsize=(16,8))\n",
    "g = sns.countplot('SibSp',hue='Survived',data=train,ax=ax1,palette='husl')\n",
    "ax1.set_title('Survival Rate by SibSp')\n",
    "\n",
    "g = sns.barplot(x=\"SibSp\",y=\"Survived\",data=train, ax=ax2)\n",
    "ax2.set_title('Survival Rate by SibSp')\n",
    "ax2.set_xlabel('SibSp')\n",
    "ax2.set_ylabel('Survival Probability')"
   ]
  },
  {
   "cell_type": "markdown",
   "metadata": {},
   "source": [
    "**If we analysis based on the figure. it means that passengers having a lot of siblings/spouses have less chance to survive**"
   ]
  },
  {
   "cell_type": "markdown",
   "metadata": {},
   "source": [
    "### **Explore Survival Rate by Parch (parents or children)**"
   ]
  },
  {
   "cell_type": "code",
   "execution_count": 9,
   "metadata": {},
   "outputs": [
    {
     "data": {
      "text/plain": [
       "Text(0,0.5,'Survival Probability')"
      ]
     },
     "execution_count": 9,
     "metadata": {},
     "output_type": "execute_result"
    },
    {
     "data": {
      "image/png": "[encoded data removed]",
      "text/plain": [
       "<matplotlib.figure.Figure at 0x7f15f64d3ac8>"
      ]
     },
     "metadata": {},
     "output_type": "display_data"
    }
   ],
   "source": [
    "fig, (ax1, ax2) = plt.subplots(nrows=1, ncols=2, figsize=(16,8))\n",
    "g = sns.countplot('Parch',hue='Survived',data=train,ax=ax1,palette='husl')\n",
    "ax1.set_title('Survival Rate by Parch')\n",
    "\n",
    "g = sns.barplot(x=\"Parch\",y=\"Survived\",data=train, ax=ax2)\n",
    "ax2.set_title('Survival Rate by Parch')\n",
    "ax2.set_xlabel('Parch')\n",
    "ax2.set_ylabel('Survival Probability')"
   ]
  },
  {
   "cell_type": "markdown",
   "metadata": {},
   "source": [
    "**we can analysis the figure above that small family have chance to survive**"
   ]
  },
  {
   "cell_type": "markdown",
   "metadata": {},
   "source": [
    "### **Explore Survival Rate by Fare **"
   ]
  },
  {
   "cell_type": "code",
   "execution_count": 10,
   "metadata": {},
   "outputs": [
    {
     "name": "stdout",
     "output_type": "stream",
     "text": [
      "average Fare in Pclass 1 :  84.15468749999992\n",
      "average Fare in Pclass 2 :  20.66218315217391\n",
      "average Fare in Pclass 3 :  13.675550101832997\n"
     ]
    },
    {
     "data": {
      "text/plain": [
       "[Text(0,0,'Pclass 1'), Text(0,0,'Pclass 2'), Text(0,0,'Pclass 3')]"
      ]
     },
     "execution_count": 10,
     "metadata": {},
     "output_type": "execute_result"
    },
    {
     "data": {
      "image/png": "[encoded data removed]",
      "text/plain": [
       "<matplotlib.figure.Figure at 0x7f15f630b710>"
      ]
     },
     "metadata": {},
     "output_type": "display_data"
    }
   ],
   "source": [
    "avg_fare_1 = train.Fare[train.Pclass==1].mean()\n",
    "print('average Fare in Pclass 1 : ', avg_fare_1)\n",
    "\n",
    "avg_fare_2 = train.Fare[train.Pclass==2].mean()\n",
    "print('average Fare in Pclass 2 : ', avg_fare_2)\n",
    "\n",
    "avg_fare_3 = train.Fare[train.Pclass==3].mean()\n",
    "print('average Fare in Pclass 3 : ', avg_fare_3)\n",
    "\n",
    "avg_fare_pclass = pd.DataFrame({\n",
    "    'Pclass': ['average Fare in Pclass 1', 'average Fare in Pclass 1', 'average Fare in Pclass 1'],\n",
    "    'Fare': [avg_fare_1,avg_fare_2,avg_fare_3\n",
    "             ]  \n",
    "            })\n",
    "avg_fare_pclass['Fare'] = np.round(avg_fare_pclass['Fare'], decimals = 4)\n",
    "avg_fare_pclass.sort_values(by='Fare', ascending=False)\n",
    "\n",
    "\n",
    "fig, (ax1, ax2) = plt.subplots(nrows=1, ncols=2, figsize=(16,8))\n",
    "g = sns.swarmplot(x='Pclass',y='Fare',hue='Survived',data=train,palette='husl', ax=ax1)\n",
    "ax1.set_title('Survival Rate by Fare and Pclass')\n",
    "\n",
    "ax2 = avg_fare_pclass[['Fare']].plot(kind='bar', title =\"Average Fare by Pclass\", legend=True, ax=ax2)\n",
    "\n",
    "ax2.set_ylabel(\"Avg Fare\")\n",
    "ax2.legend([\"Avg Fare\"])\n",
    "ax2.set_xticklabels(['Pclass 1','Pclass 2','Pclass 3'], rotation='horizontal')"
   ]
  },
  {
   "cell_type": "markdown",
   "metadata": {},
   "source": [
    "**People who have expensive fare and they are in Pclass 1 are the most survivors of titanic disaster**"
   ]
  },
  {
   "cell_type": "code",
   "execution_count": 11,
   "metadata": {},
   "outputs": [
    {
     "data": {
      "text/plain": [
       "Text(0.5,1,'Survival Rate by Age')"
      ]
     },
     "execution_count": 11,
     "metadata": {},
     "output_type": "execute_result"
    },
    {
     "data": {
      "image/png": "[encoded data removed]",
      "text/plain": [
       "<matplotlib.figure.Figure at 0x7f15f63e59b0>"
      ]
     },
     "metadata": {},
     "output_type": "display_data"
    }
   ],
   "source": [
    "fig, ax = plt.subplots(figsize=(12,8))\n",
    "g = sns.distplot(train['Fare'], color='peru', label=\"Skewness : %.2f\"%(train[\"Fare\"].skew()))\n",
    "g = g.legend(loc=\"best\")\n",
    "ax.set_xlabel('Fare')\n",
    "ax.set_ylabel('Frequency')\n",
    "ax.set_title('Survival Rate by Age')"
   ]
  },
  {
   "cell_type": "markdown",
   "metadata": {},
   "source": [
    "**Fare distribution is very skewed**"
   ]
  },
  {
   "cell_type": "markdown",
   "metadata": {},
   "source": [
    "### 3.3 Categorical Analysis and Visualization"
   ]
  },
  {
   "cell_type": "markdown",
   "metadata": {},
   "source": [
    "### **Explore Survival Rate by Sex**"
   ]
  },
  {
   "cell_type": "code",
   "execution_count": 12,
   "metadata": {},
   "outputs": [
    {
     "data": {
      "text/plain": [
       "Text(0,0.5,'Survival Probability')"
      ]
     },
     "execution_count": 12,
     "metadata": {},
     "output_type": "execute_result"
    },
    {
     "data": {
      "image/png": "[encoded data removed]",
      "text/plain": [
       "<matplotlib.figure.Figure at 0x7f15f6153128>"
      ]
     },
     "metadata": {},
     "output_type": "display_data"
    }
   ],
   "source": [
    "fig, (ax1, ax2) = plt.subplots(nrows=1, ncols=2, figsize=(16,8))\n",
    "g = sns.countplot('Sex',hue='Survived',data=train,ax=ax1,palette='husl')\n",
    "ax1.set_title('Survival Rate by Sex')\n",
    "\n",
    "g = sns.barplot(x=\"Sex\",y=\"Survived\",data=train, ax=ax2)\n",
    "ax2.set_title('Survival Rate by Sex')\n",
    "ax2.set_xlabel('Sex')\n",
    "ax2.set_ylabel('Survival Probability')"
   ]
  },
  {
   "cell_type": "markdown",
   "metadata": {},
   "source": [
    "**If we analysis based on the figure, Female have chance to survive than male**"
   ]
  },
  {
   "cell_type": "markdown",
   "metadata": {},
   "source": [
    "### **Explore Survival Rate by Pclass**"
   ]
  },
  {
   "cell_type": "code",
   "execution_count": 13,
   "metadata": {},
   "outputs": [
    {
     "data": {
      "text/plain": [
       "Text(0,0.5,'Survival Probability')"
      ]
     },
     "execution_count": 13,
     "metadata": {},
     "output_type": "execute_result"
    },
    {
     "data": {
      "image/png": "[encoded data removed]",
      "text/plain": [
       "<matplotlib.figure.Figure at 0x7f15f60b10b8>"
      ]
     },
     "metadata": {},
     "output_type": "display_data"
    }
   ],
   "source": [
    "fig, (ax1, ax2) = plt.subplots(nrows=1, ncols=2, figsize=(16,8))\n",
    "g = sns.countplot('Pclass',hue='Survived',data=train,ax=ax1,palette='husl')\n",
    "ax1.set_title('Survival Rate by Pclass')\n",
    "\n",
    "g = sns.barplot(x=\"Pclass\",y=\"Survived\",data=train, ax=ax2)\n",
    "ax2.set_title('Survival Rate by Pclass')\n",
    "ax2.set_xlabel('Pclass')\n",
    "ax2.set_ylabel('Survival Probability')"
   ]
  },
  {
   "cell_type": "markdown",
   "metadata": {},
   "source": [
    "**As we can see, people in the first class (Pclass = 1) have chance to survive than other and people in the third class (Pclass = 3) have less chance to survive.**"
   ]
  },
  {
   "cell_type": "markdown",
   "metadata": {},
   "source": [
    "### **Explore Survival Rate by Embarked**"
   ]
  },
  {
   "cell_type": "code",
   "execution_count": 14,
   "metadata": {},
   "outputs": [
    {
     "data": {
      "text/plain": [
       "Text(0,0.5,'Survival Probability')"
      ]
     },
     "execution_count": 14,
     "metadata": {},
     "output_type": "execute_result"
    },
    {
     "data": {
      "image/png": "[encoded data removed]",
      "text/plain": [
       "<matplotlib.figure.Figure at 0x7f15f604b710>"
      ]
     },
     "metadata": {},
     "output_type": "display_data"
    }
   ],
   "source": [
    "fig, (ax1, ax2) = plt.subplots(nrows=1, ncols=2, figsize=(16,8))\n",
    "g = sns.countplot('Embarked',hue='Survived',data=train,ax=ax1,palette='husl')\n",
    "ax1.set_title('Survival Rate by Embarked')\n",
    "\n",
    "g = sns.barplot(x=\"Embarked\",y=\"Survived\",data=train, ax=ax2)\n",
    "ax2.set_title('Survival Rate by Embarked')\n",
    "ax2.set_xlabel('Embarked')\n",
    "ax2.set_ylabel('Survival Probability')"
   ]
  },
  {
   "cell_type": "markdown",
   "metadata": {},
   "source": [
    "**based on number, many people survived from embarked S. But based on probabilty, people in the embarked C have chance to survive than other.**"
   ]
  },
  {
   "cell_type": "markdown",
   "metadata": {},
   "source": [
    "### **Explore Survival Rate by Cabin**"
   ]
  },
  {
   "cell_type": "code",
   "execution_count": 15,
   "metadata": {},
   "outputs": [
    {
     "data": {
      "text/plain": [
       "148"
      ]
     },
     "execution_count": 15,
     "metadata": {},
     "output_type": "execute_result"
    }
   ],
   "source": [
    "cabin = train.Cabin\n",
    "unique_cabin = cabin.drop_duplicates()\n",
    "len(unique_cabin)"
   ]
  },
  {
   "cell_type": "code",
   "execution_count": 16,
   "metadata": {},
   "outputs": [
    {
     "data": {
      "text/plain": [
       "(array([  0,   1,   2,   3,   4,   5,   6,   7,   8,   9,  10,  11,  12,\n",
       "         13,  14,  15,  16,  17,  18,  19,  20,  21,  22,  23,  24,  25,\n",
       "         26,  27,  28,  29,  30,  31,  32,  33,  34,  35,  36,  37,  38,\n",
       "         39,  40,  41,  42,  43,  44,  45,  46,  47,  48,  49,  50,  51,\n",
       "         52,  53,  54,  55,  56,  57,  58,  59,  60,  61,  62,  63,  64,\n",
       "         65,  66,  67,  68,  69,  70,  71,  72,  73,  74,  75,  76,  77,\n",
       "         78,  79,  80,  81,  82,  83,  84,  85,  86,  87,  88,  89,  90,\n",
       "         91,  92,  93,  94,  95,  96,  97,  98,  99, 100, 101, 102, 103,\n",
       "        104, 105, 106, 107, 108, 109, 110, 111, 112, 113, 114, 115, 116,\n",
       "        117, 118, 119, 120, 121, 122, 123, 124, 125, 126, 127, 128, 129,\n",
       "        130, 131, 132, 133, 134, 135, 136, 137, 138, 139, 140, 141, 142,\n",
       "        143, 144, 145, 146]), <a list of 147 Text xticklabel objects>)"
      ]
     },
     "execution_count": 16,
     "metadata": {},
     "output_type": "execute_result"
    },
    {
     "data": {
      "image/png": "[encoded data removed]",
      "text/plain": [
       "<matplotlib.figure.Figure at 0x7f15f63ea320>"
      ]
     },
     "metadata": {},
     "output_type": "display_data"
    }
   ],
   "source": [
    "fig, ax1 = plt.subplots(figsize=(24,6))\n",
    "g = sns.countplot('Cabin',hue='Survived',data=train,ax=ax1,palette='husl')\n",
    "ax1.set_title('Survival Rate by Cabin')\n",
    "plt.xticks(rotation=90)"
   ]
  },
  {
   "cell_type": "markdown",
   "metadata": {},
   "source": [
    "**As we can see, cabin data have many category (148 category). I'll drop cabin in dataset**"
   ]
  },
  {
   "cell_type": "markdown",
   "metadata": {},
   "source": [
    "### 4. Feature Engineering"
   ]
  },
  {
   "cell_type": "markdown",
   "metadata": {},
   "source": [
    "### 4.1 Filling Missing Values"
   ]
  },
  {
   "cell_type": "markdown",
   "metadata": {},
   "source": [
    "**Filling Missing Age Values**"
   ]
  },
  {
   "cell_type": "markdown",
   "metadata": {},
   "source": [
    "As we know, Age column contains 177 missing values in the whole data train. If we analysis numerical correlation at poin 3.1 Numerical Data Correlation. we found correlation between Age and Fare, but too many variance in Fare value. If we analysis at point 3.2 Numerical Analysis and Visualization (Explore Survival Rate by Fare), there is correlation between Fare and Pclass. So, i decided to use Pclass in order to impute the missing ages."
   ]
  },
  {
   "cell_type": "code",
   "execution_count": 17,
   "metadata": {},
   "outputs": [
    {
     "name": "stderr",
     "output_type": "stream",
     "text": [
      "/home/arif/anaconda3/lib/python3.6/site-packages/pandas/core/indexing.py:179: SettingWithCopyWarning: \n",
      "A value is trying to be set on a copy of a slice from a DataFrame\n",
      "\n",
      "See the caveats in the documentation: http://pandas.pydata.org/pandas-docs/stable/indexing.html#indexing-view-versus-copy\n",
      "  self._setitem_with_indexer(indexer, value)\n"
     ]
    }
   ],
   "source": [
    "## Fill Age with the median age of similar rows according to Pclass\n",
    "\n",
    "index_NaN_age = list(train[\"Age\"][train[\"Age\"].isnull()].index)\n",
    "\n",
    "for i in index_NaN_age :\n",
    "    age_med = train[\"Age\"].median()\n",
    "    age_pred = train[\"Age\"][((train['Pclass'] == train.iloc[i][\"Pclass\"]))].median()\n",
    "    if not np.isnan(age_pred) :\n",
    "        train['Age'].iloc[i] = age_pred\n",
    "    else :\n",
    "        train['Age'].iloc[i] = age_med\n",
    "        "
   ]
  },
  {
   "cell_type": "markdown",
   "metadata": {},
   "source": [
    "**Filling Missing Embarked Values**"
   ]
  },
  {
   "cell_type": "markdown",
   "metadata": {},
   "source": [
    "If we analysis at point 3.3 Categorical Analysis and Visualization (Explore Survival Rate by Pclass), people in the first class are the most survivors. Result at point 3.3  Categorical Analysis and Visualization (Explore Survival Rate by Embarked), Embarked S have a highest number than other. My hypothesis is that the proportion of first class passengers is higher for those who came from Southampton(S) than Queenstown (Q), Cherbourg (C). However, I can't explain why Embarked S (Southampton) have the lowest probability than Queenstown (Q), Cherbourg (C). But I decided to use zero in order to impute the missing embarked."
   ]
  },
  {
   "cell_type": "code",
   "execution_count": 18,
   "metadata": {},
   "outputs": [
    {
     "data": {
      "image/png": "[encoded data removed]",
      "text/plain": [
       "<matplotlib.figure.Figure at 0x7f15f5e49470>"
      ]
     },
     "metadata": {},
     "output_type": "display_data"
    }
   ],
   "source": [
    "# Explore Pclass vs Embarked \n",
    "g = sns.factorplot(\"Pclass\", col=\"Embarked\",  data=train,\n",
    "                   size=6, kind=\"count\", palette=\"muted\")\n",
    "g.despine(left=True)\n",
    "g = g.set_ylabels(\"Count\")"
   ]
  },
  {
   "cell_type": "code",
   "execution_count": 19,
   "metadata": {},
   "outputs": [
    {
     "data": {
      "text/html": [
       "<div>\n",
       "<style>\n",
       "    .dataframe thead tr:only-child th {\n",
       "        text-align: right;\n",
       "    }\n",
       "\n",
       "    .dataframe thead th {\n",
       "        text-align: left;\n",
       "    }\n",
       "\n",
       "    .dataframe tbody tr th {\n",
       "        vertical-align: top;\n",
       "    }\n",
       "</style>\n",
       "<table border=\"1\" class=\"dataframe\">\n",
       "  <thead>\n",
       "    <tr style=\"text-align: right;\">\n",
       "      <th></th>\n",
       "      <th>PassengerId</th>\n",
       "      <th>Survived</th>\n",
       "      <th>Pclass</th>\n",
       "      <th>Name</th>\n",
       "      <th>Sex</th>\n",
       "      <th>Age</th>\n",
       "      <th>SibSp</th>\n",
       "      <th>Parch</th>\n",
       "      <th>Ticket</th>\n",
       "      <th>Fare</th>\n",
       "      <th>Cabin</th>\n",
       "      <th>Embarked_C</th>\n",
       "      <th>Embarked_Q</th>\n",
       "      <th>Embarked_S</th>\n",
       "    </tr>\n",
       "  </thead>\n",
       "  <tbody>\n",
       "    <tr>\n",
       "      <th>0</th>\n",
       "      <td>1</td>\n",
       "      <td>0</td>\n",
       "      <td>3</td>\n",
       "      <td>Braund, Mr. Owen Harris</td>\n",
       "      <td>male</td>\n",
       "      <td>22.0</td>\n",
       "      <td>1</td>\n",
       "      <td>0</td>\n",
       "      <td>A/5 21171</td>\n",
       "      <td>7.2500</td>\n",
       "      <td>NaN</td>\n",
       "      <td>0</td>\n",
       "      <td>0</td>\n",
       "      <td>1</td>\n",
       "    </tr>\n",
       "    <tr>\n",
       "      <th>1</th>\n",
       "      <td>2</td>\n",
       "      <td>1</td>\n",
       "      <td>1</td>\n",
       "      <td>Cumings, Mrs. John Bradley (Florence Briggs Th...</td>\n",
       "      <td>female</td>\n",
       "      <td>38.0</td>\n",
       "      <td>1</td>\n",
       "      <td>0</td>\n",
       "      <td>PC 17599</td>\n",
       "      <td>71.2833</td>\n",
       "      <td>C85</td>\n",
       "      <td>1</td>\n",
       "      <td>0</td>\n",
       "      <td>0</td>\n",
       "    </tr>\n",
       "    <tr>\n",
       "      <th>2</th>\n",
       "      <td>3</td>\n",
       "      <td>1</td>\n",
       "      <td>3</td>\n",
       "      <td>Heikkinen, Miss. Laina</td>\n",
       "      <td>female</td>\n",
       "      <td>26.0</td>\n",
       "      <td>0</td>\n",
       "      <td>0</td>\n",
       "      <td>STON/O2. 3101282</td>\n",
       "      <td>7.9250</td>\n",
       "      <td>NaN</td>\n",
       "      <td>0</td>\n",
       "      <td>0</td>\n",
       "      <td>1</td>\n",
       "    </tr>\n",
       "    <tr>\n",
       "      <th>3</th>\n",
       "      <td>4</td>\n",
       "      <td>1</td>\n",
       "      <td>1</td>\n",
       "      <td>Futrelle, Mrs. Jacques Heath (Lily May Peel)</td>\n",
       "      <td>female</td>\n",
       "      <td>35.0</td>\n",
       "      <td>1</td>\n",
       "      <td>0</td>\n",
       "      <td>113803</td>\n",
       "      <td>53.1000</td>\n",
       "      <td>C123</td>\n",
       "      <td>0</td>\n",
       "      <td>0</td>\n",
       "      <td>1</td>\n",
       "    </tr>\n",
       "    <tr>\n",
       "      <th>4</th>\n",
       "      <td>5</td>\n",
       "      <td>0</td>\n",
       "      <td>3</td>\n",
       "      <td>Allen, Mr. William Henry</td>\n",
       "      <td>male</td>\n",
       "      <td>35.0</td>\n",
       "      <td>0</td>\n",
       "      <td>0</td>\n",
       "      <td>373450</td>\n",
       "      <td>8.0500</td>\n",
       "      <td>NaN</td>\n",
       "      <td>0</td>\n",
       "      <td>0</td>\n",
       "      <td>1</td>\n",
       "    </tr>\n",
       "  </tbody>\n",
       "</table>\n",
       "</div>"
      ],
      "text/plain": [
       "   PassengerId  Survived  Pclass  \\\n",
       "0            1         0       3   \n",
       "1            2         1       1   \n",
       "2            3         1       3   \n",
       "3            4         1       1   \n",
       "4            5         0       3   \n",
       "\n",
       "                                                Name     Sex   Age  SibSp  \\\n",
       "0                            Braund, Mr. Owen Harris    male  22.0      1   \n",
       "1  Cumings, Mrs. John Bradley (Florence Briggs Th...  female  38.0      1   \n",
       "2                             Heikkinen, Miss. Laina  female  26.0      0   \n",
       "3       Futrelle, Mrs. Jacques Heath (Lily May Peel)  female  35.0      1   \n",
       "4                           Allen, Mr. William Henry    male  35.0      0   \n",
       "\n",
       "   Parch            Ticket     Fare Cabin  Embarked_C  Embarked_Q  Embarked_S  \n",
       "0      0         A/5 21171   7.2500   NaN           0           0           1  \n",
       "1      0          PC 17599  71.2833   C85           1           0           0  \n",
       "2      0  STON/O2. 3101282   7.9250   NaN           0           0           1  \n",
       "3      0            113803  53.1000  C123           0           0           1  \n",
       "4      0            373450   8.0500   NaN           0           0           1  "
      ]
     },
     "execution_count": 19,
     "metadata": {},
     "output_type": "execute_result"
    }
   ],
   "source": [
    "## Before we fill Embarked with zero, we change Embarked values to one hot encoding \n",
    "train[\"Embarked\"] = train[\"Embarked\"].astype(\"category\")\n",
    "train = pd.get_dummies(train, columns = [\"Embarked\"],prefix=\"Embarked\")\n",
    "train.head()"
   ]
  },
  {
   "cell_type": "code",
   "execution_count": 20,
   "metadata": {
    "collapsed": true
   },
   "outputs": [],
   "source": [
    "## Fill Embarked with zero value\n",
    "train['Embarked_C'] = train['Embarked_C'].fillna(0)\n",
    "train['Embarked_Q'] = train['Embarked_Q'].fillna(0)\n",
    "train['Embarked_S'] = train['Embarked_S'].fillna(0)         "
   ]
  },
  {
   "cell_type": "markdown",
   "metadata": {},
   "source": [
    "### 4.2 Convert Categorical to One Hot Encoding"
   ]
  },
  {
   "cell_type": "markdown",
   "metadata": {},
   "source": [
    "**Convert Pclass to One Hot Encoding**"
   ]
  },
  {
   "cell_type": "code",
   "execution_count": 21,
   "metadata": {
    "collapsed": true
   },
   "outputs": [],
   "source": [
    "train[\"Pclass\"] = train[\"Pclass\"].map({1: 'Class1', 2: 'Class2', 3: 'Class3'})"
   ]
  },
  {
   "cell_type": "code",
   "execution_count": 22,
   "metadata": {
    "collapsed": true
   },
   "outputs": [],
   "source": [
    "Pclass_ = pd.get_dummies(train['Pclass'],prefix = 'Pclass' )\n",
    "train = train.assign(Class1=Pclass_['Pclass_Class1'], Class2=Pclass_['Pclass_Class2'], \n",
    "                     Class3=Pclass_['Pclass_Class3'])\n",
    "train = train.drop(['Pclass'], axis=1)"
   ]
  },
  {
   "cell_type": "markdown",
   "metadata": {},
   "source": [
    "**Convert Sex to One Hot Encoding**"
   ]
  },
  {
   "cell_type": "code",
   "execution_count": 23,
   "metadata": {
    "collapsed": true
   },
   "outputs": [],
   "source": [
    "Sex_ = pd.get_dummies(train['Sex'],prefix = 'Sex' )\n",
    "train = train.assign(male=Sex_['Sex_male'], female=Sex_['Sex_female'])\n",
    "train = train.drop(['Sex'], axis=1)"
   ]
  },
  {
   "cell_type": "markdown",
   "metadata": {},
   "source": [
    "### 4.3 Drop Some Feature"
   ]
  },
  {
   "cell_type": "markdown",
   "metadata": {},
   "source": [
    "**Drop PassengerId, Name, Ticket and Cabin Feature**"
   ]
  },
  {
   "cell_type": "code",
   "execution_count": 24,
   "metadata": {
    "collapsed": true
   },
   "outputs": [],
   "source": [
    "#drop Cabin and Name column from data train\n",
    "train = train.drop(labels=['Cabin'], axis=1)\n",
    "train = train.drop(labels=['Name'], axis=1)\n",
    "train = train.drop(labels=['PassengerId'], axis=1)\n",
    "train = train.drop(['Ticket'], axis=1)"
   ]
  },
  {
   "cell_type": "markdown",
   "metadata": {},
   "source": [
    "### 4.4 Add Some Feature"
   ]
  },
  {
   "cell_type": "markdown",
   "metadata": {},
   "source": [
    "create a family size (Fsize), \"Fize\" feature which is the sum of SibSp , Parch and 1 (including the passenger)."
   ]
  },
  {
   "cell_type": "code",
   "execution_count": 25,
   "metadata": {
    "collapsed": true
   },
   "outputs": [],
   "source": [
    "train[\"Fsize\"] = train[\"SibSp\"] + train[\"Parch\"] + 1"
   ]
  },
  {
   "cell_type": "code",
   "execution_count": 26,
   "metadata": {},
   "outputs": [
    {
     "data": {
      "image/png": "[encoded data removed]",
      "text/plain": [
       "<matplotlib.figure.Figure at 0x7f15f5932860>"
      ]
     },
     "metadata": {},
     "output_type": "display_data"
    }
   ],
   "source": [
    "g = sns.factorplot(x=\"Fsize\",y=\"Survived\",data = train, size=6, aspect = 2)\n",
    "g = g.set_ylabels(\"Survival Probability\")"
   ]
  },
  {
   "cell_type": "code",
   "execution_count": 27,
   "metadata": {
    "collapsed": true
   },
   "outputs": [],
   "source": [
    "# Create new feature of family size\n",
    "train['Single'] = train['Fsize'].map(lambda s: 1 if s == 1 else 0)\n",
    "train['SmallF'] = train['Fsize'].map(lambda s: 1 if  s == 2  else 0)\n",
    "train['MedF'] = train['Fsize'].map(lambda s: 1 if 3 <= s <= 4 else 0)\n",
    "train['LargeF'] = train['Fsize'].map(lambda s: 1 if s >= 5 else 0)"
   ]
  },
  {
   "cell_type": "code",
   "execution_count": 28,
   "metadata": {},
   "outputs": [
    {
     "data": {
      "text/plain": [
       "Text(0,0.5,'Survival Probability')"
      ]
     },
     "execution_count": 28,
     "metadata": {},
     "output_type": "execute_result"
    },
    {
     "data": {
      "image/png": "[encoded data removed]",
      "text/plain": [
       "<matplotlib.figure.Figure at 0x7f15f587a5c0>"
      ]
     },
     "metadata": {},
     "output_type": "display_data"
    }
   ],
   "source": [
    "f,ax = plt.subplots(2,2,figsize=(20,18))\n",
    "\n",
    "g = sns.barplot(x=\"Single\",y=\"Survived\",data=train, ax=ax[0,0])\n",
    "ax[0,0].set_title('Survival Rate by Single')\n",
    "ax[0,0].set_xlabel('Single')\n",
    "ax[0,0].set_ylabel('Survival Probability')\n",
    "\n",
    "g = sns.barplot(x=\"SmallF\",y=\"Survived\",data=train, ax=ax[0,1])\n",
    "ax[0,1].set_title('Survival Rate by SmallF')\n",
    "ax[0,1].set_xlabel('SmallF')\n",
    "ax[0,1].set_ylabel('Survival Probability')\n",
    "\n",
    "g = sns.barplot(x=\"MedF\",y=\"Survived\",data=train, ax=ax[1,0])\n",
    "ax[1,0].set_title('Survival Rate by MedF')\n",
    "ax[1,0].set_xlabel('MedF')\n",
    "ax[1,0].set_ylabel('Survival Probability')\n",
    "\n",
    "g = sns.barplot(x=\"LargeF\",y=\"Survived\",data=train, ax=ax[1,1])\n",
    "ax[1,1].set_title('Survival Rate by LargeF')\n",
    "ax[1,1].set_xlabel('LargeF')\n",
    "ax[1,1].set_ylabel('Survival Probability')\n"
   ]
  },
  {
   "cell_type": "markdown",
   "metadata": {},
   "source": [
    "**Check Point Dataset**"
   ]
  },
  {
   "cell_type": "code",
   "execution_count": 29,
   "metadata": {
    "collapsed": true
   },
   "outputs": [],
   "source": [
    "train.to_csv('check_point.csv', index=False)"
   ]
  },
  {
   "cell_type": "markdown",
   "metadata": {},
   "source": [
    "### 5 Preprocessing"
   ]
  },
  {
   "cell_type": "code",
   "execution_count": 30,
   "metadata": {},
   "outputs": [
    {
     "data": {
      "text/html": [
       "<div>\n",
       "<style>\n",
       "    .dataframe thead tr:only-child th {\n",
       "        text-align: right;\n",
       "    }\n",
       "\n",
       "    .dataframe thead th {\n",
       "        text-align: left;\n",
       "    }\n",
       "\n",
       "    .dataframe tbody tr th {\n",
       "        vertical-align: top;\n",
       "    }\n",
       "</style>\n",
       "<table border=\"1\" class=\"dataframe\">\n",
       "  <thead>\n",
       "    <tr style=\"text-align: right;\">\n",
       "      <th></th>\n",
       "      <th>Survived</th>\n",
       "      <th>Age</th>\n",
       "      <th>SibSp</th>\n",
       "      <th>Parch</th>\n",
       "      <th>Fare</th>\n",
       "      <th>Embarked_C</th>\n",
       "      <th>Embarked_Q</th>\n",
       "      <th>Embarked_S</th>\n",
       "      <th>Class1</th>\n",
       "      <th>Class2</th>\n",
       "      <th>Class3</th>\n",
       "      <th>female</th>\n",
       "      <th>male</th>\n",
       "      <th>Fsize</th>\n",
       "      <th>Single</th>\n",
       "      <th>SmallF</th>\n",
       "      <th>MedF</th>\n",
       "      <th>LargeF</th>\n",
       "    </tr>\n",
       "  </thead>\n",
       "  <tbody>\n",
       "    <tr>\n",
       "      <th>0</th>\n",
       "      <td>0</td>\n",
       "      <td>22.0</td>\n",
       "      <td>1</td>\n",
       "      <td>0</td>\n",
       "      <td>7.2500</td>\n",
       "      <td>0</td>\n",
       "      <td>0</td>\n",
       "      <td>1</td>\n",
       "      <td>0</td>\n",
       "      <td>0</td>\n",
       "      <td>1</td>\n",
       "      <td>0</td>\n",
       "      <td>1</td>\n",
       "      <td>2</td>\n",
       "      <td>0</td>\n",
       "      <td>1</td>\n",
       "      <td>0</td>\n",
       "      <td>0</td>\n",
       "    </tr>\n",
       "    <tr>\n",
       "      <th>1</th>\n",
       "      <td>1</td>\n",
       "      <td>38.0</td>\n",
       "      <td>1</td>\n",
       "      <td>0</td>\n",
       "      <td>71.2833</td>\n",
       "      <td>1</td>\n",
       "      <td>0</td>\n",
       "      <td>0</td>\n",
       "      <td>1</td>\n",
       "      <td>0</td>\n",
       "      <td>0</td>\n",
       "      <td>1</td>\n",
       "      <td>0</td>\n",
       "      <td>2</td>\n",
       "      <td>0</td>\n",
       "      <td>1</td>\n",
       "      <td>0</td>\n",
       "      <td>0</td>\n",
       "    </tr>\n",
       "    <tr>\n",
       "      <th>2</th>\n",
       "      <td>1</td>\n",
       "      <td>26.0</td>\n",
       "      <td>0</td>\n",
       "      <td>0</td>\n",
       "      <td>7.9250</td>\n",
       "      <td>0</td>\n",
       "      <td>0</td>\n",
       "      <td>1</td>\n",
       "      <td>0</td>\n",
       "      <td>0</td>\n",
       "      <td>1</td>\n",
       "      <td>1</td>\n",
       "      <td>0</td>\n",
       "      <td>1</td>\n",
       "      <td>1</td>\n",
       "      <td>0</td>\n",
       "      <td>0</td>\n",
       "      <td>0</td>\n",
       "    </tr>\n",
       "    <tr>\n",
       "      <th>3</th>\n",
       "      <td>1</td>\n",
       "      <td>35.0</td>\n",
       "      <td>1</td>\n",
       "      <td>0</td>\n",
       "      <td>53.1000</td>\n",
       "      <td>0</td>\n",
       "      <td>0</td>\n",
       "      <td>1</td>\n",
       "      <td>1</td>\n",
       "      <td>0</td>\n",
       "      <td>0</td>\n",
       "      <td>1</td>\n",
       "      <td>0</td>\n",
       "      <td>2</td>\n",
       "      <td>0</td>\n",
       "      <td>1</td>\n",
       "      <td>0</td>\n",
       "      <td>0</td>\n",
       "    </tr>\n",
       "    <tr>\n",
       "      <th>4</th>\n",
       "      <td>0</td>\n",
       "      <td>35.0</td>\n",
       "      <td>0</td>\n",
       "      <td>0</td>\n",
       "      <td>8.0500</td>\n",
       "      <td>0</td>\n",
       "      <td>0</td>\n",
       "      <td>1</td>\n",
       "      <td>0</td>\n",
       "      <td>0</td>\n",
       "      <td>1</td>\n",
       "      <td>0</td>\n",
       "      <td>1</td>\n",
       "      <td>1</td>\n",
       "      <td>1</td>\n",
       "      <td>0</td>\n",
       "      <td>0</td>\n",
       "      <td>0</td>\n",
       "    </tr>\n",
       "  </tbody>\n",
       "</table>\n",
       "</div>"
      ],
      "text/plain": [
       "   Survived   Age  SibSp  Parch     Fare  Embarked_C  Embarked_Q  Embarked_S  \\\n",
       "0         0  22.0      1      0   7.2500           0           0           1   \n",
       "1         1  38.0      1      0  71.2833           1           0           0   \n",
       "2         1  26.0      0      0   7.9250           0           0           1   \n",
       "3         1  35.0      1      0  53.1000           0           0           1   \n",
       "4         0  35.0      0      0   8.0500           0           0           1   \n",
       "\n",
       "   Class1  Class2  Class3  female  male  Fsize  Single  SmallF  MedF  LargeF  \n",
       "0       0       0       1       0     1      2       0       1     0       0  \n",
       "1       1       0       0       1     0      2       0       1     0       0  \n",
       "2       0       0       1       1     0      1       1       0     0       0  \n",
       "3       1       0       0       1     0      2       0       1     0       0  \n",
       "4       0       0       1       0     1      1       1       0     0       0  "
      ]
     },
     "execution_count": 30,
     "metadata": {},
     "output_type": "execute_result"
    }
   ],
   "source": [
    "train = pd.read_csv('check_point.csv')\n",
    "train.head()"
   ]
  },
  {
   "cell_type": "code",
   "execution_count": 31,
   "metadata": {},
   "outputs": [
    {
     "data": {
      "text/html": [
       "<div>\n",
       "<style>\n",
       "    .dataframe thead tr:only-child th {\n",
       "        text-align: right;\n",
       "    }\n",
       "\n",
       "    .dataframe thead th {\n",
       "        text-align: left;\n",
       "    }\n",
       "\n",
       "    .dataframe tbody tr th {\n",
       "        vertical-align: top;\n",
       "    }\n",
       "</style>\n",
       "<table border=\"1\" class=\"dataframe\">\n",
       "  <thead>\n",
       "    <tr style=\"text-align: right;\">\n",
       "      <th></th>\n",
       "      <th>Age</th>\n",
       "      <th>SibSp</th>\n",
       "      <th>Parch</th>\n",
       "      <th>Fare</th>\n",
       "      <th>Embarked_C</th>\n",
       "      <th>Embarked_Q</th>\n",
       "      <th>Embarked_S</th>\n",
       "      <th>Class1</th>\n",
       "      <th>Class2</th>\n",
       "      <th>Class3</th>\n",
       "      <th>female</th>\n",
       "      <th>male</th>\n",
       "      <th>Fsize</th>\n",
       "      <th>Single</th>\n",
       "      <th>SmallF</th>\n",
       "      <th>MedF</th>\n",
       "      <th>LargeF</th>\n",
       "    </tr>\n",
       "  </thead>\n",
       "  <tbody>\n",
       "    <tr>\n",
       "      <th>0</th>\n",
       "      <td>22.0</td>\n",
       "      <td>1</td>\n",
       "      <td>0</td>\n",
       "      <td>7.2500</td>\n",
       "      <td>0</td>\n",
       "      <td>0</td>\n",
       "      <td>1</td>\n",
       "      <td>0</td>\n",
       "      <td>0</td>\n",
       "      <td>1</td>\n",
       "      <td>0</td>\n",
       "      <td>1</td>\n",
       "      <td>2</td>\n",
       "      <td>0</td>\n",
       "      <td>1</td>\n",
       "      <td>0</td>\n",
       "      <td>0</td>\n",
       "    </tr>\n",
       "    <tr>\n",
       "      <th>1</th>\n",
       "      <td>38.0</td>\n",
       "      <td>1</td>\n",
       "      <td>0</td>\n",
       "      <td>71.2833</td>\n",
       "      <td>1</td>\n",
       "      <td>0</td>\n",
       "      <td>0</td>\n",
       "      <td>1</td>\n",
       "      <td>0</td>\n",
       "      <td>0</td>\n",
       "      <td>1</td>\n",
       "      <td>0</td>\n",
       "      <td>2</td>\n",
       "      <td>0</td>\n",
       "      <td>1</td>\n",
       "      <td>0</td>\n",
       "      <td>0</td>\n",
       "    </tr>\n",
       "    <tr>\n",
       "      <th>2</th>\n",
       "      <td>26.0</td>\n",
       "      <td>0</td>\n",
       "      <td>0</td>\n",
       "      <td>7.9250</td>\n",
       "      <td>0</td>\n",
       "      <td>0</td>\n",
       "      <td>1</td>\n",
       "      <td>0</td>\n",
       "      <td>0</td>\n",
       "      <td>1</td>\n",
       "      <td>1</td>\n",
       "      <td>0</td>\n",
       "      <td>1</td>\n",
       "      <td>1</td>\n",
       "      <td>0</td>\n",
       "      <td>0</td>\n",
       "      <td>0</td>\n",
       "    </tr>\n",
       "    <tr>\n",
       "      <th>3</th>\n",
       "      <td>35.0</td>\n",
       "      <td>1</td>\n",
       "      <td>0</td>\n",
       "      <td>53.1000</td>\n",
       "      <td>0</td>\n",
       "      <td>0</td>\n",
       "      <td>1</td>\n",
       "      <td>1</td>\n",
       "      <td>0</td>\n",
       "      <td>0</td>\n",
       "      <td>1</td>\n",
       "      <td>0</td>\n",
       "      <td>2</td>\n",
       "      <td>0</td>\n",
       "      <td>1</td>\n",
       "      <td>0</td>\n",
       "      <td>0</td>\n",
       "    </tr>\n",
       "    <tr>\n",
       "      <th>4</th>\n",
       "      <td>35.0</td>\n",
       "      <td>0</td>\n",
       "      <td>0</td>\n",
       "      <td>8.0500</td>\n",
       "      <td>0</td>\n",
       "      <td>0</td>\n",
       "      <td>1</td>\n",
       "      <td>0</td>\n",
       "      <td>0</td>\n",
       "      <td>1</td>\n",
       "      <td>0</td>\n",
       "      <td>1</td>\n",
       "      <td>1</td>\n",
       "      <td>1</td>\n",
       "      <td>0</td>\n",
       "      <td>0</td>\n",
       "      <td>0</td>\n",
       "    </tr>\n",
       "  </tbody>\n",
       "</table>\n",
       "</div>"
      ],
      "text/plain": [
       "    Age  SibSp  Parch     Fare  Embarked_C  Embarked_Q  Embarked_S  Class1  \\\n",
       "0  22.0      1      0   7.2500           0           0           1       0   \n",
       "1  38.0      1      0  71.2833           1           0           0       1   \n",
       "2  26.0      0      0   7.9250           0           0           1       0   \n",
       "3  35.0      1      0  53.1000           0           0           1       1   \n",
       "4  35.0      0      0   8.0500           0           0           1       0   \n",
       "\n",
       "   Class2  Class3  female  male  Fsize  Single  SmallF  MedF  LargeF  \n",
       "0       0       1       0     1      2       0       1     0       0  \n",
       "1       0       0       1     0      2       0       1     0       0  \n",
       "2       0       1       1     0      1       1       0     0       0  \n",
       "3       0       0       1     0      2       0       1     0       0  \n",
       "4       0       1       0     1      1       1       0     0       0  "
      ]
     },
     "execution_count": 31,
     "metadata": {},
     "output_type": "execute_result"
    }
   ],
   "source": [
    "train[\"Survived\"] = train[\"Survived\"].astype(int)\n",
    "\n",
    "y = train[\"Survived\"]\n",
    "X = train.drop(labels = [\"Survived\"],axis = 1)\n",
    "X.head()"
   ]
  },
  {
   "cell_type": "code",
   "execution_count": 32,
   "metadata": {
    "collapsed": true
   },
   "outputs": [],
   "source": [
    "sc = StandardScaler()\n",
    "X_std = sc.fit_transform(X.astype(float))"
   ]
  },
  {
   "cell_type": "markdown",
   "metadata": {},
   "source": [
    "### 6. Modeling"
   ]
  },
  {
   "cell_type": "markdown",
   "metadata": {},
   "source": [
    "We build some models to seek the best model we can provided.\n",
    "- [Support Vector Machine](https://en.wikipedia.org/wiki/Support_vector_machine)\n",
    "<br> Support Vector Machine will optimize and locate a separating line, which is the line that allows for largest gap between the two classes. New data are then mapped into that same space and predicted to belong to a class based on which side of the gap they fall. <br>\n",
    "<br>\n",
    "- [Gradient Boosting](https://machinelearningmastery.com/gentle-introduction-gradient-boosting-algorithm-machine-learning/)\n",
    "<br> Gradient Boosting generally use decision tree as \"weak learners\". The concept is to add predictors, and each predictor will correct its predecessor, thus finally fit new predictor to the residual errors. <br>\n",
    "<br>\n",
    "- Random Forest\n",
    "<br> Random Forest is Ensemble of Decision Trees. Random forests are a way of averaging multiple deep decision trees, trained on different parts of the same training set, with the goal of reducing the variance. [Friedman, J., Hastie, T., & Tibshirani, R. (2001). The elements of statistical learning (Vol. 1, No. 10). New York, NY, USA:: Springer series in statistics}]. <br>\n",
    "<br>\n",
    "- [Logistic Regression](https://machinelearningmastery.com/logistic-regression-for-machine-learning/)\n",
    "<br> Logistic regression is the go-to linear classification algorithm for two-class problems. Logistic Regression use sigmoid function that allows such real-valued number and map it into a value between 0 and 1. <br>\n",
    "<br>\n",
    "- [K-Nearest Neighbor (KNN)](https://en.wikipedia.org/wiki/K-nearest_neighbors_algorithm)\n",
    "<br> An object is classified by a majority vote of its neighbors, with the object being assigned to the class most common among its k nearest neighbors (k is a positive integer, typically small) <br>\n",
    "<br>\n",
    "- [AdaBoost](http://rob.schapire.net/papers/explaining-adaboost.pdf)\n",
    "<br> Adaptive Boosting is one of Boosting algortihm, which combine \"weak learners\" into a weighted sum to produce the final prediction. The difference between gradient boosting, AdaBoost alter instance weights at every iteration.  <br>\n",
    "<br>\n",
    "- [XGboost](http://xgboost.readthedocs.io/en/latest/)\n",
    "<br> Both XGBoost and Gradient Boosting Machine follows the principle of gradient boosting. XGBoost used a more regularized model formalization to control over-fitting, which gives it better performance. <br>\n",
    "<br>\n",
    "- [Artificial Neural Networks](http://metalab.uniten.edu.my/~abdrahim/mitm613/Jain1996_ANN%20-%20A%20Tutorial.pdf)\n",
    "<br> ANNs are computing system that inspired by neural networks in brain. The system learn from some examples that we provided, generally without being programmed with any task-specific rules.<br>\n",
    "<br>\n",
    "\n",
    "To find the most significant models, we use [cross validation](https://en.wikipedia.org/wiki/Cross-validation_(statistics), then use the score to compare those models. "
   ]
  },
  {
   "cell_type": "markdown",
   "metadata": {},
   "source": [
    "### 6.1 Support Vector Machine (SVM)"
   ]
  },
  {
   "cell_type": "code",
   "execution_count": 33,
   "metadata": {},
   "outputs": [
    {
     "data": {
      "text/plain": [
       "SVC(C=1.0, cache_size=200, class_weight=None, coef0=0.0,\n",
       "  decision_function_shape='ovr', degree=3, gamma='auto', kernel='rbf',\n",
       "  max_iter=-1, probability=False, random_state=None, shrinking=True,\n",
       "  tol=0.001, verbose=False)"
      ]
     },
     "execution_count": 33,
     "metadata": {},
     "output_type": "execute_result"
    }
   ],
   "source": [
    "clf_svm = svm.SVC()\n",
    "clf_svm.fit(X_std,y)"
   ]
  },
  {
   "cell_type": "code",
   "execution_count": 34,
   "metadata": {},
   "outputs": [
    {
     "name": "stdout",
     "output_type": "stream",
     "text": [
      "[ 0.78888889  0.82222222  0.7752809   0.84269663  0.84269663  0.78651685\n",
      "  0.82022472  0.7752809   0.84269663  0.80681818]\n",
      "Accuracy: 0.81 (+/- 0.05)\n"
     ]
    }
   ],
   "source": [
    "scores = cross_val_score(clf_svm, X_std, y, cv=10)\n",
    "print(scores)\n",
    "print(\"Accuracy: %0.2f (+/- %0.2f)\" % (scores.mean(), scores.std() * 2))"
   ]
  },
  {
   "cell_type": "markdown",
   "metadata": {},
   "source": [
    "**Tune Hyperparams**"
   ]
  },
  {
   "cell_type": "code",
   "execution_count": 35,
   "metadata": {
    "collapsed": true
   },
   "outputs": [],
   "source": [
    "X_train, X_test, y_train, y_test = train_test_split(X_std, y, test_size=0.5, random_state=0)"
   ]
  },
  {
   "cell_type": "code",
   "execution_count": 36,
   "metadata": {},
   "outputs": [
    {
     "name": "stdout",
     "output_type": "stream",
     "text": [
      "# Tuning hyper-parameters for precision\n",
      "\n"
     ]
    },
    {
     "name": "stderr",
     "output_type": "stream",
     "text": [
      "/home/arif/anaconda3/lib/python3.6/site-packages/sklearn/metrics/classification.py:1135: UndefinedMetricWarning: Precision is ill-defined and being set to 0.0 in labels with no predicted samples.\n",
      "  'precision', 'predicted', average, warn_for)\n",
      "/home/arif/anaconda3/lib/python3.6/site-packages/sklearn/metrics/classification.py:1135: UndefinedMetricWarning: Precision is ill-defined and being set to 0.0 in labels with no predicted samples.\n",
      "  'precision', 'predicted', average, warn_for)\n",
      "/home/arif/anaconda3/lib/python3.6/site-packages/sklearn/metrics/classification.py:1135: UndefinedMetricWarning: Precision is ill-defined and being set to 0.0 in labels with no predicted samples.\n",
      "  'precision', 'predicted', average, warn_for)\n",
      "/home/arif/anaconda3/lib/python3.6/site-packages/sklearn/metrics/classification.py:1135: UndefinedMetricWarning: Precision is ill-defined and being set to 0.0 in labels with no predicted samples.\n",
      "  'precision', 'predicted', average, warn_for)\n",
      "/home/arif/anaconda3/lib/python3.6/site-packages/sklearn/metrics/classification.py:1135: UndefinedMetricWarning: Precision is ill-defined and being set to 0.0 in labels with no predicted samples.\n",
      "  'precision', 'predicted', average, warn_for)\n",
      "/home/arif/anaconda3/lib/python3.6/site-packages/sklearn/metrics/classification.py:1135: UndefinedMetricWarning: Precision is ill-defined and being set to 0.0 in labels with no predicted samples.\n",
      "  'precision', 'predicted', average, warn_for)\n",
      "/home/arif/anaconda3/lib/python3.6/site-packages/sklearn/metrics/classification.py:1135: UndefinedMetricWarning: Precision is ill-defined and being set to 0.0 in labels with no predicted samples.\n",
      "  'precision', 'predicted', average, warn_for)\n",
      "/home/arif/anaconda3/lib/python3.6/site-packages/sklearn/metrics/classification.py:1135: UndefinedMetricWarning: Precision is ill-defined and being set to 0.0 in labels with no predicted samples.\n",
      "  'precision', 'predicted', average, warn_for)\n",
      "/home/arif/anaconda3/lib/python3.6/site-packages/sklearn/metrics/classification.py:1135: UndefinedMetricWarning: Precision is ill-defined and being set to 0.0 in labels with no predicted samples.\n",
      "  'precision', 'predicted', average, warn_for)\n",
      "/home/arif/anaconda3/lib/python3.6/site-packages/sklearn/metrics/classification.py:1135: UndefinedMetricWarning: Precision is ill-defined and being set to 0.0 in labels with no predicted samples.\n",
      "  'precision', 'predicted', average, warn_for)\n",
      "/home/arif/anaconda3/lib/python3.6/site-packages/sklearn/metrics/classification.py:1135: UndefinedMetricWarning: Precision is ill-defined and being set to 0.0 in labels with no predicted samples.\n",
      "  'precision', 'predicted', average, warn_for)\n",
      "/home/arif/anaconda3/lib/python3.6/site-packages/sklearn/metrics/classification.py:1135: UndefinedMetricWarning: Precision is ill-defined and being set to 0.0 in labels with no predicted samples.\n",
      "  'precision', 'predicted', average, warn_for)\n",
      "/home/arif/anaconda3/lib/python3.6/site-packages/sklearn/metrics/classification.py:1135: UndefinedMetricWarning: Precision is ill-defined and being set to 0.0 in labels with no predicted samples.\n",
      "  'precision', 'predicted', average, warn_for)\n",
      "/home/arif/anaconda3/lib/python3.6/site-packages/sklearn/metrics/classification.py:1135: UndefinedMetricWarning: Precision is ill-defined and being set to 0.0 in labels with no predicted samples.\n",
      "  'precision', 'predicted', average, warn_for)\n",
      "/home/arif/anaconda3/lib/python3.6/site-packages/sklearn/metrics/classification.py:1135: UndefinedMetricWarning: Precision is ill-defined and being set to 0.0 in labels with no predicted samples.\n",
      "  'precision', 'predicted', average, warn_for)\n",
      "/home/arif/anaconda3/lib/python3.6/site-packages/sklearn/metrics/classification.py:1135: UndefinedMetricWarning: Precision is ill-defined and being set to 0.0 in labels with no predicted samples.\n",
      "  'precision', 'predicted', average, warn_for)\n",
      "/home/arif/anaconda3/lib/python3.6/site-packages/sklearn/metrics/classification.py:1135: UndefinedMetricWarning: Precision is ill-defined and being set to 0.0 in labels with no predicted samples.\n",
      "  'precision', 'predicted', average, warn_for)\n",
      "/home/arif/anaconda3/lib/python3.6/site-packages/sklearn/metrics/classification.py:1135: UndefinedMetricWarning: Precision is ill-defined and being set to 0.0 in labels with no predicted samples.\n",
      "  'precision', 'predicted', average, warn_for)\n",
      "/home/arif/anaconda3/lib/python3.6/site-packages/sklearn/metrics/classification.py:1135: UndefinedMetricWarning: Precision is ill-defined and being set to 0.0 in labels with no predicted samples.\n",
      "  'precision', 'predicted', average, warn_for)\n",
      "/home/arif/anaconda3/lib/python3.6/site-packages/sklearn/metrics/classification.py:1135: UndefinedMetricWarning: Precision is ill-defined and being set to 0.0 in labels with no predicted samples.\n",
      "  'precision', 'predicted', average, warn_for)\n",
      "/home/arif/anaconda3/lib/python3.6/site-packages/sklearn/metrics/classification.py:1135: UndefinedMetricWarning: Precision is ill-defined and being set to 0.0 in labels with no predicted samples.\n",
      "  'precision', 'predicted', average, warn_for)\n",
      "/home/arif/anaconda3/lib/python3.6/site-packages/sklearn/metrics/classification.py:1135: UndefinedMetricWarning: Precision is ill-defined and being set to 0.0 in labels with no predicted samples.\n",
      "  'precision', 'predicted', average, warn_for)\n",
      "/home/arif/anaconda3/lib/python3.6/site-packages/sklearn/metrics/classification.py:1135: UndefinedMetricWarning: Precision is ill-defined and being set to 0.0 in labels with no predicted samples.\n",
      "  'precision', 'predicted', average, warn_for)\n",
      "/home/arif/anaconda3/lib/python3.6/site-packages/sklearn/metrics/classification.py:1135: UndefinedMetricWarning: Precision is ill-defined and being set to 0.0 in labels with no predicted samples.\n",
      "  'precision', 'predicted', average, warn_for)\n",
      "/home/arif/anaconda3/lib/python3.6/site-packages/sklearn/metrics/classification.py:1135: UndefinedMetricWarning: Precision is ill-defined and being set to 0.0 in labels with no predicted samples.\n",
      "  'precision', 'predicted', average, warn_for)\n",
      "/home/arif/anaconda3/lib/python3.6/site-packages/sklearn/metrics/classification.py:1135: UndefinedMetricWarning: Precision is ill-defined and being set to 0.0 in labels with no predicted samples.\n",
      "  'precision', 'predicted', average, warn_for)\n",
      "/home/arif/anaconda3/lib/python3.6/site-packages/sklearn/metrics/classification.py:1135: UndefinedMetricWarning: Precision is ill-defined and being set to 0.0 in labels with no predicted samples.\n",
      "  'precision', 'predicted', average, warn_for)\n",
      "/home/arif/anaconda3/lib/python3.6/site-packages/sklearn/metrics/classification.py:1135: UndefinedMetricWarning: Precision is ill-defined and being set to 0.0 in labels with no predicted samples.\n",
      "  'precision', 'predicted', average, warn_for)\n",
      "/home/arif/anaconda3/lib/python3.6/site-packages/sklearn/metrics/classification.py:1135: UndefinedMetricWarning: Precision is ill-defined and being set to 0.0 in labels with no predicted samples.\n",
      "  'precision', 'predicted', average, warn_for)\n",
      "/home/arif/anaconda3/lib/python3.6/site-packages/sklearn/metrics/classification.py:1135: UndefinedMetricWarning: Precision is ill-defined and being set to 0.0 in labels with no predicted samples.\n",
      "  'precision', 'predicted', average, warn_for)\n",
      "/home/arif/anaconda3/lib/python3.6/site-packages/sklearn/metrics/classification.py:1135: UndefinedMetricWarning: Precision is ill-defined and being set to 0.0 in labels with no predicted samples.\n",
      "  'precision', 'predicted', average, warn_for)\n",
      "/home/arif/anaconda3/lib/python3.6/site-packages/sklearn/metrics/classification.py:1135: UndefinedMetricWarning: Precision is ill-defined and being set to 0.0 in labels with no predicted samples.\n",
      "  'precision', 'predicted', average, warn_for)\n",
      "/home/arif/anaconda3/lib/python3.6/site-packages/sklearn/metrics/classification.py:1135: UndefinedMetricWarning: Precision is ill-defined and being set to 0.0 in labels with no predicted samples.\n",
      "  'precision', 'predicted', average, warn_for)\n",
      "/home/arif/anaconda3/lib/python3.6/site-packages/sklearn/metrics/classification.py:1135: UndefinedMetricWarning: Precision is ill-defined and being set to 0.0 in labels with no predicted samples.\n",
      "  'precision', 'predicted', average, warn_for)\n"
     ]
    },
    {
     "name": "stderr",
     "output_type": "stream",
     "text": [
      "/home/arif/anaconda3/lib/python3.6/site-packages/sklearn/metrics/classification.py:1135: UndefinedMetricWarning: Precision is ill-defined and being set to 0.0 in labels with no predicted samples.\n",
      "  'precision', 'predicted', average, warn_for)\n",
      "/home/arif/anaconda3/lib/python3.6/site-packages/sklearn/metrics/classification.py:1135: UndefinedMetricWarning: Precision is ill-defined and being set to 0.0 in labels with no predicted samples.\n",
      "  'precision', 'predicted', average, warn_for)\n",
      "/home/arif/anaconda3/lib/python3.6/site-packages/sklearn/metrics/classification.py:1135: UndefinedMetricWarning: Precision is ill-defined and being set to 0.0 in labels with no predicted samples.\n",
      "  'precision', 'predicted', average, warn_for)\n",
      "/home/arif/anaconda3/lib/python3.6/site-packages/sklearn/metrics/classification.py:1135: UndefinedMetricWarning: Precision is ill-defined and being set to 0.0 in labels with no predicted samples.\n",
      "  'precision', 'predicted', average, warn_for)\n",
      "/home/arif/anaconda3/lib/python3.6/site-packages/sklearn/metrics/classification.py:1135: UndefinedMetricWarning: Precision is ill-defined and being set to 0.0 in labels with no predicted samples.\n",
      "  'precision', 'predicted', average, warn_for)\n",
      "/home/arif/anaconda3/lib/python3.6/site-packages/sklearn/metrics/classification.py:1135: UndefinedMetricWarning: Precision is ill-defined and being set to 0.0 in labels with no predicted samples.\n",
      "  'precision', 'predicted', average, warn_for)\n",
      "/home/arif/anaconda3/lib/python3.6/site-packages/sklearn/metrics/classification.py:1135: UndefinedMetricWarning: Precision is ill-defined and being set to 0.0 in labels with no predicted samples.\n",
      "  'precision', 'predicted', average, warn_for)\n",
      "/home/arif/anaconda3/lib/python3.6/site-packages/sklearn/metrics/classification.py:1135: UndefinedMetricWarning: Precision is ill-defined and being set to 0.0 in labels with no predicted samples.\n",
      "  'precision', 'predicted', average, warn_for)\n",
      "/home/arif/anaconda3/lib/python3.6/site-packages/sklearn/metrics/classification.py:1135: UndefinedMetricWarning: Precision is ill-defined and being set to 0.0 in labels with no predicted samples.\n",
      "  'precision', 'predicted', average, warn_for)\n",
      "/home/arif/anaconda3/lib/python3.6/site-packages/sklearn/metrics/classification.py:1135: UndefinedMetricWarning: Precision is ill-defined and being set to 0.0 in labels with no predicted samples.\n",
      "  'precision', 'predicted', average, warn_for)\n",
      "/home/arif/anaconda3/lib/python3.6/site-packages/sklearn/metrics/classification.py:1135: UndefinedMetricWarning: Precision is ill-defined and being set to 0.0 in labels with no predicted samples.\n",
      "  'precision', 'predicted', average, warn_for)\n",
      "/home/arif/anaconda3/lib/python3.6/site-packages/sklearn/metrics/classification.py:1135: UndefinedMetricWarning: Precision is ill-defined and being set to 0.0 in labels with no predicted samples.\n",
      "  'precision', 'predicted', average, warn_for)\n",
      "/home/arif/anaconda3/lib/python3.6/site-packages/sklearn/metrics/classification.py:1135: UndefinedMetricWarning: Precision is ill-defined and being set to 0.0 in labels with no predicted samples.\n",
      "  'precision', 'predicted', average, warn_for)\n",
      "/home/arif/anaconda3/lib/python3.6/site-packages/sklearn/metrics/classification.py:1135: UndefinedMetricWarning: Precision is ill-defined and being set to 0.0 in labels with no predicted samples.\n",
      "  'precision', 'predicted', average, warn_for)\n",
      "/home/arif/anaconda3/lib/python3.6/site-packages/sklearn/metrics/classification.py:1135: UndefinedMetricWarning: Precision is ill-defined and being set to 0.0 in labels with no predicted samples.\n",
      "  'precision', 'predicted', average, warn_for)\n",
      "/home/arif/anaconda3/lib/python3.6/site-packages/sklearn/metrics/classification.py:1135: UndefinedMetricWarning: Precision is ill-defined and being set to 0.0 in labels with no predicted samples.\n",
      "  'precision', 'predicted', average, warn_for)\n",
      "/home/arif/anaconda3/lib/python3.6/site-packages/sklearn/metrics/classification.py:1135: UndefinedMetricWarning: Precision is ill-defined and being set to 0.0 in labels with no predicted samples.\n",
      "  'precision', 'predicted', average, warn_for)\n",
      "/home/arif/anaconda3/lib/python3.6/site-packages/sklearn/metrics/classification.py:1135: UndefinedMetricWarning: Precision is ill-defined and being set to 0.0 in labels with no predicted samples.\n",
      "  'precision', 'predicted', average, warn_for)\n",
      "/home/arif/anaconda3/lib/python3.6/site-packages/sklearn/metrics/classification.py:1135: UndefinedMetricWarning: Precision is ill-defined and being set to 0.0 in labels with no predicted samples.\n",
      "  'precision', 'predicted', average, warn_for)\n",
      "/home/arif/anaconda3/lib/python3.6/site-packages/sklearn/metrics/classification.py:1135: UndefinedMetricWarning: Precision is ill-defined and being set to 0.0 in labels with no predicted samples.\n",
      "  'precision', 'predicted', average, warn_for)\n",
      "/home/arif/anaconda3/lib/python3.6/site-packages/sklearn/metrics/classification.py:1135: UndefinedMetricWarning: Precision is ill-defined and being set to 0.0 in labels with no predicted samples.\n",
      "  'precision', 'predicted', average, warn_for)\n",
      "/home/arif/anaconda3/lib/python3.6/site-packages/sklearn/metrics/classification.py:1135: UndefinedMetricWarning: Precision is ill-defined and being set to 0.0 in labels with no predicted samples.\n",
      "  'precision', 'predicted', average, warn_for)\n",
      "/home/arif/anaconda3/lib/python3.6/site-packages/sklearn/metrics/classification.py:1135: UndefinedMetricWarning: Precision is ill-defined and being set to 0.0 in labels with no predicted samples.\n",
      "  'precision', 'predicted', average, warn_for)\n",
      "/home/arif/anaconda3/lib/python3.6/site-packages/sklearn/metrics/classification.py:1135: UndefinedMetricWarning: Precision is ill-defined and being set to 0.0 in labels with no predicted samples.\n",
      "  'precision', 'predicted', average, warn_for)\n",
      "/home/arif/anaconda3/lib/python3.6/site-packages/sklearn/metrics/classification.py:1135: UndefinedMetricWarning: Precision is ill-defined and being set to 0.0 in labels with no predicted samples.\n",
      "  'precision', 'predicted', average, warn_for)\n",
      "/home/arif/anaconda3/lib/python3.6/site-packages/sklearn/metrics/classification.py:1135: UndefinedMetricWarning: Precision is ill-defined and being set to 0.0 in labels with no predicted samples.\n",
      "  'precision', 'predicted', average, warn_for)\n"
     ]
    },
    {
     "name": "stdout",
     "output_type": "stream",
     "text": [
      "Best parameters set found on development set:\n",
      "\n",
      "{'C': 10, 'gamma': 0.01, 'kernel': 'rbf'}\n",
      "\n",
      "Grid scores on development set:\n",
      "\n",
      "0.299 (+/-0.003) for {'C': 0.001, 'gamma': 0.01, 'kernel': 'rbf'}\n",
      "0.299 (+/-0.003) for {'C': 0.001, 'gamma': 0.001, 'kernel': 'rbf'}\n",
      "0.299 (+/-0.003) for {'C': 0.001, 'gamma': 0.0001, 'kernel': 'rbf'}\n",
      "0.299 (+/-0.003) for {'C': 0.001, 'gamma': 1e-05, 'kernel': 'rbf'}\n",
      "0.794 (+/-0.053) for {'C': 0.1, 'gamma': 0.01, 'kernel': 'rbf'}\n",
      "0.299 (+/-0.003) for {'C': 0.1, 'gamma': 0.001, 'kernel': 'rbf'}\n",
      "0.299 (+/-0.003) for {'C': 0.1, 'gamma': 0.0001, 'kernel': 'rbf'}\n",
      "0.299 (+/-0.003) for {'C': 0.1, 'gamma': 1e-05, 'kernel': 'rbf'}\n",
      "0.794 (+/-0.053) for {'C': 0.1, 'gamma': 0.01, 'kernel': 'rbf'}\n",
      "0.299 (+/-0.003) for {'C': 0.1, 'gamma': 0.001, 'kernel': 'rbf'}\n",
      "0.299 (+/-0.003) for {'C': 0.1, 'gamma': 0.0001, 'kernel': 'rbf'}\n",
      "0.299 (+/-0.003) for {'C': 0.1, 'gamma': 1e-05, 'kernel': 'rbf'}\n",
      "0.831 (+/-0.065) for {'C': 10, 'gamma': 0.01, 'kernel': 'rbf'}\n",
      "0.812 (+/-0.063) for {'C': 10, 'gamma': 0.001, 'kernel': 'rbf'}\n",
      "0.798 (+/-0.085) for {'C': 10, 'gamma': 0.0001, 'kernel': 'rbf'}\n",
      "0.299 (+/-0.003) for {'C': 10, 'gamma': 1e-05, 'kernel': 'rbf'}\n",
      "0.818 (+/-0.073) for {'C': 25, 'gamma': 0.01, 'kernel': 'rbf'}\n",
      "0.812 (+/-0.063) for {'C': 25, 'gamma': 0.001, 'kernel': 'rbf'}\n",
      "0.794 (+/-0.089) for {'C': 25, 'gamma': 0.0001, 'kernel': 'rbf'}\n",
      "0.299 (+/-0.003) for {'C': 25, 'gamma': 1e-05, 'kernel': 'rbf'}\n",
      "0.811 (+/-0.079) for {'C': 50, 'gamma': 0.01, 'kernel': 'rbf'}\n",
      "0.808 (+/-0.072) for {'C': 50, 'gamma': 0.001, 'kernel': 'rbf'}\n",
      "0.794 (+/-0.095) for {'C': 50, 'gamma': 0.0001, 'kernel': 'rbf'}\n",
      "0.801 (+/-0.059) for {'C': 50, 'gamma': 1e-05, 'kernel': 'rbf'}\n",
      "0.804 (+/-0.076) for {'C': 100, 'gamma': 0.01, 'kernel': 'rbf'}\n",
      "0.808 (+/-0.072) for {'C': 100, 'gamma': 0.001, 'kernel': 'rbf'}\n",
      "0.810 (+/-0.067) for {'C': 100, 'gamma': 0.0001, 'kernel': 'rbf'}\n",
      "0.798 (+/-0.085) for {'C': 100, 'gamma': 1e-05, 'kernel': 'rbf'}\n",
      "0.800 (+/-0.098) for {'C': 1000, 'gamma': 0.01, 'kernel': 'rbf'}\n",
      "0.819 (+/-0.055) for {'C': 1000, 'gamma': 0.001, 'kernel': 'rbf'}\n",
      "0.812 (+/-0.063) for {'C': 1000, 'gamma': 0.0001, 'kernel': 'rbf'}\n",
      "0.810 (+/-0.067) for {'C': 1000, 'gamma': 1e-05, 'kernel': 'rbf'}\n",
      "0.801 (+/-0.059) for {'C': 0.001, 'kernel': 'linear'}\n",
      "0.812 (+/-0.063) for {'C': 0.1, 'kernel': 'linear'}\n",
      "0.812 (+/-0.063) for {'C': 0.1, 'kernel': 'linear'}\n",
      "0.812 (+/-0.063) for {'C': 10, 'kernel': 'linear'}\n",
      "0.812 (+/-0.063) for {'C': 25, 'kernel': 'linear'}\n",
      "0.812 (+/-0.063) for {'C': 50, 'kernel': 'linear'}\n",
      "0.812 (+/-0.063) for {'C': 100, 'kernel': 'linear'}\n",
      "0.812 (+/-0.063) for {'C': 1000, 'kernel': 'linear'}\n",
      "\n",
      "Detailed classification report:\n",
      "\n",
      "The model is trained on the full development set.\n",
      "The scores are computed on the full evaluation set.\n",
      "\n",
      "             precision    recall  f1-score   support\n",
      "\n",
      "          0       0.84      0.88      0.86       283\n",
      "          1       0.77      0.71      0.74       163\n",
      "\n",
      "avg / total       0.81      0.82      0.81       446\n",
      "\n",
      "\n",
      "# Tuning hyper-parameters for recall\n",
      "\n",
      "Best parameters set found on development set:\n",
      "\n",
      "{'C': 10, 'gamma': 0.01, 'kernel': 'rbf'}\n",
      "\n",
      "Grid scores on development set:\n",
      "\n",
      "0.500 (+/-0.000) for {'C': 0.001, 'gamma': 0.01, 'kernel': 'rbf'}\n",
      "0.500 (+/-0.000) for {'C': 0.001, 'gamma': 0.001, 'kernel': 'rbf'}\n",
      "0.500 (+/-0.000) for {'C': 0.001, 'gamma': 0.0001, 'kernel': 'rbf'}\n",
      "0.500 (+/-0.000) for {'C': 0.001, 'gamma': 1e-05, 'kernel': 'rbf'}\n",
      "0.725 (+/-0.056) for {'C': 0.1, 'gamma': 0.01, 'kernel': 'rbf'}\n",
      "0.500 (+/-0.000) for {'C': 0.1, 'gamma': 0.001, 'kernel': 'rbf'}\n",
      "0.500 (+/-0.000) for {'C': 0.1, 'gamma': 0.0001, 'kernel': 'rbf'}\n",
      "0.500 (+/-0.000) for {'C': 0.1, 'gamma': 1e-05, 'kernel': 'rbf'}\n",
      "0.725 (+/-0.056) for {'C': 0.1, 'gamma': 0.01, 'kernel': 'rbf'}\n",
      "0.500 (+/-0.000) for {'C': 0.1, 'gamma': 0.001, 'kernel': 'rbf'}\n",
      "0.500 (+/-0.000) for {'C': 0.1, 'gamma': 0.0001, 'kernel': 'rbf'}\n",
      "0.500 (+/-0.000) for {'C': 0.1, 'gamma': 1e-05, 'kernel': 'rbf'}\n",
      "0.813 (+/-0.066) for {'C': 10, 'gamma': 0.01, 'kernel': 'rbf'}\n",
      "0.785 (+/-0.054) for {'C': 10, 'gamma': 0.001, 'kernel': 'rbf'}\n",
      "0.783 (+/-0.076) for {'C': 10, 'gamma': 0.0001, 'kernel': 'rbf'}\n",
      "0.500 (+/-0.000) for {'C': 10, 'gamma': 1e-05, 'kernel': 'rbf'}\n",
      "0.801 (+/-0.085) for {'C': 25, 'gamma': 0.01, 'kernel': 'rbf'}\n",
      "0.785 (+/-0.054) for {'C': 25, 'gamma': 0.001, 'kernel': 'rbf'}\n",
      "0.777 (+/-0.073) for {'C': 25, 'gamma': 0.0001, 'kernel': 'rbf'}\n",
      "0.500 (+/-0.000) for {'C': 25, 'gamma': 1e-05, 'kernel': 'rbf'}\n",
      "0.799 (+/-0.078) for {'C': 50, 'gamma': 0.01, 'kernel': 'rbf'}\n",
      "0.779 (+/-0.072) for {'C': 50, 'gamma': 0.001, 'kernel': 'rbf'}\n",
      "0.773 (+/-0.072) for {'C': 50, 'gamma': 0.0001, 'kernel': 'rbf'}\n",
      "0.620 (+/-0.066) for {'C': 50, 'gamma': 1e-05, 'kernel': 'rbf'}\n",
      "0.787 (+/-0.075) for {'C': 100, 'gamma': 0.01, 'kernel': 'rbf'}\n",
      "0.779 (+/-0.072) for {'C': 100, 'gamma': 0.001, 'kernel': 'rbf'}\n",
      "0.782 (+/-0.054) for {'C': 100, 'gamma': 0.0001, 'kernel': 'rbf'}\n",
      "0.783 (+/-0.076) for {'C': 100, 'gamma': 1e-05, 'kernel': 'rbf'}\n",
      "0.784 (+/-0.110) for {'C': 1000, 'gamma': 0.01, 'kernel': 'rbf'}\n",
      "0.800 (+/-0.054) for {'C': 1000, 'gamma': 0.001, 'kernel': 'rbf'}\n",
      "0.785 (+/-0.054) for {'C': 1000, 'gamma': 0.0001, 'kernel': 'rbf'}\n",
      "0.782 (+/-0.054) for {'C': 1000, 'gamma': 1e-05, 'kernel': 'rbf'}\n",
      "0.620 (+/-0.066) for {'C': 0.001, 'kernel': 'linear'}\n",
      "0.785 (+/-0.054) for {'C': 0.1, 'kernel': 'linear'}\n",
      "0.785 (+/-0.054) for {'C': 0.1, 'kernel': 'linear'}\n",
      "0.785 (+/-0.054) for {'C': 10, 'kernel': 'linear'}\n",
      "0.785 (+/-0.054) for {'C': 25, 'kernel': 'linear'}\n",
      "0.785 (+/-0.054) for {'C': 50, 'kernel': 'linear'}\n",
      "0.785 (+/-0.054) for {'C': 100, 'kernel': 'linear'}\n",
      "0.785 (+/-0.054) for {'C': 1000, 'kernel': 'linear'}\n",
      "\n",
      "Detailed classification report:\n",
      "\n",
      "The model is trained on the full development set.\n",
      "The scores are computed on the full evaluation set.\n",
      "\n",
      "             precision    recall  f1-score   support\n",
      "\n",
      "          0       0.84      0.88      0.86       283\n",
      "          1       0.77      0.71      0.74       163\n",
      "\n",
      "avg / total       0.81      0.82      0.81       446\n",
      "\n",
      "\n"
     ]
    }
   ],
   "source": [
    "# Set the parameters by cross-validation\n",
    "tuned_parameters = [{'kernel': ['rbf'], 'gamma': [1e-2, 1e-3, 1e-4, 1e-5],\n",
    "                     'C': [0.001, 0.10, 0.1, 10, 25, 50, 100, 1000]},\n",
    "                    {'kernel': ['linear'], 'C': [0.001, 0.10, 0.1, 10, 25, 50, 100, 1000]}]\n",
    "\n",
    "scores = ['precision', 'recall']\n",
    "\n",
    "for score in scores:\n",
    "    print(\"# Tuning hyper-parameters for %s\" % score)\n",
    "    print()\n",
    "\n",
    "    clf_svm_tune_ = GridSearchCV(SVC(), tuned_parameters, cv=5,\n",
    "                       scoring='%s_macro' % score, n_jobs=4)\n",
    "    clf_svm_tune_.fit(X_train, y_train)\n",
    "\n",
    "    print(\"Best parameters set found on development set:\")\n",
    "    print()\n",
    "    print(clf_svm_tune_.best_params_)\n",
    "    print()\n",
    "    print(\"Grid scores on development set:\")\n",
    "    print()\n",
    "    means = clf_svm_tune_.cv_results_['mean_test_score']\n",
    "    stds = clf_svm_tune_.cv_results_['std_test_score']\n",
    "    for mean, std, params in zip(means, stds, clf_svm_tune_.cv_results_['params']):\n",
    "        print(\"%0.3f (+/-%0.03f) for %r\"\n",
    "              % (mean, std * 2, params))\n",
    "    print()\n",
    "\n",
    "    print(\"Detailed classification report:\")\n",
    "    print()\n",
    "    print(\"The model is trained on the full development set.\")\n",
    "    print(\"The scores are computed on the full evaluation set.\")\n",
    "    print()\n",
    "    y_true, y_pred = y_test, clf_svm_tune_.predict(X_test)\n",
    "    print(classification_report(y_true, y_pred))\n",
    "    print()"
   ]
  },
  {
   "cell_type": "code",
   "execution_count": 37,
   "metadata": {},
   "outputs": [
    {
     "data": {
      "text/plain": [
       "SVC(C=10, cache_size=200, class_weight=None, coef0=0.0,\n",
       "  decision_function_shape='ovr', degree=3, gamma=0.01, kernel='rbf',\n",
       "  max_iter=-1, probability=False, random_state=None, shrinking=True,\n",
       "  tol=0.001, verbose=False)"
      ]
     },
     "execution_count": 37,
     "metadata": {},
     "output_type": "execute_result"
    }
   ],
   "source": [
    "clf_svm_tune = svm.SVC(kernel='rbf', C=10, gamma=0.01)\n",
    "clf_svm_tune.fit(X_std,y)"
   ]
  },
  {
   "cell_type": "code",
   "execution_count": 38,
   "metadata": {},
   "outputs": [
    {
     "name": "stdout",
     "output_type": "stream",
     "text": [
      "[ 0.82222222  0.84444444  0.7752809   0.86516854  0.84269663  0.79775281\n",
      "  0.82022472  0.79775281  0.87640449  0.81818182]\n",
      "Accuracy: 0.83 (+/- 0.06)\n"
     ]
    }
   ],
   "source": [
    "scores1 = cross_val_score(clf_svm_tune, X_std, y, cv=10)\n",
    "print(scores1)\n",
    "print(\"Accuracy: %0.2f (+/- %0.2f)\" % (scores1.mean(), scores1.std() * 2))"
   ]
  },
  {
   "cell_type": "code",
   "execution_count": 39,
   "metadata": {},
   "outputs": [
    {
     "name": "stdout",
     "output_type": "stream",
     "text": [
      "Average Accuracy: \t 0.8260\n",
      "Accuracy SD: \t\t 0.0300\n"
     ]
    }
   ],
   "source": [
    "scores1_ = cross_val_score(clf_svm_tune, X_std, y, cv=10, scoring='accuracy')\n",
    "print(\"Average Accuracy: \\t {0:.4f}\".format(np.mean(scores1_)))\n",
    "print(\"Accuracy SD: \\t\\t {0:.4f}\".format(np.std(scores1_)))"
   ]
  },
  {
   "cell_type": "markdown",
   "metadata": {},
   "source": [
    "### 6.2 Gradient Boosting"
   ]
  },
  {
   "cell_type": "code",
   "execution_count": 40,
   "metadata": {},
   "outputs": [
    {
     "data": {
      "text/plain": [
       "GradientBoostingClassifier(criterion='friedman_mse', init=None,\n",
       "              learning_rate=0.1, loss='deviance', max_depth=3,\n",
       "              max_features=None, max_leaf_nodes=None,\n",
       "              min_impurity_decrease=0.0, min_impurity_split=None,\n",
       "              min_samples_leaf=1, min_samples_split=2,\n",
       "              min_weight_fraction_leaf=0.0, n_estimators=100,\n",
       "              presort='auto', random_state=None, subsample=1.0, verbose=0,\n",
       "              warm_start=False)"
      ]
     },
     "execution_count": 40,
     "metadata": {},
     "output_type": "execute_result"
    }
   ],
   "source": [
    "clf_gb = GradientBoostingClassifier()\n",
    "clf_gb.fit(X_std, y)"
   ]
  },
  {
   "cell_type": "code",
   "execution_count": 41,
   "metadata": {},
   "outputs": [
    {
     "name": "stdout",
     "output_type": "stream",
     "text": [
      "[ 0.8         0.82222222  0.75280899  0.88764045  0.91011236  0.85393258\n",
      "  0.83146067  0.79775281  0.85393258  0.84090909]\n",
      "Accuracy: 0.84 (+/- 0.09)\n"
     ]
    }
   ],
   "source": [
    "scores2= cross_val_score(clf_gb, X_std, y, cv=10)\n",
    "print(scores2)\n",
    "print(\"Accuracy: %0.2f (+/- %0.2f)\" % (scores2.mean(), scores2.std() * 2))"
   ]
  },
  {
   "cell_type": "code",
   "execution_count": 42,
   "metadata": {},
   "outputs": [
    {
     "name": "stdout",
     "output_type": "stream",
     "text": [
      "Average Accuracy: \t 0.8351\n",
      "Accuracy SD: \t\t 0.0433\n"
     ]
    }
   ],
   "source": [
    "scores2_ = cross_val_score(clf_gb, X_std, y, cv=10, scoring='accuracy')\n",
    "print(\"Average Accuracy: \\t {0:.4f}\".format(np.mean(scores2_)))\n",
    "print(\"Accuracy SD: \\t\\t {0:.4f}\".format(np.std(scores2_)))"
   ]
  },
  {
   "cell_type": "markdown",
   "metadata": {},
   "source": [
    "**Tune Hyperparams**"
   ]
  },
  {
   "cell_type": "markdown",
   "metadata": {},
   "source": [
    "**Tune 1st**"
   ]
  },
  {
   "cell_type": "code",
   "execution_count": 43,
   "metadata": {},
   "outputs": [
    {
     "data": {
      "text/plain": [
       "GradientBoostingClassifier(criterion='friedman_mse', init=None,\n",
       "              learning_rate=0.01, loss='deviance', max_depth=4,\n",
       "              max_features=None, max_leaf_nodes=None,\n",
       "              min_impurity_decrease=0.0, min_impurity_split=None,\n",
       "              min_samples_leaf=1, min_samples_split=2,\n",
       "              min_weight_fraction_leaf=0.0, n_estimators=1000,\n",
       "              presort='auto', random_state=None, subsample=1.0, verbose=0,\n",
       "              warm_start=False)"
      ]
     },
     "execution_count": 43,
     "metadata": {},
     "output_type": "execute_result"
    }
   ],
   "source": [
    "clf_gb_tune2 = GradientBoostingClassifier(n_estimators =  1000, max_depth = 4, min_samples_split= 2,\n",
    "          learning_rate=0.01)\n",
    "clf_gb_tune2.fit(X_std, y)"
   ]
  },
  {
   "cell_type": "code",
   "execution_count": 44,
   "metadata": {},
   "outputs": [
    {
     "name": "stdout",
     "output_type": "stream",
     "text": [
      "[ 0.81111111  0.83333333  0.75280899  0.88764045  0.91011236  0.84269663\n",
      "  0.87640449  0.78651685  0.8988764   0.85227273]\n",
      "Accuracy: 0.85 (+/- 0.10)\n"
     ]
    }
   ],
   "source": [
    "scores2_tune2= cross_val_score(clf_gb_tune2, X_std, y, cv=10)\n",
    "print(scores2_tune2)\n",
    "print(\"Accuracy: %0.2f (+/- %0.2f)\" % (scores2_tune2.mean(), scores2_tune2.std() * 2))"
   ]
  },
  {
   "cell_type": "code",
   "execution_count": 45,
   "metadata": {},
   "outputs": [
    {
     "name": "stdout",
     "output_type": "stream",
     "text": [
      "Average Accuracy: \t 0.8452\n",
      "Accuracy SD: \t\t 0.0482\n"
     ]
    }
   ],
   "source": [
    "scores2_tune2_ = cross_val_score(clf_gb_tune2, X_std, y, cv=10, scoring='accuracy')\n",
    "print(\"Average Accuracy: \\t {0:.4f}\".format(np.mean(scores2_tune2_)))\n",
    "print(\"Accuracy SD: \\t\\t {0:.4f}\".format(np.std(scores2_tune2_)))"
   ]
  },
  {
   "cell_type": "markdown",
   "metadata": {},
   "source": [
    "### 6.3 Random Forest"
   ]
  },
  {
   "cell_type": "code",
   "execution_count": 46,
   "metadata": {},
   "outputs": [
    {
     "data": {
      "text/plain": [
       "RandomForestClassifier(bootstrap=True, class_weight=None, criterion='gini',\n",
       "            max_depth=None, max_features='auto', max_leaf_nodes=None,\n",
       "            min_impurity_decrease=0.0, min_impurity_split=None,\n",
       "            min_samples_leaf=10, min_samples_split=2,\n",
       "            min_weight_fraction_leaf=0.0, n_estimators=10, n_jobs=1,\n",
       "            oob_score=False, random_state=None, verbose=0,\n",
       "            warm_start=False)"
      ]
     },
     "execution_count": 46,
     "metadata": {},
     "output_type": "execute_result"
    }
   ],
   "source": [
    "clf_rf = RandomForestClassifier(min_samples_leaf = 10, n_estimators = 10)\n",
    "clf_rf.fit(X_std, y)"
   ]
  },
  {
   "cell_type": "code",
   "execution_count": 47,
   "metadata": {},
   "outputs": [
    {
     "name": "stdout",
     "output_type": "stream",
     "text": [
      "[ 0.83333333  0.82222222  0.7752809   0.84269663  0.84269663  0.80898876\n",
      "  0.82022472  0.76404494  0.83146067  0.80681818]\n",
      "Accuracy: 0.81 (+/- 0.05)\n"
     ]
    }
   ],
   "source": [
    "scores3= cross_val_score(clf_rf, X_std, y, cv=10)\n",
    "print(scores3)\n",
    "print(\"Accuracy: %0.2f (+/- %0.2f)\" % (scores3.mean(), scores3.std() * 2))"
   ]
  },
  {
   "cell_type": "code",
   "execution_count": 48,
   "metadata": {},
   "outputs": [
    {
     "name": "stdout",
     "output_type": "stream",
     "text": [
      "Average Accuracy: \t 0.8138\n",
      "Accuracy SD: \t\t 0.0376\n"
     ]
    }
   ],
   "source": [
    "scores3_ = cross_val_score(clf_rf, X_std, y, cv=10, scoring='accuracy')\n",
    "print(\"Average Accuracy: \\t {0:.4f}\".format(np.mean(scores3_)))\n",
    "print(\"Accuracy SD: \\t\\t {0:.4f}\".format(np.std(scores3_)))"
   ]
  },
  {
   "cell_type": "markdown",
   "metadata": {},
   "source": [
    "###  6.4 Logistic Regression"
   ]
  },
  {
   "cell_type": "code",
   "execution_count": 49,
   "metadata": {},
   "outputs": [
    {
     "data": {
      "text/plain": [
       "LogisticRegression(C=1.0, class_weight=None, dual=False, fit_intercept=True,\n",
       "          intercept_scaling=1, max_iter=100, multi_class='ovr', n_jobs=1,\n",
       "          penalty='l2', random_state=None, solver='liblinear', tol=0.0001,\n",
       "          verbose=0, warm_start=False)"
      ]
     },
     "execution_count": 49,
     "metadata": {},
     "output_type": "execute_result"
    }
   ],
   "source": [
    "clf_lr = LogisticRegression()\n",
    "clf_lr.fit(X_std, y)"
   ]
  },
  {
   "cell_type": "code",
   "execution_count": 50,
   "metadata": {},
   "outputs": [
    {
     "name": "stdout",
     "output_type": "stream",
     "text": [
      "[ 0.81111111  0.83333333  0.79775281  0.86516854  0.82022472  0.7752809\n",
      "  0.79775281  0.80898876  0.83146067  0.84090909]\n",
      "Accuracy: 0.82 (+/- 0.05)\n"
     ]
    }
   ],
   "source": [
    "scores4= cross_val_score(clf_lr, X_std, y, cv=10)\n",
    "print(scores4)\n",
    "print(\"Accuracy: %0.2f (+/- %0.2f)\" % (scores4.mean(), scores4.std() * 2))"
   ]
  },
  {
   "cell_type": "code",
   "execution_count": 51,
   "metadata": {},
   "outputs": [
    {
     "name": "stdout",
     "output_type": "stream",
     "text": [
      "Average Accuracy: \t 0.8182\n",
      "Accuracy SD: \t\t 0.0244\n"
     ]
    }
   ],
   "source": [
    "scores4_ = cross_val_score(clf_lr, X_std, y, cv=10, scoring='accuracy')\n",
    "print(\"Average Accuracy: \\t {0:.4f}\".format(np.mean(scores4_)))\n",
    "print(\"Accuracy SD: \\t\\t {0:.4f}\".format(np.std(scores4_)))"
   ]
  },
  {
   "cell_type": "markdown",
   "metadata": {},
   "source": [
    "### 6.5 KNN Classifier"
   ]
  },
  {
   "cell_type": "code",
   "execution_count": 52,
   "metadata": {},
   "outputs": [
    {
     "data": {
      "text/plain": [
       "KNeighborsClassifier(algorithm='auto', leaf_size=30, metric='minkowski',\n",
       "           metric_params=None, n_jobs=1, n_neighbors=10, p=2,\n",
       "           weights='uniform')"
      ]
     },
     "execution_count": 52,
     "metadata": {},
     "output_type": "execute_result"
    }
   ],
   "source": [
    "clf_knn = KNeighborsClassifier(n_neighbors = 10)\n",
    "clf_knn.fit(X_std, y)"
   ]
  },
  {
   "cell_type": "code",
   "execution_count": 53,
   "metadata": {},
   "outputs": [
    {
     "name": "stdout",
     "output_type": "stream",
     "text": [
      "[ 0.81111111  0.83333333  0.79775281  0.86516854  0.82022472  0.7752809\n",
      "  0.79775281  0.80898876  0.83146067  0.84090909]\n",
      "Accuracy: 0.82 (+/- 0.05)\n"
     ]
    }
   ],
   "source": [
    "scores5= cross_val_score(clf_lr, X_std, y, cv=10)\n",
    "print(scores5)\n",
    "print(\"Accuracy: %0.2f (+/- %0.2f)\" % (scores5.mean(), scores5.std() * 2))"
   ]
  },
  {
   "cell_type": "code",
   "execution_count": 54,
   "metadata": {},
   "outputs": [
    {
     "name": "stdout",
     "output_type": "stream",
     "text": [
      "Average Accuracy: \t 0.8014\n",
      "Accuracy SD: \t\t 0.0337\n"
     ]
    }
   ],
   "source": [
    "scores5_ = cross_val_score(clf_knn, X_std, y, cv=10, scoring='accuracy')\n",
    "print(\"Average Accuracy: \\t {0:.4f}\".format(np.mean(scores5_)))\n",
    "print(\"Accuracy SD: \\t\\t {0:.4f}\".format(np.std(scores5_)))"
   ]
  },
  {
   "cell_type": "markdown",
   "metadata": {},
   "source": [
    "### 6.6 AdaBoost Classifier"
   ]
  },
  {
   "cell_type": "code",
   "execution_count": 55,
   "metadata": {},
   "outputs": [
    {
     "data": {
      "text/plain": [
       "AdaBoostClassifier(algorithm='SAMME.R', base_estimator=None,\n",
       "          learning_rate=1.0, n_estimators=50, random_state=None)"
      ]
     },
     "execution_count": 55,
     "metadata": {},
     "output_type": "execute_result"
    }
   ],
   "source": [
    "clf_ada = AdaBoostClassifier()\n",
    "clf_ada.fit(X_std, y)"
   ]
  },
  {
   "cell_type": "code",
   "execution_count": 56,
   "metadata": {},
   "outputs": [
    {
     "name": "stdout",
     "output_type": "stream",
     "text": [
      "[ 0.77777778  0.81111111  0.78651685  0.82022472  0.78651685  0.78651685\n",
      "  0.80898876  0.83146067  0.82022472  0.84090909]\n",
      "Accuracy: 0.81 (+/- 0.04)\n"
     ]
    }
   ],
   "source": [
    "scores6= cross_val_score(clf_ada, X_std, y, cv=10)\n",
    "print(scores6)\n",
    "print(\"Accuracy: %0.2f (+/- %0.2f)\" % (scores6.mean(), scores6.std() * 2))"
   ]
  },
  {
   "cell_type": "code",
   "execution_count": 57,
   "metadata": {},
   "outputs": [
    {
     "name": "stdout",
     "output_type": "stream",
     "text": [
      "Average Accuracy: \t 0.8070\n",
      "Accuracy SD: \t\t 0.0206\n"
     ]
    }
   ],
   "source": [
    "scores6_ = cross_val_score(clf_ada, X_std, y, cv=10, scoring='accuracy')\n",
    "print(\"Average Accuracy: \\t {0:.4f}\".format(np.mean(scores6_)))\n",
    "print(\"Accuracy SD: \\t\\t {0:.4f}\".format(np.std(scores6_)))"
   ]
  },
  {
   "cell_type": "markdown",
   "metadata": {},
   "source": [
    "### 6.7 XGBoost"
   ]
  },
  {
   "cell_type": "code",
   "execution_count": 58,
   "metadata": {},
   "outputs": [
    {
     "data": {
      "text/plain": [
       "XGBClassifier(base_score=0.5, booster='gbtree', colsample_bylevel=1,\n",
       "       colsample_bytree=1, gamma=0, learning_rate=0.1, max_delta_step=0,\n",
       "       max_depth=3, min_child_weight=1, missing=None, n_estimators=100,\n",
       "       n_jobs=1, nthread=None, objective='binary:logistic',\n",
       "       random_state=42, reg_alpha=0, reg_lambda=1, scale_pos_weight=1,\n",
       "       seed=None, silent=True, subsample=1)"
      ]
     },
     "execution_count": 58,
     "metadata": {},
     "output_type": "execute_result"
    }
   ],
   "source": [
    "clf_xgb = xgb.XGBClassifier(random_state = 42)\n",
    "clf_xgb.fit(X_std, y)"
   ]
  },
  {
   "cell_type": "code",
   "execution_count": 59,
   "metadata": {},
   "outputs": [
    {
     "name": "stdout",
     "output_type": "stream",
     "text": [
      "[ 0.78888889  0.77777778  0.76404494  0.88764045  0.88764045  0.82022472\n",
      "  0.85393258  0.78651685  0.84269663  0.85227273]\n",
      "Accuracy: 0.83 (+/- 0.09)\n"
     ]
    }
   ],
   "source": [
    "scores7= cross_val_score(clf_xgb, X_std, y, cv=10)\n",
    "print(scores7)\n",
    "print(\"Accuracy: %0.2f (+/- %0.2f)\" % (scores7.mean(), scores7.std() * 2))"
   ]
  },
  {
   "cell_type": "code",
   "execution_count": 60,
   "metadata": {},
   "outputs": [
    {
     "name": "stdout",
     "output_type": "stream",
     "text": [
      "Average Accuracy: \t 0.8262\n",
      "Accuracy SD: \t\t 0.0430\n"
     ]
    }
   ],
   "source": [
    "scores7_ = cross_val_score(clf_xgb, X_std, y, cv=10, scoring='accuracy')\n",
    "print(\"Average Accuracy: \\t {0:.4f}\".format(np.mean(scores7_)))\n",
    "print(\"Accuracy SD: \\t\\t {0:.4f}\".format(np.std(scores7_)))"
   ]
  },
  {
   "cell_type": "markdown",
   "metadata": {},
   "source": [
    "**Tune Hyperparams**"
   ]
  },
  {
   "cell_type": "code",
   "execution_count": 61,
   "metadata": {},
   "outputs": [
    {
     "name": "stdout",
     "output_type": "stream",
     "text": [
      "Fitting 3 folds for each of 16 candidates, totalling 48 fits\n"
     ]
    },
    {
     "name": "stderr",
     "output_type": "stream",
     "text": [
      "[Parallel(n_jobs=4)]: Done  48 out of  48 | elapsed:   10.1s finished\n"
     ]
    },
    {
     "data": {
      "text/plain": [
       "GridSearchCV(cv=3, error_score='raise',\n",
       "       estimator=XGBClassifier(base_score=0.5, booster='gbtree', colsample_bylevel=1,\n",
       "       colsample_bytree=1, gamma=0, learning_rate=0.1, max_delta_step=0,\n",
       "       max_depth=3, min_child_weight=1, missing=None, n_estimators=100,\n",
       "       n_jobs=1, nthread=None, objective='binary:logistic',\n",
       "       random_state=42, reg_alpha=0, reg_lambda=1, scale_pos_weight=1,\n",
       "       seed=None, silent=True, subsample=1),\n",
       "       fit_params=None, iid=True, n_jobs=4,\n",
       "       param_grid={'max_depth': (5, 10, 25, 50), 'n_estimators': (50, 200, 500, 1000)},\n",
       "       pre_dispatch='2*n_jobs', refit=True, return_train_score=True,\n",
       "       scoring='accuracy', verbose=1)"
      ]
     },
     "execution_count": 61,
     "metadata": {},
     "output_type": "execute_result"
    }
   ],
   "source": [
    "params = {'max_depth':(5, 10, 25, 50), \n",
    "          'n_estimators':(50, 200, 500, 1000)} \n",
    "\n",
    "clf_xgb_tune_ = GridSearchCV(clf_xgb, params, n_jobs=4,\n",
    "                            cv=3, verbose=1, scoring='accuracy')\n",
    "clf_xgb_tune_.fit(X_std, y)"
   ]
  },
  {
   "cell_type": "code",
   "execution_count": 62,
   "metadata": {},
   "outputs": [
    {
     "data": {
      "text/plain": [
       "<bound method XGBModel.get_params of XGBClassifier(base_score=0.5, booster='gbtree', colsample_bylevel=1,\n",
       "       colsample_bytree=1, gamma=0, learning_rate=0.1, max_delta_step=0,\n",
       "       max_depth=5, min_child_weight=1, missing=None, n_estimators=50,\n",
       "       n_jobs=1, nthread=None, objective='binary:logistic',\n",
       "       random_state=42, reg_alpha=0, reg_lambda=1, scale_pos_weight=1,\n",
       "       seed=None, silent=True, subsample=1)>"
      ]
     },
     "execution_count": 62,
     "metadata": {},
     "output_type": "execute_result"
    }
   ],
   "source": [
    "clf_xgb_tune_.best_estimator_.get_params"
   ]
  },
  {
   "cell_type": "code",
   "execution_count": 63,
   "metadata": {},
   "outputs": [
    {
     "data": {
      "text/plain": [
       "XGBClassifier(base_score=0.5, booster='gbtree', colsample_bylevel=1,\n",
       "       colsample_bytree=1, gamma=0, learning_rate=0.1, max_delta_step=0,\n",
       "       max_depth=5, min_child_weight=1, missing=None, n_estimators=50,\n",
       "       n_jobs=4, nthread=None, objective='binary:logistic',\n",
       "       random_state=42, reg_alpha=0, reg_lambda=1, scale_pos_weight=1,\n",
       "       seed=None, silent=True, subsample=1)"
      ]
     },
     "execution_count": 63,
     "metadata": {},
     "output_type": "execute_result"
    }
   ],
   "source": [
    "clf_xgb_tune = xgb.XGBClassifier(random_state = 42, learning_rate = 0.1, max_depth = 5, n_estimators=50, n_jobs=4)\n",
    "clf_xgb_tune.fit(X_std, y)"
   ]
  },
  {
   "cell_type": "code",
   "execution_count": 64,
   "metadata": {},
   "outputs": [
    {
     "name": "stdout",
     "output_type": "stream",
     "text": [
      "[ 0.78888889  0.81111111  0.76404494  0.87640449  0.88764045  0.84269663\n",
      "  0.87640449  0.78651685  0.85393258  0.875     ]\n",
      "Accuracy: 0.84 (+/- 0.09)\n"
     ]
    }
   ],
   "source": [
    "scores7_tune= cross_val_score(clf_xgb_tune, X_std, y, cv=10)\n",
    "print(scores7_tune)\n",
    "print(\"Accuracy: %0.2f (+/- %0.2f)\" % (scores7_tune.mean(), scores7_tune.std() * 2))"
   ]
  },
  {
   "cell_type": "code",
   "execution_count": 65,
   "metadata": {},
   "outputs": [
    {
     "name": "stdout",
     "output_type": "stream",
     "text": [
      "Average Accuracy: \t 0.8363\n",
      "Accuracy SD: \t\t 0.0428\n"
     ]
    }
   ],
   "source": [
    "scores7_tune_ = cross_val_score(clf_xgb_tune, X_std, y, cv=10, scoring='accuracy')\n",
    "print(\"Average Accuracy: \\t {0:.4f}\".format(np.mean(scores7_tune_)))\n",
    "print(\"Accuracy SD: \\t\\t {0:.4f}\".format(np.std(scores7_tune_)))"
   ]
  },
  {
   "cell_type": "markdown",
   "metadata": {},
   "source": [
    "### 6.8 Artificial Neural Network (ANN)"
   ]
  },
  {
   "cell_type": "code",
   "execution_count": 66,
   "metadata": {},
   "outputs": [
    {
     "name": "stdout",
     "output_type": "stream",
     "text": [
      "Epoch 1/200\n",
      "891/891 [==============================] - 0s - loss: 0.6915 - acc: 0.6105     \n",
      "Epoch 2/200\n",
      "891/891 [==============================] - 0s - loss: 0.6878 - acc: 0.6162     \n",
      "Epoch 3/200\n",
      "891/891 [==============================] - 0s - loss: 0.6778 - acc: 0.6162     \n",
      "Epoch 4/200\n",
      "891/891 [==============================] - 0s - loss: 0.6408 - acc: 0.7407     \n",
      "Epoch 5/200\n",
      "891/891 [==============================] - 0s - loss: 0.5521 - acc: 0.8081     \n",
      "Epoch 6/200\n",
      "891/891 [==============================] - 0s - loss: 0.4658 - acc: 0.8114     \n",
      "Epoch 7/200\n",
      "891/891 [==============================] - 0s - loss: 0.4389 - acc: 0.8137     \n",
      "Epoch 8/200\n",
      "891/891 [==============================] - 0s - loss: 0.4291 - acc: 0.8114     \n",
      "Epoch 9/200\n",
      "891/891 [==============================] - 0s - loss: 0.4256 - acc: 0.8171     \n",
      "Epoch 10/200\n",
      "891/891 [==============================] - 0s - loss: 0.4218 - acc: 0.8182     \n",
      "Epoch 11/200\n",
      "891/891 [==============================] - 0s - loss: 0.4184 - acc: 0.8215     \n",
      "Epoch 12/200\n",
      "891/891 [==============================] - 0s - loss: 0.4159 - acc: 0.8204     \n",
      "Epoch 13/200\n",
      "891/891 [==============================] - 0s - loss: 0.4128 - acc: 0.8272     \n",
      "Epoch 14/200\n",
      "891/891 [==============================] - 0s - loss: 0.4118 - acc: 0.8215     \n",
      "Epoch 15/200\n",
      "891/891 [==============================] - 0s - loss: 0.4110 - acc: 0.8238     \n",
      "Epoch 16/200\n",
      "891/891 [==============================] - 0s - loss: 0.4087 - acc: 0.8215     \n",
      "Epoch 17/200\n",
      "891/891 [==============================] - 0s - loss: 0.4083 - acc: 0.8238     \n",
      "Epoch 18/200\n",
      "891/891 [==============================] - 0s - loss: 0.4076 - acc: 0.8193     \n",
      "Epoch 19/200\n",
      "891/891 [==============================] - 0s - loss: 0.4062 - acc: 0.8204     \n",
      "Epoch 20/200\n",
      "891/891 [==============================] - 0s - loss: 0.4056 - acc: 0.8204     \n",
      "Epoch 21/200\n",
      "891/891 [==============================] - 0s - loss: 0.4056 - acc: 0.8227     \n",
      "Epoch 22/200\n",
      "891/891 [==============================] - 0s - loss: 0.4046 - acc: 0.8215     \n",
      "Epoch 23/200\n",
      "891/891 [==============================] - 0s - loss: 0.4040 - acc: 0.8204     \n",
      "Epoch 24/200\n",
      "891/891 [==============================] - 0s - loss: 0.4036 - acc: 0.8260     \n",
      "Epoch 25/200\n",
      "891/891 [==============================] - 0s - loss: 0.4031 - acc: 0.8260     \n",
      "Epoch 26/200\n",
      "891/891 [==============================] - 0s - loss: 0.4039 - acc: 0.8238     \n",
      "Epoch 27/200\n",
      "891/891 [==============================] - 0s - loss: 0.4027 - acc: 0.8227     \n",
      "Epoch 28/200\n",
      "891/891 [==============================] - 0s - loss: 0.4020 - acc: 0.8283     \n",
      "Epoch 29/200\n",
      "891/891 [==============================] - 0s - loss: 0.4019 - acc: 0.8249     \n",
      "Epoch 30/200\n",
      "891/891 [==============================] - 0s - loss: 0.4005 - acc: 0.8272     \n",
      "Epoch 31/200\n",
      "891/891 [==============================] - 0s - loss: 0.4004 - acc: 0.8283     \n",
      "Epoch 32/200\n",
      "891/891 [==============================] - 0s - loss: 0.4002 - acc: 0.8283     \n",
      "Epoch 33/200\n",
      "891/891 [==============================] - 0s - loss: 0.3993 - acc: 0.8294     \n",
      "Epoch 34/200\n",
      "891/891 [==============================] - 0s - loss: 0.4003 - acc: 0.8260     \n",
      "Epoch 35/200\n",
      "891/891 [==============================] - 0s - loss: 0.3984 - acc: 0.8316     \n",
      "Epoch 36/200\n",
      "891/891 [==============================] - 0s - loss: 0.3996 - acc: 0.8294     \n",
      "Epoch 37/200\n",
      "891/891 [==============================] - 0s - loss: 0.3987 - acc: 0.8294     \n",
      "Epoch 38/200\n",
      "891/891 [==============================] - 0s - loss: 0.3976 - acc: 0.8294     \n",
      "Epoch 39/200\n",
      "891/891 [==============================] - 0s - loss: 0.3969 - acc: 0.8316     \n",
      "Epoch 40/200\n",
      "891/891 [==============================] - 0s - loss: 0.3977 - acc: 0.8328     \n",
      "Epoch 41/200\n",
      "891/891 [==============================] - 0s - loss: 0.3963 - acc: 0.8328     \n",
      "Epoch 42/200\n",
      "891/891 [==============================] - 0s - loss: 0.3971 - acc: 0.8294     \n",
      "Epoch 43/200\n",
      "891/891 [==============================] - 0s - loss: 0.3957 - acc: 0.8305     \n",
      "Epoch 44/200\n",
      "891/891 [==============================] - 0s - loss: 0.3953 - acc: 0.8305     \n",
      "Epoch 45/200\n",
      "891/891 [==============================] - 0s - loss: 0.3954 - acc: 0.8350     \n",
      "Epoch 46/200\n",
      "891/891 [==============================] - 0s - loss: 0.3948 - acc: 0.8328     \n",
      "Epoch 47/200\n",
      "891/891 [==============================] - 0s - loss: 0.3950 - acc: 0.8328     \n",
      "Epoch 48/200\n",
      "891/891 [==============================] - 0s - loss: 0.3952 - acc: 0.8339     \n",
      "Epoch 49/200\n",
      "891/891 [==============================] - 0s - loss: 0.3941 - acc: 0.8339     \n",
      "Epoch 50/200\n",
      "891/891 [==============================] - 0s - loss: 0.3936 - acc: 0.8339     \n",
      "Epoch 51/200\n",
      "891/891 [==============================] - 0s - loss: 0.3934 - acc: 0.8406     \n",
      "Epoch 52/200\n",
      "891/891 [==============================] - 0s - loss: 0.3935 - acc: 0.8350     \n",
      "Epoch 53/200\n",
      "891/891 [==============================] - 0s - loss: 0.3929 - acc: 0.8373     \n",
      "Epoch 54/200\n",
      "891/891 [==============================] - 0s - loss: 0.3924 - acc: 0.8373     \n",
      "Epoch 55/200\n",
      "891/891 [==============================] - 0s - loss: 0.3927 - acc: 0.8395     \n",
      "Epoch 56/200\n",
      "891/891 [==============================] - 0s - loss: 0.3911 - acc: 0.8406     \n",
      "Epoch 57/200\n",
      "891/891 [==============================] - 0s - loss: 0.3911 - acc: 0.8384     \n",
      "Epoch 58/200\n",
      "891/891 [==============================] - 0s - loss: 0.3908 - acc: 0.8395     \n",
      "Epoch 59/200\n",
      "891/891 [==============================] - 0s - loss: 0.3908 - acc: 0.8406     \n",
      "Epoch 60/200\n",
      "891/891 [==============================] - 0s - loss: 0.3906 - acc: 0.8395     \n",
      "Epoch 61/200\n",
      "891/891 [==============================] - 0s - loss: 0.3898 - acc: 0.8395     \n",
      "Epoch 62/200\n",
      "891/891 [==============================] - 0s - loss: 0.3905 - acc: 0.8373     \n",
      "Epoch 63/200\n",
      "891/891 [==============================] - 0s - loss: 0.3908 - acc: 0.8384     \n",
      "Epoch 64/200\n",
      "891/891 [==============================] - 0s - loss: 0.3888 - acc: 0.8384     \n",
      "Epoch 65/200\n",
      "891/891 [==============================] - 0s - loss: 0.3881 - acc: 0.8429     \n",
      "Epoch 66/200\n",
      "891/891 [==============================] - 0s - loss: 0.3884 - acc: 0.8406     \n",
      "Epoch 67/200\n",
      "891/891 [==============================] - 0s - loss: 0.3883 - acc: 0.8395     \n",
      "Epoch 68/200\n",
      "891/891 [==============================] - 0s - loss: 0.3881 - acc: 0.8395     \n",
      "Epoch 69/200\n",
      "891/891 [==============================] - ETA: 0s - loss: 0.3861 - acc: 0.840 - 0s - loss: 0.3877 - acc: 0.8395     \n",
      "Epoch 70/200\n",
      "891/891 [==============================] - 0s - loss: 0.3863 - acc: 0.8418     \n",
      "Epoch 71/200\n",
      "891/891 [==============================] - 0s - loss: 0.3872 - acc: 0.8384     \n",
      "Epoch 72/200\n",
      "891/891 [==============================] - 0s - loss: 0.3869 - acc: 0.8406     \n",
      "Epoch 73/200\n",
      "891/891 [==============================] - 0s - loss: 0.3867 - acc: 0.8373     \n",
      "Epoch 74/200\n",
      "891/891 [==============================] - 0s - loss: 0.3857 - acc: 0.8406     \n",
      "Epoch 75/200\n",
      "891/891 [==============================] - 0s - loss: 0.3853 - acc: 0.8418     \n",
      "Epoch 76/200\n",
      "891/891 [==============================] - 0s - loss: 0.3851 - acc: 0.8440     \n",
      "Epoch 77/200\n",
      "891/891 [==============================] - 0s - loss: 0.3845 - acc: 0.8418     \n",
      "Epoch 78/200\n",
      "891/891 [==============================] - 0s - loss: 0.3851 - acc: 0.8406     \n",
      "Epoch 79/200\n",
      "891/891 [==============================] - 0s - loss: 0.3846 - acc: 0.8418     \n",
      "Epoch 80/200\n",
      "891/891 [==============================] - 0s - loss: 0.3842 - acc: 0.8451     \n",
      "Epoch 81/200\n",
      "891/891 [==============================] - 0s - loss: 0.3837 - acc: 0.8418     \n",
      "Epoch 82/200\n",
      "891/891 [==============================] - 0s - loss: 0.3839 - acc: 0.8440     \n",
      "Epoch 83/200\n",
      "891/891 [==============================] - 0s - loss: 0.3839 - acc: 0.8440     \n",
      "Epoch 84/200\n",
      "891/891 [==============================] - 0s - loss: 0.3834 - acc: 0.8418     \n",
      "Epoch 85/200\n",
      "891/891 [==============================] - 0s - loss: 0.3842 - acc: 0.8474     \n",
      "Epoch 86/200\n",
      "891/891 [==============================] - 0s - loss: 0.3824 - acc: 0.8451     \n",
      "Epoch 87/200\n",
      "891/891 [==============================] - 0s - loss: 0.3828 - acc: 0.8462     \n",
      "Epoch 88/200\n"
     ]
    },
    {
     "name": "stdout",
     "output_type": "stream",
     "text": [
      "891/891 [==============================] - 0s - loss: 0.3823 - acc: 0.8474     \n",
      "Epoch 89/200\n",
      "891/891 [==============================] - 0s - loss: 0.3816 - acc: 0.8462     \n",
      "Epoch 90/200\n",
      "891/891 [==============================] - 0s - loss: 0.3816 - acc: 0.8462     \n",
      "Epoch 91/200\n",
      "891/891 [==============================] - 0s - loss: 0.3814 - acc: 0.8462     \n",
      "Epoch 92/200\n",
      "891/891 [==============================] - 0s - loss: 0.3810 - acc: 0.8485     \n",
      "Epoch 93/200\n",
      "891/891 [==============================] - 0s - loss: 0.3816 - acc: 0.8485     \n",
      "Epoch 94/200\n",
      "891/891 [==============================] - 0s - loss: 0.3824 - acc: 0.8485     \n",
      "Epoch 95/200\n",
      "891/891 [==============================] - 0s - loss: 0.3806 - acc: 0.8507     \n",
      "Epoch 96/200\n",
      "891/891 [==============================] - 0s - loss: 0.3808 - acc: 0.8485     \n",
      "Epoch 97/200\n",
      "891/891 [==============================] - 0s - loss: 0.3798 - acc: 0.8462     \n",
      "Epoch 98/200\n",
      "891/891 [==============================] - 0s - loss: 0.3802 - acc: 0.8462     \n",
      "Epoch 99/200\n",
      "891/891 [==============================] - 0s - loss: 0.3806 - acc: 0.8474     \n",
      "Epoch 100/200\n",
      "891/891 [==============================] - 0s - loss: 0.3794 - acc: 0.8474     \n",
      "Epoch 101/200\n",
      "891/891 [==============================] - 0s - loss: 0.3792 - acc: 0.8496     \n",
      "Epoch 102/200\n",
      "891/891 [==============================] - 0s - loss: 0.3793 - acc: 0.8496     \n",
      "Epoch 103/200\n",
      "891/891 [==============================] - 0s - loss: 0.3794 - acc: 0.8485     \n",
      "Epoch 104/200\n",
      "891/891 [==============================] - 0s - loss: 0.3787 - acc: 0.8485     \n",
      "Epoch 105/200\n",
      "891/891 [==============================] - 0s - loss: 0.3787 - acc: 0.8519     \n",
      "Epoch 106/200\n",
      "891/891 [==============================] - 0s - loss: 0.3774 - acc: 0.8496     \n",
      "Epoch 107/200\n",
      "891/891 [==============================] - 0s - loss: 0.3778 - acc: 0.8519     \n",
      "Epoch 108/200\n",
      "891/891 [==============================] - 0s - loss: 0.3777 - acc: 0.8519     \n",
      "Epoch 109/200\n",
      "891/891 [==============================] - 0s - loss: 0.3770 - acc: 0.8530     \n",
      "Epoch 110/200\n",
      "891/891 [==============================] - 0s - loss: 0.3773 - acc: 0.8519     \n",
      "Epoch 111/200\n",
      "891/891 [==============================] - 0s - loss: 0.3773 - acc: 0.8507     \n",
      "Epoch 112/200\n",
      "891/891 [==============================] - 0s - loss: 0.3764 - acc: 0.8474     \n",
      "Epoch 113/200\n",
      "891/891 [==============================] - 0s - loss: 0.3774 - acc: 0.8519     \n",
      "Epoch 114/200\n",
      "891/891 [==============================] - 0s - loss: 0.3761 - acc: 0.8496     \n",
      "Epoch 115/200\n",
      "891/891 [==============================] - 0s - loss: 0.3758 - acc: 0.8507     \n",
      "Epoch 116/200\n",
      "891/891 [==============================] - 0s - loss: 0.3767 - acc: 0.8496     \n",
      "Epoch 117/200\n",
      "891/891 [==============================] - 0s - loss: 0.3760 - acc: 0.8541     \n",
      "Epoch 118/200\n",
      "891/891 [==============================] - 0s - loss: 0.3749 - acc: 0.8541     \n",
      "Epoch 119/200\n",
      "891/891 [==============================] - 0s - loss: 0.3752 - acc: 0.8507     \n",
      "Epoch 120/200\n",
      "891/891 [==============================] - 0s - loss: 0.3741 - acc: 0.8530     \n",
      "Epoch 121/200\n",
      "891/891 [==============================] - 0s - loss: 0.3739 - acc: 0.8530     \n",
      "Epoch 122/200\n",
      "891/891 [==============================] - 0s - loss: 0.3737 - acc: 0.8507     \n",
      "Epoch 123/200\n",
      "891/891 [==============================] - 0s - loss: 0.3734 - acc: 0.8541     \n",
      "Epoch 124/200\n",
      "891/891 [==============================] - 0s - loss: 0.3734 - acc: 0.8496     \n",
      "Epoch 125/200\n",
      "891/891 [==============================] - 0s - loss: 0.3731 - acc: 0.8552     \n",
      "Epoch 126/200\n",
      "891/891 [==============================] - 0s - loss: 0.3726 - acc: 0.8541     \n",
      "Epoch 127/200\n",
      "891/891 [==============================] - 0s - loss: 0.3735 - acc: 0.8530     \n",
      "Epoch 128/200\n",
      "891/891 [==============================] - 0s - loss: 0.3723 - acc: 0.8519     \n",
      "Epoch 129/200\n",
      "891/891 [==============================] - 0s - loss: 0.3722 - acc: 0.8552     \n",
      "Epoch 130/200\n",
      "891/891 [==============================] - 0s - loss: 0.3722 - acc: 0.8519     \n",
      "Epoch 131/200\n",
      "891/891 [==============================] - 0s - loss: 0.3719 - acc: 0.8552     \n",
      "Epoch 132/200\n",
      "891/891 [==============================] - 0s - loss: 0.3722 - acc: 0.8586     \n",
      "Epoch 133/200\n",
      "891/891 [==============================] - 0s - loss: 0.3712 - acc: 0.8552     \n",
      "Epoch 134/200\n",
      "891/891 [==============================] - 0s - loss: 0.3710 - acc: 0.8563     \n",
      "Epoch 135/200\n",
      "891/891 [==============================] - 0s - loss: 0.3715 - acc: 0.8552     \n",
      "Epoch 136/200\n",
      "891/891 [==============================] - 0s - loss: 0.3707 - acc: 0.8563     \n",
      "Epoch 137/200\n",
      "891/891 [==============================] - 0s - loss: 0.3700 - acc: 0.8541     \n",
      "Epoch 138/200\n",
      "891/891 [==============================] - 0s - loss: 0.3696 - acc: 0.8541     \n",
      "Epoch 139/200\n",
      "891/891 [==============================] - 0s - loss: 0.3702 - acc: 0.8563     \n",
      "Epoch 140/200\n",
      "891/891 [==============================] - 0s - loss: 0.3707 - acc: 0.8586     \n",
      "Epoch 141/200\n",
      "891/891 [==============================] - 0s - loss: 0.3697 - acc: 0.8563     \n",
      "Epoch 142/200\n",
      "891/891 [==============================] - 0s - loss: 0.3686 - acc: 0.8575     \n",
      "Epoch 143/200\n",
      "891/891 [==============================] - 0s - loss: 0.3687 - acc: 0.8586     \n",
      "Epoch 144/200\n",
      "891/891 [==============================] - 0s - loss: 0.3686 - acc: 0.8563     \n",
      "Epoch 145/200\n",
      "891/891 [==============================] - 0s - loss: 0.3696 - acc: 0.8552     \n",
      "Epoch 146/200\n",
      "891/891 [==============================] - 0s - loss: 0.3686 - acc: 0.8552     \n",
      "Epoch 147/200\n",
      "891/891 [==============================] - 0s - loss: 0.3699 - acc: 0.8563     \n",
      "Epoch 148/200\n",
      "891/891 [==============================] - 0s - loss: 0.3705 - acc: 0.8541     \n",
      "Epoch 149/200\n",
      "891/891 [==============================] - 0s - loss: 0.3680 - acc: 0.8586     \n",
      "Epoch 150/200\n",
      "891/891 [==============================] - 0s - loss: 0.3678 - acc: 0.8575     \n",
      "Epoch 151/200\n",
      "891/891 [==============================] - 0s - loss: 0.3682 - acc: 0.8608     \n",
      "Epoch 152/200\n",
      "891/891 [==============================] - 0s - loss: 0.3677 - acc: 0.8575     \n",
      "Epoch 153/200\n",
      "891/891 [==============================] - 0s - loss: 0.3673 - acc: 0.8575     \n",
      "Epoch 154/200\n",
      "891/891 [==============================] - 0s - loss: 0.3661 - acc: 0.8597     \n",
      "Epoch 155/200\n",
      "891/891 [==============================] - 0s - loss: 0.3694 - acc: 0.8552     \n",
      "Epoch 156/200\n",
      "891/891 [==============================] - 0s - loss: 0.3661 - acc: 0.8552     \n",
      "Epoch 157/200\n",
      "891/891 [==============================] - 0s - loss: 0.3650 - acc: 0.8608     \n",
      "Epoch 158/200\n",
      "891/891 [==============================] - 0s - loss: 0.3662 - acc: 0.8575     \n",
      "Epoch 159/200\n",
      "891/891 [==============================] - 0s - loss: 0.3664 - acc: 0.8620     \n",
      "Epoch 160/200\n",
      "891/891 [==============================] - 0s - loss: 0.3662 - acc: 0.8597     \n",
      "Epoch 161/200\n",
      "891/891 [==============================] - 0s - loss: 0.3648 - acc: 0.8586     \n",
      "Epoch 162/200\n",
      "891/891 [==============================] - 0s - loss: 0.3647 - acc: 0.8608     \n",
      "Epoch 163/200\n",
      "891/891 [==============================] - 0s - loss: 0.3658 - acc: 0.8563     \n",
      "Epoch 164/200\n",
      "891/891 [==============================] - 0s - loss: 0.3660 - acc: 0.8597     \n",
      "Epoch 165/200\n",
      "891/891 [==============================] - 0s - loss: 0.3645 - acc: 0.8597     \n",
      "Epoch 166/200\n",
      "891/891 [==============================] - 0s - loss: 0.3649 - acc: 0.8597     \n",
      "Epoch 167/200\n",
      "891/891 [==============================] - 0s - loss: 0.3643 - acc: 0.8608     \n",
      "Epoch 168/200\n",
      "891/891 [==============================] - 0s - loss: 0.3634 - acc: 0.8608     \n",
      "Epoch 169/200\n",
      "891/891 [==============================] - 0s - loss: 0.3654 - acc: 0.8586     \n",
      "Epoch 170/200\n",
      "891/891 [==============================] - 0s - loss: 0.3648 - acc: 0.8586     \n",
      "Epoch 171/200\n",
      "891/891 [==============================] - 0s - loss: 0.3643 - acc: 0.8563     \n",
      "Epoch 172/200\n",
      "891/891 [==============================] - 0s - loss: 0.3651 - acc: 0.8608     \n",
      "Epoch 173/200\n",
      "891/891 [==============================] - 0s - loss: 0.3644 - acc: 0.8575     \n",
      "Epoch 174/200\n",
      "891/891 [==============================] - 0s - loss: 0.3631 - acc: 0.8586     \n",
      "Epoch 175/200\n"
     ]
    },
    {
     "name": "stdout",
     "output_type": "stream",
     "text": [
      "891/891 [==============================] - 0s - loss: 0.3640 - acc: 0.8597     \n",
      "Epoch 176/200\n",
      "891/891 [==============================] - 0s - loss: 0.3632 - acc: 0.8608     \n",
      "Epoch 177/200\n",
      "891/891 [==============================] - 0s - loss: 0.3631 - acc: 0.8620     \n",
      "Epoch 178/200\n",
      "891/891 [==============================] - 0s - loss: 0.3624 - acc: 0.8620     \n",
      "Epoch 179/200\n",
      "891/891 [==============================] - 0s - loss: 0.3631 - acc: 0.8563     \n",
      "Epoch 180/200\n",
      "891/891 [==============================] - 0s - loss: 0.3639 - acc: 0.8586     \n",
      "Epoch 181/200\n",
      "891/891 [==============================] - 0s - loss: 0.3640 - acc: 0.8608     \n",
      "Epoch 182/200\n",
      "891/891 [==============================] - 0s - loss: 0.3629 - acc: 0.8620     \n",
      "Epoch 183/200\n",
      "891/891 [==============================] - 0s - loss: 0.3629 - acc: 0.8597     \n",
      "Epoch 184/200\n",
      "891/891 [==============================] - 0s - loss: 0.3622 - acc: 0.8608     \n",
      "Epoch 185/200\n",
      "891/891 [==============================] - 0s - loss: 0.3618 - acc: 0.8608     \n",
      "Epoch 186/200\n",
      "891/891 [==============================] - 0s - loss: 0.3623 - acc: 0.8586     \n",
      "Epoch 187/200\n",
      "891/891 [==============================] - 0s - loss: 0.3621 - acc: 0.8620     \n",
      "Epoch 188/200\n",
      "891/891 [==============================] - 0s - loss: 0.3609 - acc: 0.8597     \n",
      "Epoch 189/200\n",
      "891/891 [==============================] - 0s - loss: 0.3619 - acc: 0.8563     \n",
      "Epoch 190/200\n",
      "891/891 [==============================] - 0s - loss: 0.3618 - acc: 0.8586     \n",
      "Epoch 191/200\n",
      "891/891 [==============================] - 0s - loss: 0.3600 - acc: 0.8597     \n",
      "Epoch 192/200\n",
      "891/891 [==============================] - 0s - loss: 0.3619 - acc: 0.8620     \n",
      "Epoch 193/200\n",
      "891/891 [==============================] - 0s - loss: 0.3606 - acc: 0.8597     \n",
      "Epoch 194/200\n",
      "891/891 [==============================] - 0s - loss: 0.3642 - acc: 0.8586     \n",
      "Epoch 195/200\n",
      "891/891 [==============================] - 0s - loss: 0.3610 - acc: 0.8597     \n",
      "Epoch 196/200\n",
      "891/891 [==============================] - 0s - loss: 0.3618 - acc: 0.8597     \n",
      "Epoch 197/200\n",
      "891/891 [==============================] - 0s - loss: 0.3615 - acc: 0.8563     \n",
      "Epoch 198/200\n",
      "891/891 [==============================] - 0s - loss: 0.3608 - acc: 0.8563     \n",
      "Epoch 199/200\n",
      "891/891 [==============================] - 0s - loss: 0.3606 - acc: 0.8642     \n",
      "Epoch 200/200\n",
      "891/891 [==============================] - 0s - loss: 0.3626 - acc: 0.8608     \n"
     ]
    },
    {
     "data": {
      "text/plain": [
       "<keras.callbacks.History at 0x7f15f5978828>"
      ]
     },
     "execution_count": 66,
     "metadata": {},
     "output_type": "execute_result"
    }
   ],
   "source": [
    "model = Sequential()\n",
    "model.add(Dense(units = 18, kernel_initializer = 'random_uniform', activation = 'relu', input_dim = 17))\n",
    "model.add(Dense(units = 14, kernel_initializer = 'random_uniform', activation = 'relu'))\n",
    "model.add(Dense(units = 6, kernel_initializer = 'random_uniform', activation = 'relu'))\n",
    "model.add(Dense(units = 1, kernel_initializer = 'random_uniform', activation = 'sigmoid'))\n",
    "model.compile(optimizer = 'adam', loss = 'binary_crossentropy', metrics = ['accuracy'])\n",
    "model.fit(X_std, y, batch_size = 30, epochs = 200)"
   ]
  },
  {
   "cell_type": "code",
   "execution_count": 67,
   "metadata": {},
   "outputs": [
    {
     "name": "stdout",
     "output_type": "stream",
     "text": [
      " 32/891 [>.............................] - ETA: 0sLoss metric: \t 0.3579\n",
      "Accuracy metric: \t0.8608\n"
     ]
    }
   ],
   "source": [
    "scores8 = model.evaluate(X_std, y)\n",
    "print(\"Loss metric: \\t {0:.4f}\".format(scores8[0]))\n",
    "print(\"Accuracy metric: \\t{0:.4f}\".format(scores8[1]))"
   ]
  },
  {
   "cell_type": "markdown",
   "metadata": {},
   "source": [
    "### 6.9 Result Modeling"
   ]
  },
  {
   "cell_type": "code",
   "execution_count": 68,
   "metadata": {},
   "outputs": [
    {
     "data": {
      "text/html": [
       "<div>\n",
       "<style>\n",
       "    .dataframe thead tr:only-child th {\n",
       "        text-align: right;\n",
       "    }\n",
       "\n",
       "    .dataframe thead th {\n",
       "        text-align: left;\n",
       "    }\n",
       "\n",
       "    .dataframe tbody tr th {\n",
       "        vertical-align: top;\n",
       "    }\n",
       "</style>\n",
       "<table border=\"1\" class=\"dataframe\">\n",
       "  <thead>\n",
       "    <tr style=\"text-align: right;\">\n",
       "      <th></th>\n",
       "      <th>Model</th>\n",
       "      <th>Score</th>\n",
       "    </tr>\n",
       "  </thead>\n",
       "  <tbody>\n",
       "    <tr>\n",
       "      <th>7</th>\n",
       "      <td>ANN</td>\n",
       "      <td>0.8608</td>\n",
       "    </tr>\n",
       "    <tr>\n",
       "      <th>1</th>\n",
       "      <td>Gradient Boosting</td>\n",
       "      <td>0.8452</td>\n",
       "    </tr>\n",
       "    <tr>\n",
       "      <th>6</th>\n",
       "      <td>XGBoost</td>\n",
       "      <td>0.8363</td>\n",
       "    </tr>\n",
       "    <tr>\n",
       "      <th>0</th>\n",
       "      <td>Support Vector Machines</td>\n",
       "      <td>0.8260</td>\n",
       "    </tr>\n",
       "    <tr>\n",
       "      <th>3</th>\n",
       "      <td>Logistic Regression</td>\n",
       "      <td>0.8182</td>\n",
       "    </tr>\n",
       "    <tr>\n",
       "      <th>4</th>\n",
       "      <td>KNN</td>\n",
       "      <td>0.8182</td>\n",
       "    </tr>\n",
       "    <tr>\n",
       "      <th>2</th>\n",
       "      <td>Random Forest</td>\n",
       "      <td>0.8148</td>\n",
       "    </tr>\n",
       "    <tr>\n",
       "      <th>5</th>\n",
       "      <td>Adaboost</td>\n",
       "      <td>0.8070</td>\n",
       "    </tr>\n",
       "  </tbody>\n",
       "</table>\n",
       "</div>"
      ],
      "text/plain": [
       "                     Model   Score\n",
       "7                      ANN  0.8608\n",
       "1        Gradient Boosting  0.8452\n",
       "6                  XGBoost  0.8363\n",
       "0  Support Vector Machines  0.8260\n",
       "3      Logistic Regression  0.8182\n",
       "4                      KNN  0.8182\n",
       "2            Random Forest  0.8148\n",
       "5                 Adaboost  0.8070"
      ]
     },
     "execution_count": 68,
     "metadata": {},
     "output_type": "execute_result"
    }
   ],
   "source": [
    "classifier_update = pd.DataFrame({\n",
    "    'Model': ['Support Vector Machines', 'Gradient Boosting', 'Random Forest', \n",
    "            'Logistic Regression', 'KNN', \n",
    "              'Adaboost', 'XGBoost', 'ANN'],\n",
    "    'Score': [scores1.mean(), scores2_tune2.mean(), scores3.mean(), \n",
    "              scores4.mean(), scores5.mean(), \n",
    "              scores6.mean(), scores7_tune.mean(), scores8[1]]})\n",
    "classifier_update['Score'] = np.round(classifier_update['Score'], decimals = 4)\n",
    "classifier_update.sort_values(by='Score', ascending=False)"
   ]
  },
  {
   "cell_type": "code",
   "execution_count": 69,
   "metadata": {},
   "outputs": [
    {
     "data": {
      "image/png": "[encoded data removed]",
      "text/plain": [
       "<matplotlib.figure.Figure at 0x7f15f5c040b8>"
      ]
     },
     "metadata": {},
     "output_type": "display_data"
    }
   ],
   "source": [
    "plt.figure(figsize=(16, 8))\n",
    "\n",
    "x = classifier_update['Model']\n",
    "y = classifier_update['Score']\n",
    "sns.barplot(x, y, color='firebrick')\n",
    "plt.ylabel(\"Score\")\n",
    "plt.xlabel(\"Models\")\n",
    "plt.ylim(0.75, 0.86);"
   ]
  },
  {
   "cell_type": "markdown",
   "metadata": {},
   "source": [
    "### 1. Testing"
   ]
  },
  {
   "cell_type": "code",
   "execution_count": 70,
   "metadata": {},
   "outputs": [
    {
     "name": "stderr",
     "output_type": "stream",
     "text": [
      "/home/arif/anaconda3/lib/python3.6/site-packages/pandas/core/indexing.py:179: SettingWithCopyWarning: \n",
      "A value is trying to be set on a copy of a slice from a DataFrame\n",
      "\n",
      "See the caveats in the documentation: http://pandas.pydata.org/pandas-docs/stable/indexing.html#indexing-view-versus-copy\n",
      "  self._setitem_with_indexer(indexer, value)\n"
     ]
    },
    {
     "data": {
      "text/html": [
       "<div>\n",
       "<style>\n",
       "    .dataframe thead tr:only-child th {\n",
       "        text-align: right;\n",
       "    }\n",
       "\n",
       "    .dataframe thead th {\n",
       "        text-align: left;\n",
       "    }\n",
       "\n",
       "    .dataframe tbody tr th {\n",
       "        vertical-align: top;\n",
       "    }\n",
       "</style>\n",
       "<table border=\"1\" class=\"dataframe\">\n",
       "  <thead>\n",
       "    <tr style=\"text-align: right;\">\n",
       "      <th></th>\n",
       "      <th>PassengerId</th>\n",
       "      <th>Age</th>\n",
       "      <th>SibSp</th>\n",
       "      <th>Parch</th>\n",
       "      <th>Fare</th>\n",
       "      <th>Embarked_C</th>\n",
       "      <th>Embarked_Q</th>\n",
       "      <th>Embarked_S</th>\n",
       "      <th>Class1</th>\n",
       "      <th>Class2</th>\n",
       "      <th>Class3</th>\n",
       "      <th>female</th>\n",
       "      <th>male</th>\n",
       "      <th>Fsize</th>\n",
       "      <th>Single</th>\n",
       "      <th>SmallF</th>\n",
       "      <th>MedF</th>\n",
       "      <th>LargeF</th>\n",
       "    </tr>\n",
       "  </thead>\n",
       "  <tbody>\n",
       "    <tr>\n",
       "      <th>0</th>\n",
       "      <td>892</td>\n",
       "      <td>34.5</td>\n",
       "      <td>0</td>\n",
       "      <td>0</td>\n",
       "      <td>7.8292</td>\n",
       "      <td>0</td>\n",
       "      <td>1</td>\n",
       "      <td>0</td>\n",
       "      <td>0</td>\n",
       "      <td>0</td>\n",
       "      <td>1</td>\n",
       "      <td>0</td>\n",
       "      <td>1</td>\n",
       "      <td>1</td>\n",
       "      <td>1</td>\n",
       "      <td>0</td>\n",
       "      <td>0</td>\n",
       "      <td>0</td>\n",
       "    </tr>\n",
       "    <tr>\n",
       "      <th>1</th>\n",
       "      <td>893</td>\n",
       "      <td>47.0</td>\n",
       "      <td>1</td>\n",
       "      <td>0</td>\n",
       "      <td>7.0000</td>\n",
       "      <td>0</td>\n",
       "      <td>0</td>\n",
       "      <td>1</td>\n",
       "      <td>0</td>\n",
       "      <td>0</td>\n",
       "      <td>1</td>\n",
       "      <td>1</td>\n",
       "      <td>0</td>\n",
       "      <td>2</td>\n",
       "      <td>0</td>\n",
       "      <td>1</td>\n",
       "      <td>0</td>\n",
       "      <td>0</td>\n",
       "    </tr>\n",
       "    <tr>\n",
       "      <th>2</th>\n",
       "      <td>894</td>\n",
       "      <td>62.0</td>\n",
       "      <td>0</td>\n",
       "      <td>0</td>\n",
       "      <td>9.6875</td>\n",
       "      <td>0</td>\n",
       "      <td>1</td>\n",
       "      <td>0</td>\n",
       "      <td>0</td>\n",
       "      <td>1</td>\n",
       "      <td>0</td>\n",
       "      <td>0</td>\n",
       "      <td>1</td>\n",
       "      <td>1</td>\n",
       "      <td>1</td>\n",
       "      <td>0</td>\n",
       "      <td>0</td>\n",
       "      <td>0</td>\n",
       "    </tr>\n",
       "    <tr>\n",
       "      <th>3</th>\n",
       "      <td>895</td>\n",
       "      <td>27.0</td>\n",
       "      <td>0</td>\n",
       "      <td>0</td>\n",
       "      <td>8.6625</td>\n",
       "      <td>0</td>\n",
       "      <td>0</td>\n",
       "      <td>1</td>\n",
       "      <td>0</td>\n",
       "      <td>0</td>\n",
       "      <td>1</td>\n",
       "      <td>0</td>\n",
       "      <td>1</td>\n",
       "      <td>1</td>\n",
       "      <td>1</td>\n",
       "      <td>0</td>\n",
       "      <td>0</td>\n",
       "      <td>0</td>\n",
       "    </tr>\n",
       "    <tr>\n",
       "      <th>4</th>\n",
       "      <td>896</td>\n",
       "      <td>22.0</td>\n",
       "      <td>1</td>\n",
       "      <td>1</td>\n",
       "      <td>12.2875</td>\n",
       "      <td>0</td>\n",
       "      <td>0</td>\n",
       "      <td>1</td>\n",
       "      <td>0</td>\n",
       "      <td>0</td>\n",
       "      <td>1</td>\n",
       "      <td>1</td>\n",
       "      <td>0</td>\n",
       "      <td>3</td>\n",
       "      <td>0</td>\n",
       "      <td>0</td>\n",
       "      <td>1</td>\n",
       "      <td>0</td>\n",
       "    </tr>\n",
       "  </tbody>\n",
       "</table>\n",
       "</div>"
      ],
      "text/plain": [
       "   PassengerId   Age  SibSp  Parch     Fare  Embarked_C  Embarked_Q  \\\n",
       "0          892  34.5      0      0   7.8292           0           1   \n",
       "1          893  47.0      1      0   7.0000           0           0   \n",
       "2          894  62.0      0      0   9.6875           0           1   \n",
       "3          895  27.0      0      0   8.6625           0           0   \n",
       "4          896  22.0      1      1  12.2875           0           0   \n",
       "\n",
       "   Embarked_S  Class1  Class2  Class3  female  male  Fsize  Single  SmallF  \\\n",
       "0           0       0       0       1       0     1      1       1       0   \n",
       "1           1       0       0       1       1     0      2       0       1   \n",
       "2           0       0       1       0       0     1      1       1       0   \n",
       "3           1       0       0       1       0     1      1       1       0   \n",
       "4           1       0       0       1       1     0      3       0       0   \n",
       "\n",
       "   MedF  LargeF  \n",
       "0     0       0  \n",
       "1     0       0  \n",
       "2     0       0  \n",
       "3     0       0  \n",
       "4     1       0  "
      ]
     },
     "execution_count": 70,
     "metadata": {},
     "output_type": "execute_result"
    }
   ],
   "source": [
    "##Load Data\n",
    "test = pd.read_csv(\"dataset/test.csv\")\n",
    "\n",
    "## Fill Age with the median age of similar rows according to Pclass\n",
    "\n",
    "index_NaN_age_test = list(test[\"Age\"][test[\"Age\"].isnull()].index)\n",
    "\n",
    "for i in index_NaN_age_test :\n",
    "    age_med_test = test[\"Age\"].median()\n",
    "    age_pred_test = test[\"Age\"][((test['Pclass'] == test.iloc[i][\"Pclass\"]))].median()\n",
    "    if not np.isnan(age_pred) :\n",
    "        test['Age'].iloc[i] = age_pred_test\n",
    "    else :\n",
    "        test['Age'].iloc[i] = age_med_test\n",
    "        \n",
    "\n",
    "## Before we fill Embarked with zero, we change Embarked values to one hot encoding \n",
    "test[\"Embarked\"] = test[\"Embarked\"].astype(\"category\")\n",
    "test = pd.get_dummies(test, columns = [\"Embarked\"],prefix=\"Embarked\")\n",
    "\n",
    "## Fill Embarked with zero value\n",
    "test['Embarked_C'] = test['Embarked_C'].fillna(0)\n",
    "test['Embarked_Q'] = test['Embarked_Q'].fillna(0)\n",
    "test['Embarked_S'] = test['Embarked_S'].fillna(0) \n",
    "\n",
    "test[\"Pclass\"] = test[\"Pclass\"].map({1: 'Class1', 2: 'Class2', 3: 'Class3'})\n",
    "\n",
    "Pclass_test = pd.get_dummies(test['Pclass'],prefix = 'Pclass' )\n",
    "test = test.assign(Class1=Pclass_test['Pclass_Class1'], Class2=Pclass_test['Pclass_Class2'], \n",
    "                     Class3=Pclass_test['Pclass_Class3'])\n",
    "test = test.drop(['Pclass'], axis=1)\n",
    "\n",
    "Sex_test = pd.get_dummies(test['Sex'],prefix = 'Sex' )\n",
    "test = test.assign(male=Sex_test['Sex_male'], female=Sex_test['Sex_female'])\n",
    "test = test.drop(['Sex'], axis=1)\n",
    "\n",
    "#drop Cabin and Name column from data test\n",
    "test = test.drop(labels=['Cabin'], axis=1)\n",
    "test = test.drop(labels=['Name'], axis=1)\n",
    "test = test.drop(['Ticket'], axis=1)\n",
    "\n",
    "test[\"Fsize\"] = test[\"SibSp\"] + test[\"Parch\"] + 1\n",
    "\n",
    "# Create new feature of family size\n",
    "test['Single'] = test['Fsize'].map(lambda s: 1 if s == 1 else 0)\n",
    "test['SmallF'] = test['Fsize'].map(lambda s: 1 if  s == 2  else 0)\n",
    "test['MedF'] = test['Fsize'].map(lambda s: 1 if 3 <= s <= 4 else 0)\n",
    "test['LargeF'] = test['Fsize'].map(lambda s: 1 if s >= 5 else 0)\n",
    "\n",
    "test.head()"
   ]
  },
  {
   "cell_type": "code",
   "execution_count": 71,
   "metadata": {
    "collapsed": true
   },
   "outputs": [],
   "source": [
    "test['Fare'] = test.Fare.fillna(test['Fare'].median())"
   ]
  },
  {
   "cell_type": "code",
   "execution_count": 73,
   "metadata": {
    "collapsed": true
   },
   "outputs": [],
   "source": [
    "X_test = test.drop('PassengerId', axis = 1)"
   ]
  },
  {
   "cell_type": "code",
   "execution_count": 74,
   "metadata": {
    "collapsed": true
   },
   "outputs": [],
   "source": [
    "from sklearn.preprocessing import StandardScaler\n",
    "sc = StandardScaler()\n",
    "X_std = sc.fit_transform(X)\n",
    "X_test_std = sc.transform(X_test)"
   ]
  },
  {
   "cell_type": "code",
   "execution_count": 75,
   "metadata": {},
   "outputs": [
    {
     "data": {
      "text/html": [
       "<div>\n",
       "<style>\n",
       "    .dataframe thead tr:only-child th {\n",
       "        text-align: right;\n",
       "    }\n",
       "\n",
       "    .dataframe thead th {\n",
       "        text-align: left;\n",
       "    }\n",
       "\n",
       "    .dataframe tbody tr th {\n",
       "        vertical-align: top;\n",
       "    }\n",
       "</style>\n",
       "<table border=\"1\" class=\"dataframe\">\n",
       "  <thead>\n",
       "    <tr style=\"text-align: right;\">\n",
       "      <th></th>\n",
       "      <th>PassengerId</th>\n",
       "      <th>Survived</th>\n",
       "    </tr>\n",
       "  </thead>\n",
       "  <tbody>\n",
       "    <tr>\n",
       "      <th>0</th>\n",
       "      <td>892</td>\n",
       "      <td>0</td>\n",
       "    </tr>\n",
       "    <tr>\n",
       "      <th>1</th>\n",
       "      <td>893</td>\n",
       "      <td>0</td>\n",
       "    </tr>\n",
       "    <tr>\n",
       "      <th>2</th>\n",
       "      <td>894</td>\n",
       "      <td>0</td>\n",
       "    </tr>\n",
       "    <tr>\n",
       "      <th>3</th>\n",
       "      <td>895</td>\n",
       "      <td>0</td>\n",
       "    </tr>\n",
       "    <tr>\n",
       "      <th>4</th>\n",
       "      <td>896</td>\n",
       "      <td>1</td>\n",
       "    </tr>\n",
       "  </tbody>\n",
       "</table>\n",
       "</div>"
      ],
      "text/plain": [
       "   PassengerId  Survived\n",
       "0          892         0\n",
       "1          893         0\n",
       "2          894         0\n",
       "3          895         0\n",
       "4          896         1"
      ]
     },
     "execution_count": 75,
     "metadata": {},
     "output_type": "execute_result"
    }
   ],
   "source": [
    "y_pred = model.predict(X_test_std)\n",
    "y_pred = (y_pred > 0.5)\n",
    "y_pred = pd.Series(list(y_pred))\n",
    "\n",
    "submission = pd.DataFrame({\"PassengerId\": test[\"PassengerId\"], \"Survived\": y_pred})\n",
    "submission['Survived'] = submission['Survived'].astype(int)\n",
    "submission.head()"
   ]
  },
  {
   "cell_type": "code",
   "execution_count": 76,
   "metadata": {
    "collapsed": true
   },
   "outputs": [],
   "source": [
    "# submission.to_csv('submission.csv', index = False)"
   ]
  },
  {
   "cell_type": "markdown",
   "metadata": {},
   "source": [
    "### thank you **Yassine Ghouzam and Figarri Keisha** for the insight"
   ]
  },
  {
   "cell_type": "markdown",
   "metadata": {},
   "source": [
    "Created by $\\textbf{Arif Romadhan}$ <br>\n",
    "email : arifromadhan19@gmail.com"
   ]
  }
 ],
 "metadata": {
  "kernelspec": {
   "display_name": "env_kaggle",
   "language": "python",
   "name": "env_kaggle"
  },
  "language_info": {
   "codemirror_mode": {
    "name": "ipython",
    "version": 3
   },
   "file_extension": ".py",
   "mimetype": "text/x-python",
   "name": "python",
   "nbconvert_exporter": "python",
   "pygments_lexer": "ipython3",
   "version": "3.6.3"
  }
 },
 "nbformat": 4,
 "nbformat_minor": 2
}
