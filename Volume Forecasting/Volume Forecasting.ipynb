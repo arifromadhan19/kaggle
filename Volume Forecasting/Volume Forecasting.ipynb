{
 "cells": [
  {
   "cell_type": "markdown",
   "metadata": {},
   "source": [
    "# Volume Forecasting : SKU future volume analysis and prediction"
   ]
  },
  {
   "cell_type": "markdown",
   "metadata": {},
   "source": [
    "1. [**Introduction**](#1.-Introduction)<br>\n",
    "2. [**Collection of Data**](#2.-Collection-of-Data)<br>\n",
    "    [2.1 Load Data](#2.1-Load-Data)<br>\n",
    "3. [**SKU Recommendation**](#3.-SKU-Recommendation)<br>\n",
    "    [3.1 by weather data](#3.1-by-weather-data)<br>\n",
    "    [3.2 by demographis](#3.2-by-demographis)<br>\n",
    "    [3.3 combination of weather and demographis](#3.3-combination-of-weather-and-demographis)<br>\n",
    "4. [**Data preparation and Data Distribution**](#4.-Data-Preparation-and-Data-Distribution)<br>\n",
    "    [4.1 Check Null and Missing Values](#4.1-Check-Null-and-Missing-Values)<br>\n",
    "5. [**Train Algorithm on Train Data**](#5.-Train-Algorithm-on-Train-Data)<br>\n",
    "    [5.1 Validation Data](#5.1-Validation-Data)<br>\n",
    "    [5.2 Modelling](#5.2-Modelling)<br>\n",
    "    [5.2.1 GradientBoostingRegressor](#5.2.1-GradientBoostingRegressor)<br>\n",
    "    [5.2.2 RandomForestRegressor](#5.2.3-RandomForestRegressor)<br>\n",
    "    [5.2.3 Support Vector Regression](#5.2.3-Support_Vector_Regression)<br>\n",
    "    [5.2.4 KNeighborsRegressor](#5.2.4-KNeighborsRegressor)<br>\n",
    "    [5.2.5 XGBRegressor](#5.2.5-XGBRegressor)<br>\n",
    "    [5.2.6 Linear Regression](#5.2.6-Linear-Regression)<br>\n",
    "    [5.2.7 Result Modeling](#5.2.7-Result-Modeling)<br>\n",
    "6. [**Test Algorithm on Test Data**](#6.-Test-Algorithm-on-Test-Data)<br> \n",
    "7. [**Forecasting Multivariate**](#7.-Forecasting-Multivariate)<br> \n",
    "    [7.1 Numerical Data Correlation](#7.1-Numerical-Data-Correlation)<br>\n",
    "    [7.2 Feature Engineering](#7.2-Feature-Engineering)<br>\n",
    "    [7.3 Modelling](#7.3-Modelling)<br>\n",
    "8. [**Forecasting Unvariate**](#8.-Forecasting-Unvariate)<br>\n",
    "        "
   ]
  },
  {
   "cell_type": "markdown",
   "metadata": {},
   "source": [
    "## 1. Introduction"
   ]
  },
  {
   "cell_type": "markdown",
   "metadata": {},
   "source": [
    "Country Beeristan, a high potential market, accounts for nearly 10% of Stallion & Co.’s global beer sales. Stallion & Co. has a large portfolio of products distributed to retailers through wholesalers (agencies). There are thousands of unique wholesaler-SKU/products combinations. In order to plan its production and distribution as well as help wholesalers with their planning, it is important for Stallion & Co. to have an accurate estimate of demand at SKU level for each wholesaler.<br>\n",
    "\n",
    "Currently demand is estimated by sales executives, who generally have a “feel” for the market and predict the net effect of forces of supply, demand and other external factors based on past experience. The more experienced a sales exec is in a particular market, the better a job he does at estimating. Joshua, the new Head of S&OP for Stallion & Co. just took an analytics course and realized he can do the forecasts in a much more effective way. He approaches you, the best data scientist at Stallion, to transform the exercise of demand forecasting.<br>\n",
    "\n",
    "$\\textbf{Arif Romadhan}$ <br>\n",
    "email : arifromadhan19@gmail.com<br><br>\n",
    "[Link my kaggle](https://www.kaggle.com/utathya/future-volume-prediction)<br>"
   ]
  },
  {
   "cell_type": "code",
   "execution_count": 1,
   "metadata": {},
   "outputs": [
    {
     "name": "stderr",
     "output_type": "stream",
     "text": [
      "Using TensorFlow backend.\n"
     ]
    }
   ],
   "source": [
    "import warnings\n",
    "warnings.filterwarnings('ignore')\n",
    "\n",
    "import joblib\n",
    "import xgboost\n",
    "import numpy as np\n",
    "import pandas as pd\n",
    "import seaborn as sns\n",
    "import tensorflow as tf\n",
    "import matplotlib.pyplot as plt\n",
    "%matplotlib inline\n",
    "\n",
    "\n",
    "from math import sqrt\n",
    "from numpy import concatenate\n",
    "\n",
    "from sklearn.svm import SVR\n",
    "from sklearn.metrics import r2_score\n",
    "from sklearn.model_selection import KFold\n",
    "from sklearn.metrics import mean_squared_error\n",
    "from sklearn.preprocessing import MinMaxScaler\n",
    "from sklearn.preprocessing import StandardScaler\n",
    "from sklearn.neighbors import KNeighborsRegressor\n",
    "from sklearn.linear_model import LinearRegression\n",
    "from sklearn.ensemble import RandomForestRegressor\n",
    "from sklearn.ensemble import GradientBoostingRegressor\n",
    "from sklearn.metrics.pairwise import euclidean_distances\n",
    "from sklearn.model_selection import train_test_split, cross_val_score, GridSearchCV\n",
    "\n",
    "from keras.layers import LSTM\n",
    "from keras.layers import Dense\n",
    "from keras.models import Sequential\n",
    "from keras.callbacks import EarlyStopping"
   ]
  },
  {
   "cell_type": "markdown",
   "metadata": {},
   "source": [
    "## 2. Collection of Data"
   ]
  },
  {
   "cell_type": "markdown",
   "metadata": {},
   "source": [
    "###  2.1 Load Data"
   ]
  },
  {
   "cell_type": "markdown",
   "metadata": {},
   "source": [
    "### Data Training"
   ]
  },
  {
   "cell_type": "code",
   "execution_count": 29,
   "metadata": {},
   "outputs": [
    {
     "name": "stdout",
     "output_type": "stream",
     "text": [
      "60\n"
     ]
    },
    {
     "data": {
      "text/html": [
       "<div>\n",
       "<style scoped>\n",
       "    .dataframe tbody tr th:only-of-type {\n",
       "        vertical-align: middle;\n",
       "    }\n",
       "\n",
       "    .dataframe tbody tr th {\n",
       "        vertical-align: top;\n",
       "    }\n",
       "\n",
       "    .dataframe thead th {\n",
       "        text-align: right;\n",
       "    }\n",
       "</style>\n",
       "<table border=\"1\" class=\"dataframe\">\n",
       "  <thead>\n",
       "    <tr style=\"text-align: right;\">\n",
       "      <th></th>\n",
       "      <th>Agency</th>\n",
       "      <th>Avg_Population_2017</th>\n",
       "      <th>Avg_Yearly_Household_Income_2017</th>\n",
       "      <th>Year</th>\n",
       "    </tr>\n",
       "  </thead>\n",
       "  <tbody>\n",
       "    <tr>\n",
       "      <th>0</th>\n",
       "      <td>Agency_05</td>\n",
       "      <td>3044268</td>\n",
       "      <td>182944</td>\n",
       "      <td>2017</td>\n",
       "    </tr>\n",
       "    <tr>\n",
       "      <th>1</th>\n",
       "      <td>Agency_02</td>\n",
       "      <td>3137874</td>\n",
       "      <td>240809</td>\n",
       "      <td>2017</td>\n",
       "    </tr>\n",
       "  </tbody>\n",
       "</table>\n",
       "</div>"
      ],
      "text/plain": [
       "      Agency  Avg_Population_2017  Avg_Yearly_Household_Income_2017  Year\n",
       "0  Agency_05              3044268                            182944  2017\n",
       "1  Agency_02              3137874                            240809  2017"
      ]
     },
     "execution_count": 29,
     "metadata": {},
     "output_type": "execute_result"
    }
   ],
   "source": [
    "df1 = pd.read_csv('../input/demographics.csv')\n",
    "df1['Year'] = '2017'\n",
    "print(len(df1))\n",
    "df1.head(2)"
   ]
  },
  {
   "cell_type": "code",
   "execution_count": 10,
   "metadata": {},
   "outputs": [
    {
     "name": "stdout",
     "output_type": "stream",
     "text": [
      "61\n"
     ]
    },
    {
     "data": {
      "text/html": [
       "<div>\n",
       "<style scoped>\n",
       "    .dataframe tbody tr th:only-of-type {\n",
       "        vertical-align: middle;\n",
       "    }\n",
       "\n",
       "    .dataframe tbody tr th {\n",
       "        vertical-align: top;\n",
       "    }\n",
       "\n",
       "    .dataframe thead th {\n",
       "        text-align: right;\n",
       "    }\n",
       "</style>\n",
       "<table border=\"1\" class=\"dataframe\">\n",
       "  <thead>\n",
       "    <tr style=\"text-align: right;\">\n",
       "      <th></th>\n",
       "      <th>YearMonth</th>\n",
       "      <th>Easter Day</th>\n",
       "      <th>Good Friday</th>\n",
       "      <th>New Year</th>\n",
       "      <th>Christmas</th>\n",
       "      <th>Labor Day</th>\n",
       "      <th>Independence Day</th>\n",
       "      <th>Revolution Day Memorial</th>\n",
       "      <th>Regional Games</th>\n",
       "      <th>FIFA U-17 World Cup</th>\n",
       "      <th>Football Gold Cup</th>\n",
       "      <th>Beer Capital</th>\n",
       "      <th>Music Fest</th>\n",
       "    </tr>\n",
       "  </thead>\n",
       "  <tbody>\n",
       "    <tr>\n",
       "      <th>0</th>\n",
       "      <td>2013-01-01</td>\n",
       "      <td>0</td>\n",
       "      <td>0</td>\n",
       "      <td>1</td>\n",
       "      <td>0</td>\n",
       "      <td>0</td>\n",
       "      <td>0</td>\n",
       "      <td>0</td>\n",
       "      <td>0</td>\n",
       "      <td>0</td>\n",
       "      <td>0</td>\n",
       "      <td>0</td>\n",
       "      <td>0</td>\n",
       "    </tr>\n",
       "    <tr>\n",
       "      <th>1</th>\n",
       "      <td>2013-02-01</td>\n",
       "      <td>0</td>\n",
       "      <td>0</td>\n",
       "      <td>0</td>\n",
       "      <td>0</td>\n",
       "      <td>0</td>\n",
       "      <td>0</td>\n",
       "      <td>0</td>\n",
       "      <td>0</td>\n",
       "      <td>0</td>\n",
       "      <td>0</td>\n",
       "      <td>0</td>\n",
       "      <td>0</td>\n",
       "    </tr>\n",
       "  </tbody>\n",
       "</table>\n",
       "</div>"
      ],
      "text/plain": [
       "   YearMonth  Easter Day  Good Friday  New Year  Christmas  Labor Day  \\\n",
       "0 2013-01-01           0            0         1          0          0   \n",
       "1 2013-02-01           0            0         0          0          0   \n",
       "\n",
       "   Independence Day  Revolution Day Memorial  Regional Games   \\\n",
       "0                 0                        0                0   \n",
       "1                 0                        0                0   \n",
       "\n",
       "   FIFA U-17 World Cup  Football Gold Cup  Beer Capital  Music Fest  \n",
       "0                    0                  0             0           0  \n",
       "1                    0                  0             0           0  "
      ]
     },
     "execution_count": 10,
     "metadata": {},
     "output_type": "execute_result"
    }
   ],
   "source": [
    "df2 = pd.read_csv('../input/event_calendar.csv')\n",
    "print(len(df2))\n",
    "df2['YearMonth'] = df2['YearMonth'] .astype(str)\n",
    "df2['YearMonth'] = df2['YearMonth'].apply(lambda x: x[0:4]+'-'+x[4:6])\n",
    "df2['YearMonth']  = pd.to_datetime(df2['YearMonth'])\n",
    "df2.head(2)"
   ]
  },
  {
   "cell_type": "code",
   "execution_count": 4,
   "metadata": {},
   "outputs": [
    {
     "name": "stdout",
     "output_type": "stream",
     "text": [
      "21000\n"
     ]
    },
    {
     "data": {
      "text/html": [
       "<div>\n",
       "<style scoped>\n",
       "    .dataframe tbody tr th:only-of-type {\n",
       "        vertical-align: middle;\n",
       "    }\n",
       "\n",
       "    .dataframe tbody tr th {\n",
       "        vertical-align: top;\n",
       "    }\n",
       "\n",
       "    .dataframe thead th {\n",
       "        text-align: right;\n",
       "    }\n",
       "</style>\n",
       "<table border=\"1\" class=\"dataframe\">\n",
       "  <thead>\n",
       "    <tr style=\"text-align: right;\">\n",
       "      <th></th>\n",
       "      <th>Agency</th>\n",
       "      <th>SKU</th>\n",
       "      <th>YearMonth</th>\n",
       "      <th>Volume</th>\n",
       "    </tr>\n",
       "  </thead>\n",
       "  <tbody>\n",
       "    <tr>\n",
       "      <th>0</th>\n",
       "      <td>Agency_22</td>\n",
       "      <td>SKU_01</td>\n",
       "      <td>2013-01-01</td>\n",
       "      <td>52.272</td>\n",
       "    </tr>\n",
       "    <tr>\n",
       "      <th>1</th>\n",
       "      <td>Agency_37</td>\n",
       "      <td>SKU_04</td>\n",
       "      <td>2013-01-01</td>\n",
       "      <td>0.000</td>\n",
       "    </tr>\n",
       "  </tbody>\n",
       "</table>\n",
       "</div>"
      ],
      "text/plain": [
       "      Agency     SKU  YearMonth  Volume\n",
       "0  Agency_22  SKU_01 2013-01-01  52.272\n",
       "1  Agency_37  SKU_04 2013-01-01   0.000"
      ]
     },
     "execution_count": 4,
     "metadata": {},
     "output_type": "execute_result"
    }
   ],
   "source": [
    "df3 = pd.read_csv('../input/historical_volume.csv')\n",
    "print(len(df3))\n",
    "df3['YearMonth'] = df3['YearMonth'] .astype(str)\n",
    "df3['YearMonth'] = df3['YearMonth'].apply(lambda x: x[0:4]+'-'+x[4:6])\n",
    "df3['YearMonth']  = pd.to_datetime(df3['YearMonth'])\n",
    "df3 = df3.sort_values('YearMonth', ascending=True).reset_index(drop=True)\n",
    "df3.head(2)"
   ]
  },
  {
   "cell_type": "code",
   "execution_count": 5,
   "metadata": {},
   "outputs": [
    {
     "name": "stdout",
     "output_type": "stream",
     "text": [
      "60\n"
     ]
    },
    {
     "data": {
      "text/html": [
       "<div>\n",
       "<style scoped>\n",
       "    .dataframe tbody tr th:only-of-type {\n",
       "        vertical-align: middle;\n",
       "    }\n",
       "\n",
       "    .dataframe tbody tr th {\n",
       "        vertical-align: top;\n",
       "    }\n",
       "\n",
       "    .dataframe thead th {\n",
       "        text-align: right;\n",
       "    }\n",
       "</style>\n",
       "<table border=\"1\" class=\"dataframe\">\n",
       "  <thead>\n",
       "    <tr style=\"text-align: right;\">\n",
       "      <th></th>\n",
       "      <th>YearMonth</th>\n",
       "      <th>Soda_Volume</th>\n",
       "    </tr>\n",
       "  </thead>\n",
       "  <tbody>\n",
       "    <tr>\n",
       "      <th>0</th>\n",
       "      <td>2013-01-01</td>\n",
       "      <td>718394219</td>\n",
       "    </tr>\n",
       "    <tr>\n",
       "      <th>1</th>\n",
       "      <td>2013-02-01</td>\n",
       "      <td>753938444</td>\n",
       "    </tr>\n",
       "  </tbody>\n",
       "</table>\n",
       "</div>"
      ],
      "text/plain": [
       "   YearMonth  Soda_Volume\n",
       "0 2013-01-01    718394219\n",
       "1 2013-02-01    753938444"
      ]
     },
     "execution_count": 5,
     "metadata": {},
     "output_type": "execute_result"
    }
   ],
   "source": [
    "df4 = pd.read_csv('../input/industry_soda_sales.csv')\n",
    "print(len(df4))\n",
    "df4['YearMonth'] = df4['YearMonth'] .astype(str)\n",
    "df4['YearMonth'] = df4['YearMonth'].apply(lambda x: x[0:4]+'-'+x[4:6])\n",
    "df4['YearMonth']  = pd.to_datetime(df4['YearMonth'])\n",
    "df4.head(2)"
   ]
  },
  {
   "cell_type": "code",
   "execution_count": 9,
   "metadata": {},
   "outputs": [
    {
     "name": "stdout",
     "output_type": "stream",
     "text": [
      "60\n"
     ]
    },
    {
     "data": {
      "text/html": [
       "<div>\n",
       "<style scoped>\n",
       "    .dataframe tbody tr th:only-of-type {\n",
       "        vertical-align: middle;\n",
       "    }\n",
       "\n",
       "    .dataframe tbody tr th {\n",
       "        vertical-align: top;\n",
       "    }\n",
       "\n",
       "    .dataframe thead th {\n",
       "        text-align: right;\n",
       "    }\n",
       "</style>\n",
       "<table border=\"1\" class=\"dataframe\">\n",
       "  <thead>\n",
       "    <tr style=\"text-align: right;\">\n",
       "      <th></th>\n",
       "      <th>YearMonth</th>\n",
       "      <th>Industry_Volume</th>\n",
       "    </tr>\n",
       "  </thead>\n",
       "  <tbody>\n",
       "    <tr>\n",
       "      <th>0</th>\n",
       "      <td>2013-01-01</td>\n",
       "      <td>492612703</td>\n",
       "    </tr>\n",
       "    <tr>\n",
       "      <th>1</th>\n",
       "      <td>2013-02-01</td>\n",
       "      <td>431937346</td>\n",
       "    </tr>\n",
       "  </tbody>\n",
       "</table>\n",
       "</div>"
      ],
      "text/plain": [
       "   YearMonth  Industry_Volume\n",
       "0 2013-01-01        492612703\n",
       "1 2013-02-01        431937346"
      ]
     },
     "execution_count": 9,
     "metadata": {},
     "output_type": "execute_result"
    }
   ],
   "source": [
    "df5 = pd.read_csv('../input/industry_volume.csv')\n",
    "print(len(df5))\n",
    "df5['YearMonth'] = df5['YearMonth'] .astype(str)\n",
    "df5['YearMonth'] = df5['YearMonth'].apply(lambda x: x[0:4]+'-'+x[4:6])\n",
    "df5['YearMonth']  = pd.to_datetime(df5['YearMonth'])\n",
    "df5.head(2)"
   ]
  },
  {
   "cell_type": "code",
   "execution_count": 6,
   "metadata": {},
   "outputs": [
    {
     "name": "stdout",
     "output_type": "stream",
     "text": [
      "21000\n"
     ]
    },
    {
     "data": {
      "text/html": [
       "<div>\n",
       "<style scoped>\n",
       "    .dataframe tbody tr th:only-of-type {\n",
       "        vertical-align: middle;\n",
       "    }\n",
       "\n",
       "    .dataframe tbody tr th {\n",
       "        vertical-align: top;\n",
       "    }\n",
       "\n",
       "    .dataframe thead th {\n",
       "        text-align: right;\n",
       "    }\n",
       "</style>\n",
       "<table border=\"1\" class=\"dataframe\">\n",
       "  <thead>\n",
       "    <tr style=\"text-align: right;\">\n",
       "      <th></th>\n",
       "      <th>Agency</th>\n",
       "      <th>SKU</th>\n",
       "      <th>YearMonth</th>\n",
       "      <th>Price</th>\n",
       "      <th>Sales</th>\n",
       "      <th>Promotions</th>\n",
       "    </tr>\n",
       "  </thead>\n",
       "  <tbody>\n",
       "    <tr>\n",
       "      <th>0</th>\n",
       "      <td>Agency_01</td>\n",
       "      <td>SKU_01</td>\n",
       "      <td>2013-01-01</td>\n",
       "      <td>1141.500000</td>\n",
       "      <td>1033.432731</td>\n",
       "      <td>108.067269</td>\n",
       "    </tr>\n",
       "    <tr>\n",
       "      <th>1</th>\n",
       "      <td>Agency_28</td>\n",
       "      <td>SKU_05</td>\n",
       "      <td>2013-01-01</td>\n",
       "      <td>1534.647887</td>\n",
       "      <td>1534.647887</td>\n",
       "      <td>0.000000</td>\n",
       "    </tr>\n",
       "  </tbody>\n",
       "</table>\n",
       "</div>"
      ],
      "text/plain": [
       "      Agency     SKU  YearMonth        Price        Sales  Promotions\n",
       "0  Agency_01  SKU_01 2013-01-01  1141.500000  1033.432731  108.067269\n",
       "1  Agency_28  SKU_05 2013-01-01  1534.647887  1534.647887    0.000000"
      ]
     },
     "execution_count": 6,
     "metadata": {},
     "output_type": "execute_result"
    }
   ],
   "source": [
    "df6 = pd.read_csv('../input/price_sales_promotion.csv')\n",
    "print(len(df6))\n",
    "df6['YearMonth'] = df6['YearMonth'] .astype(str)\n",
    "df6['YearMonth'] = df6['YearMonth'].apply(lambda x: x[0:4]+'-'+x[4:6])\n",
    "df6['YearMonth']  = pd.to_datetime(df6['YearMonth'])\n",
    "df6 = df6.sort_values('YearMonth', ascending=True).reset_index(drop=True)\n",
    "df6.head(2)"
   ]
  },
  {
   "cell_type": "code",
   "execution_count": 18,
   "metadata": {},
   "outputs": [
    {
     "name": "stdout",
     "output_type": "stream",
     "text": [
      "3600\n"
     ]
    },
    {
     "data": {
      "text/html": [
       "<div>\n",
       "<style scoped>\n",
       "    .dataframe tbody tr th:only-of-type {\n",
       "        vertical-align: middle;\n",
       "    }\n",
       "\n",
       "    .dataframe tbody tr th {\n",
       "        vertical-align: top;\n",
       "    }\n",
       "\n",
       "    .dataframe thead th {\n",
       "        text-align: right;\n",
       "    }\n",
       "</style>\n",
       "<table border=\"1\" class=\"dataframe\">\n",
       "  <thead>\n",
       "    <tr style=\"text-align: right;\">\n",
       "      <th></th>\n",
       "      <th>YearMonth</th>\n",
       "      <th>Agency</th>\n",
       "      <th>Avg_Max_Temp</th>\n",
       "    </tr>\n",
       "  </thead>\n",
       "  <tbody>\n",
       "    <tr>\n",
       "      <th>0</th>\n",
       "      <td>2013-01-01</td>\n",
       "      <td>Agency_01</td>\n",
       "      <td>17.072</td>\n",
       "    </tr>\n",
       "    <tr>\n",
       "      <th>1</th>\n",
       "      <td>2013-02-01</td>\n",
       "      <td>Agency_01</td>\n",
       "      <td>19.984</td>\n",
       "    </tr>\n",
       "  </tbody>\n",
       "</table>\n",
       "</div>"
      ],
      "text/plain": [
       "   YearMonth     Agency  Avg_Max_Temp\n",
       "0 2013-01-01  Agency_01        17.072\n",
       "1 2013-02-01  Agency_01        19.984"
      ]
     },
     "execution_count": 18,
     "metadata": {},
     "output_type": "execute_result"
    }
   ],
   "source": [
    "df7 = pd.read_csv('../input/weather.csv')\n",
    "print(len(df7))\n",
    "df7['YearMonth'] = df7['YearMonth'] .astype(str)\n",
    "df7['YearMonth'] = df7['YearMonth'].apply(lambda x: x[0:4]+'-'+x[4:6])\n",
    "df7['YearMonth']  = pd.to_datetime(df7['YearMonth'])\n",
    "df7.head(2)"
   ]
  },
  {
   "cell_type": "markdown",
   "metadata": {},
   "source": [
    "#### Merge industry_soda_sales, industry_volume"
   ]
  },
  {
   "cell_type": "code",
   "execution_count": 10,
   "metadata": {},
   "outputs": [
    {
     "name": "stdout",
     "output_type": "stream",
     "text": [
      "60\n"
     ]
    },
    {
     "data": {
      "text/html": [
       "<div>\n",
       "<style scoped>\n",
       "    .dataframe tbody tr th:only-of-type {\n",
       "        vertical-align: middle;\n",
       "    }\n",
       "\n",
       "    .dataframe tbody tr th {\n",
       "        vertical-align: top;\n",
       "    }\n",
       "\n",
       "    .dataframe thead th {\n",
       "        text-align: right;\n",
       "    }\n",
       "</style>\n",
       "<table border=\"1\" class=\"dataframe\">\n",
       "  <thead>\n",
       "    <tr style=\"text-align: right;\">\n",
       "      <th></th>\n",
       "      <th>YearMonth</th>\n",
       "      <th>Soda_Volume</th>\n",
       "      <th>Industry_Volume</th>\n",
       "      <th>Easter Day</th>\n",
       "      <th>Good Friday</th>\n",
       "      <th>New Year</th>\n",
       "      <th>Christmas</th>\n",
       "      <th>Labor Day</th>\n",
       "      <th>Independence Day</th>\n",
       "      <th>Revolution Day Memorial</th>\n",
       "      <th>Regional Games</th>\n",
       "      <th>FIFA U-17 World Cup</th>\n",
       "      <th>Football Gold Cup</th>\n",
       "      <th>Beer Capital</th>\n",
       "      <th>Music Fest</th>\n",
       "    </tr>\n",
       "  </thead>\n",
       "  <tbody>\n",
       "    <tr>\n",
       "      <th>0</th>\n",
       "      <td>2013-01-01</td>\n",
       "      <td>718394219</td>\n",
       "      <td>492612703</td>\n",
       "      <td>0</td>\n",
       "      <td>0</td>\n",
       "      <td>1</td>\n",
       "      <td>0</td>\n",
       "      <td>0</td>\n",
       "      <td>0</td>\n",
       "      <td>0</td>\n",
       "      <td>0</td>\n",
       "      <td>0</td>\n",
       "      <td>0</td>\n",
       "      <td>0</td>\n",
       "      <td>0</td>\n",
       "    </tr>\n",
       "    <tr>\n",
       "      <th>1</th>\n",
       "      <td>2013-02-01</td>\n",
       "      <td>753938444</td>\n",
       "      <td>431937346</td>\n",
       "      <td>0</td>\n",
       "      <td>0</td>\n",
       "      <td>0</td>\n",
       "      <td>0</td>\n",
       "      <td>0</td>\n",
       "      <td>0</td>\n",
       "      <td>0</td>\n",
       "      <td>0</td>\n",
       "      <td>0</td>\n",
       "      <td>0</td>\n",
       "      <td>0</td>\n",
       "      <td>0</td>\n",
       "    </tr>\n",
       "  </tbody>\n",
       "</table>\n",
       "</div>"
      ],
      "text/plain": [
       "   YearMonth  Soda_Volume  Industry_Volume  Easter Day  Good Friday  New Year  \\\n",
       "0 2013-01-01    718394219        492612703           0            0         1   \n",
       "1 2013-02-01    753938444        431937346           0            0         0   \n",
       "\n",
       "   Christmas  Labor Day  Independence Day  Revolution Day Memorial  \\\n",
       "0          0          0                 0                        0   \n",
       "1          0          0                 0                        0   \n",
       "\n",
       "   Regional Games   FIFA U-17 World Cup  Football Gold Cup  Beer Capital  \\\n",
       "0                0                    0                  0             0   \n",
       "1                0                    0                  0             0   \n",
       "\n",
       "   Music Fest  \n",
       "0           0  \n",
       "1           0  "
      ]
     },
     "execution_count": 10,
     "metadata": {},
     "output_type": "execute_result"
    }
   ],
   "source": [
    "dfa = df4.merge(df5, on='YearMonth', how='inner')\n",
    "dfa = dfa.merge(df2, on='YearMonth', how='inner')\n",
    "print(len(dfa))\n",
    "dfa.head(2)"
   ]
  },
  {
   "cell_type": "markdown",
   "metadata": {},
   "source": [
    "#### Merge historical_volume, price_sales_promotion, weather, industry_soda_sales, industry_volume"
   ]
  },
  {
   "cell_type": "code",
   "execution_count": 12,
   "metadata": {},
   "outputs": [
    {
     "name": "stdout",
     "output_type": "stream",
     "text": [
      "21000\n",
      "21000\n",
      "21000\n"
     ]
    },
    {
     "data": {
      "text/html": [
       "<div>\n",
       "<style scoped>\n",
       "    .dataframe tbody tr th:only-of-type {\n",
       "        vertical-align: middle;\n",
       "    }\n",
       "\n",
       "    .dataframe tbody tr th {\n",
       "        vertical-align: top;\n",
       "    }\n",
       "\n",
       "    .dataframe thead th {\n",
       "        text-align: right;\n",
       "    }\n",
       "</style>\n",
       "<table border=\"1\" class=\"dataframe\">\n",
       "  <thead>\n",
       "    <tr style=\"text-align: right;\">\n",
       "      <th></th>\n",
       "      <th>Agency</th>\n",
       "      <th>SKU</th>\n",
       "      <th>YearMonth</th>\n",
       "      <th>Volume</th>\n",
       "      <th>Price</th>\n",
       "      <th>Sales</th>\n",
       "      <th>Promotions</th>\n",
       "      <th>Avg_Max_Temp</th>\n",
       "      <th>Avg_Population_2017</th>\n",
       "      <th>Avg_Yearly_Household_Income_2017</th>\n",
       "      <th>...</th>\n",
       "      <th>New Year</th>\n",
       "      <th>Christmas</th>\n",
       "      <th>Labor Day</th>\n",
       "      <th>Independence Day</th>\n",
       "      <th>Revolution Day Memorial</th>\n",
       "      <th>Regional Games</th>\n",
       "      <th>FIFA U-17 World Cup</th>\n",
       "      <th>Football Gold Cup</th>\n",
       "      <th>Beer Capital</th>\n",
       "      <th>Music Fest</th>\n",
       "    </tr>\n",
       "  </thead>\n",
       "  <tbody>\n",
       "    <tr>\n",
       "      <th>0</th>\n",
       "      <td>22</td>\n",
       "      <td>1</td>\n",
       "      <td>2013-01-01</td>\n",
       "      <td>52.2720</td>\n",
       "      <td>1168.903668</td>\n",
       "      <td>1069.166193</td>\n",
       "      <td>99.737475</td>\n",
       "      <td>25.845238</td>\n",
       "      <td>NaN</td>\n",
       "      <td>NaN</td>\n",
       "      <td>...</td>\n",
       "      <td>1</td>\n",
       "      <td>0</td>\n",
       "      <td>0</td>\n",
       "      <td>0</td>\n",
       "      <td>0</td>\n",
       "      <td>0</td>\n",
       "      <td>0</td>\n",
       "      <td>0</td>\n",
       "      <td>0</td>\n",
       "      <td>0</td>\n",
       "    </tr>\n",
       "    <tr>\n",
       "      <th>1</th>\n",
       "      <td>22</td>\n",
       "      <td>4</td>\n",
       "      <td>2013-01-01</td>\n",
       "      <td>31.0554</td>\n",
       "      <td>1742.112676</td>\n",
       "      <td>1598.414189</td>\n",
       "      <td>143.698487</td>\n",
       "      <td>25.845238</td>\n",
       "      <td>NaN</td>\n",
       "      <td>NaN</td>\n",
       "      <td>...</td>\n",
       "      <td>1</td>\n",
       "      <td>0</td>\n",
       "      <td>0</td>\n",
       "      <td>0</td>\n",
       "      <td>0</td>\n",
       "      <td>0</td>\n",
       "      <td>0</td>\n",
       "      <td>0</td>\n",
       "      <td>0</td>\n",
       "      <td>0</td>\n",
       "    </tr>\n",
       "  </tbody>\n",
       "</table>\n",
       "<p>2 rows × 24 columns</p>\n",
       "</div>"
      ],
      "text/plain": [
       "   Agency  SKU  YearMonth   Volume        Price        Sales  Promotions  \\\n",
       "0      22    1 2013-01-01  52.2720  1168.903668  1069.166193   99.737475   \n",
       "1      22    4 2013-01-01  31.0554  1742.112676  1598.414189  143.698487   \n",
       "\n",
       "   Avg_Max_Temp  Avg_Population_2017  Avg_Yearly_Household_Income_2017  \\\n",
       "0     25.845238                  NaN                               NaN   \n",
       "1     25.845238                  NaN                               NaN   \n",
       "\n",
       "      ...      New Year  Christmas  Labor Day  Independence Day  \\\n",
       "0     ...             1          0          0                 0   \n",
       "1     ...             1          0          0                 0   \n",
       "\n",
       "   Revolution Day Memorial  Regional Games   FIFA U-17 World Cup  \\\n",
       "0                        0                0                    0   \n",
       "1                        0                0                    0   \n",
       "\n",
       "   Football Gold Cup  Beer Capital  Music Fest  \n",
       "0                  0             0           0  \n",
       "1                  0             0           0  \n",
       "\n",
       "[2 rows x 24 columns]"
      ]
     },
     "execution_count": 12,
     "metadata": {},
     "output_type": "execute_result"
    }
   ],
   "source": [
    "df = df3.merge(df6, on=['Agency','SKU','YearMonth'], how='inner')\n",
    "df = df.merge(df7, on=['Agency','YearMonth'], how='inner')\n",
    "\n",
    "df['Year'] = df['YearMonth'].dt.year\n",
    "df['Year'] = df['Year'].astype(str)\n",
    "\n",
    "print(len(df))\n",
    "df = df.merge(df1, on=['Agency','Year'], how ='left')\n",
    "\n",
    "print(len(df))\n",
    "df['SKU'] = df['SKU'].apply(lambda x: x[4:])\n",
    "df['SKU'] = df['SKU'].astype(int)\n",
    "\n",
    "df['Agency'] = df['Agency'].apply(lambda x: x[7:])\n",
    "df['Agency'] = df['Agency'].astype(int)\n",
    "\n",
    "df = df.merge(dfa, on='YearMonth', how='left')\n",
    "df = df.drop('Year', axis=1)\n",
    "print(len(df))\n",
    "\n",
    "df.to_csv('../input/train.csv',index=False)\n",
    "df.head(2)"
   ]
  },
  {
   "cell_type": "markdown",
   "metadata": {},
   "source": [
    "## 3. SKU Recommendation"
   ]
  },
  {
   "cell_type": "markdown",
   "metadata": {},
   "source": [
    "### 3.1 by weather data"
   ]
  },
  {
   "cell_type": "code",
   "execution_count": 19,
   "metadata": {},
   "outputs": [
    {
     "name": "stdout",
     "output_type": "stream",
     "text": [
      "3600\n"
     ]
    },
    {
     "data": {
      "text/html": [
       "<div>\n",
       "<style scoped>\n",
       "    .dataframe tbody tr th:only-of-type {\n",
       "        vertical-align: middle;\n",
       "    }\n",
       "\n",
       "    .dataframe tbody tr th {\n",
       "        vertical-align: top;\n",
       "    }\n",
       "\n",
       "    .dataframe thead th {\n",
       "        text-align: right;\n",
       "    }\n",
       "</style>\n",
       "<table border=\"1\" class=\"dataframe\">\n",
       "  <thead>\n",
       "    <tr style=\"text-align: right;\">\n",
       "      <th></th>\n",
       "      <th>YearMonth</th>\n",
       "      <th>Agency</th>\n",
       "      <th>Avg_Max_Temp</th>\n",
       "    </tr>\n",
       "  </thead>\n",
       "  <tbody>\n",
       "    <tr>\n",
       "      <th>0</th>\n",
       "      <td>2013-01-01</td>\n",
       "      <td>Agency_01</td>\n",
       "      <td>17.072</td>\n",
       "    </tr>\n",
       "    <tr>\n",
       "      <th>1</th>\n",
       "      <td>2013-02-01</td>\n",
       "      <td>Agency_01</td>\n",
       "      <td>19.984</td>\n",
       "    </tr>\n",
       "    <tr>\n",
       "      <th>2</th>\n",
       "      <td>2013-03-01</td>\n",
       "      <td>Agency_01</td>\n",
       "      <td>24.600</td>\n",
       "    </tr>\n",
       "  </tbody>\n",
       "</table>\n",
       "</div>"
      ],
      "text/plain": [
       "   YearMonth     Agency  Avg_Max_Temp\n",
       "0 2013-01-01  Agency_01        17.072\n",
       "1 2013-02-01  Agency_01        19.984\n",
       "2 2013-03-01  Agency_01        24.600"
      ]
     },
     "execution_count": 19,
     "metadata": {},
     "output_type": "execute_result"
    }
   ],
   "source": [
    "# df7['Agency'] = df7['Agency'].apply(lambda x: x[7:])\n",
    "# df7['Agency'] = df7['Agency'].astype(int)\n",
    "print(len(df7))\n",
    "df7.head(3)"
   ]
  },
  {
   "cell_type": "code",
   "execution_count": 20,
   "metadata": {},
   "outputs": [
    {
     "name": "stdout",
     "output_type": "stream",
     "text": [
      "60\n"
     ]
    },
    {
     "data": {
      "text/html": [
       "<div>\n",
       "<style scoped>\n",
       "    .dataframe tbody tr th:only-of-type {\n",
       "        vertical-align: middle;\n",
       "    }\n",
       "\n",
       "    .dataframe tbody tr th {\n",
       "        vertical-align: top;\n",
       "    }\n",
       "\n",
       "    .dataframe thead th {\n",
       "        text-align: right;\n",
       "    }\n",
       "</style>\n",
       "<table border=\"1\" class=\"dataframe\">\n",
       "  <thead>\n",
       "    <tr style=\"text-align: right;\">\n",
       "      <th></th>\n",
       "      <th>Agency</th>\n",
       "      <th>mean</th>\n",
       "      <th>median</th>\n",
       "    </tr>\n",
       "  </thead>\n",
       "  <tbody>\n",
       "    <tr>\n",
       "      <th>0</th>\n",
       "      <td>Agency_01</td>\n",
       "      <td>26.454848</td>\n",
       "      <td>27.451417</td>\n",
       "    </tr>\n",
       "    <tr>\n",
       "      <th>1</th>\n",
       "      <td>Agency_02</td>\n",
       "      <td>30.292461</td>\n",
       "      <td>30.887660</td>\n",
       "    </tr>\n",
       "    <tr>\n",
       "      <th>2</th>\n",
       "      <td>Agency_03</td>\n",
       "      <td>29.006522</td>\n",
       "      <td>29.746955</td>\n",
       "    </tr>\n",
       "  </tbody>\n",
       "</table>\n",
       "</div>"
      ],
      "text/plain": [
       "      Agency       mean     median\n",
       "0  Agency_01  26.454848  27.451417\n",
       "1  Agency_02  30.292461  30.887660\n",
       "2  Agency_03  29.006522  29.746955"
      ]
     },
     "execution_count": 20,
     "metadata": {},
     "output_type": "execute_result"
    }
   ],
   "source": [
    "df7 = df7.groupby('Agency')['Avg_Max_Temp'].agg(['mean','median']).reset_index()\n",
    "print(len(df7))\n",
    "df7.head(3)"
   ]
  },
  {
   "cell_type": "code",
   "execution_count": 21,
   "metadata": {},
   "outputs": [
    {
     "data": {
      "text/html": [
       "<div>\n",
       "<style scoped>\n",
       "    .dataframe tbody tr th:only-of-type {\n",
       "        vertical-align: middle;\n",
       "    }\n",
       "\n",
       "    .dataframe tbody tr th {\n",
       "        vertical-align: top;\n",
       "    }\n",
       "\n",
       "    .dataframe thead th {\n",
       "        text-align: right;\n",
       "    }\n",
       "</style>\n",
       "<table border=\"1\" class=\"dataframe\">\n",
       "  <thead>\n",
       "    <tr style=\"text-align: right;\">\n",
       "      <th></th>\n",
       "      <th>Agency</th>\n",
       "      <th>mean</th>\n",
       "      <th>median</th>\n",
       "    </tr>\n",
       "  </thead>\n",
       "  <tbody>\n",
       "    <tr>\n",
       "      <th>0</th>\n",
       "      <td>Agency_05</td>\n",
       "      <td>29.007939</td>\n",
       "      <td>28.791272</td>\n",
       "    </tr>\n",
       "    <tr>\n",
       "      <th>1</th>\n",
       "      <td>Agency_06</td>\n",
       "      <td>29.007939</td>\n",
       "      <td>28.791272</td>\n",
       "    </tr>\n",
       "    <tr>\n",
       "      <th>2</th>\n",
       "      <td>Agency_08</td>\n",
       "      <td>29.007939</td>\n",
       "      <td>28.791272</td>\n",
       "    </tr>\n",
       "    <tr>\n",
       "      <th>3</th>\n",
       "      <td>Agency_40</td>\n",
       "      <td>29.007939</td>\n",
       "      <td>28.791272</td>\n",
       "    </tr>\n",
       "    <tr>\n",
       "      <th>4</th>\n",
       "      <td>Agency_50</td>\n",
       "      <td>29.007939</td>\n",
       "      <td>28.791272</td>\n",
       "    </tr>\n",
       "  </tbody>\n",
       "</table>\n",
       "</div>"
      ],
      "text/plain": [
       "      Agency       mean     median\n",
       "0  Agency_05  29.007939  28.791272\n",
       "1  Agency_06  29.007939  28.791272\n",
       "2  Agency_08  29.007939  28.791272\n",
       "3  Agency_40  29.007939  28.791272\n",
       "4  Agency_50  29.007939  28.791272"
      ]
     },
     "execution_count": 21,
     "metadata": {},
     "output_type": "execute_result"
    }
   ],
   "source": [
    "agen6 = df7[(df7['mean']>=29.007939)&(df7['mean'] <29.007940)].reset_index(drop=True)\n",
    "agen6"
   ]
  },
  {
   "cell_type": "code",
   "execution_count": 22,
   "metadata": {},
   "outputs": [
    {
     "data": {
      "text/html": [
       "<div>\n",
       "<style scoped>\n",
       "    .dataframe tbody tr th:only-of-type {\n",
       "        vertical-align: middle;\n",
       "    }\n",
       "\n",
       "    .dataframe tbody tr th {\n",
       "        vertical-align: top;\n",
       "    }\n",
       "\n",
       "    .dataframe thead th {\n",
       "        text-align: right;\n",
       "    }\n",
       "</style>\n",
       "<table border=\"1\" class=\"dataframe\">\n",
       "  <thead>\n",
       "    <tr style=\"text-align: right;\">\n",
       "      <th></th>\n",
       "      <th>Agency</th>\n",
       "      <th>mean</th>\n",
       "      <th>median</th>\n",
       "    </tr>\n",
       "  </thead>\n",
       "  <tbody>\n",
       "    <tr>\n",
       "      <th>0</th>\n",
       "      <td>Agency_12</td>\n",
       "      <td>25.085281</td>\n",
       "      <td>24.977237</td>\n",
       "    </tr>\n",
       "    <tr>\n",
       "      <th>1</th>\n",
       "      <td>Agency_13</td>\n",
       "      <td>25.085281</td>\n",
       "      <td>24.977237</td>\n",
       "    </tr>\n",
       "    <tr>\n",
       "      <th>2</th>\n",
       "      <td>Agency_14</td>\n",
       "      <td>25.085281</td>\n",
       "      <td>24.977237</td>\n",
       "    </tr>\n",
       "    <tr>\n",
       "      <th>3</th>\n",
       "      <td>Agency_15</td>\n",
       "      <td>25.085281</td>\n",
       "      <td>24.977237</td>\n",
       "    </tr>\n",
       "    <tr>\n",
       "      <th>4</th>\n",
       "      <td>Agency_16</td>\n",
       "      <td>25.085281</td>\n",
       "      <td>24.977237</td>\n",
       "    </tr>\n",
       "    <tr>\n",
       "      <th>5</th>\n",
       "      <td>Agency_17</td>\n",
       "      <td>25.085281</td>\n",
       "      <td>24.977237</td>\n",
       "    </tr>\n",
       "    <tr>\n",
       "      <th>6</th>\n",
       "      <td>Agency_20</td>\n",
       "      <td>25.085281</td>\n",
       "      <td>24.977237</td>\n",
       "    </tr>\n",
       "    <tr>\n",
       "      <th>7</th>\n",
       "      <td>Agency_38</td>\n",
       "      <td>25.085281</td>\n",
       "      <td>24.977237</td>\n",
       "    </tr>\n",
       "    <tr>\n",
       "      <th>8</th>\n",
       "      <td>Agency_39</td>\n",
       "      <td>25.085281</td>\n",
       "      <td>24.977237</td>\n",
       "    </tr>\n",
       "    <tr>\n",
       "      <th>9</th>\n",
       "      <td>Agency_57</td>\n",
       "      <td>25.085281</td>\n",
       "      <td>24.977237</td>\n",
       "    </tr>\n",
       "    <tr>\n",
       "      <th>10</th>\n",
       "      <td>Agency_58</td>\n",
       "      <td>25.085281</td>\n",
       "      <td>24.977237</td>\n",
       "    </tr>\n",
       "    <tr>\n",
       "      <th>11</th>\n",
       "      <td>Agency_59</td>\n",
       "      <td>25.085281</td>\n",
       "      <td>24.977237</td>\n",
       "    </tr>\n",
       "    <tr>\n",
       "      <th>12</th>\n",
       "      <td>Agency_60</td>\n",
       "      <td>25.085281</td>\n",
       "      <td>24.977237</td>\n",
       "    </tr>\n",
       "  </tbody>\n",
       "</table>\n",
       "</div>"
      ],
      "text/plain": [
       "       Agency       mean     median\n",
       "0   Agency_12  25.085281  24.977237\n",
       "1   Agency_13  25.085281  24.977237\n",
       "2   Agency_14  25.085281  24.977237\n",
       "3   Agency_15  25.085281  24.977237\n",
       "4   Agency_16  25.085281  24.977237\n",
       "5   Agency_17  25.085281  24.977237\n",
       "6   Agency_20  25.085281  24.977237\n",
       "7   Agency_38  25.085281  24.977237\n",
       "8   Agency_39  25.085281  24.977237\n",
       "9   Agency_57  25.085281  24.977237\n",
       "10  Agency_58  25.085281  24.977237\n",
       "11  Agency_59  25.085281  24.977237\n",
       "12  Agency_60  25.085281  24.977237"
      ]
     },
     "execution_count": 22,
     "metadata": {},
     "output_type": "execute_result"
    }
   ],
   "source": [
    "agen14 = df7[(df7['mean']>= 25.085280)&(df7['mean'] <25.085282)].reset_index(drop=True)\n",
    "agen14"
   ]
  },
  {
   "cell_type": "markdown",
   "metadata": {},
   "source": [
    "**jika kita analisa by mean dan median<br>\n",
    "Agency 6 memiliki kesamaan dengan agency 5, 40, 8, dan 50<br>\n",
    "Agency 14 memiliki kesamaan dengan agency 12, 13, 15, 16. 17, 20, 38, 39, 57, 58, 59, 60**"
   ]
  },
  {
   "cell_type": "markdown",
   "metadata": {},
   "source": [
    "### 3.2 by demographis"
   ]
  },
  {
   "cell_type": "code",
   "execution_count": 30,
   "metadata": {},
   "outputs": [
    {
     "data": {
      "text/html": [
       "<div>\n",
       "<style scoped>\n",
       "    .dataframe tbody tr th:only-of-type {\n",
       "        vertical-align: middle;\n",
       "    }\n",
       "\n",
       "    .dataframe tbody tr th {\n",
       "        vertical-align: top;\n",
       "    }\n",
       "\n",
       "    .dataframe thead th {\n",
       "        text-align: right;\n",
       "    }\n",
       "</style>\n",
       "<table border=\"1\" class=\"dataframe\">\n",
       "  <thead>\n",
       "    <tr style=\"text-align: right;\">\n",
       "      <th></th>\n",
       "      <th>Agency</th>\n",
       "      <th>Avg_Population_2017</th>\n",
       "      <th>Avg_Yearly_Household_Income_2017</th>\n",
       "    </tr>\n",
       "  </thead>\n",
       "  <tbody>\n",
       "    <tr>\n",
       "      <th>0</th>\n",
       "      <td>Agency_01</td>\n",
       "      <td>153733</td>\n",
       "      <td>120207</td>\n",
       "    </tr>\n",
       "    <tr>\n",
       "      <th>1</th>\n",
       "      <td>Agency_02</td>\n",
       "      <td>3137874</td>\n",
       "      <td>240809</td>\n",
       "    </tr>\n",
       "  </tbody>\n",
       "</table>\n",
       "</div>"
      ],
      "text/plain": [
       "      Agency  Avg_Population_2017  Avg_Yearly_Household_Income_2017\n",
       "0  Agency_01               153733                            120207\n",
       "1  Agency_02              3137874                            240809"
      ]
     },
     "execution_count": 30,
     "metadata": {},
     "output_type": "execute_result"
    }
   ],
   "source": [
    "df1 = df1.drop('Year',axis=1)\n",
    "df1 = df1.sort_values('Agency',ascending=True).reset_index(drop=True)\n",
    "df1.head(2)"
   ]
  },
  {
   "cell_type": "code",
   "execution_count": 31,
   "metadata": {},
   "outputs": [
    {
     "data": {
      "text/html": [
       "<div>\n",
       "<style scoped>\n",
       "    .dataframe tbody tr th:only-of-type {\n",
       "        vertical-align: middle;\n",
       "    }\n",
       "\n",
       "    .dataframe tbody tr th {\n",
       "        vertical-align: top;\n",
       "    }\n",
       "\n",
       "    .dataframe thead th {\n",
       "        text-align: right;\n",
       "    }\n",
       "</style>\n",
       "<table border=\"1\" class=\"dataframe\">\n",
       "  <thead>\n",
       "    <tr style=\"text-align: right;\">\n",
       "      <th></th>\n",
       "      <th>Agency</th>\n",
       "      <th>Avg_Population_2017</th>\n",
       "      <th>Avg_Yearly_Household_Income_2017</th>\n",
       "    </tr>\n",
       "  </thead>\n",
       "  <tbody>\n",
       "    <tr>\n",
       "      <th>5</th>\n",
       "      <td>Agency_06</td>\n",
       "      <td>2104390</td>\n",
       "      <td>228353</td>\n",
       "    </tr>\n",
       "    <tr>\n",
       "      <th>13</th>\n",
       "      <td>Agency_14</td>\n",
       "      <td>2073615</td>\n",
       "      <td>204289</td>\n",
       "    </tr>\n",
       "  </tbody>\n",
       "</table>\n",
       "</div>"
      ],
      "text/plain": [
       "       Agency  Avg_Population_2017  Avg_Yearly_Household_Income_2017\n",
       "5   Agency_06              2104390                            228353\n",
       "13  Agency_14              2073615                            204289"
      ]
     },
     "execution_count": 31,
     "metadata": {},
     "output_type": "execute_result"
    }
   ],
   "source": [
    "agen_614 = df1[(df1['Agency']=='Agency_06')|(df1['Agency']=='Agency_14')]\n",
    "agen_614"
   ]
  },
  {
   "cell_type": "code",
   "execution_count": 32,
   "metadata": {},
   "outputs": [
    {
     "data": {
      "text/html": [
       "<div>\n",
       "<style scoped>\n",
       "    .dataframe tbody tr th:only-of-type {\n",
       "        vertical-align: middle;\n",
       "    }\n",
       "\n",
       "    .dataframe tbody tr th {\n",
       "        vertical-align: top;\n",
       "    }\n",
       "\n",
       "    .dataframe thead th {\n",
       "        text-align: right;\n",
       "    }\n",
       "</style>\n",
       "<table border=\"1\" class=\"dataframe\">\n",
       "  <thead>\n",
       "    <tr style=\"text-align: right;\">\n",
       "      <th></th>\n",
       "      <th>Agency</th>\n",
       "      <th>Avg_Population_2017</th>\n",
       "      <th>Avg_Yearly_Household_Income_2017</th>\n",
       "    </tr>\n",
       "  </thead>\n",
       "  <tbody>\n",
       "    <tr>\n",
       "      <th>5</th>\n",
       "      <td>Agency_06</td>\n",
       "      <td>2104390</td>\n",
       "      <td>228353</td>\n",
       "    </tr>\n",
       "    <tr>\n",
       "      <th>6</th>\n",
       "      <td>Agency_07</td>\n",
       "      <td>1868030</td>\n",
       "      <td>175785</td>\n",
       "    </tr>\n",
       "  </tbody>\n",
       "</table>\n",
       "</div>"
      ],
      "text/plain": [
       "      Agency  Avg_Population_2017  Avg_Yearly_Household_Income_2017\n",
       "5  Agency_06              2104390                            228353\n",
       "6  Agency_07              1868030                            175785"
      ]
     },
     "execution_count": 32,
     "metadata": {},
     "output_type": "execute_result"
    }
   ],
   "source": [
    "df1_temp = df1[(df1['Avg_Population_2017'] >= 1800000)]\n",
    "df1_temp = df1_temp[(df1_temp['Avg_Population_2017'] < 2500000)]\n",
    "df1_temp.head(2)"
   ]
  },
  {
   "cell_type": "code",
   "execution_count": 33,
   "metadata": {},
   "outputs": [
    {
     "data": {
      "text/html": [
       "<div>\n",
       "<style scoped>\n",
       "    .dataframe tbody tr th:only-of-type {\n",
       "        vertical-align: middle;\n",
       "    }\n",
       "\n",
       "    .dataframe tbody tr th {\n",
       "        vertical-align: top;\n",
       "    }\n",
       "\n",
       "    .dataframe thead th {\n",
       "        text-align: right;\n",
       "    }\n",
       "</style>\n",
       "<table border=\"1\" class=\"dataframe\">\n",
       "  <thead>\n",
       "    <tr style=\"text-align: right;\">\n",
       "      <th></th>\n",
       "      <th>Agency</th>\n",
       "      <th>Avg_Population_2017</th>\n",
       "      <th>Avg_Yearly_Household_Income_2017</th>\n",
       "    </tr>\n",
       "  </thead>\n",
       "  <tbody>\n",
       "    <tr>\n",
       "      <th>0</th>\n",
       "      <td>Agency_55</td>\n",
       "      <td>2025793</td>\n",
       "      <td>238553</td>\n",
       "    </tr>\n",
       "    <tr>\n",
       "      <th>1</th>\n",
       "      <td>Agency_56</td>\n",
       "      <td>1901290</td>\n",
       "      <td>206553</td>\n",
       "    </tr>\n",
       "  </tbody>\n",
       "</table>\n",
       "</div>"
      ],
      "text/plain": [
       "      Agency  Avg_Population_2017  Avg_Yearly_Household_Income_2017\n",
       "0  Agency_55              2025793                            238553\n",
       "1  Agency_56              1901290                            206553"
      ]
     },
     "execution_count": 33,
     "metadata": {},
     "output_type": "execute_result"
    }
   ],
   "source": [
    "df1_temp = df1_temp[df1_temp['Avg_Yearly_Household_Income_2017']> 185000]\n",
    "df1_temp = df1_temp[df1_temp['Agency'] != 'Agency_06']\n",
    "df1_temp = df1_temp[df1_temp['Agency'] != 'Agency_14'].reset_index(drop=True)\n",
    "df1_temp.head(2)"
   ]
  },
  {
   "cell_type": "code",
   "execution_count": 34,
   "metadata": {},
   "outputs": [
    {
     "data": {
      "image/png": "[encoded data removed]",
      "text/plain": [
       "<Figure size 1080x720 with 1 Axes>"
      ]
     },
     "metadata": {
      "needs_background": "light"
     },
     "output_type": "display_data"
    }
   ],
   "source": [
    "fig, ax = plt.subplots(figsize=(15,10), sharex=True, sharey=True)\n",
    "g = sns.scatterplot(x='Avg_Population_2017',y='Avg_Yearly_Household_Income_2017', hue='Agency', data=df1, ax=ax)\n",
    "g = sns.scatterplot(x='Avg_Population_2017',y='Avg_Yearly_Household_Income_2017', marker='X', s=400 , data=agen_614, ax=ax)\n",
    "g = sns.scatterplot(x='Avg_Population_2017',y='Avg_Yearly_Household_Income_2017', marker='X', s=150 , data=df1_temp, ax=ax)\n",
    "\n",
    "\n",
    "ax.legend( df1['Agency'].values, loc='upper lef', ncol=2, borderaxespad=0,frameon=False, bbox_to_anchor= (1.01, 1.0))\n",
    "plt.savefig('../fig/sku reco analysis 1.png',bbox_inches='tight')"
   ]
  },
  {
   "cell_type": "markdown",
   "metadata": {},
   "source": [
    "**jika kita analisa dari graph tersebut maka,<br>\n",
    "Agency_06 dekat dengan agency 55 dan 60<br>\n",
    "Agency_14 dekat dengan 57 dan 56**"
   ]
  },
  {
   "cell_type": "markdown",
   "metadata": {},
   "source": [
    "### 3.3 combination of weather and demographis"
   ]
  },
  {
   "cell_type": "markdown",
   "metadata": {},
   "source": [
    "**dari kedua hasil analisa tersebut maka<br>\n",
    "Agency_06 : 55, 60, 5, 40, 8, dan 50<br>\n",
    "Agency_14 : 57, 56, 12, 13, 15, 16. 17, 20, 38, 39, 57, 58, 59, 60<br><br>\n",
    "Mencari SKU dengan volume terbaik dari agency diatas di dalam data historical_volume**"
   ]
  },
  {
   "cell_type": "markdown",
   "metadata": {},
   "source": [
    "### Agency_06"
   ]
  },
  {
   "cell_type": "code",
   "execution_count": 59,
   "metadata": {},
   "outputs": [
    {
     "name": "stdout",
     "output_type": "stream",
     "text": [
      "1260\n"
     ]
    },
    {
     "data": {
      "text/html": [
       "<div>\n",
       "<style scoped>\n",
       "    .dataframe tbody tr th:only-of-type {\n",
       "        vertical-align: middle;\n",
       "    }\n",
       "\n",
       "    .dataframe tbody tr th {\n",
       "        vertical-align: top;\n",
       "    }\n",
       "\n",
       "    .dataframe thead th {\n",
       "        text-align: right;\n",
       "    }\n",
       "</style>\n",
       "<table border=\"1\" class=\"dataframe\">\n",
       "  <thead>\n",
       "    <tr style=\"text-align: right;\">\n",
       "      <th></th>\n",
       "      <th>Agency</th>\n",
       "      <th>SKU</th>\n",
       "      <th>Volume</th>\n",
       "    </tr>\n",
       "  </thead>\n",
       "  <tbody>\n",
       "    <tr>\n",
       "      <th>0</th>\n",
       "      <td>Agency_40</td>\n",
       "      <td>SKU_03</td>\n",
       "      <td>24.36480</td>\n",
       "    </tr>\n",
       "    <tr>\n",
       "      <th>1</th>\n",
       "      <td>Agency_40</td>\n",
       "      <td>SKU_18</td>\n",
       "      <td>0.93060</td>\n",
       "    </tr>\n",
       "    <tr>\n",
       "      <th>2</th>\n",
       "      <td>Agency_40</td>\n",
       "      <td>SKU_03</td>\n",
       "      <td>20.13480</td>\n",
       "    </tr>\n",
       "    <tr>\n",
       "      <th>3</th>\n",
       "      <td>Agency_40</td>\n",
       "      <td>SKU_03</td>\n",
       "      <td>3.98325</td>\n",
       "    </tr>\n",
       "    <tr>\n",
       "      <th>4</th>\n",
       "      <td>Agency_40</td>\n",
       "      <td>SKU_04</td>\n",
       "      <td>0.00000</td>\n",
       "    </tr>\n",
       "  </tbody>\n",
       "</table>\n",
       "</div>"
      ],
      "text/plain": [
       "      Agency     SKU    Volume\n",
       "0  Agency_40  SKU_03  24.36480\n",
       "1  Agency_40  SKU_18   0.93060\n",
       "2  Agency_40  SKU_03  20.13480\n",
       "3  Agency_40  SKU_03   3.98325\n",
       "4  Agency_40  SKU_04   0.00000"
      ]
     },
     "execution_count": 59,
     "metadata": {},
     "output_type": "execute_result"
    }
   ],
   "source": [
    "agen6 = df3[df3['Agency'].isin(['Agency_55','Agency_60','Agency_5','Agency_40','Agency_8','Agency_50'])]\n",
    "agen6 = agen6.sort_values('Agency', ascending=True).reset_index(drop=True)\n",
    "agen6 = agen6.drop('YearMonth',axis=1)\n",
    "print(len(agen6))\n",
    "agen6.head()"
   ]
  },
  {
   "cell_type": "code",
   "execution_count": 60,
   "metadata": {},
   "outputs": [
    {
     "data": {
      "text/html": [
       "<div>\n",
       "<style scoped>\n",
       "    .dataframe tbody tr th:only-of-type {\n",
       "        vertical-align: middle;\n",
       "    }\n",
       "\n",
       "    .dataframe tbody tr th {\n",
       "        vertical-align: top;\n",
       "    }\n",
       "\n",
       "    .dataframe thead th {\n",
       "        text-align: right;\n",
       "    }\n",
       "</style>\n",
       "<table border=\"1\" class=\"dataframe\">\n",
       "  <thead>\n",
       "    <tr style=\"text-align: right;\">\n",
       "      <th></th>\n",
       "      <th>SKU</th>\n",
       "      <th>mean</th>\n",
       "      <th>median</th>\n",
       "    </tr>\n",
       "  </thead>\n",
       "  <tbody>\n",
       "    <tr>\n",
       "      <th>0</th>\n",
       "      <td>SKU_03</td>\n",
       "      <td>16.560648</td>\n",
       "      <td>18.18900</td>\n",
       "    </tr>\n",
       "    <tr>\n",
       "      <th>1</th>\n",
       "      <td>SKU_04</td>\n",
       "      <td>130.185185</td>\n",
       "      <td>1.66140</td>\n",
       "    </tr>\n",
       "    <tr>\n",
       "      <th>2</th>\n",
       "      <td>SKU_18</td>\n",
       "      <td>0.260850</td>\n",
       "      <td>0.00000</td>\n",
       "    </tr>\n",
       "    <tr>\n",
       "      <th>3</th>\n",
       "      <td>SKU_01</td>\n",
       "      <td>1595.824200</td>\n",
       "      <td>1585.81800</td>\n",
       "    </tr>\n",
       "    <tr>\n",
       "      <th>4</th>\n",
       "      <td>SKU_02</td>\n",
       "      <td>12647.808475</td>\n",
       "      <td>13086.41625</td>\n",
       "    </tr>\n",
       "  </tbody>\n",
       "</table>\n",
       "</div>"
      ],
      "text/plain": [
       "      SKU          mean       median\n",
       "0  SKU_03     16.560648     18.18900\n",
       "1  SKU_04    130.185185      1.66140\n",
       "2  SKU_18      0.260850      0.00000\n",
       "3  SKU_01   1595.824200   1585.81800\n",
       "4  SKU_02  12647.808475  13086.41625"
      ]
     },
     "execution_count": 60,
     "metadata": {},
     "output_type": "execute_result"
    }
   ],
   "source": [
    "agen6 = agen6.groupby(['Agency','SKU'])['Volume'].agg(['mean','median']).reset_index()\n",
    "agen6 = agen6.drop('Agency',axis=1)\n",
    "agen6.head()"
   ]
  },
  {
   "cell_type": "code",
   "execution_count": 42,
   "metadata": {},
   "outputs": [],
   "source": [
    "# agen6['SKU'].value_counts()"
   ]
  },
  {
   "cell_type": "code",
   "execution_count": 61,
   "metadata": {},
   "outputs": [
    {
     "data": {
      "text/html": [
       "<div>\n",
       "<style scoped>\n",
       "    .dataframe tbody tr th:only-of-type {\n",
       "        vertical-align: middle;\n",
       "    }\n",
       "\n",
       "    .dataframe tbody tr th {\n",
       "        vertical-align: top;\n",
       "    }\n",
       "\n",
       "    .dataframe thead th {\n",
       "        text-align: right;\n",
       "    }\n",
       "</style>\n",
       "<table border=\"1\" class=\"dataframe\">\n",
       "  <thead>\n",
       "    <tr style=\"text-align: right;\">\n",
       "      <th></th>\n",
       "      <th>SKU</th>\n",
       "      <th>mean</th>\n",
       "      <th>median</th>\n",
       "    </tr>\n",
       "  </thead>\n",
       "  <tbody>\n",
       "    <tr>\n",
       "      <th>0</th>\n",
       "      <td>SKU_02</td>\n",
       "      <td>6193.731158</td>\n",
       "      <td>6277.464750</td>\n",
       "    </tr>\n",
       "    <tr>\n",
       "      <th>1</th>\n",
       "      <td>SKU_01</td>\n",
       "      <td>5983.209633</td>\n",
       "      <td>5996.789750</td>\n",
       "    </tr>\n",
       "    <tr>\n",
       "      <th>2</th>\n",
       "      <td>SKU_05</td>\n",
       "      <td>2170.522213</td>\n",
       "      <td>2072.340800</td>\n",
       "    </tr>\n",
       "    <tr>\n",
       "      <th>3</th>\n",
       "      <td>SKU_04</td>\n",
       "      <td>1784.643742</td>\n",
       "      <td>1683.655538</td>\n",
       "    </tr>\n",
       "    <tr>\n",
       "      <th>4</th>\n",
       "      <td>SKU_03</td>\n",
       "      <td>1650.598311</td>\n",
       "      <td>1534.315631</td>\n",
       "    </tr>\n",
       "    <tr>\n",
       "      <th>5</th>\n",
       "      <td>SKU_07</td>\n",
       "      <td>72.459375</td>\n",
       "      <td>71.242500</td>\n",
       "    </tr>\n",
       "  </tbody>\n",
       "</table>\n",
       "</div>"
      ],
      "text/plain": [
       "      SKU         mean       median\n",
       "0  SKU_02  6193.731158  6277.464750\n",
       "1  SKU_01  5983.209633  5996.789750\n",
       "2  SKU_05  2170.522213  2072.340800\n",
       "3  SKU_04  1784.643742  1683.655538\n",
       "4  SKU_03  1650.598311  1534.315631\n",
       "5  SKU_07    72.459375    71.242500"
      ]
     },
     "execution_count": 61,
     "metadata": {},
     "output_type": "execute_result"
    }
   ],
   "source": [
    "agen6 = agen6.groupby('SKU')['mean','median'].mean().reset_index()\n",
    "agen6 = agen6.sort_values('mean', ascending=False).reset_index(drop=True)\n",
    "agen6.head(6)"
   ]
  },
  {
   "cell_type": "markdown",
   "metadata": {},
   "source": [
    "### Agency_14"
   ]
  },
  {
   "cell_type": "code",
   "execution_count": 62,
   "metadata": {},
   "outputs": [
    {
     "name": "stdout",
     "output_type": "stream",
     "text": [
      "5220\n"
     ]
    },
    {
     "data": {
      "text/html": [
       "<div>\n",
       "<style scoped>\n",
       "    .dataframe tbody tr th:only-of-type {\n",
       "        vertical-align: middle;\n",
       "    }\n",
       "\n",
       "    .dataframe tbody tr th {\n",
       "        vertical-align: top;\n",
       "    }\n",
       "\n",
       "    .dataframe thead th {\n",
       "        text-align: right;\n",
       "    }\n",
       "</style>\n",
       "<table border=\"1\" class=\"dataframe\">\n",
       "  <thead>\n",
       "    <tr style=\"text-align: right;\">\n",
       "      <th></th>\n",
       "      <th>Agency</th>\n",
       "      <th>SKU</th>\n",
       "      <th>YearMonth</th>\n",
       "      <th>Volume</th>\n",
       "    </tr>\n",
       "  </thead>\n",
       "  <tbody>\n",
       "    <tr>\n",
       "      <th>2</th>\n",
       "      <td>Agency_59</td>\n",
       "      <td>SKU_03</td>\n",
       "      <td>2013-01-01</td>\n",
       "      <td>812.9214</td>\n",
       "    </tr>\n",
       "    <tr>\n",
       "      <th>7</th>\n",
       "      <td>Agency_57</td>\n",
       "      <td>SKU_03</td>\n",
       "      <td>2013-01-01</td>\n",
       "      <td>782.1270</td>\n",
       "    </tr>\n",
       "    <tr>\n",
       "      <th>11</th>\n",
       "      <td>Agency_16</td>\n",
       "      <td>SKU_05</td>\n",
       "      <td>2013-01-01</td>\n",
       "      <td>1160.2962</td>\n",
       "    </tr>\n",
       "    <tr>\n",
       "      <th>14</th>\n",
       "      <td>Agency_16</td>\n",
       "      <td>SKU_02</td>\n",
       "      <td>2013-01-01</td>\n",
       "      <td>3.2400</td>\n",
       "    </tr>\n",
       "    <tr>\n",
       "      <th>15</th>\n",
       "      <td>Agency_56</td>\n",
       "      <td>SKU_04</td>\n",
       "      <td>2013-01-01</td>\n",
       "      <td>1683.8928</td>\n",
       "    </tr>\n",
       "  </tbody>\n",
       "</table>\n",
       "</div>"
      ],
      "text/plain": [
       "       Agency     SKU  YearMonth     Volume\n",
       "2   Agency_59  SKU_03 2013-01-01   812.9214\n",
       "7   Agency_57  SKU_03 2013-01-01   782.1270\n",
       "11  Agency_16  SKU_05 2013-01-01  1160.2962\n",
       "14  Agency_16  SKU_02 2013-01-01     3.2400\n",
       "15  Agency_56  SKU_04 2013-01-01  1683.8928"
      ]
     },
     "execution_count": 62,
     "metadata": {},
     "output_type": "execute_result"
    }
   ],
   "source": [
    "dagen14 = df3[df3['Agency'].isin(['Agency_57','Agency_56','Agency_12','Agency_13','Agency_15',\n",
    "                                    'Agency_16','Agency_17','Agency_20','Agency_38','Agency_39',\n",
    "                                    'Agency_58','Agency_59','Agency_60'])]\n",
    "print(len(dagen14))\n",
    "dagen14.head()"
   ]
  },
  {
   "cell_type": "code",
   "execution_count": 63,
   "metadata": {},
   "outputs": [
    {
     "data": {
      "text/html": [
       "<div>\n",
       "<style scoped>\n",
       "    .dataframe tbody tr th:only-of-type {\n",
       "        vertical-align: middle;\n",
       "    }\n",
       "\n",
       "    .dataframe tbody tr th {\n",
       "        vertical-align: top;\n",
       "    }\n",
       "\n",
       "    .dataframe thead th {\n",
       "        text-align: right;\n",
       "    }\n",
       "</style>\n",
       "<table border=\"1\" class=\"dataframe\">\n",
       "  <thead>\n",
       "    <tr style=\"text-align: right;\">\n",
       "      <th></th>\n",
       "      <th>Agency</th>\n",
       "      <th>SKU</th>\n",
       "      <th>Volume</th>\n",
       "    </tr>\n",
       "  </thead>\n",
       "  <tbody>\n",
       "    <tr>\n",
       "      <th>0</th>\n",
       "      <td>Agency_12</td>\n",
       "      <td>SKU_04</td>\n",
       "      <td>1927.9905</td>\n",
       "    </tr>\n",
       "    <tr>\n",
       "      <th>1</th>\n",
       "      <td>Agency_12</td>\n",
       "      <td>SKU_03</td>\n",
       "      <td>403.9971</td>\n",
       "    </tr>\n",
       "    <tr>\n",
       "      <th>2</th>\n",
       "      <td>Agency_12</td>\n",
       "      <td>SKU_04</td>\n",
       "      <td>1773.0555</td>\n",
       "    </tr>\n",
       "    <tr>\n",
       "      <th>3</th>\n",
       "      <td>Agency_12</td>\n",
       "      <td>SKU_04</td>\n",
       "      <td>3238.9635</td>\n",
       "    </tr>\n",
       "    <tr>\n",
       "      <th>4</th>\n",
       "      <td>Agency_12</td>\n",
       "      <td>SKU_01</td>\n",
       "      <td>11008.3320</td>\n",
       "    </tr>\n",
       "  </tbody>\n",
       "</table>\n",
       "</div>"
      ],
      "text/plain": [
       "      Agency     SKU      Volume\n",
       "0  Agency_12  SKU_04   1927.9905\n",
       "1  Agency_12  SKU_03    403.9971\n",
       "2  Agency_12  SKU_04   1773.0555\n",
       "3  Agency_12  SKU_04   3238.9635\n",
       "4  Agency_12  SKU_01  11008.3320"
      ]
     },
     "execution_count": 63,
     "metadata": {},
     "output_type": "execute_result"
    }
   ],
   "source": [
    "dagen14 = dagen14.sort_values('Agency', ascending=True).reset_index(drop=True)\n",
    "dagen14 = dagen14.drop('YearMonth',axis=1)\n",
    "dagen14.head()"
   ]
  },
  {
   "cell_type": "code",
   "execution_count": 64,
   "metadata": {},
   "outputs": [
    {
     "data": {
      "text/html": [
       "<div>\n",
       "<style scoped>\n",
       "    .dataframe tbody tr th:only-of-type {\n",
       "        vertical-align: middle;\n",
       "    }\n",
       "\n",
       "    .dataframe tbody tr th {\n",
       "        vertical-align: top;\n",
       "    }\n",
       "\n",
       "    .dataframe thead th {\n",
       "        text-align: right;\n",
       "    }\n",
       "</style>\n",
       "<table border=\"1\" class=\"dataframe\">\n",
       "  <thead>\n",
       "    <tr style=\"text-align: right;\">\n",
       "      <th></th>\n",
       "      <th>Agency</th>\n",
       "      <th>SKU</th>\n",
       "      <th>mean</th>\n",
       "      <th>median</th>\n",
       "    </tr>\n",
       "  </thead>\n",
       "  <tbody>\n",
       "    <tr>\n",
       "      <th>0</th>\n",
       "      <td>Agency_12</td>\n",
       "      <td>SKU_01</td>\n",
       "      <td>11622.589450</td>\n",
       "      <td>11158.560000</td>\n",
       "    </tr>\n",
       "    <tr>\n",
       "      <th>1</th>\n",
       "      <td>Agency_12</td>\n",
       "      <td>SKU_02</td>\n",
       "      <td>5190.297950</td>\n",
       "      <td>4591.134000</td>\n",
       "    </tr>\n",
       "    <tr>\n",
       "      <th>2</th>\n",
       "      <td>Agency_12</td>\n",
       "      <td>SKU_03</td>\n",
       "      <td>610.989262</td>\n",
       "      <td>601.759800</td>\n",
       "    </tr>\n",
       "    <tr>\n",
       "      <th>3</th>\n",
       "      <td>Agency_12</td>\n",
       "      <td>SKU_04</td>\n",
       "      <td>1650.180670</td>\n",
       "      <td>1579.639875</td>\n",
       "    </tr>\n",
       "    <tr>\n",
       "      <th>4</th>\n",
       "      <td>Agency_12</td>\n",
       "      <td>SKU_05</td>\n",
       "      <td>2184.550520</td>\n",
       "      <td>2044.320900</td>\n",
       "    </tr>\n",
       "  </tbody>\n",
       "</table>\n",
       "</div>"
      ],
      "text/plain": [
       "      Agency     SKU          mean        median\n",
       "0  Agency_12  SKU_01  11622.589450  11158.560000\n",
       "1  Agency_12  SKU_02   5190.297950   4591.134000\n",
       "2  Agency_12  SKU_03    610.989262    601.759800\n",
       "3  Agency_12  SKU_04   1650.180670   1579.639875\n",
       "4  Agency_12  SKU_05   2184.550520   2044.320900"
      ]
     },
     "execution_count": 64,
     "metadata": {},
     "output_type": "execute_result"
    }
   ],
   "source": [
    "dagen14 = dagen14.groupby(['Agency','SKU'])['Volume'].agg(['mean','median']).reset_index()\n",
    "dagen14.head()"
   ]
  },
  {
   "cell_type": "code",
   "execution_count": 65,
   "metadata": {},
   "outputs": [
    {
     "data": {
      "text/html": [
       "<div>\n",
       "<style scoped>\n",
       "    .dataframe tbody tr th:only-of-type {\n",
       "        vertical-align: middle;\n",
       "    }\n",
       "\n",
       "    .dataframe tbody tr th {\n",
       "        vertical-align: top;\n",
       "    }\n",
       "\n",
       "    .dataframe thead th {\n",
       "        text-align: right;\n",
       "    }\n",
       "</style>\n",
       "<table border=\"1\" class=\"dataframe\">\n",
       "  <thead>\n",
       "    <tr style=\"text-align: right;\">\n",
       "      <th></th>\n",
       "      <th>SKU</th>\n",
       "      <th>mean</th>\n",
       "      <th>median</th>\n",
       "    </tr>\n",
       "  </thead>\n",
       "  <tbody>\n",
       "    <tr>\n",
       "      <th>0</th>\n",
       "      <td>SKU_01</td>\n",
       "      <td>11622.589450</td>\n",
       "      <td>11158.560000</td>\n",
       "    </tr>\n",
       "    <tr>\n",
       "      <th>1</th>\n",
       "      <td>SKU_02</td>\n",
       "      <td>5190.297950</td>\n",
       "      <td>4591.134000</td>\n",
       "    </tr>\n",
       "    <tr>\n",
       "      <th>2</th>\n",
       "      <td>SKU_03</td>\n",
       "      <td>610.989262</td>\n",
       "      <td>601.759800</td>\n",
       "    </tr>\n",
       "    <tr>\n",
       "      <th>3</th>\n",
       "      <td>SKU_04</td>\n",
       "      <td>1650.180670</td>\n",
       "      <td>1579.639875</td>\n",
       "    </tr>\n",
       "    <tr>\n",
       "      <th>4</th>\n",
       "      <td>SKU_05</td>\n",
       "      <td>2184.550520</td>\n",
       "      <td>2044.320900</td>\n",
       "    </tr>\n",
       "  </tbody>\n",
       "</table>\n",
       "</div>"
      ],
      "text/plain": [
       "      SKU          mean        median\n",
       "0  SKU_01  11622.589450  11158.560000\n",
       "1  SKU_02   5190.297950   4591.134000\n",
       "2  SKU_03    610.989262    601.759800\n",
       "3  SKU_04   1650.180670   1579.639875\n",
       "4  SKU_05   2184.550520   2044.320900"
      ]
     },
     "execution_count": 65,
     "metadata": {},
     "output_type": "execute_result"
    }
   ],
   "source": [
    "dagen14 = dagen14.drop('Agency',axis=1)\n",
    "dagen14.head()"
   ]
  },
  {
   "cell_type": "code",
   "execution_count": 45,
   "metadata": {},
   "outputs": [],
   "source": [
    "# dagen14['SKU'].value_counts()"
   ]
  },
  {
   "cell_type": "code",
   "execution_count": 66,
   "metadata": {},
   "outputs": [
    {
     "data": {
      "text/html": [
       "<div>\n",
       "<style scoped>\n",
       "    .dataframe tbody tr th:only-of-type {\n",
       "        vertical-align: middle;\n",
       "    }\n",
       "\n",
       "    .dataframe tbody tr th {\n",
       "        vertical-align: top;\n",
       "    }\n",
       "\n",
       "    .dataframe thead th {\n",
       "        text-align: right;\n",
       "    }\n",
       "</style>\n",
       "<table border=\"1\" class=\"dataframe\">\n",
       "  <thead>\n",
       "    <tr style=\"text-align: right;\">\n",
       "      <th></th>\n",
       "      <th>SKU</th>\n",
       "      <th>mean</th>\n",
       "      <th>median</th>\n",
       "    </tr>\n",
       "  </thead>\n",
       "  <tbody>\n",
       "    <tr>\n",
       "      <th>0</th>\n",
       "      <td>SKU_01</td>\n",
       "      <td>6723.254260</td>\n",
       "      <td>6620.080269</td>\n",
       "    </tr>\n",
       "    <tr>\n",
       "      <th>1</th>\n",
       "      <td>SKU_02</td>\n",
       "      <td>4198.843581</td>\n",
       "      <td>4004.303596</td>\n",
       "    </tr>\n",
       "    <tr>\n",
       "      <th>2</th>\n",
       "      <td>SKU_05</td>\n",
       "      <td>2056.585302</td>\n",
       "      <td>1994.280513</td>\n",
       "    </tr>\n",
       "    <tr>\n",
       "      <th>3</th>\n",
       "      <td>SKU_04</td>\n",
       "      <td>1465.389153</td>\n",
       "      <td>1405.363235</td>\n",
       "    </tr>\n",
       "    <tr>\n",
       "      <th>4</th>\n",
       "      <td>SKU_03</td>\n",
       "      <td>1008.132432</td>\n",
       "      <td>994.888350</td>\n",
       "    </tr>\n",
       "    <tr>\n",
       "      <th>5</th>\n",
       "      <td>SKU_07</td>\n",
       "      <td>40.521200</td>\n",
       "      <td>40.090500</td>\n",
       "    </tr>\n",
       "  </tbody>\n",
       "</table>\n",
       "</div>"
      ],
      "text/plain": [
       "      SKU         mean       median\n",
       "0  SKU_01  6723.254260  6620.080269\n",
       "1  SKU_02  4198.843581  4004.303596\n",
       "2  SKU_05  2056.585302  1994.280513\n",
       "3  SKU_04  1465.389153  1405.363235\n",
       "4  SKU_03  1008.132432   994.888350\n",
       "5  SKU_07    40.521200    40.090500"
      ]
     },
     "execution_count": 66,
     "metadata": {},
     "output_type": "execute_result"
    }
   ],
   "source": [
    "dagen14 = dagen14.groupby('SKU')['mean','median'].mean().reset_index()\n",
    "dagen14 = dagen14.sort_values('mean', ascending=False).reset_index(drop=True)\n",
    "dagen14.head(6)"
   ]
  },
  {
   "cell_type": "markdown",
   "metadata": {},
   "source": [
    "## 4. Data Preparation and Data Distribution"
   ]
  },
  {
   "cell_type": "code",
   "execution_count": 67,
   "metadata": {},
   "outputs": [
    {
     "data": {
      "text/html": [
       "<div>\n",
       "<style scoped>\n",
       "    .dataframe tbody tr th:only-of-type {\n",
       "        vertical-align: middle;\n",
       "    }\n",
       "\n",
       "    .dataframe tbody tr th {\n",
       "        vertical-align: top;\n",
       "    }\n",
       "\n",
       "    .dataframe thead th {\n",
       "        text-align: right;\n",
       "    }\n",
       "</style>\n",
       "<table border=\"1\" class=\"dataframe\">\n",
       "  <thead>\n",
       "    <tr style=\"text-align: right;\">\n",
       "      <th></th>\n",
       "      <th>Agency</th>\n",
       "      <th>SKU</th>\n",
       "      <th>YearMonth</th>\n",
       "      <th>Volume</th>\n",
       "      <th>Price</th>\n",
       "      <th>Sales</th>\n",
       "      <th>Promotions</th>\n",
       "      <th>Avg_Max_Temp</th>\n",
       "      <th>Avg_Population_2017</th>\n",
       "      <th>Avg_Yearly_Household_Income_2017</th>\n",
       "      <th>...</th>\n",
       "      <th>New Year</th>\n",
       "      <th>Christmas</th>\n",
       "      <th>Labor Day</th>\n",
       "      <th>Independence Day</th>\n",
       "      <th>Revolution Day Memorial</th>\n",
       "      <th>Regional Games</th>\n",
       "      <th>FIFA U-17 World Cup</th>\n",
       "      <th>Football Gold Cup</th>\n",
       "      <th>Beer Capital</th>\n",
       "      <th>Music Fest</th>\n",
       "    </tr>\n",
       "  </thead>\n",
       "  <tbody>\n",
       "    <tr>\n",
       "      <th>0</th>\n",
       "      <td>22</td>\n",
       "      <td>1</td>\n",
       "      <td>2013-01-01</td>\n",
       "      <td>52.27</td>\n",
       "      <td>1168.90</td>\n",
       "      <td>1069.17</td>\n",
       "      <td>99.74</td>\n",
       "      <td>25.85</td>\n",
       "      <td>NaN</td>\n",
       "      <td>NaN</td>\n",
       "      <td>...</td>\n",
       "      <td>1</td>\n",
       "      <td>0</td>\n",
       "      <td>0</td>\n",
       "      <td>0</td>\n",
       "      <td>0</td>\n",
       "      <td>0</td>\n",
       "      <td>0</td>\n",
       "      <td>0</td>\n",
       "      <td>0</td>\n",
       "      <td>0</td>\n",
       "    </tr>\n",
       "    <tr>\n",
       "      <th>1</th>\n",
       "      <td>22</td>\n",
       "      <td>4</td>\n",
       "      <td>2013-01-01</td>\n",
       "      <td>31.06</td>\n",
       "      <td>1742.11</td>\n",
       "      <td>1598.41</td>\n",
       "      <td>143.70</td>\n",
       "      <td>25.85</td>\n",
       "      <td>NaN</td>\n",
       "      <td>NaN</td>\n",
       "      <td>...</td>\n",
       "      <td>1</td>\n",
       "      <td>0</td>\n",
       "      <td>0</td>\n",
       "      <td>0</td>\n",
       "      <td>0</td>\n",
       "      <td>0</td>\n",
       "      <td>0</td>\n",
       "      <td>0</td>\n",
       "      <td>0</td>\n",
       "      <td>0</td>\n",
       "    </tr>\n",
       "    <tr>\n",
       "      <th>2</th>\n",
       "      <td>22</td>\n",
       "      <td>5</td>\n",
       "      <td>2013-01-01</td>\n",
       "      <td>238.54</td>\n",
       "      <td>1310.18</td>\n",
       "      <td>1203.88</td>\n",
       "      <td>106.30</td>\n",
       "      <td>25.85</td>\n",
       "      <td>NaN</td>\n",
       "      <td>NaN</td>\n",
       "      <td>...</td>\n",
       "      <td>1</td>\n",
       "      <td>0</td>\n",
       "      <td>0</td>\n",
       "      <td>0</td>\n",
       "      <td>0</td>\n",
       "      <td>0</td>\n",
       "      <td>0</td>\n",
       "      <td>0</td>\n",
       "      <td>0</td>\n",
       "      <td>0</td>\n",
       "    </tr>\n",
       "    <tr>\n",
       "      <th>3</th>\n",
       "      <td>22</td>\n",
       "      <td>2</td>\n",
       "      <td>2013-01-01</td>\n",
       "      <td>110.70</td>\n",
       "      <td>1167.00</td>\n",
       "      <td>1067.26</td>\n",
       "      <td>99.74</td>\n",
       "      <td>25.85</td>\n",
       "      <td>NaN</td>\n",
       "      <td>NaN</td>\n",
       "      <td>...</td>\n",
       "      <td>1</td>\n",
       "      <td>0</td>\n",
       "      <td>0</td>\n",
       "      <td>0</td>\n",
       "      <td>0</td>\n",
       "      <td>0</td>\n",
       "      <td>0</td>\n",
       "      <td>0</td>\n",
       "      <td>0</td>\n",
       "      <td>0</td>\n",
       "    </tr>\n",
       "    <tr>\n",
       "      <th>4</th>\n",
       "      <td>22</td>\n",
       "      <td>3</td>\n",
       "      <td>2013-01-01</td>\n",
       "      <td>86.46</td>\n",
       "      <td>1258.73</td>\n",
       "      <td>1156.65</td>\n",
       "      <td>102.08</td>\n",
       "      <td>25.85</td>\n",
       "      <td>NaN</td>\n",
       "      <td>NaN</td>\n",
       "      <td>...</td>\n",
       "      <td>1</td>\n",
       "      <td>0</td>\n",
       "      <td>0</td>\n",
       "      <td>0</td>\n",
       "      <td>0</td>\n",
       "      <td>0</td>\n",
       "      <td>0</td>\n",
       "      <td>0</td>\n",
       "      <td>0</td>\n",
       "      <td>0</td>\n",
       "    </tr>\n",
       "  </tbody>\n",
       "</table>\n",
       "<p>5 rows × 24 columns</p>\n",
       "</div>"
      ],
      "text/plain": [
       "   Agency  SKU   YearMonth  Volume    Price    Sales  Promotions  \\\n",
       "0      22    1  2013-01-01   52.27  1168.90  1069.17       99.74   \n",
       "1      22    4  2013-01-01   31.06  1742.11  1598.41      143.70   \n",
       "2      22    5  2013-01-01  238.54  1310.18  1203.88      106.30   \n",
       "3      22    2  2013-01-01  110.70  1167.00  1067.26       99.74   \n",
       "4      22    3  2013-01-01   86.46  1258.73  1156.65      102.08   \n",
       "\n",
       "   Avg_Max_Temp  Avg_Population_2017  Avg_Yearly_Household_Income_2017  \\\n",
       "0         25.85                  NaN                               NaN   \n",
       "1         25.85                  NaN                               NaN   \n",
       "2         25.85                  NaN                               NaN   \n",
       "3         25.85                  NaN                               NaN   \n",
       "4         25.85                  NaN                               NaN   \n",
       "\n",
       "      ...      New Year  Christmas  Labor Day  Independence Day  \\\n",
       "0     ...             1          0          0                 0   \n",
       "1     ...             1          0          0                 0   \n",
       "2     ...             1          0          0                 0   \n",
       "3     ...             1          0          0                 0   \n",
       "4     ...             1          0          0                 0   \n",
       "\n",
       "   Revolution Day Memorial  Regional Games   FIFA U-17 World Cup  \\\n",
       "0                        0                0                    0   \n",
       "1                        0                0                    0   \n",
       "2                        0                0                    0   \n",
       "3                        0                0                    0   \n",
       "4                        0                0                    0   \n",
       "\n",
       "   Football Gold Cup  Beer Capital  Music Fest  \n",
       "0                  0             0           0  \n",
       "1                  0             0           0  \n",
       "2                  0             0           0  \n",
       "3                  0             0           0  \n",
       "4                  0             0           0  \n",
       "\n",
       "[5 rows x 24 columns]"
      ]
     },
     "execution_count": 67,
     "metadata": {},
     "output_type": "execute_result"
    }
   ],
   "source": [
    "df = pd.read_csv('../input/train.csv')\n",
    "df['Volume'] = df['Volume'].round(2)\n",
    "df['Price'] = df['Price'].round(2)\n",
    "df['Sales'] = df['Sales'].round(2)\n",
    "df['Promotions'] = df['Promotions'].round(2)\n",
    "df['Avg_Max_Temp'] = df['Avg_Max_Temp'].round(2)\n",
    "df.head()"
   ]
  },
  {
   "cell_type": "code",
   "execution_count": 71,
   "metadata": {},
   "outputs": [
    {
     "data": {
      "text/html": [
       "<div>\n",
       "<style scoped>\n",
       "    .dataframe tbody tr th:only-of-type {\n",
       "        vertical-align: middle;\n",
       "    }\n",
       "\n",
       "    .dataframe tbody tr th {\n",
       "        vertical-align: top;\n",
       "    }\n",
       "\n",
       "    .dataframe thead th {\n",
       "        text-align: right;\n",
       "    }\n",
       "</style>\n",
       "<table border=\"1\" class=\"dataframe\">\n",
       "  <thead>\n",
       "    <tr style=\"text-align: right;\">\n",
       "      <th></th>\n",
       "      <th>Agency</th>\n",
       "      <th>SKU</th>\n",
       "      <th>Volume</th>\n",
       "    </tr>\n",
       "  </thead>\n",
       "  <tbody>\n",
       "    <tr>\n",
       "      <th>0</th>\n",
       "      <td>22</td>\n",
       "      <td>1</td>\n",
       "      <td>52.27</td>\n",
       "    </tr>\n",
       "    <tr>\n",
       "      <th>1</th>\n",
       "      <td>22</td>\n",
       "      <td>4</td>\n",
       "      <td>31.06</td>\n",
       "    </tr>\n",
       "    <tr>\n",
       "      <th>2</th>\n",
       "      <td>22</td>\n",
       "      <td>5</td>\n",
       "      <td>238.54</td>\n",
       "    </tr>\n",
       "    <tr>\n",
       "      <th>3</th>\n",
       "      <td>22</td>\n",
       "      <td>2</td>\n",
       "      <td>110.70</td>\n",
       "    </tr>\n",
       "    <tr>\n",
       "      <th>4</th>\n",
       "      <td>22</td>\n",
       "      <td>3</td>\n",
       "      <td>86.46</td>\n",
       "    </tr>\n",
       "  </tbody>\n",
       "</table>\n",
       "</div>"
      ],
      "text/plain": [
       "   Agency  SKU  Volume\n",
       "0      22    1   52.27\n",
       "1      22    4   31.06\n",
       "2      22    5  238.54\n",
       "3      22    2  110.70\n",
       "4      22    3   86.46"
      ]
     },
     "execution_count": 71,
     "metadata": {},
     "output_type": "execute_result"
    }
   ],
   "source": [
    "df = df[['Agency','SKU','Volume']].copy()\n",
    "df.head()"
   ]
  },
  {
   "cell_type": "markdown",
   "metadata": {},
   "source": [
    "### 4.1 Check Null and Missing Values"
   ]
  },
  {
   "cell_type": "code",
   "execution_count": 72,
   "metadata": {},
   "outputs": [
    {
     "data": {
      "text/plain": [
       "Agency    0\n",
       "SKU       0\n",
       "Volume    0\n",
       "dtype: int64"
      ]
     },
     "execution_count": 72,
     "metadata": {},
     "output_type": "execute_result"
    }
   ],
   "source": [
    "df.isnull().sum()"
   ]
  },
  {
   "cell_type": "markdown",
   "metadata": {},
   "source": [
    "## 5. Train Algorithm on Train Data"
   ]
  },
  {
   "cell_type": "code",
   "execution_count": 110,
   "metadata": {},
   "outputs": [
    {
     "data": {
      "text/html": [
       "<div>\n",
       "<style scoped>\n",
       "    .dataframe tbody tr th:only-of-type {\n",
       "        vertical-align: middle;\n",
       "    }\n",
       "\n",
       "    .dataframe tbody tr th {\n",
       "        vertical-align: top;\n",
       "    }\n",
       "\n",
       "    .dataframe thead th {\n",
       "        text-align: right;\n",
       "    }\n",
       "</style>\n",
       "<table border=\"1\" class=\"dataframe\">\n",
       "  <thead>\n",
       "    <tr style=\"text-align: right;\">\n",
       "      <th></th>\n",
       "      <th>Agency</th>\n",
       "      <th>SKU</th>\n",
       "    </tr>\n",
       "  </thead>\n",
       "  <tbody>\n",
       "    <tr>\n",
       "      <th>0</th>\n",
       "      <td>22</td>\n",
       "      <td>1</td>\n",
       "    </tr>\n",
       "    <tr>\n",
       "      <th>1</th>\n",
       "      <td>22</td>\n",
       "      <td>4</td>\n",
       "    </tr>\n",
       "  </tbody>\n",
       "</table>\n",
       "</div>"
      ],
      "text/plain": [
       "   Agency  SKU\n",
       "0      22    1\n",
       "1      22    4"
      ]
     },
     "execution_count": 110,
     "metadata": {},
     "output_type": "execute_result"
    }
   ],
   "source": [
    "X = df.iloc[:,0:2]\n",
    "X.head(2)"
   ]
  },
  {
   "cell_type": "code",
   "execution_count": 111,
   "metadata": {},
   "outputs": [
    {
     "data": {
      "text/html": [
       "<div>\n",
       "<style scoped>\n",
       "    .dataframe tbody tr th:only-of-type {\n",
       "        vertical-align: middle;\n",
       "    }\n",
       "\n",
       "    .dataframe tbody tr th {\n",
       "        vertical-align: top;\n",
       "    }\n",
       "\n",
       "    .dataframe thead th {\n",
       "        text-align: right;\n",
       "    }\n",
       "</style>\n",
       "<table border=\"1\" class=\"dataframe\">\n",
       "  <thead>\n",
       "    <tr style=\"text-align: right;\">\n",
       "      <th></th>\n",
       "      <th>Volume</th>\n",
       "    </tr>\n",
       "  </thead>\n",
       "  <tbody>\n",
       "    <tr>\n",
       "      <th>0</th>\n",
       "      <td>52.27</td>\n",
       "    </tr>\n",
       "    <tr>\n",
       "      <th>1</th>\n",
       "      <td>31.06</td>\n",
       "    </tr>\n",
       "  </tbody>\n",
       "</table>\n",
       "</div>"
      ],
      "text/plain": [
       "   Volume\n",
       "0   52.27\n",
       "1   31.06"
      ]
     },
     "execution_count": 111,
     "metadata": {},
     "output_type": "execute_result"
    }
   ],
   "source": [
    "y = df.iloc[:,2:3]\n",
    "y.head(2)"
   ]
  },
  {
   "cell_type": "code",
   "execution_count": 112,
   "metadata": {},
   "outputs": [],
   "source": [
    "sc_x = StandardScaler()\n",
    "\n",
    "X = sc_x.fit_transform(X.astype(float))\n",
    "y = y.values"
   ]
  },
  {
   "cell_type": "markdown",
   "metadata": {},
   "source": [
    "### 5.1 Validation Data"
   ]
  },
  {
   "cell_type": "code",
   "execution_count": 113,
   "metadata": {},
   "outputs": [
    {
     "name": "stdout",
     "output_type": "stream",
     "text": [
      "(14070, 2)\n",
      "(14070, 1)\n",
      "(6930, 2)\n",
      "(6930, 1)\n"
     ]
    }
   ],
   "source": [
    "X_train, X_test, Y_train, Y_test = train_test_split(X, y, test_size = 0.33, random_state = 42)\n",
    "print(X_train.shape)\n",
    "print(Y_train.shape)\n",
    "print(X_test.shape)\n",
    "print(Y_test.shape)"
   ]
  },
  {
   "cell_type": "code",
   "execution_count": 114,
   "metadata": {},
   "outputs": [],
   "source": [
    "kfold = KFold(n_splits=5, shuffle=True, random_state=42)"
   ]
  },
  {
   "cell_type": "markdown",
   "metadata": {},
   "source": [
    "### 5.2 Modelling"
   ]
  },
  {
   "cell_type": "markdown",
   "metadata": {},
   "source": [
    "### 5.2.1 GradientBoostingRegressor"
   ]
  },
  {
   "cell_type": "code",
   "execution_count": 84,
   "metadata": {},
   "outputs": [
    {
     "name": "stdout",
     "output_type": "stream",
     "text": [
      "r2 Val :  0.637226608034432\n",
      "mse Val :  2254975.4762185896\n",
      "r2 Test :  0.6041968932152377\n",
      "mse Val :  2885408.5190598685\n",
      "r2 Val :  0.6122585764355655\n",
      "mse Val :  2569351.6843681987\n",
      "r2 Test :  0.6026456120908792\n",
      "mse Val :  2896717.373626579\n",
      "r2 Val :  0.6330231270772125\n",
      "mse Val :  2767965.8037048657\n",
      "r2 Test :  0.6149617728427607\n",
      "mse Val :  2806932.4413043708\n",
      "r2 Val :  0.6133834463253734\n",
      "mse Val :  2837063.209372403\n",
      "r2 Test :  0.5958896000339139\n",
      "mse Val :  2945968.767589587\n",
      "r2 Val :  0.6308702958681346\n",
      "mse Val :  2629606.16193099\n",
      "r2 Test :  0.6071107126835651\n",
      "mse Val :  2864166.7466412247\n"
     ]
    }
   ],
   "source": [
    "arr_gb_val_r2 = []\n",
    "arr_gb_val_mse = []\n",
    "\n",
    "arr_gb_test_r2 = []\n",
    "arr_gb_test_mse = []\n",
    "\n",
    "for train, test in kfold.split(X_train):\n",
    "    clf_gb = GradientBoostingRegressor()\n",
    "    clf_gb.fit(X[train],y[train])\n",
    "\n",
    "    Y_pred_val = clf_gb.predict(X[test])\n",
    "    val_mse_gb = mean_squared_error(y[test],Y_pred_val)\n",
    "    val_r2_gb = r2_score(y[test], Y_pred_val) \n",
    "\n",
    "    print('r2 Val : ',val_r2_gb)\n",
    "    print('mse Val : ',val_mse_gb)\n",
    "    arr_gb_val_r2.append(val_r2_gb)\n",
    "    arr_gb_val_mse.append(val_mse_gb)\n",
    "    \n",
    "    Y_pred_test = clf_gb.predict(X_test)\n",
    "    test_mse_gb = mean_squared_error(Y_test,Y_pred_test)\n",
    "    test_r2_gb = r2_score(Y_test, Y_pred_test) \n",
    "\n",
    "    print('r2 Test : ',test_r2_gb)\n",
    "    print('mse Val : ',test_mse_gb)\n",
    "    arr_gb_test_r2.append(test_r2_gb)\n",
    "    arr_gb_test_mse.append(test_mse_gb)\n",
    "\n"
   ]
  },
  {
   "cell_type": "code",
   "execution_count": 85,
   "metadata": {},
   "outputs": [
    {
     "name": "stdout",
     "output_type": "stream",
     "text": [
      "0.6253524107481436\n",
      "2611792.4671190092\n",
      "0.6049609181732712\n",
      "2879838.7696443256\n"
     ]
    }
   ],
   "source": [
    "print(np.mean(arr_gb_val_r2))\n",
    "print(np.mean(arr_gb_val_mse))\n",
    "print(np.mean(arr_gb_test_r2))\n",
    "print(np.mean(arr_gb_test_mse))"
   ]
  },
  {
   "cell_type": "markdown",
   "metadata": {},
   "source": [
    "### 5.2.2 RandomForestRegressor"
   ]
  },
  {
   "cell_type": "code",
   "execution_count": 86,
   "metadata": {},
   "outputs": [
    {
     "name": "stdout",
     "output_type": "stream",
     "text": [
      "r2 Val :  0.1766405257153858\n",
      "mse Val :  5117948.184028492\n",
      "r2 Test :  0.18012117314977372\n",
      "mse Val :  5976924.665416822\n",
      "r2 Val :  0.19474716273983061\n",
      "mse Val :  5335972.913951163\n",
      "r2 Test :  0.18878713844804074\n",
      "mse Val :  5913749.693647097\n",
      "r2 Val :  0.18183282594162298\n",
      "mse Val :  6171121.197558196\n",
      "r2 Test :  0.18579952378062148\n",
      "mse Val :  5935529.433788772\n",
      "r2 Val :  0.175348736439512\n",
      "mse Val :  6051442.283505802\n",
      "r2 Test :  0.18309580981384788\n",
      "mse Val :  5955239.535046446\n",
      "r2 Val :  0.19191884378689772\n",
      "mse Val :  5756608.487295281\n",
      "r2 Test :  0.19615618877013807\n",
      "mse Val :  5860029.244736312\n"
     ]
    }
   ],
   "source": [
    "arr_rf_val_r2 = []\n",
    "arr_rf_val_mse = []\n",
    "\n",
    "arr_rf_test_r2 = []\n",
    "arr_rf_test_mse = []\n",
    "\n",
    "for train, test in kfold.split(X_train):\n",
    "    clf_rf = RandomForestRegressor(n_estimators=500, random_state=0,max_depth=2)\n",
    "    clf_rf.fit(X[train],y[train])\n",
    "\n",
    "    Y_pred_val = clf_rf.predict(X[test])\n",
    "    val_mse_rf = mean_squared_error(y[test],Y_pred_val)\n",
    "    val_r2_rf = r2_score(y[test], Y_pred_val) \n",
    "\n",
    "    print('r2 Val : ',val_r2_rf)\n",
    "    print('mse Val : ',val_mse_rf)\n",
    "    arr_rf_val_r2.append(val_r2_rf)\n",
    "    arr_rf_val_mse.append(val_mse_rf)\n",
    "    \n",
    "    Y_pred_test = clf_rf.predict(X_test)\n",
    "    test_mse_rf = mean_squared_error(Y_test,Y_pred_test)\n",
    "    test_r2_rf = r2_score(Y_test, Y_pred_test) \n",
    "\n",
    "    print('r2 Test : ',test_r2_rf)\n",
    "    print('mse Val : ',test_mse_rf)\n",
    "    arr_rf_test_r2.append(test_r2_rf)\n",
    "    arr_rf_test_mse.append(test_mse_rf)\n",
    "\n"
   ]
  },
  {
   "cell_type": "code",
   "execution_count": 87,
   "metadata": {},
   "outputs": [
    {
     "name": "stdout",
     "output_type": "stream",
     "text": [
      "0.18409761892464982\n",
      "5686618.613267787\n",
      "0.1867919667924844\n",
      "5928294.51452709\n"
     ]
    }
   ],
   "source": [
    "print(np.mean(arr_rf_val_r2))\n",
    "print(np.mean(arr_rf_val_mse))\n",
    "print(np.mean(arr_rf_test_r2))\n",
    "print(np.mean(arr_rf_test_mse))"
   ]
  },
  {
   "cell_type": "markdown",
   "metadata": {},
   "source": [
    "### 5.2.3 Support Vector Regression"
   ]
  },
  {
   "cell_type": "code",
   "execution_count": 88,
   "metadata": {},
   "outputs": [
    {
     "name": "stdout",
     "output_type": "stream",
     "text": [
      "r2 Val :  0.0722548360723495\n",
      "mse Val :  5766802.745653985\n",
      "r2 Test :  0.03401644955209093\n",
      "mse Val :  7042029.529216924\n",
      "r2 Val :  0.03589451935119192\n",
      "mse Val :  6388603.048500391\n",
      "r2 Test :  0.03524882700540155\n",
      "mse Val :  7033045.485530744\n",
      "r2 Val :  0.007249136015245239\n",
      "mse Val :  7487939.011585682\n",
      "r2 Test :  0.028168951352026905\n",
      "mse Val :  7084657.848278672\n",
      "r2 Val :  0.04015884859502328\n",
      "mse Val :  7043490.485884552\n",
      "r2 Test :  0.03189735980392794\n",
      "mse Val :  7057477.714203826\n",
      "r2 Val :  0.0098083677808396\n",
      "mse Val :  7053927.084247437\n",
      "r2 Test :  0.028066750839463306\n",
      "mse Val :  7085402.89101469\n"
     ]
    }
   ],
   "source": [
    "arr_svm_val_r2 = []\n",
    "arr_svm_val_mse = []\n",
    "\n",
    "arr_svm_test_r2 = []\n",
    "arr_svm_test_mse = []\n",
    "\n",
    "for train, test in kfold.split(X_train):\n",
    "    clf_svm = SVR(kernel='rbf', C=1e3, gamma=0.1)\n",
    "    clf_svm.fit(X[train],y[train])\n",
    "\n",
    "    Y_pred_val = clf_svm.predict(X[test])\n",
    "    val_mse_svm = mean_squared_error(y[test],Y_pred_val)\n",
    "    val_r2_svm = r2_score(y[test], Y_pred_val) \n",
    "\n",
    "    print('r2 Val : ',val_r2_svm)\n",
    "    print('mse Val : ',val_mse_svm)\n",
    "    arr_svm_val_r2.append(val_r2_svm)\n",
    "    arr_svm_val_mse.append(val_mse_svm)\n",
    "    \n",
    "    Y_pred_test = clf_svm.predict(X_test)\n",
    "    test_mse_svm = mean_squared_error(Y_test,Y_pred_test)\n",
    "    test_r2_svm = r2_score(Y_test, Y_pred_test) \n",
    "\n",
    "    print('r2 Test : ',test_r2_svm)\n",
    "    print('mse Val : ',test_mse_svm)\n",
    "    arr_svm_test_r2.append(test_r2_svm)\n",
    "    arr_svm_test_mse.append(test_mse_svm)\n",
    "\n"
   ]
  },
  {
   "cell_type": "code",
   "execution_count": 89,
   "metadata": {},
   "outputs": [
    {
     "name": "stdout",
     "output_type": "stream",
     "text": [
      "0.03307314156292991\n",
      "6748152.475174409\n",
      "0.031479667710582124\n",
      "7060522.693648972\n"
     ]
    }
   ],
   "source": [
    "print(np.mean(arr_svm_val_r2))\n",
    "print(np.mean(arr_svm_val_mse))\n",
    "print(np.mean(arr_svm_test_r2))\n",
    "print(np.mean(arr_svm_test_mse))"
   ]
  },
  {
   "cell_type": "markdown",
   "metadata": {},
   "source": [
    "### 5.2.4 KNeighborsRegressor"
   ]
  },
  {
   "cell_type": "code",
   "execution_count": 90,
   "metadata": {},
   "outputs": [
    {
     "name": "stdout",
     "output_type": "stream",
     "text": [
      "r2 Val :  0.9258747077660873\n",
      "mse Val :  460757.9272817075\n",
      "r2 Test :  0.914621250753764\n",
      "mse Val :  622411.9169325577\n",
      "r2 Val :  0.9318422771981878\n",
      "mse Val :  451644.1866687367\n",
      "r2 Test :  0.9092248603394635\n",
      "mse Val :  661751.6558246608\n",
      "r2 Val :  0.9297851537788767\n",
      "mse Val :  529603.6551419331\n",
      "r2 Test :  0.9129719756912134\n",
      "mse Val :  634435.1482669805\n",
      "r2 Val :  0.9179241078650698\n",
      "mse Val :  602287.9562171997\n",
      "r2 Test :  0.9086519557708842\n",
      "mse Val :  665928.1357320959\n",
      "r2 Val :  0.9123519953558905\n",
      "mse Val :  624386.8496986941\n",
      "r2 Test :  0.9024392725920183\n",
      "mse Val :  711218.6568604906\n"
     ]
    }
   ],
   "source": [
    "arr_knn_val_r2 = []\n",
    "arr_knn_val_mse = []\n",
    "\n",
    "arr_knn_test_r2 = []\n",
    "arr_knn_test_mse = []\n",
    "\n",
    "for train, test in kfold.split(X_train):\n",
    "    clf_knn = KNeighborsRegressor(n_neighbors=2)\n",
    "    clf_knn.fit(X[train],y[train])\n",
    "\n",
    "    Y_pred_val = clf_knn.predict(X[test])\n",
    "    val_mse_knn = mean_squared_error(y[test],Y_pred_val)\n",
    "    val_r2_knn = r2_score(y[test], Y_pred_val) \n",
    "\n",
    "    print('r2 Val : ',val_r2_knn)\n",
    "    print('mse Val : ',val_mse_knn)\n",
    "    arr_knn_val_r2.append(val_r2_knn)\n",
    "    arr_knn_val_mse.append(val_mse_knn)\n",
    "    \n",
    "    Y_pred_test = clf_knn.predict(X_test)\n",
    "    test_mse_knn = mean_squared_error(Y_test,Y_pred_test)\n",
    "    test_r2_knn = r2_score(Y_test, Y_pred_test) \n",
    "\n",
    "    print('r2 Test : ',test_r2_knn)\n",
    "    print('mse Val : ',test_mse_knn)\n",
    "    arr_knn_test_r2.append(test_r2_knn)\n",
    "    arr_knn_test_mse.append(test_mse_knn)\n",
    "\n"
   ]
  },
  {
   "cell_type": "code",
   "execution_count": 91,
   "metadata": {},
   "outputs": [
    {
     "name": "stdout",
     "output_type": "stream",
     "text": [
      "0.9235556483928224\n",
      "533736.1150016541\n",
      "0.9095818630294688\n",
      "659149.102723357\n"
     ]
    }
   ],
   "source": [
    "print(np.mean(arr_knn_val_r2))\n",
    "print(np.mean(arr_knn_val_mse))\n",
    "print(np.mean(arr_knn_test_r2))\n",
    "print(np.mean(arr_knn_test_mse))"
   ]
  },
  {
   "cell_type": "markdown",
   "metadata": {},
   "source": [
    "### 5.2.5 XGBRegressor"
   ]
  },
  {
   "cell_type": "code",
   "execution_count": 115,
   "metadata": {},
   "outputs": [
    {
     "name": "stdout",
     "output_type": "stream",
     "text": [
      "r2 Val :  0.9387707354292832\n",
      "mse Val :  380597.06993883045\n",
      "r2 Test :  0.9228256464820828\n",
      "mse Val :  562601.7918414912\n",
      "r2 Val :  0.9479241167215813\n",
      "mse Val :  345078.5763005586\n",
      "r2 Test :  0.9231087233494086\n",
      "mse Val :  560538.1587104477\n",
      "r2 Val :  0.9398528562845015\n",
      "mse Val :  453666.8364658785\n",
      "r2 Test :  0.9218999554963085\n",
      "mse Val :  569350.0881802116\n",
      "r2 Val :  0.9423889464638692\n",
      "mse Val :  422760.48163756524\n",
      "r2 Test :  0.9233745414164405\n",
      "mse Val :  558600.3424023235\n",
      "r2 Val :  0.9448809129979491\n",
      "mse Val :  392657.34834719676\n",
      "r2 Test :  0.9236962062356651\n",
      "mse Val :  556255.4027245832\n"
     ]
    }
   ],
   "source": [
    "arr_xgb_val_r2 = []\n",
    "arr_xgb_val_mse = []\n",
    "\n",
    "arr_xgb_test_r2 = []\n",
    "arr_xgb_test_mse = []\n",
    "\n",
    "i = 1\n",
    "for train, test in kfold.split(X_train):\n",
    "    clf_xgb = xgboost.XGBRegressor(n_estimators=100, learning_rate=0.08, gamma=0, subsample=0.75,colsample_bytree=1, max_depth=7)\n",
    "    clf_xgb.fit(X[train],y[train])\n",
    "    #save model\n",
    "    joblib.dump(clf_xgb, '../model/xgb_'+str(i)+'.dat') \n",
    "    i = i+1\n",
    "    \n",
    "    Y_pred_val = clf_xgb.predict(X[test])\n",
    "    val_mse_xgb = mean_squared_error(y[test],Y_pred_val)\n",
    "    val_r2_xgb = r2_score(y[test], Y_pred_val) \n",
    "\n",
    "    print('r2 Val : ',val_r2_xgb)\n",
    "    print('mse Val : ',val_mse_xgb)\n",
    "    arr_xgb_val_r2.append(val_r2_xgb)\n",
    "    arr_xgb_val_mse.append(val_mse_xgb)\n",
    "    \n",
    "    Y_pred_test = clf_xgb.predict(X_test)\n",
    "    test_mse_xgb = mean_squared_error(Y_test,Y_pred_test)\n",
    "    test_r2_xgb = r2_score(Y_test, Y_pred_test) \n",
    "\n",
    "    print('r2 Test : ',test_r2_xgb)\n",
    "    print('mse Val : ',test_mse_xgb)\n",
    "    arr_xgb_test_r2.append(test_r2_xgb)\n",
    "    arr_xgb_test_mse.append(test_mse_xgb)\n",
    "\n"
   ]
  },
  {
   "cell_type": "code",
   "execution_count": 93,
   "metadata": {},
   "outputs": [
    {
     "name": "stdout",
     "output_type": "stream",
     "text": [
      "0.9427635135794368\n",
      "398952.06253800594\n",
      "0.922981014595981\n",
      "561469.1567718114\n"
     ]
    }
   ],
   "source": [
    "print(np.mean(arr_xgb_val_r2))\n",
    "print(np.mean(arr_xgb_val_mse))\n",
    "print(np.mean(arr_xgb_test_r2))\n",
    "print(np.mean(arr_xgb_test_mse))"
   ]
  },
  {
   "cell_type": "markdown",
   "metadata": {},
   "source": [
    "### 5.2.6 Linear Regression"
   ]
  },
  {
   "cell_type": "code",
   "execution_count": 94,
   "metadata": {},
   "outputs": [
    {
     "name": "stdout",
     "output_type": "stream",
     "text": [
      "r2 Val :  0.08216234277975165\n",
      "mse Val :  5705218.337451899\n",
      "r2 Test :  0.08337307966202312\n",
      "mse Val :  6682219.213051998\n",
      "r2 Val :  0.08826482298054683\n",
      "mse Val :  6041573.508545662\n",
      "r2 Test :  0.08342375563155746\n",
      "mse Val :  6681849.784738527\n",
      "r2 Val :  0.08498958326413641\n",
      "mse Val :  6901572.634228362\n",
      "r2 Test :  0.08321471522250856\n",
      "mse Val :  6683373.691364721\n",
      "r2 Val :  0.08071073621643754\n",
      "mse Val :  6745913.2938377205\n",
      "r2 Test :  0.08352696317533126\n",
      "mse Val :  6681097.400735139\n",
      "r2 Val :  0.0811282669535095\n",
      "mse Val :  6545858.391228484\n",
      "r2 Test :  0.0834285896316398\n",
      "mse Val :  6681814.544830655\n"
     ]
    }
   ],
   "source": [
    "arr_lr_val_r2 = []\n",
    "arr_lr_val_mse = []\n",
    "\n",
    "arr_lr_test_r2 = []\n",
    "arr_lr_test_mse = []\n",
    "\n",
    "for train, test in kfold.split(X_train):\n",
    "    clf_lr = LinearRegression()\n",
    "    clf_lr.fit(X[train],y[train])\n",
    "\n",
    "    Y_pred_val = clf_lr.predict(X[test])\n",
    "    val_mse_lr = mean_squared_error(y[test],Y_pred_val)\n",
    "    val_r2_lr = r2_score(y[test], Y_pred_val) \n",
    "\n",
    "    print('r2 Val : ',val_r2_lr)\n",
    "    print('mse Val : ',val_mse_lr)\n",
    "    arr_lr_val_r2.append(val_r2_lr)\n",
    "    arr_lr_val_mse.append(val_mse_lr)\n",
    "    \n",
    "    Y_pred_test = clf_lr.predict(X_test)\n",
    "    test_mse_lr = mean_squared_error(Y_test,Y_pred_test)\n",
    "    test_r2_lr = r2_score(Y_test, Y_pred_test) \n",
    "\n",
    "    print('r2 Test : ',test_r2_lr)\n",
    "    print('mse Val : ',test_mse_lr)\n",
    "    arr_lr_test_r2.append(test_r2_lr)\n",
    "    arr_lr_test_mse.append(test_mse_lr)\n",
    "\n"
   ]
  },
  {
   "cell_type": "code",
   "execution_count": 95,
   "metadata": {},
   "outputs": [
    {
     "name": "stdout",
     "output_type": "stream",
     "text": [
      "0.08345115043887638\n",
      "6388027.233058425\n",
      "0.08339342066461204\n",
      "6682070.926944208\n"
     ]
    }
   ],
   "source": [
    "print(np.mean(arr_lr_val_r2))\n",
    "print(np.mean(arr_lr_val_mse))\n",
    "print(np.mean(arr_lr_test_r2))\n",
    "print(np.mean(arr_lr_test_mse))"
   ]
  },
  {
   "cell_type": "markdown",
   "metadata": {},
   "source": [
    "### 5.2.7 Result Modeling"
   ]
  },
  {
   "cell_type": "code",
   "execution_count": 99,
   "metadata": {},
   "outputs": [
    {
     "data": {
      "text/html": [
       "<div>\n",
       "<style scoped>\n",
       "    .dataframe tbody tr th:only-of-type {\n",
       "        vertical-align: middle;\n",
       "    }\n",
       "\n",
       "    .dataframe tbody tr th {\n",
       "        vertical-align: top;\n",
       "    }\n",
       "\n",
       "    .dataframe thead th {\n",
       "        text-align: right;\n",
       "    }\n",
       "</style>\n",
       "<table border=\"1\" class=\"dataframe\">\n",
       "  <thead>\n",
       "    <tr style=\"text-align: right;\">\n",
       "      <th></th>\n",
       "      <th>model</th>\n",
       "      <th>val mse</th>\n",
       "      <th>val r2</th>\n",
       "      <th>test mse</th>\n",
       "      <th>test r2</th>\n",
       "    </tr>\n",
       "  </thead>\n",
       "  <tbody>\n",
       "    <tr>\n",
       "      <th>0</th>\n",
       "      <td>XGBRegressor</td>\n",
       "      <td>398952.063</td>\n",
       "      <td>0.943</td>\n",
       "      <td>561469.157</td>\n",
       "      <td>0.923</td>\n",
       "    </tr>\n",
       "    <tr>\n",
       "      <th>1</th>\n",
       "      <td>KNeighborsRegressor</td>\n",
       "      <td>533736.115</td>\n",
       "      <td>0.924</td>\n",
       "      <td>659149.103</td>\n",
       "      <td>0.910</td>\n",
       "    </tr>\n",
       "    <tr>\n",
       "      <th>2</th>\n",
       "      <td>GradientBoostingRegressor</td>\n",
       "      <td>2611792.467</td>\n",
       "      <td>0.625</td>\n",
       "      <td>2879838.770</td>\n",
       "      <td>0.605</td>\n",
       "    </tr>\n",
       "    <tr>\n",
       "      <th>3</th>\n",
       "      <td>RandomForestRegressor</td>\n",
       "      <td>5686618.613</td>\n",
       "      <td>0.184</td>\n",
       "      <td>5928294.515</td>\n",
       "      <td>0.187</td>\n",
       "    </tr>\n",
       "    <tr>\n",
       "      <th>4</th>\n",
       "      <td>Linear Regression</td>\n",
       "      <td>6388027.233</td>\n",
       "      <td>0.083</td>\n",
       "      <td>6682070.927</td>\n",
       "      <td>0.083</td>\n",
       "    </tr>\n",
       "    <tr>\n",
       "      <th>5</th>\n",
       "      <td>Support Vector Regression</td>\n",
       "      <td>6748152.475</td>\n",
       "      <td>0.033</td>\n",
       "      <td>7060522.694</td>\n",
       "      <td>0.031</td>\n",
       "    </tr>\n",
       "  </tbody>\n",
       "</table>\n",
       "</div>"
      ],
      "text/plain": [
       "                       model      val mse  val r2     test mse  test r2\n",
       "0               XGBRegressor   398952.063   0.943   561469.157    0.923\n",
       "1        KNeighborsRegressor   533736.115   0.924   659149.103    0.910\n",
       "2  GradientBoostingRegressor  2611792.467   0.625  2879838.770    0.605\n",
       "3      RandomForestRegressor  5686618.613   0.184  5928294.515    0.187\n",
       "4          Linear Regression  6388027.233   0.083  6682070.927    0.083\n",
       "5  Support Vector Regression  6748152.475   0.033  7060522.694    0.031"
      ]
     },
     "execution_count": 99,
     "metadata": {},
     "output_type": "execute_result"
    }
   ],
   "source": [
    "result_modelling = pd.DataFrame({\n",
    "    'model': ['GradientBoostingRegressor', 'RandomForestRegressor', 'Support Vector Regression', \n",
    "            'KNeighborsRegressor', 'XGBRegressor', 'Linear Regression'\n",
    "             ],\n",
    "    'val mse': [np.mean(arr_gb_val_mse), np.mean(arr_rf_val_mse), np.mean(arr_svm_val_mse),\n",
    "                np.mean(arr_knn_val_mse), np.mean(arr_xgb_val_mse), np.mean(arr_lr_val_mse)\n",
    "        \n",
    "    ],\n",
    "    \n",
    "    'val r2': [np.mean(arr_gb_val_r2), np.mean(arr_rf_val_r2), np.mean(arr_svm_val_r2),\n",
    "               np.mean(arr_knn_val_r2), np.mean(arr_xgb_val_r2), np.mean(arr_lr_val_r2)\n",
    "        \n",
    "    ],\n",
    "    'test mse': [np.mean(arr_gb_test_mse), np.mean(arr_rf_test_mse), np.mean(arr_svm_test_mse),\n",
    "                 np.mean(arr_knn_test_mse), np.mean(arr_xgb_test_mse), np.mean(arr_lr_test_mse)\n",
    "        \n",
    "    ],\n",
    "    \n",
    "    'test r2': [np.mean(arr_gb_test_r2), np.mean(arr_rf_test_r2), np.mean(arr_svm_test_r2),\n",
    "                np.mean(arr_knn_test_r2), np.mean(arr_xgb_test_r2), np.mean(arr_lr_test_r2)\n",
    "        \n",
    "    ],\n",
    "})\n",
    "result_modelling['val mse'] = np.round(result_modelling['val mse'], decimals = 3)\n",
    "result_modelling['val r2'] = np.round(result_modelling['val r2'], decimals = 3)\n",
    "result_modelling['test mse'] = np.round(result_modelling['test mse'], decimals = 3)\n",
    "result_modelling['test r2'] = np.round(result_modelling['test r2'], decimals = 3)\n",
    "result_modelling = result_modelling.sort_values(by='val r2', ascending=False).reset_index(drop=True)\n",
    "result_modelling"
   ]
  },
  {
   "cell_type": "code",
   "execution_count": 144,
   "metadata": {},
   "outputs": [],
   "source": [
    "result_modelling.to_csv('../result/result_modelling.csv',index=False)"
   ]
  },
  {
   "cell_type": "code",
   "execution_count": 147,
   "metadata": {},
   "outputs": [],
   "source": [
    "val = result_modelling['val r2']\n",
    "test = result_modelling['test r2']\n",
    "\n",
    "bars = result_modelling['model']\n",
    "barwidth = 0.3\n",
    "\n",
    "total_pos = np.arange(len(bars))\n",
    "val_pos = [x + barwidth for x in total_pos]\n",
    "test_pos = [x + 2*barwidth for x in total_pos]\n"
   ]
  },
  {
   "cell_type": "code",
   "execution_count": 159,
   "metadata": {},
   "outputs": [
    {
     "data": {
      "image/png": "[encoded data removed]",
      "text/plain": [
       "<Figure size 1080x720 with 1 Axes>"
      ]
     },
     "metadata": {
      "needs_background": "light"
     },
     "output_type": "display_data"
    }
   ],
   "source": [
    "fig,ax =plt.subplots(figsize=(15,10))\n",
    "plt.bar(val_pos,val,width=barwidth, color = '#800000', alpha=0.9)\n",
    "plt.bar(test_pos,test,width=barwidth, color = '#008000', alpha=0.9)\n",
    "\n",
    "plt.bar(0.3,0,width=barwidth, color = '#800000',label='Val ')\n",
    "plt.bar(0.6,0,width=barwidth, color = '#008000', label='Test ')\n",
    "# plt.bar(0.3,0.9450,width=barwidth, color = '#800000')\n",
    "# plt.bar(0.6,0.946977,width=barwidth, color = '#008000')\n",
    "\n",
    "title = 'Model Analysis (Cross Validation and Test)'\n",
    "txpos = 4 #title x coordinate\n",
    "typos = 1.1 #title y coordinate\n",
    "ax.text(txpos,typos,title,horizontalalignment='center',color='#800000',fontsize=20,fontweight='bold')\n",
    "\n",
    "\n",
    "# insight = '''\n",
    "\n",
    "# '''\n",
    "# ixpos = 0.1 #insight x coordinate\n",
    "# iypos = 1.05 #insight y coordinate\n",
    "# ax.text(ixpos,iypos,insight,horizontalalignment='left',color='grey',fontsize=16,fontweight='normal')\n",
    "\n",
    "plt.xticks(val_pos, bars,rotation=45)\n",
    "ax.legend(loc='upper left', bbox_to_anchor= (1.01, 1.0), ncol=1, borderaxespad=0,frameon=False)\n",
    "ax.set_ylim(0,1.2)\n",
    "\n",
    "\n",
    "\n",
    "\n",
    "plt.savefig('../fig/result_modelling.png',bbox_inches='tight')"
   ]
  },
  {
   "cell_type": "markdown",
   "metadata": {},
   "source": [
    "## 6. Test Algorithm on Test Data"
   ]
  },
  {
   "cell_type": "code",
   "execution_count": 139,
   "metadata": {},
   "outputs": [
    {
     "data": {
      "text/html": [
       "<div>\n",
       "<style scoped>\n",
       "    .dataframe tbody tr th:only-of-type {\n",
       "        vertical-align: middle;\n",
       "    }\n",
       "\n",
       "    .dataframe tbody tr th {\n",
       "        vertical-align: top;\n",
       "    }\n",
       "\n",
       "    .dataframe thead th {\n",
       "        text-align: right;\n",
       "    }\n",
       "</style>\n",
       "<table border=\"1\" class=\"dataframe\">\n",
       "  <thead>\n",
       "    <tr style=\"text-align: right;\">\n",
       "      <th></th>\n",
       "      <th>Agency</th>\n",
       "      <th>SKU</th>\n",
       "      <th>Volume</th>\n",
       "    </tr>\n",
       "  </thead>\n",
       "  <tbody>\n",
       "    <tr>\n",
       "      <th>0</th>\n",
       "      <td>Agency_23</td>\n",
       "      <td>SKU_06</td>\n",
       "      <td>NaN</td>\n",
       "    </tr>\n",
       "    <tr>\n",
       "      <th>1</th>\n",
       "      <td>Agency_34</td>\n",
       "      <td>SKU_20</td>\n",
       "      <td>NaN</td>\n",
       "    </tr>\n",
       "  </tbody>\n",
       "</table>\n",
       "</div>"
      ],
      "text/plain": [
       "      Agency     SKU  Volume\n",
       "0  Agency_23  SKU_06     NaN\n",
       "1  Agency_34  SKU_20     NaN"
      ]
     },
     "execution_count": 139,
     "metadata": {},
     "output_type": "execute_result"
    }
   ],
   "source": [
    "df_test = pd.read_csv('../input/volume_forecast.csv')\n",
    "df_test.head(2)"
   ]
  },
  {
   "cell_type": "code",
   "execution_count": 118,
   "metadata": {},
   "outputs": [
    {
     "data": {
      "text/plain": [
       "Agency       0\n",
       "SKU          0\n",
       "Volume    1450\n",
       "dtype: int64"
      ]
     },
     "execution_count": 118,
     "metadata": {},
     "output_type": "execute_result"
    }
   ],
   "source": [
    "df_test.isnull().sum()"
   ]
  },
  {
   "cell_type": "code",
   "execution_count": 119,
   "metadata": {},
   "outputs": [
    {
     "data": {
      "text/html": [
       "<div>\n",
       "<style scoped>\n",
       "    .dataframe tbody tr th:only-of-type {\n",
       "        vertical-align: middle;\n",
       "    }\n",
       "\n",
       "    .dataframe tbody tr th {\n",
       "        vertical-align: top;\n",
       "    }\n",
       "\n",
       "    .dataframe thead th {\n",
       "        text-align: right;\n",
       "    }\n",
       "</style>\n",
       "<table border=\"1\" class=\"dataframe\">\n",
       "  <thead>\n",
       "    <tr style=\"text-align: right;\">\n",
       "      <th></th>\n",
       "      <th>Agency</th>\n",
       "      <th>SKU</th>\n",
       "      <th>Volume</th>\n",
       "    </tr>\n",
       "  </thead>\n",
       "  <tbody>\n",
       "    <tr>\n",
       "      <th>0</th>\n",
       "      <td>23</td>\n",
       "      <td>6</td>\n",
       "      <td>NaN</td>\n",
       "    </tr>\n",
       "    <tr>\n",
       "      <th>1</th>\n",
       "      <td>34</td>\n",
       "      <td>20</td>\n",
       "      <td>NaN</td>\n",
       "    </tr>\n",
       "  </tbody>\n",
       "</table>\n",
       "</div>"
      ],
      "text/plain": [
       "   Agency  SKU  Volume\n",
       "0      23    6     NaN\n",
       "1      34   20     NaN"
      ]
     },
     "execution_count": 119,
     "metadata": {},
     "output_type": "execute_result"
    }
   ],
   "source": [
    "df_test['SKU'] = df_test['SKU'].apply(lambda x: x[4:])\n",
    "df_test['SKU'] = df_test['SKU'].astype(int)\n",
    "\n",
    "df_test['Agency'] = df_test['Agency'].apply(lambda x: x[7:])\n",
    "df_test['Agency'] = df_test['Agency'].astype(int)\n",
    "df_test.head(2)"
   ]
  },
  {
   "cell_type": "code",
   "execution_count": 120,
   "metadata": {},
   "outputs": [],
   "source": [
    "df_test = df_test.drop('Volume', axis=1)"
   ]
  },
  {
   "cell_type": "code",
   "execution_count": 121,
   "metadata": {},
   "outputs": [],
   "source": [
    "X_test = sc_x.fit_transform(df_test.astype(float))"
   ]
  },
  {
   "cell_type": "code",
   "execution_count": 122,
   "metadata": {},
   "outputs": [],
   "source": [
    "model_xgb = joblib.load('../model/xgb_2.dat')"
   ]
  },
  {
   "cell_type": "code",
   "execution_count": 136,
   "metadata": {},
   "outputs": [
    {
     "name": "stdout",
     "output_type": "stream",
     "text": [
      "finish predict\n"
     ]
    },
    {
     "data": {
      "text/html": [
       "<div>\n",
       "<style scoped>\n",
       "    .dataframe tbody tr th:only-of-type {\n",
       "        vertical-align: middle;\n",
       "    }\n",
       "\n",
       "    .dataframe tbody tr th {\n",
       "        vertical-align: top;\n",
       "    }\n",
       "\n",
       "    .dataframe thead th {\n",
       "        text-align: right;\n",
       "    }\n",
       "</style>\n",
       "<table border=\"1\" class=\"dataframe\">\n",
       "  <thead>\n",
       "    <tr style=\"text-align: right;\">\n",
       "      <th></th>\n",
       "      <th>Volume</th>\n",
       "    </tr>\n",
       "  </thead>\n",
       "  <tbody>\n",
       "    <tr>\n",
       "      <th>0</th>\n",
       "      <td>42.544613</td>\n",
       "    </tr>\n",
       "    <tr>\n",
       "      <th>1</th>\n",
       "      <td>-124.071152</td>\n",
       "    </tr>\n",
       "    <tr>\n",
       "      <th>2</th>\n",
       "      <td>40.357155</td>\n",
       "    </tr>\n",
       "    <tr>\n",
       "      <th>3</th>\n",
       "      <td>4866.079102</td>\n",
       "    </tr>\n",
       "    <tr>\n",
       "      <th>4</th>\n",
       "      <td>-70.283180</td>\n",
       "    </tr>\n",
       "  </tbody>\n",
       "</table>\n",
       "</div>"
      ],
      "text/plain": [
       "        Volume\n",
       "0    42.544613\n",
       "1  -124.071152\n",
       "2    40.357155\n",
       "3  4866.079102\n",
       "4   -70.283180"
      ]
     },
     "execution_count": 136,
     "metadata": {},
     "output_type": "execute_result"
    }
   ],
   "source": [
    "y_pred = model_xgb.predict(X_test)\n",
    "y_pd = pd.DataFrame({'Volume':y_pred})\n",
    "print('finish predict')\n",
    "y_pd.head()"
   ]
  },
  {
   "cell_type": "markdown",
   "metadata": {},
   "source": [
    "### Concat"
   ]
  },
  {
   "cell_type": "code",
   "execution_count": 141,
   "metadata": {},
   "outputs": [
    {
     "data": {
      "text/html": [
       "<div>\n",
       "<style scoped>\n",
       "    .dataframe tbody tr th:only-of-type {\n",
       "        vertical-align: middle;\n",
       "    }\n",
       "\n",
       "    .dataframe tbody tr th {\n",
       "        vertical-align: top;\n",
       "    }\n",
       "\n",
       "    .dataframe thead th {\n",
       "        text-align: right;\n",
       "    }\n",
       "</style>\n",
       "<table border=\"1\" class=\"dataframe\">\n",
       "  <thead>\n",
       "    <tr style=\"text-align: right;\">\n",
       "      <th></th>\n",
       "      <th>Agency</th>\n",
       "      <th>SKU</th>\n",
       "    </tr>\n",
       "  </thead>\n",
       "  <tbody>\n",
       "    <tr>\n",
       "      <th>0</th>\n",
       "      <td>Agency_23</td>\n",
       "      <td>SKU_06</td>\n",
       "    </tr>\n",
       "    <tr>\n",
       "      <th>1</th>\n",
       "      <td>Agency_34</td>\n",
       "      <td>SKU_20</td>\n",
       "    </tr>\n",
       "    <tr>\n",
       "      <th>2</th>\n",
       "      <td>Agency_24</td>\n",
       "      <td>SKU_02</td>\n",
       "    </tr>\n",
       "    <tr>\n",
       "      <th>3</th>\n",
       "      <td>Agency_40</td>\n",
       "      <td>SKU_06</td>\n",
       "    </tr>\n",
       "    <tr>\n",
       "      <th>4</th>\n",
       "      <td>Agency_42</td>\n",
       "      <td>SKU_32</td>\n",
       "    </tr>\n",
       "  </tbody>\n",
       "</table>\n",
       "</div>"
      ],
      "text/plain": [
       "      Agency     SKU\n",
       "0  Agency_23  SKU_06\n",
       "1  Agency_34  SKU_20\n",
       "2  Agency_24  SKU_02\n",
       "3  Agency_40  SKU_06\n",
       "4  Agency_42  SKU_32"
      ]
     },
     "execution_count": 141,
     "metadata": {},
     "output_type": "execute_result"
    }
   ],
   "source": [
    "df_test = pd.read_csv('../input/volume_forecast.csv') \n",
    "df_test = df_test.drop('Volume', axis=1)\n",
    "df_test.head()"
   ]
  },
  {
   "cell_type": "code",
   "execution_count": 145,
   "metadata": {},
   "outputs": [
    {
     "data": {
      "text/html": [
       "<div>\n",
       "<style scoped>\n",
       "    .dataframe tbody tr th:only-of-type {\n",
       "        vertical-align: middle;\n",
       "    }\n",
       "\n",
       "    .dataframe tbody tr th {\n",
       "        vertical-align: top;\n",
       "    }\n",
       "\n",
       "    .dataframe thead th {\n",
       "        text-align: right;\n",
       "    }\n",
       "</style>\n",
       "<table border=\"1\" class=\"dataframe\">\n",
       "  <thead>\n",
       "    <tr style=\"text-align: right;\">\n",
       "      <th></th>\n",
       "      <th>Agency</th>\n",
       "      <th>SKU</th>\n",
       "      <th>Volume</th>\n",
       "    </tr>\n",
       "  </thead>\n",
       "  <tbody>\n",
       "    <tr>\n",
       "      <th>0</th>\n",
       "      <td>Agency_23</td>\n",
       "      <td>SKU_06</td>\n",
       "      <td>42.544613</td>\n",
       "    </tr>\n",
       "    <tr>\n",
       "      <th>1</th>\n",
       "      <td>Agency_34</td>\n",
       "      <td>SKU_20</td>\n",
       "      <td>-124.071152</td>\n",
       "    </tr>\n",
       "    <tr>\n",
       "      <th>2</th>\n",
       "      <td>Agency_24</td>\n",
       "      <td>SKU_02</td>\n",
       "      <td>40.357155</td>\n",
       "    </tr>\n",
       "    <tr>\n",
       "      <th>3</th>\n",
       "      <td>Agency_40</td>\n",
       "      <td>SKU_06</td>\n",
       "      <td>4866.079102</td>\n",
       "    </tr>\n",
       "    <tr>\n",
       "      <th>4</th>\n",
       "      <td>Agency_42</td>\n",
       "      <td>SKU_32</td>\n",
       "      <td>-70.283180</td>\n",
       "    </tr>\n",
       "  </tbody>\n",
       "</table>\n",
       "</div>"
      ],
      "text/plain": [
       "      Agency     SKU       Volume\n",
       "0  Agency_23  SKU_06    42.544613\n",
       "1  Agency_34  SKU_20  -124.071152\n",
       "2  Agency_24  SKU_02    40.357155\n",
       "3  Agency_40  SKU_06  4866.079102\n",
       "4  Agency_42  SKU_32   -70.283180"
      ]
     },
     "execution_count": 145,
     "metadata": {},
     "output_type": "execute_result"
    }
   ],
   "source": [
    "frames = [df_test, y_pd]\n",
    "result = pd.concat(frames, axis=1)\n",
    "result.to_csv('../result/volume_forecast.csv',index=False)\n",
    "result.head()"
   ]
  },
  {
   "cell_type": "markdown",
   "metadata": {},
   "source": [
    "## 7. Forecasting Multivariate"
   ]
  },
  {
   "cell_type": "markdown",
   "metadata": {},
   "source": [
    "## 7.1 Numerical Data Correlation¶"
   ]
  },
  {
   "cell_type": "code",
   "execution_count": 162,
   "metadata": {},
   "outputs": [
    {
     "data": {
      "text/html": [
       "<div>\n",
       "<style scoped>\n",
       "    .dataframe tbody tr th:only-of-type {\n",
       "        vertical-align: middle;\n",
       "    }\n",
       "\n",
       "    .dataframe tbody tr th {\n",
       "        vertical-align: top;\n",
       "    }\n",
       "\n",
       "    .dataframe thead th {\n",
       "        text-align: right;\n",
       "    }\n",
       "</style>\n",
       "<table border=\"1\" class=\"dataframe\">\n",
       "  <thead>\n",
       "    <tr style=\"text-align: right;\">\n",
       "      <th></th>\n",
       "      <th>Agency</th>\n",
       "      <th>SKU</th>\n",
       "      <th>YearMonth</th>\n",
       "      <th>Volume</th>\n",
       "      <th>Price</th>\n",
       "      <th>Sales</th>\n",
       "      <th>Promotions</th>\n",
       "      <th>Avg_Max_Temp</th>\n",
       "      <th>Avg_Population_2017</th>\n",
       "      <th>Avg_Yearly_Household_Income_2017</th>\n",
       "      <th>...</th>\n",
       "      <th>New Year</th>\n",
       "      <th>Christmas</th>\n",
       "      <th>Labor Day</th>\n",
       "      <th>Independence Day</th>\n",
       "      <th>Revolution Day Memorial</th>\n",
       "      <th>Regional Games</th>\n",
       "      <th>FIFA U-17 World Cup</th>\n",
       "      <th>Football Gold Cup</th>\n",
       "      <th>Beer Capital</th>\n",
       "      <th>Music Fest</th>\n",
       "    </tr>\n",
       "  </thead>\n",
       "  <tbody>\n",
       "    <tr>\n",
       "      <th>0</th>\n",
       "      <td>22</td>\n",
       "      <td>1</td>\n",
       "      <td>2013-01-01</td>\n",
       "      <td>52.27</td>\n",
       "      <td>1168.90</td>\n",
       "      <td>1069.17</td>\n",
       "      <td>99.74</td>\n",
       "      <td>25.85</td>\n",
       "      <td>NaN</td>\n",
       "      <td>NaN</td>\n",
       "      <td>...</td>\n",
       "      <td>1</td>\n",
       "      <td>0</td>\n",
       "      <td>0</td>\n",
       "      <td>0</td>\n",
       "      <td>0</td>\n",
       "      <td>0</td>\n",
       "      <td>0</td>\n",
       "      <td>0</td>\n",
       "      <td>0</td>\n",
       "      <td>0</td>\n",
       "    </tr>\n",
       "    <tr>\n",
       "      <th>1</th>\n",
       "      <td>22</td>\n",
       "      <td>4</td>\n",
       "      <td>2013-01-01</td>\n",
       "      <td>31.06</td>\n",
       "      <td>1742.11</td>\n",
       "      <td>1598.41</td>\n",
       "      <td>143.70</td>\n",
       "      <td>25.85</td>\n",
       "      <td>NaN</td>\n",
       "      <td>NaN</td>\n",
       "      <td>...</td>\n",
       "      <td>1</td>\n",
       "      <td>0</td>\n",
       "      <td>0</td>\n",
       "      <td>0</td>\n",
       "      <td>0</td>\n",
       "      <td>0</td>\n",
       "      <td>0</td>\n",
       "      <td>0</td>\n",
       "      <td>0</td>\n",
       "      <td>0</td>\n",
       "    </tr>\n",
       "    <tr>\n",
       "      <th>2</th>\n",
       "      <td>22</td>\n",
       "      <td>5</td>\n",
       "      <td>2013-01-01</td>\n",
       "      <td>238.54</td>\n",
       "      <td>1310.18</td>\n",
       "      <td>1203.88</td>\n",
       "      <td>106.30</td>\n",
       "      <td>25.85</td>\n",
       "      <td>NaN</td>\n",
       "      <td>NaN</td>\n",
       "      <td>...</td>\n",
       "      <td>1</td>\n",
       "      <td>0</td>\n",
       "      <td>0</td>\n",
       "      <td>0</td>\n",
       "      <td>0</td>\n",
       "      <td>0</td>\n",
       "      <td>0</td>\n",
       "      <td>0</td>\n",
       "      <td>0</td>\n",
       "      <td>0</td>\n",
       "    </tr>\n",
       "    <tr>\n",
       "      <th>3</th>\n",
       "      <td>22</td>\n",
       "      <td>2</td>\n",
       "      <td>2013-01-01</td>\n",
       "      <td>110.70</td>\n",
       "      <td>1167.00</td>\n",
       "      <td>1067.26</td>\n",
       "      <td>99.74</td>\n",
       "      <td>25.85</td>\n",
       "      <td>NaN</td>\n",
       "      <td>NaN</td>\n",
       "      <td>...</td>\n",
       "      <td>1</td>\n",
       "      <td>0</td>\n",
       "      <td>0</td>\n",
       "      <td>0</td>\n",
       "      <td>0</td>\n",
       "      <td>0</td>\n",
       "      <td>0</td>\n",
       "      <td>0</td>\n",
       "      <td>0</td>\n",
       "      <td>0</td>\n",
       "    </tr>\n",
       "    <tr>\n",
       "      <th>4</th>\n",
       "      <td>22</td>\n",
       "      <td>3</td>\n",
       "      <td>2013-01-01</td>\n",
       "      <td>86.46</td>\n",
       "      <td>1258.73</td>\n",
       "      <td>1156.65</td>\n",
       "      <td>102.08</td>\n",
       "      <td>25.85</td>\n",
       "      <td>NaN</td>\n",
       "      <td>NaN</td>\n",
       "      <td>...</td>\n",
       "      <td>1</td>\n",
       "      <td>0</td>\n",
       "      <td>0</td>\n",
       "      <td>0</td>\n",
       "      <td>0</td>\n",
       "      <td>0</td>\n",
       "      <td>0</td>\n",
       "      <td>0</td>\n",
       "      <td>0</td>\n",
       "      <td>0</td>\n",
       "    </tr>\n",
       "  </tbody>\n",
       "</table>\n",
       "<p>5 rows × 24 columns</p>\n",
       "</div>"
      ],
      "text/plain": [
       "   Agency  SKU   YearMonth  Volume    Price    Sales  Promotions  \\\n",
       "0      22    1  2013-01-01   52.27  1168.90  1069.17       99.74   \n",
       "1      22    4  2013-01-01   31.06  1742.11  1598.41      143.70   \n",
       "2      22    5  2013-01-01  238.54  1310.18  1203.88      106.30   \n",
       "3      22    2  2013-01-01  110.70  1167.00  1067.26       99.74   \n",
       "4      22    3  2013-01-01   86.46  1258.73  1156.65      102.08   \n",
       "\n",
       "   Avg_Max_Temp  Avg_Population_2017  Avg_Yearly_Household_Income_2017  \\\n",
       "0         25.85                  NaN                               NaN   \n",
       "1         25.85                  NaN                               NaN   \n",
       "2         25.85                  NaN                               NaN   \n",
       "3         25.85                  NaN                               NaN   \n",
       "4         25.85                  NaN                               NaN   \n",
       "\n",
       "      ...      New Year  Christmas  Labor Day  Independence Day  \\\n",
       "0     ...             1          0          0                 0   \n",
       "1     ...             1          0          0                 0   \n",
       "2     ...             1          0          0                 0   \n",
       "3     ...             1          0          0                 0   \n",
       "4     ...             1          0          0                 0   \n",
       "\n",
       "   Revolution Day Memorial  Regional Games   FIFA U-17 World Cup  \\\n",
       "0                        0                0                    0   \n",
       "1                        0                0                    0   \n",
       "2                        0                0                    0   \n",
       "3                        0                0                    0   \n",
       "4                        0                0                    0   \n",
       "\n",
       "   Football Gold Cup  Beer Capital  Music Fest  \n",
       "0                  0             0           0  \n",
       "1                  0             0           0  \n",
       "2                  0             0           0  \n",
       "3                  0             0           0  \n",
       "4                  0             0           0  \n",
       "\n",
       "[5 rows x 24 columns]"
      ]
     },
     "execution_count": 162,
     "metadata": {},
     "output_type": "execute_result"
    }
   ],
   "source": [
    "df = pd.read_csv('../input/train.csv')\n",
    "df['Volume'] = df['Volume'].round(2)\n",
    "df['Price'] = df['Price'].round(2)\n",
    "df['Sales'] = df['Sales'].round(2)\n",
    "df['Promotions'] = df['Promotions'].round(2)\n",
    "df['Avg_Max_Temp'] = df['Avg_Max_Temp'].round(2)\n",
    "df.head()"
   ]
  },
  {
   "cell_type": "code",
   "execution_count": 3,
   "metadata": {},
   "outputs": [
    {
     "data": {
      "text/plain": [
       "Agency                                  0\n",
       "SKU                                     0\n",
       "YearMonth                               0\n",
       "Volume                                  0\n",
       "Price                                   0\n",
       "Sales                                   0\n",
       "Promotions                              0\n",
       "Avg_Max_Temp                            0\n",
       "Avg_Population_2017                 16800\n",
       "Avg_Yearly_Household_Income_2017    16800\n",
       "Soda_Volume                             0\n",
       "Industry_Volume                         0\n",
       "Easter Day                              0\n",
       "Good Friday                             0\n",
       "New Year                                0\n",
       "Christmas                               0\n",
       "Labor Day                               0\n",
       "Independence Day                        0\n",
       "Revolution Day Memorial                 0\n",
       "Regional Games                          0\n",
       "FIFA U-17 World Cup                     0\n",
       "Football Gold Cup                       0\n",
       "Beer Capital                            0\n",
       "Music Fest                              0\n",
       "dtype: int64"
      ]
     },
     "execution_count": 3,
     "metadata": {},
     "output_type": "execute_result"
    }
   ],
   "source": [
    "df.isnull().sum()"
   ]
  },
  {
   "cell_type": "code",
   "execution_count": 164,
   "metadata": {},
   "outputs": [
    {
     "data": {
      "image/png": "[encoded data removed]",
      "text/plain": [
       "<Figure size 1152x720 with 2 Axes>"
      ]
     },
     "metadata": {
      "needs_background": "light"
     },
     "output_type": "display_data"
    }
   ],
   "source": [
    "# df = df.drop('YearMonth', axis=1)\n",
    "# df_temp = df\n",
    "cols = list(df)\n",
    "\n",
    "corr_ =df[cols].corr()\n",
    "plt.figure(figsize=(16,10))\n",
    "sns.heatmap(corr_, annot=True, fmt = \".2f\", cmap = \"BuPu\")\n",
    "plt.savefig('../fig/Data Numeric Corr.png',bbox_inches='tight')"
   ]
  },
  {
   "cell_type": "markdown",
   "metadata": {},
   "source": [
    "## 7.2 Feature Engineering"
   ]
  },
  {
   "cell_type": "code",
   "execution_count": 163,
   "metadata": {},
   "outputs": [],
   "source": [
    "df = df.drop('Soda_Volume',axis=1)\n",
    "df = df.drop('Good Friday',axis=1)\n",
    "df = df.drop('Sales',axis=1)\n",
    "df = df.drop('Revolution Day Memorial',axis=1)\n",
    "df = df.drop('Independence Day',axis=1)\n",
    "df = df.drop('Beer Capital',axis=1)\n",
    "df = df.drop('New Year',axis=1)\n",
    "df = df.drop('Avg_Max_Temp',axis=1)\n",
    "df = df.drop('FIFA U-17 World Cup',axis=1)\n",
    "df = df.drop('Football Gold Cup',axis=1)\n",
    "df = df.drop('Avg_Population_2017',axis=1)\n",
    "df = df.drop('Avg_Yearly_Household_Income_2017',axis=1)"
   ]
  },
  {
   "cell_type": "code",
   "execution_count": 164,
   "metadata": {},
   "outputs": [
    {
     "data": {
      "text/plain": [
       "Agency             0\n",
       "SKU                0\n",
       "YearMonth          0\n",
       "Volume             0\n",
       "Price              0\n",
       "Promotions         0\n",
       "Industry_Volume    0\n",
       "Easter Day         0\n",
       "Christmas          0\n",
       "Labor Day          0\n",
       "Regional Games     0\n",
       "Music Fest         0\n",
       "dtype: int64"
      ]
     },
     "execution_count": 164,
     "metadata": {},
     "output_type": "execute_result"
    }
   ],
   "source": [
    "df.isnull().sum()"
   ]
  },
  {
   "cell_type": "code",
   "execution_count": 186,
   "metadata": {},
   "outputs": [
    {
     "data": {
      "image/png": "[encoded data removed]",
      "text/plain": [
       "<Figure size 1152x720 with 2 Axes>"
      ]
     },
     "metadata": {
      "needs_background": "light"
     },
     "output_type": "display_data"
    }
   ],
   "source": [
    "corr_ =df[list(df)].corr()\n",
    "plt.figure(figsize=(16,10))\n",
    "sns.heatmap(corr_, annot=True, fmt = \".2f\", cmap = \"BuPu\")\n",
    "plt.savefig('../fig/Data Numeric Corr 2.png',bbox_inches='tight')"
   ]
  },
  {
   "cell_type": "code",
   "execution_count": 5,
   "metadata": {},
   "outputs": [
    {
     "data": {
      "text/html": [
       "<div>\n",
       "<style scoped>\n",
       "    .dataframe tbody tr th:only-of-type {\n",
       "        vertical-align: middle;\n",
       "    }\n",
       "\n",
       "    .dataframe tbody tr th {\n",
       "        vertical-align: top;\n",
       "    }\n",
       "\n",
       "    .dataframe thead th {\n",
       "        text-align: right;\n",
       "    }\n",
       "</style>\n",
       "<table border=\"1\" class=\"dataframe\">\n",
       "  <thead>\n",
       "    <tr style=\"text-align: right;\">\n",
       "      <th></th>\n",
       "      <th>YearMonth</th>\n",
       "      <th>Volume</th>\n",
       "      <th>Price</th>\n",
       "      <th>Promotions</th>\n",
       "    </tr>\n",
       "  </thead>\n",
       "  <tbody>\n",
       "    <tr>\n",
       "      <th>0</th>\n",
       "      <td>2013-01-01</td>\n",
       "      <td>52.27</td>\n",
       "      <td>1168.90</td>\n",
       "      <td>99.74</td>\n",
       "    </tr>\n",
       "    <tr>\n",
       "      <th>1</th>\n",
       "      <td>2013-01-01</td>\n",
       "      <td>31.06</td>\n",
       "      <td>1742.11</td>\n",
       "      <td>143.70</td>\n",
       "    </tr>\n",
       "    <tr>\n",
       "      <th>2</th>\n",
       "      <td>2013-01-01</td>\n",
       "      <td>238.54</td>\n",
       "      <td>1310.18</td>\n",
       "      <td>106.30</td>\n",
       "    </tr>\n",
       "    <tr>\n",
       "      <th>3</th>\n",
       "      <td>2013-01-01</td>\n",
       "      <td>110.70</td>\n",
       "      <td>1167.00</td>\n",
       "      <td>99.74</td>\n",
       "    </tr>\n",
       "    <tr>\n",
       "      <th>4</th>\n",
       "      <td>2013-01-01</td>\n",
       "      <td>86.46</td>\n",
       "      <td>1258.73</td>\n",
       "      <td>102.08</td>\n",
       "    </tr>\n",
       "  </tbody>\n",
       "</table>\n",
       "</div>"
      ],
      "text/plain": [
       "    YearMonth  Volume    Price  Promotions\n",
       "0  2013-01-01   52.27  1168.90       99.74\n",
       "1  2013-01-01   31.06  1742.11      143.70\n",
       "2  2013-01-01  238.54  1310.18      106.30\n",
       "3  2013-01-01  110.70  1167.00       99.74\n",
       "4  2013-01-01   86.46  1258.73      102.08"
      ]
     },
     "execution_count": 5,
     "metadata": {},
     "output_type": "execute_result"
    }
   ],
   "source": [
    "df = df[['YearMonth','Volume','Price','Promotions']].copy()\n",
    "df.head()"
   ]
  },
  {
   "cell_type": "code",
   "execution_count": 6,
   "metadata": {},
   "outputs": [
    {
     "data": {
      "text/html": [
       "<div>\n",
       "<style scoped>\n",
       "    .dataframe tbody tr th:only-of-type {\n",
       "        vertical-align: middle;\n",
       "    }\n",
       "\n",
       "    .dataframe tbody tr th {\n",
       "        vertical-align: top;\n",
       "    }\n",
       "\n",
       "    .dataframe thead tr th {\n",
       "        text-align: left;\n",
       "    }\n",
       "</style>\n",
       "<table border=\"1\" class=\"dataframe\">\n",
       "  <thead>\n",
       "    <tr>\n",
       "      <th></th>\n",
       "      <th>YearMonth</th>\n",
       "      <th colspan=\"3\" halign=\"left\">Volume</th>\n",
       "      <th colspan=\"3\" halign=\"left\">Price</th>\n",
       "      <th colspan=\"3\" halign=\"left\">Promotions</th>\n",
       "    </tr>\n",
       "    <tr>\n",
       "      <th></th>\n",
       "      <th></th>\n",
       "      <th>sum</th>\n",
       "      <th>mean</th>\n",
       "      <th>std</th>\n",
       "      <th>sum</th>\n",
       "      <th>mean</th>\n",
       "      <th>std</th>\n",
       "      <th>sum</th>\n",
       "      <th>mean</th>\n",
       "      <th>std</th>\n",
       "    </tr>\n",
       "  </thead>\n",
       "  <tbody>\n",
       "    <tr>\n",
       "      <th>0</th>\n",
       "      <td>2013-01-01</td>\n",
       "      <td>420800.26</td>\n",
       "      <td>1202.286457</td>\n",
       "      <td>2068.967302</td>\n",
       "      <td>380813.99</td>\n",
       "      <td>1088.039971</td>\n",
       "      <td>566.527413</td>\n",
       "      <td>28145.86</td>\n",
       "      <td>80.416743</td>\n",
       "      <td>95.507102</td>\n",
       "    </tr>\n",
       "    <tr>\n",
       "      <th>1</th>\n",
       "      <td>2013-02-01</td>\n",
       "      <td>458964.04</td>\n",
       "      <td>1311.325829</td>\n",
       "      <td>2245.534754</td>\n",
       "      <td>383048.58</td>\n",
       "      <td>1094.424514</td>\n",
       "      <td>559.732076</td>\n",
       "      <td>24530.76</td>\n",
       "      <td>70.087886</td>\n",
       "      <td>70.148346</td>\n",
       "    </tr>\n",
       "    <tr>\n",
       "      <th>2</th>\n",
       "      <td>2013-03-01</td>\n",
       "      <td>523473.88</td>\n",
       "      <td>1495.639657</td>\n",
       "      <td>2523.213543</td>\n",
       "      <td>392857.41</td>\n",
       "      <td>1122.449743</td>\n",
       "      <td>567.968869</td>\n",
       "      <td>26050.54</td>\n",
       "      <td>74.430114</td>\n",
       "      <td>70.393990</td>\n",
       "    </tr>\n",
       "    <tr>\n",
       "      <th>3</th>\n",
       "      <td>2013-04-01</td>\n",
       "      <td>548346.92</td>\n",
       "      <td>1566.705486</td>\n",
       "      <td>2713.624659</td>\n",
       "      <td>406030.87</td>\n",
       "      <td>1160.088200</td>\n",
       "      <td>587.328397</td>\n",
       "      <td>27030.64</td>\n",
       "      <td>77.230400</td>\n",
       "      <td>74.308174</td>\n",
       "    </tr>\n",
       "    <tr>\n",
       "      <th>4</th>\n",
       "      <td>2013-05-01</td>\n",
       "      <td>595946.40</td>\n",
       "      <td>1702.704000</td>\n",
       "      <td>2941.199611</td>\n",
       "      <td>411584.73</td>\n",
       "      <td>1175.956371</td>\n",
       "      <td>580.454259</td>\n",
       "      <td>30289.36</td>\n",
       "      <td>86.541029</td>\n",
       "      <td>79.911797</td>\n",
       "    </tr>\n",
       "  </tbody>\n",
       "</table>\n",
       "</div>"
      ],
      "text/plain": [
       "    YearMonth     Volume                                Price               \\\n",
       "                     sum         mean          std        sum         mean   \n",
       "0  2013-01-01  420800.26  1202.286457  2068.967302  380813.99  1088.039971   \n",
       "1  2013-02-01  458964.04  1311.325829  2245.534754  383048.58  1094.424514   \n",
       "2  2013-03-01  523473.88  1495.639657  2523.213543  392857.41  1122.449743   \n",
       "3  2013-04-01  548346.92  1566.705486  2713.624659  406030.87  1160.088200   \n",
       "4  2013-05-01  595946.40  1702.704000  2941.199611  411584.73  1175.956371   \n",
       "\n",
       "              Promotions                        \n",
       "          std        sum       mean        std  \n",
       "0  566.527413   28145.86  80.416743  95.507102  \n",
       "1  559.732076   24530.76  70.087886  70.148346  \n",
       "2  567.968869   26050.54  74.430114  70.393990  \n",
       "3  587.328397   27030.64  77.230400  74.308174  \n",
       "4  580.454259   30289.36  86.541029  79.911797  "
      ]
     },
     "execution_count": 6,
     "metadata": {},
     "output_type": "execute_result"
    }
   ],
   "source": [
    "df = df.groupby('YearMonth')['Volume','Price','Promotions'].agg(['sum','mean','std']).reset_index()\n",
    "df.head()"
   ]
  },
  {
   "cell_type": "code",
   "execution_count": 7,
   "metadata": {},
   "outputs": [],
   "source": [
    "df.columns = ['YearMonth','v_sum','v_mean','v_std','p_sum','p_mean','p_std','pr_sum','pr_mean','pr_std']"
   ]
  },
  {
   "cell_type": "code",
   "execution_count": 8,
   "metadata": {},
   "outputs": [
    {
     "data": {
      "text/plain": [
       "60"
      ]
     },
     "execution_count": 8,
     "metadata": {},
     "output_type": "execute_result"
    }
   ],
   "source": [
    "len(df)"
   ]
  },
  {
   "cell_type": "code",
   "execution_count": 11,
   "metadata": {},
   "outputs": [
    {
     "data": {
      "text/html": [
       "<div>\n",
       "<style scoped>\n",
       "    .dataframe tbody tr th:only-of-type {\n",
       "        vertical-align: middle;\n",
       "    }\n",
       "\n",
       "    .dataframe tbody tr th {\n",
       "        vertical-align: top;\n",
       "    }\n",
       "\n",
       "    .dataframe thead th {\n",
       "        text-align: right;\n",
       "    }\n",
       "</style>\n",
       "<table border=\"1\" class=\"dataframe\">\n",
       "  <thead>\n",
       "    <tr style=\"text-align: right;\">\n",
       "      <th></th>\n",
       "      <th>YearMonth</th>\n",
       "      <th>v_sum</th>\n",
       "      <th>v_mean</th>\n",
       "      <th>v_std</th>\n",
       "      <th>p_sum</th>\n",
       "      <th>p_mean</th>\n",
       "      <th>p_std</th>\n",
       "      <th>pr_sum</th>\n",
       "      <th>pr_mean</th>\n",
       "      <th>pr_std</th>\n",
       "      <th>...</th>\n",
       "      <th>New Year</th>\n",
       "      <th>Christmas</th>\n",
       "      <th>Labor Day</th>\n",
       "      <th>Independence Day</th>\n",
       "      <th>Revolution Day Memorial</th>\n",
       "      <th>Regional Games</th>\n",
       "      <th>FIFA U-17 World Cup</th>\n",
       "      <th>Football Gold Cup</th>\n",
       "      <th>Beer Capital</th>\n",
       "      <th>Music Fest</th>\n",
       "    </tr>\n",
       "  </thead>\n",
       "  <tbody>\n",
       "    <tr>\n",
       "      <th>0</th>\n",
       "      <td>2013-01-01</td>\n",
       "      <td>420800.26</td>\n",
       "      <td>1202.286457</td>\n",
       "      <td>2068.967302</td>\n",
       "      <td>380813.99</td>\n",
       "      <td>1088.039971</td>\n",
       "      <td>566.527413</td>\n",
       "      <td>28145.86</td>\n",
       "      <td>80.416743</td>\n",
       "      <td>95.507102</td>\n",
       "      <td>...</td>\n",
       "      <td>1</td>\n",
       "      <td>0</td>\n",
       "      <td>0</td>\n",
       "      <td>0</td>\n",
       "      <td>0</td>\n",
       "      <td>0</td>\n",
       "      <td>0</td>\n",
       "      <td>0</td>\n",
       "      <td>0</td>\n",
       "      <td>0</td>\n",
       "    </tr>\n",
       "    <tr>\n",
       "      <th>1</th>\n",
       "      <td>2013-02-01</td>\n",
       "      <td>458964.04</td>\n",
       "      <td>1311.325829</td>\n",
       "      <td>2245.534754</td>\n",
       "      <td>383048.58</td>\n",
       "      <td>1094.424514</td>\n",
       "      <td>559.732076</td>\n",
       "      <td>24530.76</td>\n",
       "      <td>70.087886</td>\n",
       "      <td>70.148346</td>\n",
       "      <td>...</td>\n",
       "      <td>0</td>\n",
       "      <td>0</td>\n",
       "      <td>0</td>\n",
       "      <td>0</td>\n",
       "      <td>0</td>\n",
       "      <td>0</td>\n",
       "      <td>0</td>\n",
       "      <td>0</td>\n",
       "      <td>0</td>\n",
       "      <td>0</td>\n",
       "    </tr>\n",
       "    <tr>\n",
       "      <th>2</th>\n",
       "      <td>2013-03-01</td>\n",
       "      <td>523473.88</td>\n",
       "      <td>1495.639657</td>\n",
       "      <td>2523.213543</td>\n",
       "      <td>392857.41</td>\n",
       "      <td>1122.449743</td>\n",
       "      <td>567.968869</td>\n",
       "      <td>26050.54</td>\n",
       "      <td>74.430114</td>\n",
       "      <td>70.393990</td>\n",
       "      <td>...</td>\n",
       "      <td>0</td>\n",
       "      <td>0</td>\n",
       "      <td>0</td>\n",
       "      <td>0</td>\n",
       "      <td>0</td>\n",
       "      <td>0</td>\n",
       "      <td>0</td>\n",
       "      <td>0</td>\n",
       "      <td>0</td>\n",
       "      <td>1</td>\n",
       "    </tr>\n",
       "    <tr>\n",
       "      <th>3</th>\n",
       "      <td>2013-04-01</td>\n",
       "      <td>548346.92</td>\n",
       "      <td>1566.705486</td>\n",
       "      <td>2713.624659</td>\n",
       "      <td>406030.87</td>\n",
       "      <td>1160.088200</td>\n",
       "      <td>587.328397</td>\n",
       "      <td>27030.64</td>\n",
       "      <td>77.230400</td>\n",
       "      <td>74.308174</td>\n",
       "      <td>...</td>\n",
       "      <td>0</td>\n",
       "      <td>0</td>\n",
       "      <td>0</td>\n",
       "      <td>0</td>\n",
       "      <td>0</td>\n",
       "      <td>0</td>\n",
       "      <td>0</td>\n",
       "      <td>0</td>\n",
       "      <td>0</td>\n",
       "      <td>0</td>\n",
       "    </tr>\n",
       "    <tr>\n",
       "      <th>4</th>\n",
       "      <td>2013-05-01</td>\n",
       "      <td>595946.40</td>\n",
       "      <td>1702.704000</td>\n",
       "      <td>2941.199611</td>\n",
       "      <td>411584.73</td>\n",
       "      <td>1175.956371</td>\n",
       "      <td>580.454259</td>\n",
       "      <td>30289.36</td>\n",
       "      <td>86.541029</td>\n",
       "      <td>79.911797</td>\n",
       "      <td>...</td>\n",
       "      <td>0</td>\n",
       "      <td>0</td>\n",
       "      <td>1</td>\n",
       "      <td>0</td>\n",
       "      <td>0</td>\n",
       "      <td>0</td>\n",
       "      <td>0</td>\n",
       "      <td>0</td>\n",
       "      <td>0</td>\n",
       "      <td>0</td>\n",
       "    </tr>\n",
       "  </tbody>\n",
       "</table>\n",
       "<p>5 rows × 22 columns</p>\n",
       "</div>"
      ],
      "text/plain": [
       "   YearMonth      v_sum       v_mean        v_std      p_sum       p_mean  \\\n",
       "0 2013-01-01  420800.26  1202.286457  2068.967302  380813.99  1088.039971   \n",
       "1 2013-02-01  458964.04  1311.325829  2245.534754  383048.58  1094.424514   \n",
       "2 2013-03-01  523473.88  1495.639657  2523.213543  392857.41  1122.449743   \n",
       "3 2013-04-01  548346.92  1566.705486  2713.624659  406030.87  1160.088200   \n",
       "4 2013-05-01  595946.40  1702.704000  2941.199611  411584.73  1175.956371   \n",
       "\n",
       "        p_std    pr_sum    pr_mean     pr_std     ...      New Year  \\\n",
       "0  566.527413  28145.86  80.416743  95.507102     ...             1   \n",
       "1  559.732076  24530.76  70.087886  70.148346     ...             0   \n",
       "2  567.968869  26050.54  74.430114  70.393990     ...             0   \n",
       "3  587.328397  27030.64  77.230400  74.308174     ...             0   \n",
       "4  580.454259  30289.36  86.541029  79.911797     ...             0   \n",
       "\n",
       "   Christmas  Labor Day  Independence Day  Revolution Day Memorial  \\\n",
       "0          0          0                 0                        0   \n",
       "1          0          0                 0                        0   \n",
       "2          0          0                 0                        0   \n",
       "3          0          0                 0                        0   \n",
       "4          0          1                 0                        0   \n",
       "\n",
       "   Regional Games   FIFA U-17 World Cup  Football Gold Cup  Beer Capital  \\\n",
       "0                0                    0                  0             0   \n",
       "1                0                    0                  0             0   \n",
       "2                0                    0                  0             0   \n",
       "3                0                    0                  0             0   \n",
       "4                0                    0                  0             0   \n",
       "\n",
       "   Music Fest  \n",
       "0           0  \n",
       "1           0  \n",
       "2           1  \n",
       "3           0  \n",
       "4           0  \n",
       "\n",
       "[5 rows x 22 columns]"
      ]
     },
     "execution_count": 11,
     "metadata": {},
     "output_type": "execute_result"
    }
   ],
   "source": [
    "df = df.sort_values('YearMonth', ascending=True).reset_index(drop=True)\n",
    "df['YearMonth'] = pd.to_datetime(df['YearMonth'])\n",
    "df = df.merge(df2, on='YearMonth', how='inner')\n",
    "df.head()"
   ]
  },
  {
   "cell_type": "code",
   "execution_count": 13,
   "metadata": {},
   "outputs": [],
   "source": [
    "df = df.drop('Good Friday',axis=1)\n",
    "df = df.drop('Revolution Day Memorial',axis=1)\n",
    "df = df.drop('Independence Day',axis=1)\n",
    "df = df.drop('Beer Capital',axis=1)\n",
    "df = df.drop('New Year',axis=1)\n",
    "df = df.drop('FIFA U-17 World Cup',axis=1)\n",
    "df = df.drop('Football Gold Cup',axis=1)"
   ]
  },
  {
   "cell_type": "code",
   "execution_count": 14,
   "metadata": {},
   "outputs": [
    {
     "data": {
      "text/html": [
       "<div>\n",
       "<style scoped>\n",
       "    .dataframe tbody tr th:only-of-type {\n",
       "        vertical-align: middle;\n",
       "    }\n",
       "\n",
       "    .dataframe tbody tr th {\n",
       "        vertical-align: top;\n",
       "    }\n",
       "\n",
       "    .dataframe thead th {\n",
       "        text-align: right;\n",
       "    }\n",
       "</style>\n",
       "<table border=\"1\" class=\"dataframe\">\n",
       "  <thead>\n",
       "    <tr style=\"text-align: right;\">\n",
       "      <th></th>\n",
       "      <th>v_sum</th>\n",
       "      <th>v_mean</th>\n",
       "      <th>v_std</th>\n",
       "      <th>p_sum</th>\n",
       "      <th>p_mean</th>\n",
       "      <th>p_std</th>\n",
       "      <th>pr_sum</th>\n",
       "      <th>pr_mean</th>\n",
       "      <th>pr_std</th>\n",
       "      <th>Easter Day</th>\n",
       "      <th>Christmas</th>\n",
       "      <th>Labor Day</th>\n",
       "      <th>Regional Games</th>\n",
       "      <th>Music Fest</th>\n",
       "    </tr>\n",
       "  </thead>\n",
       "  <tbody>\n",
       "    <tr>\n",
       "      <th>0</th>\n",
       "      <td>420800.26</td>\n",
       "      <td>1202.286457</td>\n",
       "      <td>2068.967302</td>\n",
       "      <td>380813.99</td>\n",
       "      <td>1088.039971</td>\n",
       "      <td>566.527413</td>\n",
       "      <td>28145.86</td>\n",
       "      <td>80.416743</td>\n",
       "      <td>95.507102</td>\n",
       "      <td>0</td>\n",
       "      <td>0</td>\n",
       "      <td>0</td>\n",
       "      <td>0</td>\n",
       "      <td>0</td>\n",
       "    </tr>\n",
       "    <tr>\n",
       "      <th>1</th>\n",
       "      <td>458964.04</td>\n",
       "      <td>1311.325829</td>\n",
       "      <td>2245.534754</td>\n",
       "      <td>383048.58</td>\n",
       "      <td>1094.424514</td>\n",
       "      <td>559.732076</td>\n",
       "      <td>24530.76</td>\n",
       "      <td>70.087886</td>\n",
       "      <td>70.148346</td>\n",
       "      <td>0</td>\n",
       "      <td>0</td>\n",
       "      <td>0</td>\n",
       "      <td>0</td>\n",
       "      <td>0</td>\n",
       "    </tr>\n",
       "  </tbody>\n",
       "</table>\n",
       "</div>"
      ],
      "text/plain": [
       "       v_sum       v_mean        v_std      p_sum       p_mean       p_std  \\\n",
       "0  420800.26  1202.286457  2068.967302  380813.99  1088.039971  566.527413   \n",
       "1  458964.04  1311.325829  2245.534754  383048.58  1094.424514  559.732076   \n",
       "\n",
       "     pr_sum    pr_mean     pr_std  Easter Day  Christmas  Labor Day  \\\n",
       "0  28145.86  80.416743  95.507102           0          0          0   \n",
       "1  24530.76  70.087886  70.148346           0          0          0   \n",
       "\n",
       "   Regional Games   Music Fest  \n",
       "0                0           0  \n",
       "1                0           0  "
      ]
     },
     "execution_count": 14,
     "metadata": {},
     "output_type": "execute_result"
    }
   ],
   "source": [
    "data = df\n",
    "data= data.drop('YearMonth', axis=1)\n",
    "data.head(2)"
   ]
  },
  {
   "cell_type": "code",
   "execution_count": 15,
   "metadata": {},
   "outputs": [
    {
     "name": "stdout",
     "output_type": "stream",
     "text": [
      "<class 'pandas.core.frame.DataFrame'>\n",
      "Int64Index: 60 entries, 0 to 59\n",
      "Data columns (total 14 columns):\n",
      "v_sum              60 non-null float64\n",
      "v_mean             60 non-null float64\n",
      "v_std              60 non-null float64\n",
      "p_sum              60 non-null float64\n",
      "p_mean             60 non-null float64\n",
      "p_std              60 non-null float64\n",
      "pr_sum             60 non-null float64\n",
      "pr_mean            60 non-null float64\n",
      "pr_std             60 non-null float64\n",
      "Easter Day         60 non-null int64\n",
      "Christmas          60 non-null int64\n",
      "Labor Day          60 non-null int64\n",
      "Regional Games     60 non-null int64\n",
      "Music Fest         60 non-null int64\n",
      "dtypes: float64(9), int64(5)\n",
      "memory usage: 7.0 KB\n"
     ]
    }
   ],
   "source": [
    "data.info()"
   ]
  },
  {
   "cell_type": "code",
   "execution_count": 16,
   "metadata": {},
   "outputs": [
    {
     "data": {
      "text/plain": [
       "14"
      ]
     },
     "execution_count": 16,
     "metadata": {},
     "output_type": "execute_result"
    }
   ],
   "source": [
    "len(list(data))"
   ]
  },
  {
   "cell_type": "code",
   "execution_count": 17,
   "metadata": {},
   "outputs": [
    {
     "data": {
      "image/png": "[encoded data removed]",
      "text/plain": [
       "<Figure size 1440x1080 with 14 Axes>"
      ]
     },
     "metadata": {
      "needs_background": "light"
     },
     "output_type": "display_data"
    }
   ],
   "source": [
    "fig,ax = plt.subplots(14,1,figsize=(20,15))\n",
    "for i,column in enumerate([col for col in data.columns if col != 'wnd_dir']):\n",
    "    data[column].plot(ax=ax[i])\n",
    "    ax[i].set_title(column)\n",
    "plt.savefig('../fig/Dataset1.png',bbox_inches='tight')"
   ]
  },
  {
   "cell_type": "markdown",
   "metadata": {},
   "source": [
    "## 7.3 Modelling "
   ]
  },
  {
   "cell_type": "code",
   "execution_count": 18,
   "metadata": {},
   "outputs": [],
   "source": [
    "def series_to_supervised(data, n_in=1, n_out=1, dropnan=True):\n",
    "    n_vars = 1 if type(data) is list else data.shape[1]\n",
    "    df = pd.DataFrame(data)\n",
    "    cols, names = list(), list()\n",
    "    # input sequence (t-n, ... t-1)\n",
    "    for i in range(n_in, 0, -1):\n",
    "        cols.append(df.shift(i))\n",
    "        names += [('var%d(t-%d)' % (j+1, i)) for j in range(n_vars)]\n",
    "    # forecast sequence (t, t+1, ... t+n)\n",
    "    for i in range(0, n_out):\n",
    "        cols.append(df.shift(-i))\n",
    "        if i == 0:\n",
    "            names += [('var%d(t)' % (j+1)) for j in range(n_vars)]\n",
    "        else:\n",
    "            names += [('var%d(t+%d)' % (j+1, i)) for j in range(n_vars)]\n",
    "    # put it all together\n",
    "    agg = pd.concat(cols, axis=1)\n",
    "    agg.columns = names\n",
    "    # drop rows with NaN values\n",
    "    if dropnan:\n",
    "        agg.dropna(inplace=True)\n",
    "    return agg"
   ]
  },
  {
   "cell_type": "code",
   "execution_count": 147,
   "metadata": {},
   "outputs": [
    {
     "name": "stdout",
     "output_type": "stream",
     "text": [
      "(60, 14)\n"
     ]
    },
    {
     "data": {
      "text/html": [
       "<div>\n",
       "<style scoped>\n",
       "    .dataframe tbody tr th:only-of-type {\n",
       "        vertical-align: middle;\n",
       "    }\n",
       "\n",
       "    .dataframe tbody tr th {\n",
       "        vertical-align: top;\n",
       "    }\n",
       "\n",
       "    .dataframe thead th {\n",
       "        text-align: right;\n",
       "    }\n",
       "</style>\n",
       "<table border=\"1\" class=\"dataframe\">\n",
       "  <thead>\n",
       "    <tr style=\"text-align: right;\">\n",
       "      <th></th>\n",
       "      <th>var1(t-1)</th>\n",
       "      <th>var2(t-1)</th>\n",
       "      <th>var3(t-1)</th>\n",
       "      <th>var4(t-1)</th>\n",
       "      <th>var5(t-1)</th>\n",
       "      <th>var6(t-1)</th>\n",
       "      <th>var7(t-1)</th>\n",
       "      <th>var8(t-1)</th>\n",
       "      <th>var9(t-1)</th>\n",
       "      <th>var10(t-1)</th>\n",
       "      <th>...</th>\n",
       "      <th>var5(t)</th>\n",
       "      <th>var6(t)</th>\n",
       "      <th>var7(t)</th>\n",
       "      <th>var8(t)</th>\n",
       "      <th>var9(t)</th>\n",
       "      <th>var10(t)</th>\n",
       "      <th>var11(t)</th>\n",
       "      <th>var12(t)</th>\n",
       "      <th>var13(t)</th>\n",
       "      <th>var14(t)</th>\n",
       "    </tr>\n",
       "  </thead>\n",
       "  <tbody>\n",
       "    <tr>\n",
       "      <th>1</th>\n",
       "      <td>420800.25000</td>\n",
       "      <td>1202.286499</td>\n",
       "      <td>2068.967285</td>\n",
       "      <td>380814.00000</td>\n",
       "      <td>1088.039917</td>\n",
       "      <td>566.527405</td>\n",
       "      <td>28145.859375</td>\n",
       "      <td>80.416740</td>\n",
       "      <td>95.507103</td>\n",
       "      <td>0.0</td>\n",
       "      <td>...</td>\n",
       "      <td>1094.424561</td>\n",
       "      <td>559.732056</td>\n",
       "      <td>24530.759766</td>\n",
       "      <td>70.087883</td>\n",
       "      <td>70.148346</td>\n",
       "      <td>0.0</td>\n",
       "      <td>0.0</td>\n",
       "      <td>0.0</td>\n",
       "      <td>0.0</td>\n",
       "      <td>0.0</td>\n",
       "    </tr>\n",
       "    <tr>\n",
       "      <th>2</th>\n",
       "      <td>458964.03125</td>\n",
       "      <td>1311.325806</td>\n",
       "      <td>2245.534668</td>\n",
       "      <td>383048.59375</td>\n",
       "      <td>1094.424561</td>\n",
       "      <td>559.732056</td>\n",
       "      <td>24530.759766</td>\n",
       "      <td>70.087883</td>\n",
       "      <td>70.148346</td>\n",
       "      <td>0.0</td>\n",
       "      <td>...</td>\n",
       "      <td>1122.449707</td>\n",
       "      <td>567.968872</td>\n",
       "      <td>26050.539062</td>\n",
       "      <td>74.430115</td>\n",
       "      <td>70.393990</td>\n",
       "      <td>1.0</td>\n",
       "      <td>0.0</td>\n",
       "      <td>0.0</td>\n",
       "      <td>0.0</td>\n",
       "      <td>1.0</td>\n",
       "    </tr>\n",
       "    <tr>\n",
       "      <th>3</th>\n",
       "      <td>523473.87500</td>\n",
       "      <td>1495.639648</td>\n",
       "      <td>2523.213623</td>\n",
       "      <td>392857.40625</td>\n",
       "      <td>1122.449707</td>\n",
       "      <td>567.968872</td>\n",
       "      <td>26050.539062</td>\n",
       "      <td>74.430115</td>\n",
       "      <td>70.393990</td>\n",
       "      <td>1.0</td>\n",
       "      <td>...</td>\n",
       "      <td>1160.088257</td>\n",
       "      <td>587.328369</td>\n",
       "      <td>27030.640625</td>\n",
       "      <td>77.230400</td>\n",
       "      <td>74.308174</td>\n",
       "      <td>0.0</td>\n",
       "      <td>0.0</td>\n",
       "      <td>0.0</td>\n",
       "      <td>0.0</td>\n",
       "      <td>0.0</td>\n",
       "    </tr>\n",
       "    <tr>\n",
       "      <th>4</th>\n",
       "      <td>548346.93750</td>\n",
       "      <td>1566.705444</td>\n",
       "      <td>2713.624756</td>\n",
       "      <td>406030.87500</td>\n",
       "      <td>1160.088257</td>\n",
       "      <td>587.328369</td>\n",
       "      <td>27030.640625</td>\n",
       "      <td>77.230400</td>\n",
       "      <td>74.308174</td>\n",
       "      <td>0.0</td>\n",
       "      <td>...</td>\n",
       "      <td>1175.956421</td>\n",
       "      <td>580.454285</td>\n",
       "      <td>30289.359375</td>\n",
       "      <td>86.541031</td>\n",
       "      <td>79.911797</td>\n",
       "      <td>0.0</td>\n",
       "      <td>0.0</td>\n",
       "      <td>1.0</td>\n",
       "      <td>0.0</td>\n",
       "      <td>0.0</td>\n",
       "    </tr>\n",
       "    <tr>\n",
       "      <th>5</th>\n",
       "      <td>595946.37500</td>\n",
       "      <td>1702.703979</td>\n",
       "      <td>2941.199707</td>\n",
       "      <td>411584.71875</td>\n",
       "      <td>1175.956421</td>\n",
       "      <td>580.454285</td>\n",
       "      <td>30289.359375</td>\n",
       "      <td>86.541031</td>\n",
       "      <td>79.911797</td>\n",
       "      <td>0.0</td>\n",
       "      <td>...</td>\n",
       "      <td>1164.892456</td>\n",
       "      <td>594.513672</td>\n",
       "      <td>30240.439453</td>\n",
       "      <td>86.401260</td>\n",
       "      <td>78.855370</td>\n",
       "      <td>0.0</td>\n",
       "      <td>0.0</td>\n",
       "      <td>0.0</td>\n",
       "      <td>0.0</td>\n",
       "      <td>0.0</td>\n",
       "    </tr>\n",
       "  </tbody>\n",
       "</table>\n",
       "<p>5 rows × 28 columns</p>\n",
       "</div>"
      ],
      "text/plain": [
       "      var1(t-1)    var2(t-1)    var3(t-1)     var4(t-1)    var5(t-1)  \\\n",
       "1  420800.25000  1202.286499  2068.967285  380814.00000  1088.039917   \n",
       "2  458964.03125  1311.325806  2245.534668  383048.59375  1094.424561   \n",
       "3  523473.87500  1495.639648  2523.213623  392857.40625  1122.449707   \n",
       "4  548346.93750  1566.705444  2713.624756  406030.87500  1160.088257   \n",
       "5  595946.37500  1702.703979  2941.199707  411584.71875  1175.956421   \n",
       "\n",
       "    var6(t-1)     var7(t-1)  var8(t-1)  var9(t-1)  var10(t-1)    ...     \\\n",
       "1  566.527405  28145.859375  80.416740  95.507103         0.0    ...      \n",
       "2  559.732056  24530.759766  70.087883  70.148346         0.0    ...      \n",
       "3  567.968872  26050.539062  74.430115  70.393990         1.0    ...      \n",
       "4  587.328369  27030.640625  77.230400  74.308174         0.0    ...      \n",
       "5  580.454285  30289.359375  86.541031  79.911797         0.0    ...      \n",
       "\n",
       "       var5(t)     var6(t)       var7(t)    var8(t)    var9(t)  var10(t)  \\\n",
       "1  1094.424561  559.732056  24530.759766  70.087883  70.148346       0.0   \n",
       "2  1122.449707  567.968872  26050.539062  74.430115  70.393990       1.0   \n",
       "3  1160.088257  587.328369  27030.640625  77.230400  74.308174       0.0   \n",
       "4  1175.956421  580.454285  30289.359375  86.541031  79.911797       0.0   \n",
       "5  1164.892456  594.513672  30240.439453  86.401260  78.855370       0.0   \n",
       "\n",
       "   var11(t)  var12(t)  var13(t)  var14(t)  \n",
       "1       0.0       0.0       0.0       0.0  \n",
       "2       0.0       0.0       0.0       1.0  \n",
       "3       0.0       0.0       0.0       0.0  \n",
       "4       0.0       1.0       0.0       0.0  \n",
       "5       0.0       0.0       0.0       0.0  \n",
       "\n",
       "[5 rows x 28 columns]"
      ]
     },
     "execution_count": 147,
     "metadata": {},
     "output_type": "execute_result"
    }
   ],
   "source": [
    "values = data.values\n",
    "print(values.shape)\n",
    "values = values.astype('float32')\n",
    "series_to_supervised(values,1,1).head()"
   ]
  },
  {
   "cell_type": "code",
   "execution_count": 148,
   "metadata": {},
   "outputs": [
    {
     "name": "stdout",
     "output_type": "stream",
     "text": [
      "15\n"
     ]
    },
    {
     "data": {
      "text/html": [
       "<div>\n",
       "<style scoped>\n",
       "    .dataframe tbody tr th:only-of-type {\n",
       "        vertical-align: middle;\n",
       "    }\n",
       "\n",
       "    .dataframe tbody tr th {\n",
       "        vertical-align: top;\n",
       "    }\n",
       "\n",
       "    .dataframe thead th {\n",
       "        text-align: right;\n",
       "    }\n",
       "</style>\n",
       "<table border=\"1\" class=\"dataframe\">\n",
       "  <thead>\n",
       "    <tr style=\"text-align: right;\">\n",
       "      <th></th>\n",
       "      <th>var1(t-1)</th>\n",
       "      <th>var2(t-1)</th>\n",
       "      <th>var3(t-1)</th>\n",
       "      <th>var4(t-1)</th>\n",
       "      <th>var5(t-1)</th>\n",
       "      <th>var6(t-1)</th>\n",
       "      <th>var7(t-1)</th>\n",
       "      <th>var8(t-1)</th>\n",
       "      <th>var9(t-1)</th>\n",
       "      <th>var10(t-1)</th>\n",
       "      <th>var11(t-1)</th>\n",
       "      <th>var12(t-1)</th>\n",
       "      <th>var13(t-1)</th>\n",
       "      <th>var14(t-1)</th>\n",
       "      <th>var1(t)</th>\n",
       "    </tr>\n",
       "  </thead>\n",
       "  <tbody>\n",
       "    <tr>\n",
       "      <th>1</th>\n",
       "      <td>420800.25000</td>\n",
       "      <td>1202.286499</td>\n",
       "      <td>2068.967285</td>\n",
       "      <td>380814.00000</td>\n",
       "      <td>1088.039917</td>\n",
       "      <td>566.527405</td>\n",
       "      <td>28145.859375</td>\n",
       "      <td>80.416740</td>\n",
       "      <td>95.507103</td>\n",
       "      <td>0.0</td>\n",
       "      <td>0.0</td>\n",
       "      <td>0.0</td>\n",
       "      <td>0.0</td>\n",
       "      <td>0.0</td>\n",
       "      <td>458964.03125</td>\n",
       "    </tr>\n",
       "    <tr>\n",
       "      <th>2</th>\n",
       "      <td>458964.03125</td>\n",
       "      <td>1311.325806</td>\n",
       "      <td>2245.534668</td>\n",
       "      <td>383048.59375</td>\n",
       "      <td>1094.424561</td>\n",
       "      <td>559.732056</td>\n",
       "      <td>24530.759766</td>\n",
       "      <td>70.087883</td>\n",
       "      <td>70.148346</td>\n",
       "      <td>0.0</td>\n",
       "      <td>0.0</td>\n",
       "      <td>0.0</td>\n",
       "      <td>0.0</td>\n",
       "      <td>0.0</td>\n",
       "      <td>523473.87500</td>\n",
       "    </tr>\n",
       "    <tr>\n",
       "      <th>3</th>\n",
       "      <td>523473.87500</td>\n",
       "      <td>1495.639648</td>\n",
       "      <td>2523.213623</td>\n",
       "      <td>392857.40625</td>\n",
       "      <td>1122.449707</td>\n",
       "      <td>567.968872</td>\n",
       "      <td>26050.539062</td>\n",
       "      <td>74.430115</td>\n",
       "      <td>70.393990</td>\n",
       "      <td>1.0</td>\n",
       "      <td>0.0</td>\n",
       "      <td>0.0</td>\n",
       "      <td>0.0</td>\n",
       "      <td>1.0</td>\n",
       "      <td>548346.93750</td>\n",
       "    </tr>\n",
       "    <tr>\n",
       "      <th>4</th>\n",
       "      <td>548346.93750</td>\n",
       "      <td>1566.705444</td>\n",
       "      <td>2713.624756</td>\n",
       "      <td>406030.87500</td>\n",
       "      <td>1160.088257</td>\n",
       "      <td>587.328369</td>\n",
       "      <td>27030.640625</td>\n",
       "      <td>77.230400</td>\n",
       "      <td>74.308174</td>\n",
       "      <td>0.0</td>\n",
       "      <td>0.0</td>\n",
       "      <td>0.0</td>\n",
       "      <td>0.0</td>\n",
       "      <td>0.0</td>\n",
       "      <td>595946.37500</td>\n",
       "    </tr>\n",
       "    <tr>\n",
       "      <th>5</th>\n",
       "      <td>595946.37500</td>\n",
       "      <td>1702.703979</td>\n",
       "      <td>2941.199707</td>\n",
       "      <td>411584.71875</td>\n",
       "      <td>1175.956421</td>\n",
       "      <td>580.454285</td>\n",
       "      <td>30289.359375</td>\n",
       "      <td>86.541031</td>\n",
       "      <td>79.911797</td>\n",
       "      <td>0.0</td>\n",
       "      <td>0.0</td>\n",
       "      <td>1.0</td>\n",
       "      <td>0.0</td>\n",
       "      <td>0.0</td>\n",
       "      <td>536045.06250</td>\n",
       "    </tr>\n",
       "  </tbody>\n",
       "</table>\n",
       "</div>"
      ],
      "text/plain": [
       "      var1(t-1)    var2(t-1)    var3(t-1)     var4(t-1)    var5(t-1)  \\\n",
       "1  420800.25000  1202.286499  2068.967285  380814.00000  1088.039917   \n",
       "2  458964.03125  1311.325806  2245.534668  383048.59375  1094.424561   \n",
       "3  523473.87500  1495.639648  2523.213623  392857.40625  1122.449707   \n",
       "4  548346.93750  1566.705444  2713.624756  406030.87500  1160.088257   \n",
       "5  595946.37500  1702.703979  2941.199707  411584.71875  1175.956421   \n",
       "\n",
       "    var6(t-1)     var7(t-1)  var8(t-1)  var9(t-1)  var10(t-1)  var11(t-1)  \\\n",
       "1  566.527405  28145.859375  80.416740  95.507103         0.0         0.0   \n",
       "2  559.732056  24530.759766  70.087883  70.148346         0.0         0.0   \n",
       "3  567.968872  26050.539062  74.430115  70.393990         1.0         0.0   \n",
       "4  587.328369  27030.640625  77.230400  74.308174         0.0         0.0   \n",
       "5  580.454285  30289.359375  86.541031  79.911797         0.0         0.0   \n",
       "\n",
       "   var12(t-1)  var13(t-1)  var14(t-1)       var1(t)  \n",
       "1         0.0         0.0         0.0  458964.03125  \n",
       "2         0.0         0.0         0.0  523473.87500  \n",
       "3         0.0         0.0         1.0  548346.93750  \n",
       "4         0.0         0.0         0.0  595946.37500  \n",
       "5         1.0         0.0         0.0  536045.06250  "
      ]
     },
     "execution_count": 148,
     "metadata": {},
     "output_type": "execute_result"
    }
   ],
   "source": [
    "reframed = series_to_supervised(values,1,1)\n",
    "# drop columns we don't want to predict\n",
    "reframed.drop(reframed.columns[[15,16,17,18,19,20,21,22,23,24,25,26,27]], axis=1, inplace=True)\n",
    "print(len(list(reframed)))\n",
    "reframed.head()"
   ]
  },
  {
   "cell_type": "code",
   "execution_count": 149,
   "metadata": {},
   "outputs": [
    {
     "data": {
      "text/html": [
       "<div>\n",
       "<style scoped>\n",
       "    .dataframe tbody tr th:only-of-type {\n",
       "        vertical-align: middle;\n",
       "    }\n",
       "\n",
       "    .dataframe tbody tr th {\n",
       "        vertical-align: top;\n",
       "    }\n",
       "\n",
       "    .dataframe thead th {\n",
       "        text-align: right;\n",
       "    }\n",
       "</style>\n",
       "<table border=\"1\" class=\"dataframe\">\n",
       "  <thead>\n",
       "    <tr style=\"text-align: right;\">\n",
       "      <th></th>\n",
       "      <th>var1(t-1)</th>\n",
       "      <th>var2(t-1)</th>\n",
       "      <th>var3(t-1)</th>\n",
       "      <th>var4(t-1)</th>\n",
       "      <th>var5(t-1)</th>\n",
       "      <th>var6(t-1)</th>\n",
       "      <th>var7(t-1)</th>\n",
       "      <th>var8(t-1)</th>\n",
       "      <th>var9(t-1)</th>\n",
       "      <th>var10(t-1)</th>\n",
       "      <th>var11(t-1)</th>\n",
       "      <th>var12(t-1)</th>\n",
       "      <th>var13(t-1)</th>\n",
       "      <th>var14(t-1)</th>\n",
       "      <th>var1(t)</th>\n",
       "    </tr>\n",
       "  </thead>\n",
       "  <tbody>\n",
       "    <tr>\n",
       "      <th>1</th>\n",
       "      <td>0.096053</td>\n",
       "      <td>0.096054</td>\n",
       "      <td>0.046510</td>\n",
       "      <td>0.000000</td>\n",
       "      <td>0.000000</td>\n",
       "      <td>0.056724</td>\n",
       "      <td>0.032576</td>\n",
       "      <td>0.032576</td>\n",
       "      <td>0.026383</td>\n",
       "      <td>0.0</td>\n",
       "      <td>0.0</td>\n",
       "      <td>0.0</td>\n",
       "      <td>0.0</td>\n",
       "      <td>0.0</td>\n",
       "      <td>0.265923</td>\n",
       "    </tr>\n",
       "    <tr>\n",
       "      <th>2</th>\n",
       "      <td>0.265923</td>\n",
       "      <td>0.265923</td>\n",
       "      <td>0.191819</td>\n",
       "      <td>0.007304</td>\n",
       "      <td>0.007304</td>\n",
       "      <td>0.044798</td>\n",
       "      <td>0.000000</td>\n",
       "      <td>0.000000</td>\n",
       "      <td>0.000000</td>\n",
       "      <td>0.0</td>\n",
       "      <td>0.0</td>\n",
       "      <td>0.0</td>\n",
       "      <td>0.0</td>\n",
       "      <td>0.0</td>\n",
       "      <td>0.553060</td>\n",
       "    </tr>\n",
       "    <tr>\n",
       "      <th>3</th>\n",
       "      <td>0.553060</td>\n",
       "      <td>0.553060</td>\n",
       "      <td>0.420339</td>\n",
       "      <td>0.039365</td>\n",
       "      <td>0.039366</td>\n",
       "      <td>0.059254</td>\n",
       "      <td>0.013695</td>\n",
       "      <td>0.013695</td>\n",
       "      <td>0.000256</td>\n",
       "      <td>1.0</td>\n",
       "      <td>0.0</td>\n",
       "      <td>0.0</td>\n",
       "      <td>0.0</td>\n",
       "      <td>1.0</td>\n",
       "      <td>0.663772</td>\n",
       "    </tr>\n",
       "    <tr>\n",
       "      <th>4</th>\n",
       "      <td>0.663772</td>\n",
       "      <td>0.663772</td>\n",
       "      <td>0.577040</td>\n",
       "      <td>0.082425</td>\n",
       "      <td>0.082425</td>\n",
       "      <td>0.093231</td>\n",
       "      <td>0.022527</td>\n",
       "      <td>0.022527</td>\n",
       "      <td>0.004328</td>\n",
       "      <td>0.0</td>\n",
       "      <td>0.0</td>\n",
       "      <td>0.0</td>\n",
       "      <td>0.0</td>\n",
       "      <td>0.0</td>\n",
       "      <td>0.875640</td>\n",
       "    </tr>\n",
       "    <tr>\n",
       "      <th>5</th>\n",
       "      <td>0.875640</td>\n",
       "      <td>0.875640</td>\n",
       "      <td>0.764326</td>\n",
       "      <td>0.100578</td>\n",
       "      <td>0.100578</td>\n",
       "      <td>0.081166</td>\n",
       "      <td>0.051891</td>\n",
       "      <td>0.051891</td>\n",
       "      <td>0.010158</td>\n",
       "      <td>0.0</td>\n",
       "      <td>0.0</td>\n",
       "      <td>1.0</td>\n",
       "      <td>0.0</td>\n",
       "      <td>0.0</td>\n",
       "      <td>0.609015</td>\n",
       "    </tr>\n",
       "  </tbody>\n",
       "</table>\n",
       "</div>"
      ],
      "text/plain": [
       "   var1(t-1)  var2(t-1)  var3(t-1)  var4(t-1)  var5(t-1)  var6(t-1)  \\\n",
       "1   0.096053   0.096054   0.046510   0.000000   0.000000   0.056724   \n",
       "2   0.265923   0.265923   0.191819   0.007304   0.007304   0.044798   \n",
       "3   0.553060   0.553060   0.420339   0.039365   0.039366   0.059254   \n",
       "4   0.663772   0.663772   0.577040   0.082425   0.082425   0.093231   \n",
       "5   0.875640   0.875640   0.764326   0.100578   0.100578   0.081166   \n",
       "\n",
       "   var7(t-1)  var8(t-1)  var9(t-1)  var10(t-1)  var11(t-1)  var12(t-1)  \\\n",
       "1   0.032576   0.032576   0.026383         0.0         0.0         0.0   \n",
       "2   0.000000   0.000000   0.000000         0.0         0.0         0.0   \n",
       "3   0.013695   0.013695   0.000256         1.0         0.0         0.0   \n",
       "4   0.022527   0.022527   0.004328         0.0         0.0         0.0   \n",
       "5   0.051891   0.051891   0.010158         0.0         0.0         1.0   \n",
       "\n",
       "   var13(t-1)  var14(t-1)   var1(t)  \n",
       "1         0.0         0.0  0.265923  \n",
       "2         0.0         0.0  0.553060  \n",
       "3         0.0         1.0  0.663772  \n",
       "4         0.0         0.0  0.875640  \n",
       "5         0.0         0.0  0.609015  "
      ]
     },
     "execution_count": 149,
     "metadata": {},
     "output_type": "execute_result"
    }
   ],
   "source": [
    "scaler = MinMaxScaler(feature_range=(0,1))\n",
    "scaled = scaler.fit_transform(values)\n",
    "reframed = series_to_supervised(scaled,1,1)\n",
    "reframed.drop(reframed.columns[[15,16,17,18,19,20,21,22,23,24,25,26,27]], axis=1, inplace=True)\n",
    "reframed.head()"
   ]
  },
  {
   "cell_type": "code",
   "execution_count": 150,
   "metadata": {},
   "outputs": [
    {
     "name": "stdout",
     "output_type": "stream",
     "text": [
      "(49, 14) (49,) (10, 14) (10,)\n",
      "(49, 1, 14)\n",
      "(10, 1, 14)\n"
     ]
    }
   ],
   "source": [
    "values = reframed.values\n",
    "n_train = 49\n",
    "train = values[:n_train]\n",
    "test = values[n_train:]\n",
    "trainX,trainY = train[:,:-1],train[:,-1]\n",
    "testX,testY = test[:,:-1],test[:,-1]\n",
    "\n",
    "print(trainX.shape,trainY.shape,testX.shape,testY.shape)\n",
    "\n",
    "trainX = trainX.reshape(trainX.shape[0],1,trainX.shape[1])\n",
    "testX = testX.reshape(testX.shape[0],1,testX.shape[1])\n",
    "\n",
    "\n",
    "print(trainX.shape)\n",
    "print(testX.shape)"
   ]
  },
  {
   "cell_type": "code",
   "execution_count": 151,
   "metadata": {},
   "outputs": [
    {
     "data": {
      "text/plain": [
       "10"
      ]
     },
     "execution_count": 151,
     "metadata": {},
     "output_type": "execute_result"
    }
   ],
   "source": [
    "len(testX)"
   ]
  },
  {
   "cell_type": "code",
   "execution_count": 152,
   "metadata": {
    "scrolled": true
   },
   "outputs": [
    {
     "name": "stdout",
     "output_type": "stream",
     "text": [
      "Train on 49 samples, validate on 10 samples\n",
      "Epoch 1/100\n",
      " - 1s - loss: 0.5358 - val_loss: 0.6455\n",
      "Epoch 2/100\n",
      " - 0s - loss: 0.5230 - val_loss: 0.6140\n",
      "Epoch 3/100\n",
      " - 0s - loss: 0.5038 - val_loss: 0.5826\n",
      "Epoch 4/100\n",
      " - 0s - loss: 0.4857 - val_loss: 0.5508\n",
      "Epoch 5/100\n",
      " - 0s - loss: 0.4712 - val_loss: 0.5187\n",
      "Epoch 6/100\n",
      " - 0s - loss: 0.4541 - val_loss: 0.4862\n",
      "Epoch 7/100\n",
      " - 0s - loss: 0.4365 - val_loss: 0.4532\n",
      "Epoch 8/100\n",
      " - 0s - loss: 0.4185 - val_loss: 0.4221\n",
      "Epoch 9/100\n",
      " - 0s - loss: 0.3946 - val_loss: 0.3951\n",
      "Epoch 10/100\n",
      " - 0s - loss: 0.3816 - val_loss: 0.3674\n",
      "Epoch 11/100\n",
      " - 0s - loss: 0.3646 - val_loss: 0.3391\n",
      "Epoch 12/100\n",
      " - 0s - loss: 0.3537 - val_loss: 0.3100\n",
      "Epoch 13/100\n",
      " - 0s - loss: 0.3297 - val_loss: 0.2808\n",
      "Epoch 14/100\n",
      " - 0s - loss: 0.3145 - val_loss: 0.2510\n",
      "Epoch 15/100\n",
      " - 0s - loss: 0.2986 - val_loss: 0.2211\n",
      "Epoch 16/100\n",
      " - 0s - loss: 0.2894 - val_loss: 0.1911\n",
      "Epoch 17/100\n",
      " - 0s - loss: 0.2778 - val_loss: 0.1612\n",
      "Epoch 18/100\n",
      " - 0s - loss: 0.2493 - val_loss: 0.1381\n",
      "Epoch 19/100\n",
      " - 0s - loss: 0.2577 - val_loss: 0.1198\n",
      "Epoch 20/100\n",
      " - 0s - loss: 0.2439 - val_loss: 0.1125\n",
      "Epoch 21/100\n",
      " - 0s - loss: 0.2373 - val_loss: 0.1125\n",
      "Epoch 22/100\n",
      " - 0s - loss: 0.2261 - val_loss: 0.1144\n",
      "Epoch 23/100\n",
      " - 0s - loss: 0.2203 - val_loss: 0.1209\n",
      "Epoch 24/100\n",
      " - 0s - loss: 0.2239 - val_loss: 0.1331\n",
      "Epoch 25/100\n",
      " - 0s - loss: 0.2219 - val_loss: 0.1410\n",
      "Epoch 26/100\n",
      " - 0s - loss: 0.2205 - val_loss: 0.1455\n",
      "Epoch 27/100\n",
      " - 0s - loss: 0.2092 - val_loss: 0.1475\n",
      "Epoch 28/100\n",
      " - 0s - loss: 0.2044 - val_loss: 0.1472\n",
      "Epoch 29/100\n",
      " - 0s - loss: 0.2213 - val_loss: 0.1441\n",
      "Epoch 30/100\n",
      " - 0s - loss: 0.2113 - val_loss: 0.1390\n",
      "Epoch 31/100\n",
      " - 0s - loss: 0.1988 - val_loss: 0.1345\n"
     ]
    }
   ],
   "source": [
    "stop_noimprovement = EarlyStopping(patience=10)\n",
    "model = Sequential()\n",
    "model.add(LSTM(50,input_shape=(trainX.shape[1],trainX.shape[2]),dropout=0.2))\n",
    "model.add(Dense(1))\n",
    "model.compile(loss=\"mae\",optimizer=\"adam\")\n",
    "\n",
    "history= model.fit(trainX,trainY,validation_data=(testX,testY),epochs=100,verbose=2,callbacks=[stop_noimprovement],shuffle=False)\n"
   ]
  },
  {
   "cell_type": "code",
   "execution_count": 25,
   "metadata": {},
   "outputs": [
    {
     "name": "stdout",
     "output_type": "stream",
     "text": [
      "_________________________________________________________________\n",
      "Layer (type)                 Output Shape              Param #   \n",
      "=================================================================\n",
      "lstm_1 (LSTM)                (None, 50)                13000     \n",
      "_________________________________________________________________\n",
      "dense_1 (Dense)              (None, 1)                 51        \n",
      "=================================================================\n",
      "Total params: 13,051\n",
      "Trainable params: 13,051\n",
      "Non-trainable params: 0\n",
      "_________________________________________________________________\n"
     ]
    }
   ],
   "source": [
    "model.summary()"
   ]
  },
  {
   "cell_type": "code",
   "execution_count": 153,
   "metadata": {},
   "outputs": [
    {
     "data": {
      "text/plain": [
       "<matplotlib.legend.Legend at 0x7f692863ee80>"
      ]
     },
     "execution_count": 153,
     "metadata": {},
     "output_type": "execute_result"
    },
    {
     "data": {
      "image/png": "[encoded data removed]",
      "text/plain": [
       "<Figure size 1080x720 with 1 Axes>"
      ]
     },
     "metadata": {
      "needs_background": "light"
     },
     "output_type": "display_data"
    }
   ],
   "source": [
    "fig,ax =plt.subplots(figsize=(15,10))\n",
    "\n",
    "plt.plot(history.history['loss'],label='train loss')\n",
    "plt.plot(history.history['val_loss'],label='val loss')\n",
    "plt.legend()\n",
    "# plt.savefig('../fig/trai val forecasting.png',bbox_inches='tight')"
   ]
  },
  {
   "cell_type": "markdown",
   "metadata": {},
   "source": [
    " ### Predictions"
   ]
  },
  {
   "cell_type": "code",
   "execution_count": 154,
   "metadata": {},
   "outputs": [
    {
     "data": {
      "text/plain": [
       "10"
      ]
     },
     "execution_count": 154,
     "metadata": {},
     "output_type": "execute_result"
    }
   ],
   "source": [
    "len(testX)"
   ]
  },
  {
   "cell_type": "code",
   "execution_count": 155,
   "metadata": {},
   "outputs": [],
   "source": [
    "predicted = model.predict(testX)"
   ]
  },
  {
   "cell_type": "code",
   "execution_count": 156,
   "metadata": {},
   "outputs": [
    {
     "data": {
      "text/plain": [
       "10"
      ]
     },
     "execution_count": 156,
     "metadata": {},
     "output_type": "execute_result"
    }
   ],
   "source": [
    "testXRe = testX.reshape(testX.shape[0],testX.shape[2])\n",
    "predicted = np.concatenate((predicted,testXRe[:,1:]),axis=1)\n",
    "print('predicted.shape : ',predicted.shape)"
   ]
  },
  {
   "cell_type": "code",
   "execution_count": 157,
   "metadata": {},
   "outputs": [
    {
     "name": "stdout",
     "output_type": "stream",
     "text": [
      "predicted.shape :  (10, 14)\n",
      "testY.shape :  (10, 1)\n"
     ]
    }
   ],
   "source": [
    "predicted = model.predict(testX)\n",
    "\n",
    "testXRe = testX.reshape(testX.shape[0],testX.shape[2])\n",
    "predicted = np.concatenate((predicted,testXRe[:,1:]),axis=1)\n",
    "print('predicted.shape : ',predicted.shape)\n",
    "\n",
    "predicted = scaler.inverse_transform(predicted)\n",
    "testY = testY.reshape(len(testY),1)\n",
    "print('testY.shape : ',testY.shape)\n",
    "\n",
    "testY = np.concatenate((testY,testXRe[:,1:]),axis=1)\n",
    "testY = scaler.inverse_transform(testY)"
   ]
  },
  {
   "cell_type": "code",
   "execution_count": 158,
   "metadata": {},
   "outputs": [
    {
     "data": {
      "text/html": [
       "<div>\n",
       "<style scoped>\n",
       "    .dataframe tbody tr th:only-of-type {\n",
       "        vertical-align: middle;\n",
       "    }\n",
       "\n",
       "    .dataframe tbody tr th {\n",
       "        vertical-align: top;\n",
       "    }\n",
       "\n",
       "    .dataframe thead th {\n",
       "        text-align: right;\n",
       "    }\n",
       "</style>\n",
       "<table border=\"1\" class=\"dataframe\">\n",
       "  <thead>\n",
       "    <tr style=\"text-align: right;\">\n",
       "      <th></th>\n",
       "      <th>0</th>\n",
       "      <th>1</th>\n",
       "      <th>2</th>\n",
       "      <th>3</th>\n",
       "      <th>4</th>\n",
       "      <th>5</th>\n",
       "      <th>6</th>\n",
       "      <th>7</th>\n",
       "      <th>8</th>\n",
       "      <th>9</th>\n",
       "      <th>10</th>\n",
       "      <th>11</th>\n",
       "      <th>12</th>\n",
       "      <th>13</th>\n",
       "    </tr>\n",
       "  </thead>\n",
       "  <tbody>\n",
       "    <tr>\n",
       "      <th>0</th>\n",
       "      <td>530448.8125</td>\n",
       "      <td>1329.754517</td>\n",
       "      <td>2465.682373</td>\n",
       "      <td>639782.8125</td>\n",
       "      <td>1827.950684</td>\n",
       "      <td>584.073792</td>\n",
       "      <td>101859.382812</td>\n",
       "      <td>291.026794</td>\n",
       "      <td>134.070480</td>\n",
       "      <td>0.0</td>\n",
       "      <td>0.0</td>\n",
       "      <td>0.0</td>\n",
       "      <td>0.0</td>\n",
       "      <td>0.0</td>\n",
       "    </tr>\n",
       "    <tr>\n",
       "      <th>1</th>\n",
       "      <td>549023.3125</td>\n",
       "      <td>1515.568115</td>\n",
       "      <td>2760.887207</td>\n",
       "      <td>651680.0625</td>\n",
       "      <td>1861.942993</td>\n",
       "      <td>554.477722</td>\n",
       "      <td>111565.351562</td>\n",
       "      <td>318.758179</td>\n",
       "      <td>232.549179</td>\n",
       "      <td>0.0</td>\n",
       "      <td>0.0</td>\n",
       "      <td>0.0</td>\n",
       "      <td>0.0</td>\n",
       "      <td>1.0</td>\n",
       "    </tr>\n",
       "    <tr>\n",
       "      <th>2</th>\n",
       "      <td>576496.9375</td>\n",
       "      <td>1568.637817</td>\n",
       "      <td>2878.213135</td>\n",
       "      <td>637465.1250</td>\n",
       "      <td>1821.328857</td>\n",
       "      <td>584.416382</td>\n",
       "      <td>119940.000000</td>\n",
       "      <td>342.685669</td>\n",
       "      <td>214.319458</td>\n",
       "      <td>1.0</td>\n",
       "      <td>0.0</td>\n",
       "      <td>0.0</td>\n",
       "      <td>0.0</td>\n",
       "      <td>0.0</td>\n",
       "    </tr>\n",
       "    <tr>\n",
       "      <th>3</th>\n",
       "      <td>583330.6875</td>\n",
       "      <td>1647.134033</td>\n",
       "      <td>3163.117920</td>\n",
       "      <td>640510.8750</td>\n",
       "      <td>1830.031128</td>\n",
       "      <td>575.731689</td>\n",
       "      <td>109563.093750</td>\n",
       "      <td>313.037415</td>\n",
       "      <td>242.212662</td>\n",
       "      <td>0.0</td>\n",
       "      <td>0.0</td>\n",
       "      <td>1.0</td>\n",
       "      <td>0.0</td>\n",
       "      <td>0.0</td>\n",
       "    </tr>\n",
       "    <tr>\n",
       "      <th>4</th>\n",
       "      <td>576566.3750</td>\n",
       "      <td>1666.659058</td>\n",
       "      <td>3085.946533</td>\n",
       "      <td>646294.4375</td>\n",
       "      <td>1846.555298</td>\n",
       "      <td>582.527710</td>\n",
       "      <td>111085.718750</td>\n",
       "      <td>317.387756</td>\n",
       "      <td>359.760468</td>\n",
       "      <td>0.0</td>\n",
       "      <td>0.0</td>\n",
       "      <td>0.0</td>\n",
       "      <td>0.0</td>\n",
       "      <td>0.0</td>\n",
       "    </tr>\n",
       "    <tr>\n",
       "      <th>5</th>\n",
       "      <td>599553.6250</td>\n",
       "      <td>1647.332397</td>\n",
       "      <td>3057.682129</td>\n",
       "      <td>649807.1250</td>\n",
       "      <td>1856.591919</td>\n",
       "      <td>601.954346</td>\n",
       "      <td>113986.351562</td>\n",
       "      <td>325.675262</td>\n",
       "      <td>233.142944</td>\n",
       "      <td>0.0</td>\n",
       "      <td>0.0</td>\n",
       "      <td>0.0</td>\n",
       "      <td>0.0</td>\n",
       "      <td>0.0</td>\n",
       "    </tr>\n",
       "    <tr>\n",
       "      <th>6</th>\n",
       "      <td>556966.6875</td>\n",
       "      <td>1713.010376</td>\n",
       "      <td>3171.819336</td>\n",
       "      <td>662044.0000</td>\n",
       "      <td>1891.554321</td>\n",
       "      <td>591.269775</td>\n",
       "      <td>113111.210938</td>\n",
       "      <td>323.174896</td>\n",
       "      <td>250.193848</td>\n",
       "      <td>0.0</td>\n",
       "      <td>0.0</td>\n",
       "      <td>0.0</td>\n",
       "      <td>0.0</td>\n",
       "      <td>0.0</td>\n",
       "    </tr>\n",
       "    <tr>\n",
       "      <th>7</th>\n",
       "      <td>542554.1250</td>\n",
       "      <td>1591.333374</td>\n",
       "      <td>3006.407227</td>\n",
       "      <td>669059.5625</td>\n",
       "      <td>1911.598633</td>\n",
       "      <td>567.063049</td>\n",
       "      <td>135505.203125</td>\n",
       "      <td>387.157715</td>\n",
       "      <td>242.963486</td>\n",
       "      <td>0.0</td>\n",
       "      <td>0.0</td>\n",
       "      <td>0.0</td>\n",
       "      <td>0.0</td>\n",
       "      <td>0.0</td>\n",
       "    </tr>\n",
       "    <tr>\n",
       "      <th>8</th>\n",
       "      <td>457914.5000</td>\n",
       "      <td>1550.154419</td>\n",
       "      <td>2950.088379</td>\n",
       "      <td>686752.5625</td>\n",
       "      <td>1962.150269</td>\n",
       "      <td>534.206909</td>\n",
       "      <td>124444.148438</td>\n",
       "      <td>355.554718</td>\n",
       "      <td>224.354370</td>\n",
       "      <td>0.0</td>\n",
       "      <td>0.0</td>\n",
       "      <td>0.0</td>\n",
       "      <td>0.0</td>\n",
       "      <td>0.0</td>\n",
       "    </tr>\n",
       "    <tr>\n",
       "      <th>9</th>\n",
       "      <td>553316.1250</td>\n",
       "      <td>1308.327148</td>\n",
       "      <td>2360.948486</td>\n",
       "      <td>641378.8125</td>\n",
       "      <td>1832.510986</td>\n",
       "      <td>662.387695</td>\n",
       "      <td>108049.781250</td>\n",
       "      <td>308.713654</td>\n",
       "      <td>162.477158</td>\n",
       "      <td>0.0</td>\n",
       "      <td>0.0</td>\n",
       "      <td>0.0</td>\n",
       "      <td>0.0</td>\n",
       "      <td>0.0</td>\n",
       "    </tr>\n",
       "  </tbody>\n",
       "</table>\n",
       "</div>"
      ],
      "text/plain": [
       "            0            1            2            3            4   \\\n",
       "0  530448.8125  1329.754517  2465.682373  639782.8125  1827.950684   \n",
       "1  549023.3125  1515.568115  2760.887207  651680.0625  1861.942993   \n",
       "2  576496.9375  1568.637817  2878.213135  637465.1250  1821.328857   \n",
       "3  583330.6875  1647.134033  3163.117920  640510.8750  1830.031128   \n",
       "4  576566.3750  1666.659058  3085.946533  646294.4375  1846.555298   \n",
       "5  599553.6250  1647.332397  3057.682129  649807.1250  1856.591919   \n",
       "6  556966.6875  1713.010376  3171.819336  662044.0000  1891.554321   \n",
       "7  542554.1250  1591.333374  3006.407227  669059.5625  1911.598633   \n",
       "8  457914.5000  1550.154419  2950.088379  686752.5625  1962.150269   \n",
       "9  553316.1250  1308.327148  2360.948486  641378.8125  1832.510986   \n",
       "\n",
       "           5              6           7           8    9    10   11   12   13  \n",
       "0  584.073792  101859.382812  291.026794  134.070480  0.0  0.0  0.0  0.0  0.0  \n",
       "1  554.477722  111565.351562  318.758179  232.549179  0.0  0.0  0.0  0.0  1.0  \n",
       "2  584.416382  119940.000000  342.685669  214.319458  1.0  0.0  0.0  0.0  0.0  \n",
       "3  575.731689  109563.093750  313.037415  242.212662  0.0  0.0  1.0  0.0  0.0  \n",
       "4  582.527710  111085.718750  317.387756  359.760468  0.0  0.0  0.0  0.0  0.0  \n",
       "5  601.954346  113986.351562  325.675262  233.142944  0.0  0.0  0.0  0.0  0.0  \n",
       "6  591.269775  113111.210938  323.174896  250.193848  0.0  0.0  0.0  0.0  0.0  \n",
       "7  567.063049  135505.203125  387.157715  242.963486  0.0  0.0  0.0  0.0  0.0  \n",
       "8  534.206909  124444.148438  355.554718  224.354370  0.0  0.0  0.0  0.0  0.0  \n",
       "9  662.387695  108049.781250  308.713654  162.477158  0.0  0.0  0.0  0.0  0.0  "
      ]
     },
     "execution_count": 158,
     "metadata": {},
     "output_type": "execute_result"
    }
   ],
   "source": [
    "pd.DataFrame(testY)"
   ]
  },
  {
   "cell_type": "code",
   "execution_count": 159,
   "metadata": {},
   "outputs": [
    {
     "data": {
      "text/plain": [
       "43676.04"
      ]
     },
     "execution_count": 159,
     "metadata": {},
     "output_type": "execute_result"
    }
   ],
   "source": [
    "np.sqrt(mean_squared_error(testY[:,0],predicted[:,0]))"
   ]
  },
  {
   "cell_type": "code",
   "execution_count": 30,
   "metadata": {},
   "outputs": [],
   "source": [
    "result = pd.concat([pd.Series(predicted[:,0]),pd.Series(testY[:,0])],axis=1)\n",
    "result.columns = ['thetahat','theta']\n",
    "result['diff'] = result['thetahat'] - result['theta']"
   ]
  },
  {
   "cell_type": "code",
   "execution_count": 31,
   "metadata": {},
   "outputs": [],
   "source": [
    "result = pd.concat([pd.Series(predicted[:,0]),pd.Series(testY[:,0])],axis=1)\n",
    "result.columns = ['thetahat','theta']\n",
    "result['diff'] = result['thetahat'] - result['theta']"
   ]
  },
  {
   "cell_type": "code",
   "execution_count": 32,
   "metadata": {},
   "outputs": [
    {
     "data": {
      "text/html": [
       "<div>\n",
       "<style scoped>\n",
       "    .dataframe tbody tr th:only-of-type {\n",
       "        vertical-align: middle;\n",
       "    }\n",
       "\n",
       "    .dataframe tbody tr th {\n",
       "        vertical-align: top;\n",
       "    }\n",
       "\n",
       "    .dataframe thead th {\n",
       "        text-align: right;\n",
       "    }\n",
       "</style>\n",
       "<table border=\"1\" class=\"dataframe\">\n",
       "  <thead>\n",
       "    <tr style=\"text-align: right;\">\n",
       "      <th></th>\n",
       "      <th>thetahat</th>\n",
       "      <th>theta</th>\n",
       "      <th>diff</th>\n",
       "    </tr>\n",
       "  </thead>\n",
       "  <tbody>\n",
       "    <tr>\n",
       "      <th>0</th>\n",
       "      <td>533557.6250</td>\n",
       "      <td>530448.8125</td>\n",
       "      <td>3108.8125</td>\n",
       "    </tr>\n",
       "    <tr>\n",
       "      <th>1</th>\n",
       "      <td>599244.6875</td>\n",
       "      <td>549023.3125</td>\n",
       "      <td>50221.3750</td>\n",
       "    </tr>\n",
       "    <tr>\n",
       "      <th>2</th>\n",
       "      <td>602468.8125</td>\n",
       "      <td>576496.9375</td>\n",
       "      <td>25971.8750</td>\n",
       "    </tr>\n",
       "    <tr>\n",
       "      <th>3</th>\n",
       "      <td>605634.0625</td>\n",
       "      <td>583330.6875</td>\n",
       "      <td>22303.3750</td>\n",
       "    </tr>\n",
       "    <tr>\n",
       "      <th>4</th>\n",
       "      <td>584406.2500</td>\n",
       "      <td>576566.3750</td>\n",
       "      <td>7839.8750</td>\n",
       "    </tr>\n",
       "  </tbody>\n",
       "</table>\n",
       "</div>"
      ],
      "text/plain": [
       "      thetahat        theta        diff\n",
       "0  533557.6250  530448.8125   3108.8125\n",
       "1  599244.6875  549023.3125  50221.3750\n",
       "2  602468.8125  576496.9375  25971.8750\n",
       "3  605634.0625  583330.6875  22303.3750\n",
       "4  584406.2500  576566.3750   7839.8750"
      ]
     },
     "execution_count": 32,
     "metadata": {},
     "output_type": "execute_result"
    }
   ],
   "source": [
    "result.head()"
   ]
  },
  {
   "cell_type": "markdown",
   "metadata": {},
   "source": [
    "## 8. Forecasting Unvariate"
   ]
  },
  {
   "cell_type": "code",
   "execution_count": 165,
   "metadata": {},
   "outputs": [
    {
     "data": {
      "text/html": [
       "<div>\n",
       "<style scoped>\n",
       "    .dataframe tbody tr th:only-of-type {\n",
       "        vertical-align: middle;\n",
       "    }\n",
       "\n",
       "    .dataframe tbody tr th {\n",
       "        vertical-align: top;\n",
       "    }\n",
       "\n",
       "    .dataframe thead th {\n",
       "        text-align: right;\n",
       "    }\n",
       "</style>\n",
       "<table border=\"1\" class=\"dataframe\">\n",
       "  <thead>\n",
       "    <tr style=\"text-align: right;\">\n",
       "      <th></th>\n",
       "      <th>YearMonth</th>\n",
       "      <th>Volume</th>\n",
       "      <th>Price</th>\n",
       "      <th>Promotions</th>\n",
       "    </tr>\n",
       "  </thead>\n",
       "  <tbody>\n",
       "    <tr>\n",
       "      <th>0</th>\n",
       "      <td>2013-01-01</td>\n",
       "      <td>52.27</td>\n",
       "      <td>1168.90</td>\n",
       "      <td>99.74</td>\n",
       "    </tr>\n",
       "    <tr>\n",
       "      <th>1</th>\n",
       "      <td>2013-01-01</td>\n",
       "      <td>31.06</td>\n",
       "      <td>1742.11</td>\n",
       "      <td>143.70</td>\n",
       "    </tr>\n",
       "    <tr>\n",
       "      <th>2</th>\n",
       "      <td>2013-01-01</td>\n",
       "      <td>238.54</td>\n",
       "      <td>1310.18</td>\n",
       "      <td>106.30</td>\n",
       "    </tr>\n",
       "    <tr>\n",
       "      <th>3</th>\n",
       "      <td>2013-01-01</td>\n",
       "      <td>110.70</td>\n",
       "      <td>1167.00</td>\n",
       "      <td>99.74</td>\n",
       "    </tr>\n",
       "    <tr>\n",
       "      <th>4</th>\n",
       "      <td>2013-01-01</td>\n",
       "      <td>86.46</td>\n",
       "      <td>1258.73</td>\n",
       "      <td>102.08</td>\n",
       "    </tr>\n",
       "  </tbody>\n",
       "</table>\n",
       "</div>"
      ],
      "text/plain": [
       "    YearMonth  Volume    Price  Promotions\n",
       "0  2013-01-01   52.27  1168.90       99.74\n",
       "1  2013-01-01   31.06  1742.11      143.70\n",
       "2  2013-01-01  238.54  1310.18      106.30\n",
       "3  2013-01-01  110.70  1167.00       99.74\n",
       "4  2013-01-01   86.46  1258.73      102.08"
      ]
     },
     "execution_count": 165,
     "metadata": {},
     "output_type": "execute_result"
    }
   ],
   "source": [
    "df_new = df[['YearMonth','Volume','Price','Promotions']].copy()\n",
    "df_new.head()"
   ]
  },
  {
   "cell_type": "code",
   "execution_count": 166,
   "metadata": {},
   "outputs": [
    {
     "data": {
      "text/html": [
       "<div>\n",
       "<style scoped>\n",
       "    .dataframe tbody tr th:only-of-type {\n",
       "        vertical-align: middle;\n",
       "    }\n",
       "\n",
       "    .dataframe tbody tr th {\n",
       "        vertical-align: top;\n",
       "    }\n",
       "\n",
       "    .dataframe thead th {\n",
       "        text-align: right;\n",
       "    }\n",
       "</style>\n",
       "<table border=\"1\" class=\"dataframe\">\n",
       "  <thead>\n",
       "    <tr style=\"text-align: right;\">\n",
       "      <th></th>\n",
       "      <th>YearMonth</th>\n",
       "      <th>sum</th>\n",
       "    </tr>\n",
       "  </thead>\n",
       "  <tbody>\n",
       "    <tr>\n",
       "      <th>0</th>\n",
       "      <td>2013-01-01</td>\n",
       "      <td>420800.26</td>\n",
       "    </tr>\n",
       "    <tr>\n",
       "      <th>1</th>\n",
       "      <td>2013-02-01</td>\n",
       "      <td>458964.04</td>\n",
       "    </tr>\n",
       "    <tr>\n",
       "      <th>2</th>\n",
       "      <td>2013-03-01</td>\n",
       "      <td>523473.88</td>\n",
       "    </tr>\n",
       "    <tr>\n",
       "      <th>3</th>\n",
       "      <td>2013-04-01</td>\n",
       "      <td>548346.92</td>\n",
       "    </tr>\n",
       "    <tr>\n",
       "      <th>4</th>\n",
       "      <td>2013-05-01</td>\n",
       "      <td>595946.40</td>\n",
       "    </tr>\n",
       "  </tbody>\n",
       "</table>\n",
       "</div>"
      ],
      "text/plain": [
       "    YearMonth        sum\n",
       "0  2013-01-01  420800.26\n",
       "1  2013-02-01  458964.04\n",
       "2  2013-03-01  523473.88\n",
       "3  2013-04-01  548346.92\n",
       "4  2013-05-01  595946.40"
      ]
     },
     "execution_count": 166,
     "metadata": {},
     "output_type": "execute_result"
    }
   ],
   "source": [
    "df_new = df_new.groupby('YearMonth')['Volume'].agg(['sum']).reset_index()\n",
    "df_new.head()"
   ]
  },
  {
   "cell_type": "code",
   "execution_count": 168,
   "metadata": {},
   "outputs": [
    {
     "data": {
      "text/html": [
       "<div>\n",
       "<style scoped>\n",
       "    .dataframe tbody tr th:only-of-type {\n",
       "        vertical-align: middle;\n",
       "    }\n",
       "\n",
       "    .dataframe tbody tr th {\n",
       "        vertical-align: top;\n",
       "    }\n",
       "\n",
       "    .dataframe thead th {\n",
       "        text-align: right;\n",
       "    }\n",
       "</style>\n",
       "<table border=\"1\" class=\"dataframe\">\n",
       "  <thead>\n",
       "    <tr style=\"text-align: right;\">\n",
       "      <th></th>\n",
       "      <th>sum</th>\n",
       "    </tr>\n",
       "  </thead>\n",
       "  <tbody>\n",
       "    <tr>\n",
       "      <th>0</th>\n",
       "      <td>420800.26</td>\n",
       "    </tr>\n",
       "    <tr>\n",
       "      <th>1</th>\n",
       "      <td>458964.04</td>\n",
       "    </tr>\n",
       "    <tr>\n",
       "      <th>2</th>\n",
       "      <td>523473.88</td>\n",
       "    </tr>\n",
       "    <tr>\n",
       "      <th>3</th>\n",
       "      <td>548346.92</td>\n",
       "    </tr>\n",
       "    <tr>\n",
       "      <th>4</th>\n",
       "      <td>595946.40</td>\n",
       "    </tr>\n",
       "  </tbody>\n",
       "</table>\n",
       "</div>"
      ],
      "text/plain": [
       "         sum\n",
       "0  420800.26\n",
       "1  458964.04\n",
       "2  523473.88\n",
       "3  548346.92\n",
       "4  595946.40"
      ]
     },
     "execution_count": 168,
     "metadata": {},
     "output_type": "execute_result"
    }
   ],
   "source": [
    "df_new['YearMonth'] = pd.to_datetime(df_new['YearMonth'])\n",
    "df_new = df_new.sort_values(by='YearMonth').reset_index(drop=True)\n",
    "df_new = df_new.drop('YearMonth', axis=1)\n",
    "df_new.head()"
   ]
  },
  {
   "cell_type": "code",
   "execution_count": 172,
   "metadata": {},
   "outputs": [
    {
     "data": {
      "image/png": "[encoded data removed]",
      "text/plain": [
       "<Figure size 1080x720 with 1 Axes>"
      ]
     },
     "metadata": {
      "needs_background": "light"
     },
     "output_type": "display_data"
    }
   ],
   "source": [
    "fig,ax =plt.subplots(figsize=(15,10))\n",
    "plt.plot(df_new)\n",
    "plt.xlabel('month')\n",
    "plt.ylabel('sum of volume')\n",
    "plt.savefig('../fig/forecasting unvariate 1.png',bbox_inches='tight')"
   ]
  },
  {
   "cell_type": "code",
   "execution_count": 183,
   "metadata": {},
   "outputs": [],
   "source": [
    "train = df_new[0:50]\n",
    "test = df_new[50:]"
   ]
  },
  {
   "cell_type": "code",
   "execution_count": 184,
   "metadata": {},
   "outputs": [
    {
     "name": "stdout",
     "output_type": "stream",
     "text": [
      "(10, 1)\n"
     ]
    }
   ],
   "source": [
    "# load the trainset\n",
    "train = train.values\n",
    "train = train.astype('float32')\n",
    "scaler = MinMaxScaler(feature_range=(0, 1))\n",
    "train = scaler.fit_transform(train)\n",
    "\n",
    "# load the testset\n",
    "test = test.values\n",
    "test = test.astype('float32')\n",
    "scaler = MinMaxScaler(feature_range=(0, 1))\n",
    "test = scaler.fit_transform(test)\n",
    "print(test.shape)"
   ]
  },
  {
   "cell_type": "code",
   "execution_count": 185,
   "metadata": {},
   "outputs": [],
   "source": [
    "# convert an array of values into a dataset matrix\n",
    "def create_dataset(dataset, look_back=1):\n",
    "    dataX, dataY = [], []\n",
    "    for i in range(len(dataset)-look_back-1):\n",
    "        a = dataset[i:(i+look_back), 0]\n",
    "        dataX.append(a)\n",
    "        dataY.append(dataset[i + look_back, 0])\n",
    "    return np.array(dataX), np.array(dataY)"
   ]
  },
  {
   "cell_type": "code",
   "execution_count": 188,
   "metadata": {},
   "outputs": [],
   "source": [
    "look_back = 1\n",
    "testX, testY = create_dataset(test, look_back)\n",
    "\n",
    "\n",
    "trainX, trainY = create_dataset(train, look_back)"
   ]
  },
  {
   "cell_type": "code",
   "execution_count": 189,
   "metadata": {},
   "outputs": [
    {
     "data": {
      "text/plain": [
       "(48, 1)"
      ]
     },
     "execution_count": 189,
     "metadata": {},
     "output_type": "execute_result"
    }
   ],
   "source": [
    "trainX.shape"
   ]
  },
  {
   "cell_type": "code",
   "execution_count": 190,
   "metadata": {},
   "outputs": [
    {
     "data": {
      "text/plain": [
       "(48,)"
      ]
     },
     "execution_count": 190,
     "metadata": {},
     "output_type": "execute_result"
    }
   ],
   "source": [
    "trainY.shape"
   ]
  },
  {
   "cell_type": "code",
   "execution_count": 191,
   "metadata": {},
   "outputs": [
    {
     "data": {
      "text/plain": [
       "(8, 1)"
      ]
     },
     "execution_count": 191,
     "metadata": {},
     "output_type": "execute_result"
    }
   ],
   "source": [
    "testX.shape"
   ]
  },
  {
   "cell_type": "code",
   "execution_count": 192,
   "metadata": {},
   "outputs": [],
   "source": [
    "# reshape input to be [samples, time steps, features]\n",
    "trainX = np.reshape(trainX, (trainX.shape[0], 1, trainX.shape[1]))\n",
    "testX = np.reshape(testX, (testX.shape[0], 1, testX.shape[1]))"
   ]
  },
  {
   "cell_type": "code",
   "execution_count": 193,
   "metadata": {},
   "outputs": [
    {
     "name": "stdout",
     "output_type": "stream",
     "text": [
      "Train on 48 samples, validate on 8 samples\n",
      "Epoch 1/100\n",
      " - 1s - loss: 0.3390 - val_loss: 0.5376\n",
      "Epoch 2/100\n",
      " - 0s - loss: 0.3345 - val_loss: 0.5305\n",
      "Epoch 3/100\n",
      " - 0s - loss: 0.3296 - val_loss: 0.5235\n",
      "Epoch 4/100\n",
      " - 0s - loss: 0.3248 - val_loss: 0.5165\n",
      "Epoch 5/100\n",
      " - 0s - loss: 0.3200 - val_loss: 0.5095\n",
      "Epoch 6/100\n",
      " - 0s - loss: 0.3152 - val_loss: 0.5026\n",
      "Epoch 7/100\n",
      " - 0s - loss: 0.3105 - val_loss: 0.4957\n",
      "Epoch 8/100\n",
      " - 0s - loss: 0.3058 - val_loss: 0.4889\n",
      "Epoch 9/100\n",
      " - 0s - loss: 0.3012 - val_loss: 0.4822\n",
      "Epoch 10/100\n",
      " - 0s - loss: 0.2966 - val_loss: 0.4755\n",
      "Epoch 11/100\n",
      " - 0s - loss: 0.2921 - val_loss: 0.4689\n",
      "Epoch 12/100\n",
      " - 0s - loss: 0.2876 - val_loss: 0.4624\n",
      "Epoch 13/100\n",
      " - 0s - loss: 0.2832 - val_loss: 0.4559\n",
      "Epoch 14/100\n",
      " - 0s - loss: 0.2788 - val_loss: 0.4495\n",
      "Epoch 15/100\n",
      " - 0s - loss: 0.2745 - val_loss: 0.4431\n",
      "Epoch 16/100\n",
      " - 0s - loss: 0.2702 - val_loss: 0.4369\n",
      "Epoch 17/100\n",
      " - 0s - loss: 0.2660 - val_loss: 0.4307\n",
      "Epoch 18/100\n",
      " - 0s - loss: 0.2619 - val_loss: 0.4245\n",
      "Epoch 19/100\n",
      " - 0s - loss: 0.2578 - val_loss: 0.4185\n",
      "Epoch 20/100\n",
      " - 0s - loss: 0.2537 - val_loss: 0.4125\n",
      "Epoch 21/100\n",
      " - 0s - loss: 0.2498 - val_loss: 0.4065\n",
      "Epoch 22/100\n",
      " - 0s - loss: 0.2458 - val_loss: 0.4006\n",
      "Epoch 23/100\n",
      " - 0s - loss: 0.2419 - val_loss: 0.3948\n",
      "Epoch 24/100\n",
      " - 0s - loss: 0.2381 - val_loss: 0.3891\n",
      "Epoch 25/100\n",
      " - 0s - loss: 0.2343 - val_loss: 0.3834\n",
      "Epoch 26/100\n",
      " - 0s - loss: 0.2306 - val_loss: 0.3779\n",
      "Epoch 27/100\n",
      " - 0s - loss: 0.2269 - val_loss: 0.3723\n",
      "Epoch 28/100\n",
      " - 0s - loss: 0.2233 - val_loss: 0.3669\n",
      "Epoch 29/100\n",
      " - 0s - loss: 0.2197 - val_loss: 0.3614\n",
      "Epoch 30/100\n",
      " - 0s - loss: 0.2162 - val_loss: 0.3561\n",
      "Epoch 31/100\n",
      " - 0s - loss: 0.2127 - val_loss: 0.3508\n",
      "Epoch 32/100\n",
      " - 0s - loss: 0.2093 - val_loss: 0.3456\n",
      "Epoch 33/100\n",
      " - 0s - loss: 0.2059 - val_loss: 0.3405\n",
      "Epoch 34/100\n",
      " - 0s - loss: 0.2026 - val_loss: 0.3354\n",
      "Epoch 35/100\n",
      " - 0s - loss: 0.1993 - val_loss: 0.3304\n",
      "Epoch 36/100\n",
      " - 0s - loss: 0.1961 - val_loss: 0.3255\n",
      "Epoch 37/100\n",
      " - 0s - loss: 0.1929 - val_loss: 0.3206\n",
      "Epoch 38/100\n",
      " - 0s - loss: 0.1898 - val_loss: 0.3158\n",
      "Epoch 39/100\n",
      " - 0s - loss: 0.1868 - val_loss: 0.3110\n",
      "Epoch 40/100\n",
      " - 0s - loss: 0.1837 - val_loss: 0.3063\n",
      "Epoch 41/100\n",
      " - 0s - loss: 0.1808 - val_loss: 0.3017\n",
      "Epoch 42/100\n",
      " - 0s - loss: 0.1778 - val_loss: 0.2971\n",
      "Epoch 43/100\n",
      " - 0s - loss: 0.1750 - val_loss: 0.2926\n",
      "Epoch 44/100\n",
      " - 0s - loss: 0.1721 - val_loss: 0.2881\n",
      "Epoch 45/100\n",
      " - 0s - loss: 0.1693 - val_loss: 0.2838\n",
      "Epoch 46/100\n",
      " - 0s - loss: 0.1666 - val_loss: 0.2794\n",
      "Epoch 47/100\n",
      " - 0s - loss: 0.1639 - val_loss: 0.2752\n",
      "Epoch 48/100\n",
      " - 0s - loss: 0.1613 - val_loss: 0.2709\n",
      "Epoch 49/100\n",
      " - 0s - loss: 0.1587 - val_loss: 0.2668\n",
      "Epoch 50/100\n",
      " - 0s - loss: 0.1561 - val_loss: 0.2627\n",
      "Epoch 51/100\n",
      " - 0s - loss: 0.1536 - val_loss: 0.2587\n",
      "Epoch 52/100\n",
      " - 0s - loss: 0.1511 - val_loss: 0.2547\n",
      "Epoch 53/100\n",
      " - 0s - loss: 0.1487 - val_loss: 0.2508\n",
      "Epoch 54/100\n",
      " - 0s - loss: 0.1464 - val_loss: 0.2470\n",
      "Epoch 55/100\n",
      " - 0s - loss: 0.1440 - val_loss: 0.2432\n",
      "Epoch 56/100\n",
      " - 0s - loss: 0.1417 - val_loss: 0.2394\n",
      "Epoch 57/100\n",
      " - 0s - loss: 0.1395 - val_loss: 0.2358\n",
      "Epoch 58/100\n",
      " - 0s - loss: 0.1373 - val_loss: 0.2321\n",
      "Epoch 59/100\n",
      " - 0s - loss: 0.1352 - val_loss: 0.2286\n",
      "Epoch 60/100\n",
      " - 0s - loss: 0.1330 - val_loss: 0.2251\n",
      "Epoch 61/100\n",
      " - 0s - loss: 0.1310 - val_loss: 0.2217\n",
      "Epoch 62/100\n",
      " - 0s - loss: 0.1290 - val_loss: 0.2183\n",
      "Epoch 63/100\n",
      " - 0s - loss: 0.1270 - val_loss: 0.2149\n",
      "Epoch 64/100\n",
      " - 0s - loss: 0.1250 - val_loss: 0.2117\n",
      "Epoch 65/100\n",
      " - 0s - loss: 0.1232 - val_loss: 0.2085\n",
      "Epoch 66/100\n",
      " - 0s - loss: 0.1213 - val_loss: 0.2053\n",
      "Epoch 67/100\n",
      " - 0s - loss: 0.1195 - val_loss: 0.2022\n",
      "Epoch 68/100\n",
      " - 0s - loss: 0.1177 - val_loss: 0.1992\n",
      "Epoch 69/100\n",
      " - 0s - loss: 0.1160 - val_loss: 0.1962\n",
      "Epoch 70/100\n",
      " - 0s - loss: 0.1143 - val_loss: 0.1932\n",
      "Epoch 71/100\n",
      " - 0s - loss: 0.1126 - val_loss: 0.1904\n",
      "Epoch 72/100\n",
      " - 0s - loss: 0.1110 - val_loss: 0.1875\n",
      "Epoch 73/100\n",
      " - 0s - loss: 0.1095 - val_loss: 0.1848\n",
      "Epoch 74/100\n",
      " - 0s - loss: 0.1079 - val_loss: 0.1820\n",
      "Epoch 75/100\n",
      " - 0s - loss: 0.1064 - val_loss: 0.1794\n",
      "Epoch 76/100\n",
      " - 0s - loss: 0.1050 - val_loss: 0.1768\n",
      "Epoch 77/100\n",
      " - 0s - loss: 0.1035 - val_loss: 0.1742\n",
      "Epoch 78/100\n",
      " - 0s - loss: 0.1022 - val_loss: 0.1717\n",
      "Epoch 79/100\n",
      " - 0s - loss: 0.1008 - val_loss: 0.1692\n",
      "Epoch 80/100\n",
      " - 0s - loss: 0.0995 - val_loss: 0.1668\n",
      "Epoch 81/100\n",
      " - 0s - loss: 0.0982 - val_loss: 0.1645\n",
      "Epoch 82/100\n",
      " - 0s - loss: 0.0970 - val_loss: 0.1622\n",
      "Epoch 83/100\n",
      " - 0s - loss: 0.0958 - val_loss: 0.1599\n",
      "Epoch 84/100\n",
      " - 0s - loss: 0.0946 - val_loss: 0.1577\n",
      "Epoch 85/100\n",
      " - 0s - loss: 0.0935 - val_loss: 0.1556\n",
      "Epoch 86/100\n",
      " - 0s - loss: 0.0923 - val_loss: 0.1535\n",
      "Epoch 87/100\n",
      " - 0s - loss: 0.0913 - val_loss: 0.1514\n",
      "Epoch 88/100\n",
      " - 0s - loss: 0.0902 - val_loss: 0.1494\n",
      "Epoch 89/100\n",
      " - 0s - loss: 0.0892 - val_loss: 0.1474\n",
      "Epoch 90/100\n",
      " - 0s - loss: 0.0882 - val_loss: 0.1455\n",
      "Epoch 91/100\n",
      " - 0s - loss: 0.0873 - val_loss: 0.1437\n",
      "Epoch 92/100\n",
      " - 0s - loss: 0.0864 - val_loss: 0.1418\n",
      "Epoch 93/100\n",
      " - 0s - loss: 0.0855 - val_loss: 0.1401\n",
      "Epoch 94/100\n",
      " - 0s - loss: 0.0846 - val_loss: 0.1383\n",
      "Epoch 95/100\n",
      " - 0s - loss: 0.0838 - val_loss: 0.1366\n",
      "Epoch 96/100\n",
      " - 0s - loss: 0.0830 - val_loss: 0.1350\n",
      "Epoch 97/100\n",
      " - 0s - loss: 0.0822 - val_loss: 0.1334\n",
      "Epoch 98/100\n",
      " - 0s - loss: 0.0815 - val_loss: 0.1318\n",
      "Epoch 99/100\n",
      " - 0s - loss: 0.0807 - val_loss: 0.1303\n",
      "Epoch 100/100\n",
      " - 0s - loss: 0.0800 - val_loss: 0.1288\n"
     ]
    }
   ],
   "source": [
    "model = Sequential()\n",
    "model.add(LSTM(4, input_shape=(1, look_back)))\n",
    "model.add(Dense(1))\n",
    "model.compile(loss='mean_squared_error', optimizer='adam')\n",
    "# model.fit(trainX, trainY, epochs=100, batch_size=1, verbose=2)\n",
    "\n",
    "history= model.fit(trainX,trainY,validation_data=(testX,testY),epochs=100,verbose=2,callbacks=[stop_noimprovement],shuffle=False)\n"
   ]
  },
  {
   "cell_type": "code",
   "execution_count": 195,
   "metadata": {},
   "outputs": [
    {
     "name": "stdout",
     "output_type": "stream",
     "text": [
      "_________________________________________________________________\n",
      "Layer (type)                 Output Shape              Param #   \n",
      "=================================================================\n",
      "lstm_3 (LSTM)                (None, 4)                 96        \n",
      "_________________________________________________________________\n",
      "dense_3 (Dense)              (None, 1)                 5         \n",
      "=================================================================\n",
      "Total params: 101\n",
      "Trainable params: 101\n",
      "Non-trainable params: 0\n",
      "_________________________________________________________________\n"
     ]
    }
   ],
   "source": [
    "model.summary()"
   ]
  },
  {
   "cell_type": "code",
   "execution_count": 194,
   "metadata": {},
   "outputs": [
    {
     "data": {
      "image/png": "[encoded data removed]",
      "text/plain": [
       "<Figure size 1080x720 with 1 Axes>"
      ]
     },
     "metadata": {
      "needs_background": "light"
     },
     "output_type": "display_data"
    }
   ],
   "source": [
    "fig,ax =plt.subplots(figsize=(15,10))\n",
    "\n",
    "plt.plot(history.history['loss'],label='train loss')\n",
    "plt.plot(history.history['val_loss'],label='val loss')\n",
    "plt.legend()\n",
    "plt.savefig('../fig/unvariate 1.png',bbox_inches='tight')"
   ]
  },
  {
   "cell_type": "code",
   "execution_count": 198,
   "metadata": {},
   "outputs": [
    {
     "name": "stdout",
     "output_type": "stream",
     "text": [
      "(8, 1)\n"
     ]
    },
    {
     "data": {
      "text/plain": [
       "array([[514746.56],\n",
       "       [518949.  ],\n",
       "       [525078.44],\n",
       "       [526580.  ],\n",
       "       [525093.75],\n",
       "       [530098.44],\n",
       "       [520734.22],\n",
       "       [517489.1 ]], dtype=float32)"
      ]
     },
     "execution_count": 198,
     "metadata": {},
     "output_type": "execute_result"
    }
   ],
   "source": [
    "testPredict = model.predict(testX)\n",
    "print(testPredict.shape)\n",
    "testPredict = scaler.inverse_transform(testPredict)\n",
    "testPredict"
   ]
  },
  {
   "cell_type": "code",
   "execution_count": 201,
   "metadata": {},
   "outputs": [
    {
     "data": {
      "text/plain": [
       "10"
      ]
     },
     "execution_count": 201,
     "metadata": {},
     "output_type": "execute_result"
    }
   ],
   "source": [
    "len(test)"
   ]
  },
  {
   "cell_type": "code",
   "execution_count": 205,
   "metadata": {},
   "outputs": [
    {
     "data": {
      "text/html": [
       "<div>\n",
       "<style scoped>\n",
       "    .dataframe tbody tr th:only-of-type {\n",
       "        vertical-align: middle;\n",
       "    }\n",
       "\n",
       "    .dataframe tbody tr th {\n",
       "        vertical-align: top;\n",
       "    }\n",
       "\n",
       "    .dataframe thead th {\n",
       "        text-align: right;\n",
       "    }\n",
       "</style>\n",
       "<table border=\"1\" class=\"dataframe\">\n",
       "  <thead>\n",
       "    <tr style=\"text-align: right;\">\n",
       "      <th></th>\n",
       "      <th>sum</th>\n",
       "    </tr>\n",
       "  </thead>\n",
       "  <tbody>\n",
       "    <tr>\n",
       "      <th>55</th>\n",
       "      <td>599553.64</td>\n",
       "    </tr>\n",
       "    <tr>\n",
       "      <th>56</th>\n",
       "      <td>556966.68</td>\n",
       "    </tr>\n",
       "    <tr>\n",
       "      <th>57</th>\n",
       "      <td>542554.11</td>\n",
       "    </tr>\n",
       "    <tr>\n",
       "      <th>58</th>\n",
       "      <td>457914.49</td>\n",
       "    </tr>\n",
       "    <tr>\n",
       "      <th>59</th>\n",
       "      <td>553316.10</td>\n",
       "    </tr>\n",
       "  </tbody>\n",
       "</table>\n",
       "</div>"
      ],
      "text/plain": [
       "          sum\n",
       "55  599553.64\n",
       "56  556966.68\n",
       "57  542554.11\n",
       "58  457914.49\n",
       "59  553316.10"
      ]
     },
     "execution_count": 205,
     "metadata": {},
     "output_type": "execute_result"
    }
   ],
   "source": [
    "test = df_new[55:]\n",
    "test"
   ]
  },
  {
   "cell_type": "code",
   "execution_count": 206,
   "metadata": {},
   "outputs": [
    {
     "data": {
      "text/plain": [
       "array([[599553.64],\n",
       "       [556966.68],\n",
       "       [542554.11],\n",
       "       [457914.49],\n",
       "       [553316.1 ]])"
      ]
     },
     "execution_count": 206,
     "metadata": {},
     "output_type": "execute_result"
    }
   ],
   "source": [
    "test.values"
   ]
  },
  {
   "cell_type": "code",
   "execution_count": 209,
   "metadata": {},
   "outputs": [],
   "source": [
    "# load the testset\n",
    "test = test.values\n",
    "test = test.astype('float32')\n",
    "scaler = MinMaxScaler(feature_range=(0, 1))\n",
    "test = scaler.fit_transform(test)"
   ]
  },
  {
   "cell_type": "code",
   "execution_count": 211,
   "metadata": {},
   "outputs": [
    {
     "data": {
      "text/plain": [
       "(5, 1, 1)"
      ]
     },
     "execution_count": 211,
     "metadata": {},
     "output_type": "execute_result"
    }
   ],
   "source": [
    "test = np.expand_dims(test, axis=1)\n",
    "test.shape"
   ]
  },
  {
   "cell_type": "code",
   "execution_count": 212,
   "metadata": {},
   "outputs": [
    {
     "name": "stdout",
     "output_type": "stream",
     "text": [
      "data n [[[0.99999976]]\n",
      "\n",
      " [[0.6993277 ]]\n",
      "\n",
      " [[0.5975723 ]]\n",
      "\n",
      " [[0.        ]]\n",
      "\n",
      " [[0.67355394]]]\n",
      "\n",
      "\n",
      "predict data n  [[0.5096328 ]\n",
      " [0.44351935]\n",
      " [0.42060822]\n",
      " [0.28587985]\n",
      " [0.43773472]]\n",
      "\n",
      "\n",
      "predict data n + 1  [[0.40068376]\n",
      " [0.3856623 ]\n",
      " [0.3804531 ]\n",
      " [0.34985107]\n",
      " [0.38434717]]\n"
     ]
    }
   ],
   "source": [
    "data= test\n",
    "# data = np.expand_dims(data, axis=1)\n",
    "\n",
    "print('data n',data)\n",
    "print('\\n')\n",
    "\n",
    "\n",
    "predict = model.predict(data)\n",
    "print('predict data n ',predict)\n",
    "print('\\n')\n",
    "\n",
    "\n",
    "future = predict\n",
    "future = np.expand_dims(future, axis=1)\n",
    "\n",
    "future_predict = model.predict(future)\n",
    "print('predict data n + 1 ',future_predict)"
   ]
  },
  {
   "cell_type": "code",
   "execution_count": 213,
   "metadata": {},
   "outputs": [
    {
     "data": {
      "text/plain": [
       "array([[514667.  ],\n",
       "       [512539.38],\n",
       "       [511801.56],\n",
       "       [507467.12],\n",
       "       [512353.12]], dtype=float32)"
      ]
     },
     "execution_count": 213,
     "metadata": {},
     "output_type": "execute_result"
    }
   ],
   "source": [
    "future_predict = scaler.inverse_transform(future_predict)\n",
    "future_predict"
   ]
  }
 ],
 "metadata": {
  "kernelspec": {
   "display_name": "env_kaggle",
   "language": "python",
   "name": "env_kaggle"
  },
  "language_info": {
   "codemirror_mode": {
    "name": "ipython",
    "version": 3
   },
   "file_extension": ".py",
   "mimetype": "text/x-python",
   "name": "python",
   "nbconvert_exporter": "python",
   "pygments_lexer": "ipython3",
   "version": "3.6.6"
  }
 },
 "nbformat": 4,
 "nbformat_minor": 2
}
